{
 "metadata": {
  "name": "",
  "signature": "sha256:984d29c299767ae7f7d34808330f719a3460010dda6641fdea8df4c602bd4a8f"
 },
 "nbformat": 3,
 "nbformat_minor": 0,
 "worksheets": [
  {
   "cells": [
    {
     "cell_type": "heading",
     "level": 1,
     "metadata": {},
     "source": [
      "SparseEdges"
     ]
    },
    {
     "cell_type": "heading",
     "level": 2,
     "metadata": {},
     "source": [
      "A bio-inspired sparse representation of edges in natural images"
     ]
    },
    {
     "cell_type": "markdown",
     "metadata": {},
     "source": [
      "\n",
      "Table of content\n",
      "\n",
      "* [What is the SparseEdges package?](#What-is-the-SparseEdges-package?) \n",
      "* [Installing](#Installing) \n",
      "* [testing one step](#testing-one-step)\n"
     ]
    },
    {
     "cell_type": "code",
     "collapsed": false,
     "input": [
      "#%load README.md"
     ],
     "language": "python",
     "metadata": {},
     "outputs": [],
     "prompt_number": 1
    },
    {
     "cell_type": "markdown",
     "metadata": {},
     "source": [
      "What is the SparseEdges package?\n",
      "================================\n",
      "\n",
      "This class exploits the LogGabor package to provide with a sparse representation of edges in images.\n",
      "\n",
      "This algorithm was presented in the following paper:\n",
      "\n",
      "~~~~{.bibtex}\n",
      "@article{Fischer07,\n",
      "    author = {Fischer, Sylvain and Redondo, Rafael and Perrinet, Laurent and Cristobal, Gabriel},\n",
      "    citeulike-article-id = {12825723},\n",
      "    citeulike-linkout-0 = {http://dx.doi.org/10.1155/2007/90727},\n",
      "    doi = {10.1155/2007/90727},\n",
      "    issn = {1687-6180},\n",
      "    journal = {EURASIP Journal on Advances in Signal Processing},\n",
      "    keywords = {assofield, bicv-sparse, log-gabor, motion-clouds, perrinet11sfn, sanz12jnp, vacher14},\n",
      "    number = {1},\n",
      "    pages = {090727--122},\n",
      "    posted-at = {2013-12-10 14:09:00},\n",
      "    priority = {0},\n",
      "    publisher = {Hindawi Publishing Corp.},\n",
      "    title = {Sparse Approximation of Images Inspired from the Functional Architecture of the Primary Visual Areas},\n",
      "    url = {http://dx.doi.org/10.1155/2007/90727},\n",
      "    volume = {2007},\n",
      "    year = {2007}\n",
      "}\n",
      "~~~~\n",
      "\n",
      "This package gives a python implementation.\n",
      "\n",
      "Moreover, it gives additional tools to compute useful stistics in images; first- and second order statistics of co-occurences in images.\n",
      "\n",
      "More information is available @ http://pythonhosted.org/SparseEdges\n"
     ]
    },
    {
     "cell_type": "heading",
     "level": 2,
     "metadata": {},
     "source": [
      "Installing"
     ]
    },
    {
     "cell_type": "code",
     "collapsed": false,
     "input": [
      "!pip install -U -r requirements.txt"
     ],
     "language": "python",
     "metadata": {},
     "outputs": [
      {
       "output_type": "stream",
       "stream": "stdout",
       "text": [
        "Requirement already up-to-date: numpy>=1.2 in /usr/local/lib/python2.7/site-packages (from -r requirements.txt (line 1))\r\n"
       ]
      },
      {
       "output_type": "stream",
       "stream": "stdout",
       "text": [
        "Requirement already up-to-date: scipy in /usr/local/lib/python2.7/site-packages (from -r requirements.txt (line 2))\r\n"
       ]
      },
      {
       "output_type": "stream",
       "stream": "stdout",
       "text": [
        "Requirement already up-to-date: matplotlib in /usr/local/lib/python2.7/site-packages (from -r requirements.txt (line 3))\r\n"
       ]
      },
      {
       "output_type": "stream",
       "stream": "stdout",
       "text": [
        "Requirement already up-to-date: IPython in /usr/local/lib/python2.7/site-packages (from -r requirements.txt (line 4))\r\n"
       ]
      },
      {
       "output_type": "stream",
       "stream": "stdout",
       "text": [
        "Requirement already up-to-date: NeuroTools in /usr/local/lib/python2.7/site-packages (from -r requirements.txt (line 5))\r\n",
        "Requirement already up-to-date: LogGabor in /usr/local/lib/python2.7/site-packages (from -r requirements.txt (line 6))\r\n"
       ]
      },
      {
       "output_type": "stream",
       "stream": "stdout",
       "text": [
        "Requirement already up-to-date: python-dateutil in /usr/local/lib/python2.7/site-packages (from matplotlib->-r requirements.txt (line 3))\r\n"
       ]
      },
      {
       "output_type": "stream",
       "stream": "stdout",
       "text": [
        "Requirement already up-to-date: tornado in /usr/local/lib/python2.7/site-packages (from matplotlib->-r requirements.txt (line 3))\r\n"
       ]
      },
      {
       "output_type": "stream",
       "stream": "stdout",
       "text": [
        "Requirement already up-to-date: pyparsing>=1.5.6 in /usr/local/lib/python2.7/site-packages (from matplotlib->-r requirements.txt (line 3))\r\n"
       ]
      },
      {
       "output_type": "stream",
       "stream": "stdout",
       "text": [
        "Requirement already up-to-date: nose in /usr/local/lib/python2.7/site-packages (from matplotlib->-r requirements.txt (line 3))\r\n"
       ]
      },
      {
       "output_type": "stream",
       "stream": "stdout",
       "text": [
        "Requirement already up-to-date: six in /usr/local/lib/python2.7/site-packages (from python-dateutil->matplotlib->-r requirements.txt (line 3))\r\n"
       ]
      },
      {
       "output_type": "stream",
       "stream": "stdout",
       "text": [
        "Requirement already up-to-date: backports.ssl-match-hostname in /usr/local/lib/python2.7/site-packages (from tornado->matplotlib->-r requirements.txt (line 3))\r\n",
        "Cleaning up...\r\n"
       ]
      }
     ],
     "prompt_number": 2
    },
    {
     "cell_type": "markdown",
     "metadata": {},
     "source": [
      "[Back to top](#SparseEdges)"
     ]
    },
    {
     "cell_type": "code",
     "collapsed": false,
     "input": [
      "%matplotlib inline\n",
      "import matplotlib.pyplot as plt\n",
      "import numpy as np\n",
      "np.set_printoptions(precision=2, suppress=True)\n",
      "# http://ipython.org/ipython-doc/stable/config/extensions/autoreload.html\n",
      "%load_ext autoreload\n",
      "%autoreload 2"
     ],
     "language": "python",
     "metadata": {},
     "outputs": [],
     "prompt_number": 3
    },
    {
     "cell_type": "code",
     "collapsed": false,
     "input": [
      "from NeuroTools.parameters import ParameterSet\n",
      "from SLIP import Image\n",
      "from LogGabor import LogGabor\n",
      "from SparseEdges import SparseEdges"
     ],
     "language": "python",
     "metadata": {},
     "outputs": [],
     "prompt_number": 4
    },
    {
     "cell_type": "code",
     "collapsed": false,
     "input": [
      "#! this test report is about the MatchingPursuit class:\n",
      "print SparseEdges.__doc__"
     ],
     "language": "python",
     "metadata": {},
     "outputs": [
      {
       "output_type": "stream",
       "stream": "stdout",
       "text": [
        "None\n"
       ]
      }
     ],
     "prompt_number": 5
    },
    {
     "cell_type": "code",
     "collapsed": false,
     "input": [
      "#switch order to debug or not\n",
      "debug = True\n",
      "debug = False"
     ],
     "language": "python",
     "metadata": {},
     "outputs": [],
     "prompt_number": 6
    },
    {
     "cell_type": "code",
     "collapsed": false,
     "input": [
      "#! defining framework\n",
      "#!-------------------\n",
      "pe = ParameterSet('default_param.py')\n",
      "if debug: \n",
      "    pe.N_X = pe.N_X/4\n",
      "    pe.N_Y = pe.N_Y/4\n",
      "pe.N = 4\n",
      "pe.do_mask=False\n",
      "pe.MP_alpha=1.\n",
      "pe.do_whitening = False\n",
      "im = Image(pe)\n",
      "lg = LogGabor(im)\n",
      "mp = SparseEdges(lg)\n",
      "\n",
      "print 'Range of spatial frequencies: ', mp.sf_0"
     ],
     "language": "python",
     "metadata": {},
     "outputs": [
      {
       "output_type": "stream",
       "stream": "stdout",
       "text": [
        "Range of spatial frequencies:  [ 0.62  0.38  0.24  0.15  0.09  0.06  0.03  0.02  0.01  0.01  0.01]\n"
       ]
      }
     ],
     "prompt_number": 7
    },
    {
     "cell_type": "code",
     "collapsed": false,
     "input": [
      "print 'Range of angles: ', mp.theta_*180./np.pi"
     ],
     "language": "python",
     "metadata": {},
     "outputs": [
      {
       "output_type": "stream",
       "stream": "stdout",
       "text": [
        "Range of angles:  [   0.     7.5   15.    22.5   30.    37.5   45.    52.5   60.    67.5\n",
        "   75.    82.5   90.    97.5  105.   112.5  120.   127.5  135.   142.5\n",
        "  150.   157.5  165.   172.5]\n"
       ]
      }
     ],
     "prompt_number": 8
    },
    {
     "cell_type": "heading",
     "level": 2,
     "metadata": {},
     "source": [
      "Matching Pursuit"
     ]
    },
    {
     "cell_type": "heading",
     "level": 3,
     "metadata": {},
     "source": [
      "testing one step"
     ]
    },
    {
     "cell_type": "markdown",
     "metadata": {},
     "source": [
      "let's synthetise one image using 2 filters and check that they are correctly retrieved using the different steps from Matching Pursuit"
     ]
    },
    {
     "cell_type": "code",
     "collapsed": false,
     "input": [
      "edge_in, edge_bis = [50., 38., 2, 2], [20., 40., 8, 4]"
     ],
     "language": "python",
     "metadata": {},
     "outputs": [],
     "prompt_number": 9
    },
    {
     "cell_type": "code",
     "collapsed": false,
     "input": [
      "# filters in Fourier space\n",
      "FT_lg_in = lg.loggabor(edge_in[0], edge_in[1], sf_0=mp.sf_0[edge_in[3]],\n",
      "                         B_sf=mp.B_sf, theta= mp.theta_[edge_in[2]], B_theta=mp.B_theta)\n",
      "FT_lg_bis = lg.loggabor(edge_bis[0], edge_bis[1], sf_0=mp.sf_0[edge_bis[3]],\n",
      "                         B_sf=mp.B_sf, theta= mp.theta_[edge_bis[2]], B_theta=mp.B_theta)\n",
      "# mixing both and shows one\n",
      "FT_lg_ = 42. *  FT_lg_in - 4.*np.sqrt(2)*np.exp(1j*np.pi/4.) * FT_lg_bis\n",
      "fig = im.show_FT(FT_lg_)"
     ],
     "language": "python",
     "metadata": {},
     "outputs": [
      {
       "metadata": {},
       "output_type": "display_data",
       "png": "[encoded data removed]",
       "text": [
        "<matplotlib.figure.Figure at 0x10cc20610>"
       ]
      }
     ],
     "prompt_number": 10
    },
    {
     "cell_type": "code",
     "collapsed": false,
     "input": [
      "# computing activity\n",
      "image = im.invert(FT_lg_)\n",
      "C = mp.init(image)"
     ],
     "language": "python",
     "metadata": {},
     "outputs": [],
     "prompt_number": 11
    },
    {
     "cell_type": "code",
     "collapsed": false,
     "input": [
      "# getting best match\n",
      "edge_star = mp.argmax(C)\n",
      "print np.sum(image**2), edge_star,  edge_in,  C[edge_star]\n",
      "plt.figure(figsize=(12,6))\n",
      "plt.subplot(121)\n",
      "plt.imshow(im.normalize(image))\n",
      "plt.plot([edge_star[1]], [edge_star[0]], 'r*')\n",
      "v = plt.axis((0, pe.N_X, pe.N_Y, 0))\n",
      "plt.subplot(122)\n",
      "plt.imshow(im.normalize(np.absolute(C[:,:,edge_star[2],edge_star[3]])))\n",
      "plt.plot([edge_star[1]], [edge_star[0]], 'r*')\n",
      "v = plt.axis((0, pe.N_X, pe.N_Y, 0))"
     ],
     "language": "python",
     "metadata": {},
     "outputs": [
      {
       "output_type": "stream",
       "stream": "stdout",
       "text": [
        "1798.70254128 (50, 38, 2, 2) [50.0, 38.0, 2, 2] (42.0326162462+0.021266934418j)\n"
       ]
      },
      {
       "metadata": {},
       "output_type": "display_data",
       "png": "[encoded data removed]",
       "text": [
        "<matplotlib.figure.Figure at 0x10afc2e90>"
       ]
      }
     ],
     "prompt_number": 12
    },
    {
     "cell_type": "code",
     "collapsed": false,
     "input": [
      "#! showing the winner\n",
      "#pylab.imshow(im.normalize(lg_star), **opts)\n",
      "FT_star = lg.loggabor(edge_star[0], edge_star[1], sf_0=mp.sf_0[edge_star[3]],\n",
      "                         B_sf=mp.B_sf, theta= mp.theta_[edge_star[2]], B_theta=mp.B_theta)\n",
      "im_star = im.invert(FT_star)\n",
      "fig = im.show_FT(FT_star, axis=True)"
     ],
     "language": "python",
     "metadata": {},
     "outputs": [
      {
       "metadata": {},
       "output_type": "display_data",
       "png": "[encoded data removed]",
       "text": [
        "<matplotlib.figure.Figure at 0x10e0c9250>"
       ]
      }
     ],
     "prompt_number": 13
    },
    {
     "cell_type": "code",
     "collapsed": false,
     "input": [
      "#! normalization should give 1 for resp. sum image energy, half mean spectrum energy, max coco:\n",
      "print np.sum(im_star**2), np.mean(np.abs(FT_star)**2)/2, im.FTfilter(im_star, FT_star).max()"
     ],
     "language": "python",
     "metadata": {},
     "outputs": [
      {
       "output_type": "stream",
       "stream": "stdout",
       "text": [
        "1.0000211017 1.0 1.0000211017\n"
       ]
      }
     ],
     "prompt_number": 14
    },
    {
     "cell_type": "code",
     "collapsed": false,
     "input": [
      "edge_star_in = np.array([edge_star[0], edge_star[1], mp.theta_[edge_in[2]], edge_star[3], np.absolute(C[edge_star]), np.angle(C[edge_star])])\n",
      "#edge_star_in = np.array([edge_star[0], edge_star[1], np.pi/2, edge_star[3], C[edge_star]])\n",
      "fig, a = mp.show_edges(edge_star_in[:, np.newaxis], image=image)"
     ],
     "language": "python",
     "metadata": {},
     "outputs": [
      {
       "metadata": {},
       "output_type": "display_data",
       "png": "[encoded data removed]",
       "text": [
        "<matplotlib.figure.Figure at 0x12086b950>"
       ]
      }
     ],
     "prompt_number": 15
    },
    {
     "cell_type": "code",
     "collapsed": false,
     "input": [
      "#! we substract the residual from the image\n",
      "image_res = (image - C[edge_star] * im_star).real # C_star*lg_star\n",
      "print C[edge_star], image[edge_star[0], edge_star[1]], im_star[edge_star[0], edge_star[1]]*C[edge_star].real, image_res[edge_star[0], edge_star[1]],"
     ],
     "language": "python",
     "metadata": {},
     "outputs": [
      {
       "output_type": "stream",
       "stream": "stdout",
       "text": [
        "(42.0326162462+0.021266934418j) 23.511012513 23.5150106254 -0.00399811242594\n"
       ]
      }
     ],
     "prompt_number": 16
    },
    {
     "cell_type": "code",
     "collapsed": false,
     "input": [
      "C_res = mp.init(image_res)\n",
      "edge_bis = mp.argmax(C_res)\n",
      "print np.sum(image_res**2), edge_star, edge_bis, C_res[edge_star], C_res[edge_bis]"
     ],
     "language": "python",
     "metadata": {},
     "outputs": [
      {
       "output_type": "stream",
       "stream": "stdout",
       "text": [
        "31.9989940166 (50, 38, 2, 2) (20, 40, 8, 4) (-0.00088695962841+0.0212669344179j) (-3.99986672459-3.99987454725j)\n"
       ]
      }
     ],
     "prompt_number": 17
    },
    {
     "cell_type": "code",
     "collapsed": false,
     "input": [
      "#! plotting the residual image and activity :\n",
      "plt.figure(figsize=(12,6))\n",
      "plt.subplot(121)\n",
      "plt.imshow(im.normalize(image_res))\n",
      "plt.plot([edge_star[1]], [edge_star[0]], 'b*')\n",
      "plt.plot([edge_bis[1]], [edge_bis[0]], 'r*')\n",
      "v = plt.axis((0, pe.N_X, pe.N_Y, 0))\n",
      "plt.subplot(122)\n",
      "plt.imshow(im.normalize(np.absolute(C_res[:,:,edge_star[2],edge_star[3]])))\n",
      "plt.plot([edge_star[1]], [edge_star[0]], 'b*')\n",
      "plt.plot([edge_bis[1]], [edge_bis[0]], 'r*')\n",
      "v = plt.axis((0, pe.N_X, pe.N_Y, 0))"
     ],
     "language": "python",
     "metadata": {},
     "outputs": [
      {
       "metadata": {},
       "output_type": "display_data",
       "png": "[encoded data removed]",
       "text": [
        "<matplotlib.figure.Figure at 0x120b1ab90>"
       ]
      }
     ],
     "prompt_number": 18
    },
    {
     "cell_type": "code",
     "collapsed": false,
     "input": [
      "#! or directly the activity\n",
      "C_res = mp.backprop(C, edge_star)\n",
      "edge_bis = mp.argmax(C_res)\n",
      "print np.sum(image_res**2), edge_star, C_res[edge_star], C_res[edge_bis]"
     ],
     "language": "python",
     "metadata": {},
     "outputs": [
      {
       "output_type": "stream",
       "stream": "stdout",
       "text": [
        "31.9989940166 (50, 38, 2, 2) (-0.00088695962841+4.48768347299e-07j) (-3.99989458154-3.99973361967j)\n"
       ]
      }
     ],
     "prompt_number": 19
    },
    {
     "cell_type": "code",
     "collapsed": false,
     "input": [
      "plt.figure(figsize=(12,6))\n",
      "plt.subplot(121)\n",
      "plt.imshow(im.normalize(np.absolute(C[:,:,edge_star[2],edge_star[3]])))\n",
      "plt.plot([edge_star[1]], [edge_star[0]], 'b*')\n",
      "plt.plot([edge_bis[1]], [edge_bis[0]], 'r*')\n",
      "v = plt.axis((0, pe.N_X, pe.N_Y, 0))\n",
      "plt.subplot(122)\n",
      "plt.imshow(im.normalize(np.absolute(C_res[:,:,edge_star[2],edge_star[3]])))\n",
      "plt.plot([edge_star[1]], [edge_star[0]], 'b*')\n",
      "plt.plot([edge_bis[1]], [edge_bis[0]], 'r*')\n",
      "v = plt.axis((0, pe.N_X, pe.N_Y, 0))"
     ],
     "language": "python",
     "metadata": {},
     "outputs": [
      {
       "metadata": {},
       "output_type": "display_data",
       "png": "[encoded data removed]",
       "text": [
        "<matplotlib.figure.Figure at 0x12086be90>"
       ]
      }
     ],
     "prompt_number": 20
    },
    {
     "cell_type": "code",
     "collapsed": false,
     "input": [
      "edge_star_bis = np.array([edge_bis[0], edge_bis[1], mp.theta_[edge_bis[2]], edge_bis[3], np.absolute(C[edge_bis]), np.angle(C[edge_bis])])\n",
      "\n",
      "print np.vstack((edge_star_in, edge_star_bis))\n",
      "fig, a = mp.show_edges(np.vstack((edge_star_in, edge_star_bis)).T, image=image)"
     ],
     "language": "python",
     "metadata": {},
     "outputs": [
      {
       "output_type": "stream",
       "stream": "stdout",
       "text": [
        "[[ 50.    38.     0.26   2.    42.03   0.  ]\n",
        " [ 20.    40.     1.05   4.     5.66  -2.36]]\n"
       ]
      },
      {
       "metadata": {},
       "output_type": "display_data",
       "png": "[encoded data removed]",
       "text": [
        "<matplotlib.figure.Figure at 0x1208530d0>"
       ]
      }
     ],
     "prompt_number": 21
    },
    {
     "cell_type": "markdown",
     "metadata": {},
     "source": [
      "[Back to top](#SparseEdges)"
     ]
    },
    {
     "cell_type": "heading",
     "level": 3,
     "metadata": {},
     "source": [
      "testing three steps"
     ]
    },
    {
     "cell_type": "code",
     "collapsed": false,
     "input": [
      "# filters in Fourier space\n",
      "FT_lg_in = lg.loggabor(edge_in[0], edge_in[1], \n",
      "                       theta= mp.theta_[edge_in[2]], B_theta=mp.B_theta,\n",
      "                       sf_0=mp.sf_0[edge_in[3]],  B_sf=mp.B_sf)\n",
      "FT_lg_bis = lg.loggabor(edge_bis[0], edge_bis[1], \n",
      "                        theta= mp.theta_[edge_bis[2]], B_theta=mp.B_theta,\n",
      "                        sf_0=mp.sf_0[edge_bis[3]], B_sf=mp.B_sf)\n",
      "# mixing both and shows one\n",
      "FT_lg_ = 42. *  FT_lg_in + 16.*np.exp(1j*np.pi/4.) * FT_lg_bis\n"
     ],
     "language": "python",
     "metadata": {},
     "outputs": [],
     "prompt_number": 22
    },
    {
     "cell_type": "code",
     "collapsed": false,
     "input": [
      "print mp.N, mp.MP_alpha\n",
      "fig = im.show_FT(FT_lg_)\n"
     ],
     "language": "python",
     "metadata": {},
     "outputs": [
      {
       "output_type": "stream",
       "stream": "stdout",
       "text": [
        "4 1.0\n"
       ]
      },
      {
       "metadata": {},
       "output_type": "display_data",
       "png": "[encoded data removed]",
       "text": [
        "<matplotlib.figure.Figure at 0x120b44ed0>"
       ]
      }
     ],
     "prompt_number": 23
    },
    {
     "cell_type": "code",
     "collapsed": false,
     "input": [
      "image = im.invert(FT_lg_)\n",
      "edges, C_res = mp.run_mp(image, verbose=True)\n",
      "fig, a = mp.show_edges(edges, image=image)"
     ],
     "language": "python",
     "metadata": {},
     "outputs": [
      {
       "output_type": "stream",
       "stream": "stdout",
       "text": [
        "Max activity  :  41.9111835157  phase=  -0.0822323576501  deg,  @  (50, 38, 2, 2)\n",
        "Max activity  : "
       ]
      },
      {
       "output_type": "stream",
       "stream": "stdout",
       "text": [
        " 15.9992754378  phase=  44.9988012688  deg,  @  (20, 40, 8, 4)\n",
        "Max activity  : "
       ]
      },
      {
       "output_type": "stream",
       "stream": "stdout",
       "text": [
        " 0.107300636544  phase=  34.0930238947  deg,  @  (50, 38, 2, 2)\n",
        "Max activity  : "
       ]
      },
      {
       "output_type": "stream",
       "stream": "stdout",
       "text": [
        " 0.000798099454496  phase=  69.7940494076  deg,  @  (20, 40, 8, 4)\n"
       ]
      },
      {
       "metadata": {},
       "output_type": "display_data",
       "png": "[encoded data removed]",
       "text": [
        "<matplotlib.figure.Figure at 0x1206e8990>"
       ]
      }
     ],
     "prompt_number": 24
    },
    {
     "cell_type": "code",
     "collapsed": false,
     "input": [
      "# from a complex number to 2 reals and back:\n",
      "z = np.sqrt(2)*np.exp(1j*np.pi/4.)\n",
      "z_, z_p = np.absolute(z), np.angle(z)\n",
      "print z, z_*np.exp(1j*z_p)"
     ],
     "language": "python",
     "metadata": {},
     "outputs": [
      {
       "output_type": "stream",
       "stream": "stdout",
       "text": [
        "(1+1j) (1+1j)\n"
       ]
      }
     ],
     "prompt_number": 25
    },
    {
     "cell_type": "markdown",
     "metadata": {},
     "source": [
      "[Back to top](#SparseEdges)"
     ]
    },
    {
     "cell_type": "heading",
     "level": 3,
     "metadata": {},
     "source": [
      "checking basic edge detection"
     ]
    },
    {
     "cell_type": "code",
     "collapsed": false,
     "input": [
      "#! defining a reference test image (see test_Image)\n",
      "image = np.zeros((pe.N_X, pe.N_Y))\n",
      "image[pe.N_X/2:pe.N_X/2+pe.N_X/4, pe.N_X/2:pe.N_X/2+pe.N_X/4] = 1\n",
      "image[pe.N_X/2:pe.N_X/2+pe.N_X/4, pe.N_X/4:pe.N_X/2] = -1\n",
      "plt.imshow(image)\n",
      "v = plt.axis((0, pe.N_X, pe.N_Y, 0))\n",
      "c = plt.colorbar()"
     ],
     "language": "python",
     "metadata": {},
     "outputs": [
      {
       "metadata": {},
       "output_type": "display_data",
       "png": "[encoded data removed]",
       "text": [
        "<matplotlib.figure.Figure at 0x10cd92690>"
       ]
      }
     ],
     "prompt_number": 26
    },
    {
     "cell_type": "code",
     "collapsed": false,
     "input": [
      "pe = ParameterSet('default_param.py')\n",
      "if debug: pe.N = 32 # number of edges\n",
      "pe.figsize_edges =12\n",
      "print pe\n",
      "lg = LogGabor(im)\n",
      "mp = SparseEdges(lg)\n",
      "edges, C_res = mp.run_mp(image, verbose=False)\n",
      "fig, a = mp.show_edges(edges, image=image)"
     ],
     "language": "python",
     "metadata": {},
     "outputs": [
      {
       "output_type": "stream",
       "stream": "stdout",
       "text": [
        "{'edge_mask': True, 'N_X': 256, 'N_Y': 256, 'loglevel_max': 7, 'B_theta': 0.39269875, 'do_mask': True, 'ncpus': 1, 'n_theta': 24, 'd_max': 2.0, 'figsize_edges': 12, 'N_scale': 5, 'noise': 0.5, 'base_levels': 1.618, 'line_width_chevrons': 0.75, 'scale_circle': 0.08, 'figsize_cohist': 3.41, 'do_rank': False, 'scale': 0.2, 'N_image': None, 'datapath': 'database/', 'N_r': 6, 'edgematpath': 'mat/edges/', 'd_min': 0.25, 'MP_alpha': 0.5, 'edge_scale_chevrons': 180.0, 'B_sf': 1.5, 'multiscale': True, 'N_phi': 12, 'N_Dtheta': 24, 'do_whitening': True, 'matpath': 'mat/', 'N': 2048, 'scale_invariant': True, 'kappa_phase': 0.0, 'd_width': 45.0, 'alpha': 0.0, 'weight_by_distance': True, 'line_width': 1.0, 'scale_chevrons': 2.5, 'figsize_hist': 3.41, 'ext': '.pdf', 'edgefigpath': 'figures/edges/', 'figpath': 'figures/'}\n"
       ]
      },
      {
       "metadata": {},
       "output_type": "display_data",
       "png": "[encoded data removed]",
       "text": [
        "<matplotlib.figure.Figure at 0x10de34b10>"
       ]
      }
     ],
     "prompt_number": 27
    },
    {
     "cell_type": "code",
     "collapsed": false,
     "input": [
      "# defining input image as Lena\n",
      "if debug:\n",
      "    image = plt.imread('../AssoField/database/lena128.png')[:,:,0]#.flipud().fliplr()\n",
      "else:\n",
      "    image = plt.imread('../AssoField/database/yelmo256.png')[:,:,0]#.flipud().fliplr()\n",
      "print image.mean(), image.std()\n",
      "\n",
      "pe = ParameterSet('default_param.py')\n",
      "pe.datapath = '../AssoField/database/'\n",
      "pe.figsize_edges =12\n",
      "if debug: pe.N = 32 # number of edges\n",
      "pe.N_X, pe.N_Y = image.shape\n",
      "print pe\n",
      "im = Image(pe)\n",
      "image = im.normalize(image, center=True)\n",
      "print image.mean(), image.std()\n",
      "\n",
      "lg = LogGabor(im)\n",
      "mp = SparseEdges(lg)\n",
      "\n",
      "#! edge detection using MP on the image\n",
      "edges, C_res = mp.run_mp(image, verbose=True)\n",
      "fig, a = mp.show_edges(edges, image=image)"
     ],
     "language": "python",
     "metadata": {},
     "outputs": []
    },
    {
     "cell_type": "code",
     "collapsed": false,
     "input": [
      "#! recontructing the image from the edges\n",
      "image_ = mp.reconstruct(edges)\n",
      "print 'RMSE = ', ((image-image_)**2).sum()/((image)**2).sum()\n",
      "print 'RMSE-W = ', ((im.whitening(image)-im.whitening(image_))**2).sum()/((im.whitening(image))**2).sum()\n",
      "fig, a = mp.show_edges(edges, image=image_*1.)"
     ],
     "language": "python",
     "metadata": {},
     "outputs": []
    },
    {
     "cell_type": "code",
     "collapsed": false,
     "input": [
      "#! trying now using no whitening of the image\n",
      "pe.do_whitening=False\n",
      "im = Image(pe)\n",
      "lg = LogGabor(im)\n",
      "mp = SparseEdges(lg)\n",
      "\n",
      "edges, C_res = mp.run_mp(image, verbose=False)\n",
      "fig, a = mp.show_edges(edges, image=image)"
     ],
     "language": "python",
     "metadata": {},
     "outputs": []
    },
    {
     "cell_type": "code",
     "collapsed": false,
     "input": [
      "#! recontructing the image from the edges\n",
      "image_ = mp.reconstruct(edges)\n",
      "print 'RMSE = ', ((image-image_)**2).sum()/((image)**2).sum()\n",
      "fig, a = mp.show_edges(edges, image=image_*1.)"
     ],
     "language": "python",
     "metadata": {},
     "outputs": []
    },
    {
     "cell_type": "markdown",
     "metadata": {},
     "source": [
      "[Back to top](#SparseEdges)"
     ]
    },
    {
     "cell_type": "heading",
     "level": 3,
     "metadata": {},
     "source": [
      "Showing progressive reconstruction"
     ]
    },
    {
     "cell_type": "code",
     "collapsed": false,
     "input": [
      "if False: # True: #TODO\n",
      "    pe = ParameterSet('default_param.py')\n",
      "\n",
      "    #! defining framework\n",
      "    #!-------------------\n",
      "    # TODO : do these tests with less images\n",
      "    im = Image(pe)\n",
      "    lg = LogGabor(im)\n",
      "    mp = SparseEdges(lg)\n",
      "\n",
      "    ##! showing MP algorithm\n",
      "    ##!---------------------\n",
      "    #exp, name_database, i_image = 'vanilla', 'serre07_targets', 310\n",
      "    list_of_number_of_edge = [ 0, 1, 2, 4, 8, 16, 32, 64, 128, 256, 512, 1024, 2048] # np.logspace(1, 10, 10, base=2) #\n",
      "\n",
      "    # image = 'database/thorpe.png'\n",
      "    import os, shelve, pylab\n",
      "    exp, name_database, i_image = 'MP', 'serre07_distractors', 1\n",
      "    imageslist, edgeslist = mp.process(exp, name_database=name_database)\n",
      "    f = shelve.open(os.path.join('../AssoField/mat/', exp + '_' + name_database + '_images.shelve'))\n",
      "    imagelist = f['imagelist']\n",
      "    f.close()\n",
      "    if False:\n",
      "        imagename = [ k for k, c in imagelist]\n",
      "        for i, k in enumerate(imagename):\n",
      "    #         if (k== 'B_N771063.jpg'): print i\n",
      "            if (k== 'B_N107001.jpg'): print i\n",
      "\n",
      "    filename, croparea = imagelist[i_image]\n",
      "    edgeslist = np.load(os.path.join('../AssoField/mat/', exp + '_' + name_database  + '_edges.npy'))\n",
      "    image, filename_, croparea_ = im.patch(name_database=name_database, filename=filename, croparea=croparea)\n",
      "    if mp.pe.do_whitening: image = im.whitening(image)\n",
      "    vmax = np.absolute(image).max()\n",
      "    edges = edgeslist[:, :, i_image]\n",
      "\n",
      "    for number_of_edge in list_of_number_of_edge:\n",
      "        image_ = mp.reconstruct(edges[:, :number_of_edge][..., np.newaxis])\n",
      "    #            image_ = im.dewhitening(image_)\n",
      "\n",
      "        figname = os.path.join((pe.figpath, 'MP_' + str(number_of_edge) + '.png'))\n",
      "        print figname\n",
      "        if not(os.path.isfile(figname)):\n",
      "            try:\n",
      "                fig, a = mp.show_edges(edges[:, :number_of_edge], image=(image-image_)/vmax, norm=False)\n",
      "                fig.savefig(figname)\n",
      "                pylab.close(fig)\n",
      "            except Exception, e:\n",
      "                print 'Failed to make image ', figname, ', error : ', e\n",
      "\n",
      "        figname = os.path.join((pe.figpath,  'MP_' + str(number_of_edge) + '_reconstruct.png'))\n",
      "        if not(os.path.isfile(figname)):\n",
      "            try:\n",
      "                fig, a = mp.show_edges(edges[:, :number_of_edge], image=image_/vmax, norm=False)\n",
      "                fig.savefig(figname)\n",
      "                pylab.close(fig)\n",
      "            except Exception, e:\n",
      "                print 'Failed to make reconstruct image ', figname, ', error : ', e\n"
     ],
     "language": "python",
     "metadata": {},
     "outputs": []
    },
    {
     "cell_type": "heading",
     "level": 2,
     "metadata": {},
     "source": [
      "Computing edge statistics "
     ]
    },
    {
     "cell_type": "code",
     "collapsed": false,
     "input": [
      "from SLIP import Image\n",
      "from LogGabor import LogGabor\n",
      "from SparseEdges import SparseEdges"
     ],
     "language": "python",
     "metadata": {},
     "outputs": []
    },
    {
     "cell_type": "code",
     "collapsed": false,
     "input": [
      "pe = ParameterSet('default_param.py')\n",
      "pe.figsize_edges = 12\n",
      "if debug:\n",
      "    pe.N_image = 8 #None\n",
      "    pe.N = 16\n",
      "print pe"
     ],
     "language": "python",
     "metadata": {},
     "outputs": []
    },
    {
     "cell_type": "code",
     "collapsed": false,
     "input": [
      "im = Image(pe)\n",
      "lg = LogGabor(im)\n",
      "pe.n_levels = np.log2(pe.N_X)\n",
      "mp = SparseEdges(lg)\n"
     ],
     "language": "python",
     "metadata": {},
     "outputs": []
    },
    {
     "cell_type": "heading",
     "level": 2,
     "metadata": {},
     "source": [
      "setting up corrdinates conventions"
     ]
    },
    {
     "cell_type": "markdown",
     "metadata": {},
     "source": [
      "cardinal points in X, Y (clockwise):  E (=right=3 o'clock=horizontal), ESE, S, WSW, W, WNW, N, ENE "
     ]
    },
    {
     "cell_type": "code",
     "collapsed": false,
     "input": [
      "X = np.array([0, 1./4, 1./2, 1./4, 0, -1./4, -1./2])#, -1./4])\\n\",\n",
      "Y = np.array([1./2, np.sqrt(3)/4, 0, -np.sqrt(3)/4, -1./2, -np.sqrt(3)/4, 0.])#, np.sqrt(3)/\n",
      "Theta = np.arctan2(-X, Y)\n",
      "Theta = ((Theta + np.pi/2  - np.pi/pe.N_phi/2 ) % (np.pi)) - np.pi/2  + np.pi/pe.N_phi/2\n",
      "print Theta* 180./np.pi"
     ],
     "language": "python",
     "metadata": {},
     "outputs": []
    },
    {
     "cell_type": "markdown",
     "metadata": {},
     "source": [
      "The X, Y image axis are defined in the matrix style (origin on the upper left; X going vertically down, Y going right horizontally) - the angle is defined as the angle wrt to the horizontal axis :"
     ]
    },
    {
     "cell_type": "code",
     "collapsed": false,
     "input": [
      "fig, a = mp.show_edges(np.vstack(((X/2. + .5)*pe.N_X, (Y/2. + .5)*pe.N_X, Theta, .01*np.ones(X.shape), np.ones(X.shape), np.zeros(X.shape) )))\n",
      "t = [a.text(Y_, X_, np.str((X_, Y_, angle*180/np.pi))) for (X_, Y_, angle)  in zip((X/2. + .5)*pe.N_X, (Y/2. + .5)*pe.N_X, Theta)]"
     ],
     "language": "python",
     "metadata": {},
     "outputs": []
    },
    {
     "cell_type": "heading",
     "level": 2,
     "metadata": {},
     "source": [
      "Testing some angle calculations"
     ]
    },
    {
     "cell_type": "code",
     "collapsed": false,
     "input": [
      "# test points\n",
      "X = np.array([0.25, 0.25, 0.75])\n",
      "Y = np.array([0.25, 0.75, 0.25])\n",
      "X, Y = X*pe.N_X, Y*pe.N_X\n",
      "print 'coord = ', X, Y\n",
      "# by definition, theta = 0 is the horizontal\n",
      "Theta = np.array([0., np.pi/4, np.pi/2])\n",
      "print 'angle (CCW wrt horizontal) =', Theta * 180./np.pi\n",
      "Sf_0, Weights, Phases = .01*np.ones(X.shape), np.ones(X.shape), np.ones(X.shape)\n",
      "fig, a = mp.show_edges(np.vstack((X, Y, Theta, Sf_0, Weights, Phases)))\n",
      "#t = [a.text(Y_, X_, np.str((X_, Y_, '%0.3f ' % (angle*180/np.pi), i))) for (X_, Y_, angle, i)  in zip((X/2. + .5)*N_X, (Y/2. + .5)*N_Y, Theta, range(3))]\n",
      "t = [a.text(Y_, X_, np.str(i)) for (X_, Y_, i)  in zip(X, Y, range(3))]"
     ],
     "language": "python",
     "metadata": {},
     "outputs": []
    },
    {
     "cell_type": "heading",
     "level": 3,
     "metadata": {},
     "source": [
      "Relative distance"
     ]
    },
    {
     "cell_type": "code",
     "collapsed": false,
     "input": [
      "dx = X[:, np.newaxis] - X[np.newaxis, :]\n",
      "dy = Y[:, np.newaxis] - Y[np.newaxis, :]\n",
      "print 'dx_ij = \\n', dx, '\\n dy_ij = \\n', dy"
     ],
     "language": "python",
     "metadata": {},
     "outputs": []
    },
    {
     "cell_type": "code",
     "collapsed": false,
     "input": [
      "d = np.sqrt(dx**2 + dy**2) #/ pe.N_X * pe.d_width # distance in visual angle\n",
      "print np.diag(d), d[0, :]\n",
      "plt.matshow(d); plt.colorbar()"
     ],
     "language": "python",
     "metadata": {},
     "outputs": []
    },
    {
     "cell_type": "code",
     "collapsed": false,
     "input": [
      "theta = Theta[:, np.newaxis] - Theta[np.newaxis, :]\n",
      "print 'angle to self = ', np.diag(theta), '\\nangle from 2 to ...= ', theta[2, :]*180/np.pi\n",
      "plt.matshow(theta*180/np.pi); plt.colorbar(ticks=np.linspace(-90, 90, 5))\n",
      "print theta*180/np.pi"
     ],
     "language": "python",
     "metadata": {},
     "outputs": []
    },
    {
     "cell_type": "code",
     "collapsed": false,
     "input": [
      "theta = ((theta + np.pi/2 - np.pi/pe.N_Dtheta/2)  % (np.pi) ) - np.pi/2  + np.pi/pe.N_Dtheta/2\n",
      "plt.matshow(theta*180/np.pi); plt.colorbar(ticks=np.linspace(-90, 90, 5))\n",
      "print np.diag(theta).std(), theta.min()*180/np.pi, theta.max()*180/np.pi\n",
      "print theta*180/np.pi"
     ],
     "language": "python",
     "metadata": {},
     "outputs": []
    },
    {
     "cell_type": "code",
     "collapsed": false,
     "input": [
      "# still anti-symmetric (theta == - theta.T)\n",
      "plt.matshow(np.sin(theta + theta.T)); plt.colorbar()"
     ],
     "language": "python",
     "metadata": {},
     "outputs": []
    },
    {
     "cell_type": "markdown",
     "metadata": {},
     "source": [
      "phi is the azimuth of the other edge wrt a reference, the matrix gives phi_ij = phi of j wrt i"
     ]
    },
    {
     "cell_type": "code",
     "collapsed": false,
     "input": [
      "print (np.arctan2(dy, dx) - np.pi/2)*180/np.pi, Theta*180/np.pi\n",
      "#np.seterr(all='ignore')\n",
      "phi = (np.arctan2(dy, dx) - np.pi/2 - Theta[np.newaxis, :] + np.pi ) % (2*np.pi)  - np.pi\n",
      "phi += np.diag(np.nan*np.ones(3))\n",
      "#print np.isnan(phi)\n",
      "#phi[np.isnan(phi)] = 0.\n",
      "print phi*180/np.pi# np.diag(phi, 1)*180/np.pi, phi[0, :]*180/np.pi\n",
      "plt.matshow(phi*180/np.pi); plt.colorbar(ticks=np.linspace(-90, 90, 5))"
     ],
     "language": "python",
     "metadata": {},
     "outputs": []
    },
    {
     "cell_type": "code",
     "collapsed": false,
     "input": [
      "# not symmetric\n",
      "plt.matshow(np.sin(phi - phi.T)); plt.colorbar()"
     ],
     "language": "python",
     "metadata": {},
     "outputs": []
    },
    {
     "cell_type": "code",
     "collapsed": false,
     "input": [
      "theta = Theta[:, np.newaxis] - Theta[np.newaxis, :]\n",
      "phi = np.arctan2(dy, dx) - np.pi/2 - Theta[np.newaxis, :]\n",
      "phi += np.diag(np.nan*np.ones(3))\n",
      "psi = phi - theta/2\n",
      "#psi = (Theta[:, np.newaxis]+Theta[np.newaxis, :])/2 + np.arctan2(-dx, dy)# + np.pi/2\n",
      "print psi*180/np.pi#, (psi - (psi + psi.T)/2)*180/np.pi\n",
      "plt.matshow(psi*180/np.pi); plt.colorbar()"
     ],
     "language": "python",
     "metadata": {},
     "outputs": []
    },
    {
     "cell_type": "code",
     "collapsed": false,
     "input": [
      "# symmetric\n",
      "plt.matshow(np.sin(psi - psi.T)); plt.colorbar()"
     ],
     "language": "python",
     "metadata": {},
     "outputs": []
    },
    {
     "cell_type": "markdown",
     "metadata": {},
     "source": [
      "if we assume that an angle occurrence may also happen wrt to its mirror symetric (flipping left and right), then $\\psi$ becomes non-oriented"
     ]
    },
    {
     "cell_type": "code",
     "collapsed": false,
     "input": [
      "# putting everything in the right range:\n",
      "psi = ((psi + np.pi/2  - np.pi/pe.N_phi/2 ) % (np.pi)) - np.pi/2  + np.pi/pe.N_phi/2\n",
      "print psi*180/np.pi\n",
      "plt.matshow(psi*180/np.pi); plt.colorbar()\n",
      "#  still symmetric\n",
      "plt.matshow(psi - psi.T); plt.colorbar()\n",
      "#print np.sin(psi - psi.T).std()"
     ],
     "language": "python",
     "metadata": {},
     "outputs": []
    },
    {
     "cell_type": "code",
     "collapsed": false,
     "input": [
      "level = np.log2(Sf_0[:, np.newaxis]) - np.log2(Sf_0[np.newaxis, :])\n",
      "plt.matshow(level); plt.colorbar()"
     ],
     "language": "python",
     "metadata": {},
     "outputs": []
    },
    {
     "cell_type": "code",
     "collapsed": false,
     "input": [
      "weights = Weights[:, np.newaxis] * Weights[np.newaxis, :]\n",
      "plt.matshow(weights); plt.colorbar()\n",
      "weights /= (d + 1.e-6)\n",
      "plt.matshow(weights); plt.colorbar()"
     ],
     "language": "python",
     "metadata": {},
     "outputs": []
    },
    {
     "cell_type": "code",
     "collapsed": false,
     "input": [
      "weights[d==0.] = 0. # exclude self-occurence\n",
      "plt.matshow(weights); plt.colorbar()"
     ],
     "language": "python",
     "metadata": {},
     "outputs": []
    },
    {
     "cell_type": "heading",
     "level": 2,
     "metadata": {},
     "source": [
      "testing the plotting functions using synthetic edge images"
     ]
    },
    {
     "cell_type": "code",
     "collapsed": false,
     "input": [
      "print SparseEdges.histedges_theta.__doc__\n",
      "print SparseEdges.histedges_scale.__doc__\n",
      "print SparseEdges.cohistedges.__doc__"
     ],
     "language": "python",
     "metadata": {},
     "outputs": []
    },
    {
     "cell_type": "code",
     "collapsed": false,
     "input": [
      "#! a function to display edges\n",
      "def myplot(edgeslist, pe=pe):\n",
      "    im = Image(pe)\n",
      "    lg = LogGabor(im)\n",
      "    mp = SparseEdges(lg)\n",
      "\n",
      "    fig = plt.figure(figsize=(12, 18))\n",
      "    a1 = fig.add_subplot(321)\n",
      "    fig, a = mp.show_edges(edgeslist[:, :, 0], image=np.ones((pe.N_X, pe.N_X)), fig=fig, a=a1)\n",
      "    a2 = fig.add_subplot(322)\n",
      "    fig, a2 = mp.histedges_scale(edgeslist, fig=fig, a=a2)\n",
      "    a3 = fig.add_subplot(323, polar=True)\n",
      "    fig, a3 = mp.histedges_theta(edgeslist, fig=fig, a=a3)\n",
      "    a4 = fig.add_subplot(324)\n",
      "    v_hist = mp.cohistedges(edgeslist, display='none')\n",
      "    v_hist_nosym = mp.cohistedges(edgeslist, display='none', symmetry=False)\n",
      "    fig, a4 = mp.cohistedges(edgeslist=None, v_hist=v_hist, fig=fig, a=a4)\n",
      "    a5 = fig.add_subplot(325)\n",
      "    fig, a5 = mp.cohistedges(edgeslist=None, v_hist=v_hist_nosym, fig=fig, a=a5, symmetry=False, display='colin_geisler')\n",
      "    a6 = fig.add_subplot(326)\n",
      "    fig, a6 = mp.cohistedges(edgeslist=None, v_hist=v_hist_nosym, fig=fig, a=a6, symmetry=False, display='cocir_geisler')\n",
      "    #plt.tight_layout()\n",
      "    plt.show()\n",
      "    fig2 = plt.figure(figsize=(12, 12))\n",
      "    fig2, a1, a2, a3, a4 = mp.cohistedges(edgeslist=None, v_hist=v_hist, fig=fig2, display='full')\n",
      "    return v_hist"
     ],
     "language": "python",
     "metadata": {},
     "outputs": []
    },
    {
     "cell_type": "heading",
     "level": 3,
     "metadata": {},
     "source": [
      "Just with 2 edges and  averaged over N_images trials"
     ]
    },
    {
     "cell_type": "code",
     "collapsed": true,
     "input": [
      "pe = ParameterSet('default_param.py')\n",
      "pe.N_image = 20\n",
      "pe.d_max = 20.\n",
      "edgeslist = np.zeros((6, 2, pe.N_image))\n",
      "angle = np.pi/6\n",
      "for i_N, sign in enumerate([-1., 1.]):\n",
      "    edgeslist[0, i_N, :] = pe.N_X *(1/2. + .1 * np.sin(angle) * sign) + .0005 * np.random.randn(pe.N_image)\n",
      "    edgeslist[1, i_N, :] = pe.N_X *(1/2. - .1 * np.cos(angle) * sign) + .0005 * np.random.randn(pe.N_image)\n",
      "    edgeslist[2, i_N, :] = (angle + np.pi/360.* np.random.randn(pe.N_image)) % np.pi\n",
      "    edgeslist[3, i_N, :] = 4.\n",
      "    edgeslist[4, i_N, :] = 1.\n",
      "#print  edgeslist\n",
      "v_hist = myplot(edgeslist)\n",
      "#print v_hist"
     ],
     "language": "python",
     "metadata": {},
     "outputs": []
    },
    {
     "cell_type": "code",
     "collapsed": true,
     "input": [
      "edgeslist = np.zeros((6, 2, pe.N_image))\n",
      "angle = np.pi/6\n",
      "for i_N, sign in enumerate([-1., 1.]):\n",
      "    edgeslist[0, i_N, :] = pe.N_X *(1/2. + .1 * np.sin(angle) * sign) + .0005 * np.random.randn(pe.N_image)\n",
      "    edgeslist[1, i_N, :] = pe.N_X *(1/2. + .1 * np.cos(angle) * sign) + .0005 * np.random.randn(pe.N_image)\n",
      "    edgeslist[2, i_N, :] = (angle + np.pi/360.* np.random.randn(pe.N_image)) % np.pi\n",
      "    edgeslist[3, i_N, :] = 4.\n",
      "    edgeslist[4, i_N, :] = 1.\n",
      "#print  edgeslist\n",
      "_ = myplot(edgeslist)"
     ],
     "language": "python",
     "metadata": {},
     "outputs": []
    },
    {
     "cell_type": "code",
     "collapsed": true,
     "input": [
      "edgeslist = np.zeros((6, 2, pe.N_image))\n",
      "angle = np.pi/6\n",
      "for i_N, sign in enumerate([-1., 1.]):\n",
      "    edgeslist[0, i_N, :] = pe.N_X *(1/2. + .1 * np.sin(angle) * sign) + .0005 * np.random.randn(pe.N_image)\n",
      "    edgeslist[1, i_N, :] = pe.N_X *(1/2. + .1 * np.cos(angle) * sign) + .0005 * np.random.randn(pe.N_image)\n",
      "    edgeslist[2, i_N, :] = sign*(angle + np.pi/360.* np.random.randn(pe.N_image)) % np.pi\n",
      "    edgeslist[3, i_N, :] = 4.\n",
      "    edgeslist[4, i_N, :] = 1.\n",
      "_ = myplot(edgeslist)"
     ],
     "language": "python",
     "metadata": {},
     "outputs": []
    },
    {
     "cell_type": "heading",
     "level": 3,
     "metadata": {},
     "source": [
      "random edges"
     ]
    },
    {
     "cell_type": "code",
     "collapsed": false,
     "input": [
      "print mp.base_levels, mp.n_levels\n",
      "edgeslist = np.zeros((6, pe.N, pe.N_image))\n",
      "edgeslist[0, :, :] = pe.N_X * np.random.rand(pe.N, pe.N_image)\n",
      "edgeslist[1, :, :] = pe.N_X * np.random.rand(pe.N, pe.N_image)\n",
      "edgeslist[2, :, :] = (np.pi* np.random.rand(pe.N, pe.N_image) ) % np.pi\n",
      "edgeslist[3, :, :] = np.ceil(mp.base_levels**(mp.n_levels*(np.random.rand(pe.N, pe.N_image)+.5)))\n",
      "edgeslist[4, :, :] = np.random.rand(pe.N, pe.N_image) \n",
      "edgeslist[5, :, :] = 2*np.pi*np.random.rand(pe.N, pe.N_image)\n",
      "\n",
      "_ = myplot(edgeslist)"
     ],
     "language": "python",
     "metadata": {},
     "outputs": []
    },
    {
     "cell_type": "code",
     "collapsed": false,
     "input": [
      "#! parallel edges:\n",
      "edgeslist = np.zeros((6, pe.N, pe.N_image))\n",
      "for i_N, x in enumerate(np.linspace(-pe.N_X/4., pe.N_X/4., pe.N)):\n",
      "    edgeslist[0, i_N, :] = pe.N_X * np.random.rand(pe.N_image)\n",
      "    edgeslist[1, i_N, :] = pe.N_X * np.random.rand(pe.N_image)\n",
      "    edgeslist[2, i_N, :] = (np.pi/6 + np.pi/360.* np.random.randn(pe.N_image) ) % np.pi\n",
      "    edgeslist[3, i_N, :] = mp.base_levels**np.ceil(mp.n_levels*np.random.rand(pe.N_image))\n",
      "    edgeslist[4, i_N, :] = np.random.randn(pe.N_image)**2\n",
      "#! show one sample\n",
      "_ = myplot(edgeslist)\n",
      "#print mp.cohistedges(edgeslist, display='none')"
     ],
     "language": "python",
     "metadata": {},
     "outputs": []
    },
    {
     "cell_type": "code",
     "collapsed": false,
     "input": [
      "#! colinear edges:\n",
      "edgeslist = np.zeros((6, pe.N, pe.N_image))\n",
      "for i_N, x in enumerate(np.linspace(-pe.N_X/4., pe.N_X/4., pe.N)):\n",
      "    edgeslist[0, i_N, :] = pe.N_X/2. + x + 1. * np.random.randn(pe.N_image)\n",
      "    edgeslist[1, i_N, :] = pe.N_X/2. + x + 1. * np.random.randn(pe.N_image)\n",
      "    edgeslist[2, i_N, :] = (-np.pi/4 + np.pi*5./180.* np.random.randn(pe.N_image) ) % np.pi\n",
      "    edgeslist[3, i_N, :] = 32. #np.sqrt(2.)/2 * N_X / N\n",
      "    edgeslist[4, i_N, :] = 1.\n",
      "_ = myplot(edgeslist)#"
     ],
     "language": "python",
     "metadata": {},
     "outputs": []
    },
    {
     "cell_type": "code",
     "collapsed": false,
     "input": [
      "#! cocircular edges:\n",
      "edgeslist = np.zeros((6, pe.N, pe.N_image))\n",
      "#for i_N, angle in enumerate(np.linspace(0, 2*np.pi, N)):\n",
      "for i_N, angle in enumerate(2*np.pi*np.random.rand(pe.N)):\n",
      "    edgeslist[0, i_N, :] = pe.N_X/2. - pe.N_X/4.*np.sin(angle) + .5 * np.random.randn(pe.N_image)\n",
      "    edgeslist[1, i_N, :] = pe.N_X/2. + pe.N_X/4.*np.cos(angle) + .5 * np.random.randn(pe.N_image)\n",
      "    edgeslist[2, i_N, :] = (np.pi/2 + angle + .5*np.pi/180 * np.random.randn(pe.N_image)) % np.pi\n",
      "    edgeslist[3, i_N, :] = 50.\n",
      "    edgeslist[4, i_N, :] = 1.\n",
      "_ = myplot(edgeslist)#"
     ],
     "language": "python",
     "metadata": {},
     "outputs": []
    },
    {
     "cell_type": "code",
     "collapsed": false,
     "input": [
      "#! cocircular edges:\n",
      "edgeslist = np.zeros((6, pe.N, pe.N_image))\n",
      "#for i_N, angle in enumerate(np.linspace(0, 2*np.pi, pe.N)):\n",
      "for i_N, angle in enumerate(2*np.pi*np.random.rand(pe.N)):\n",
      "    edgeslist[0, i_N, :] = pe.N_X/2. - .95*pe.N_X/2.*np.sin(angle) + .05 * np.random.randn(pe.N_image)\n",
      "    edgeslist[1, i_N, :] = pe.N_X/2. + .95*pe.N_X/2.*np.cos(angle) + .05 * np.random.randn(pe.N_image)\n",
      "    edgeslist[2, i_N, :] = (np.pi/2 + angle + .5*np.pi/180 * np.random.randn(pe.N_image)) % np.pi\n",
      "    edgeslist[3, i_N, :] = 8.\n",
      "    edgeslist[4, i_N, :] = 1.\n",
      "_ = myplot(edgeslist)"
     ],
     "language": "python",
     "metadata": {},
     "outputs": []
    },
    {
     "cell_type": "heading",
     "level": 2,
     "metadata": {},
     "source": [
      "real-life examples"
     ]
    },
    {
     "cell_type": "code",
     "collapsed": false,
     "input": [
      "#%run experiment_testing.py\n",
      "pe = ParameterSet('default_param.py')\n",
      "#pe.figpath = '../AssoField/figures/'\n",
      "#pe.edgefigpath = '../AssoField/figures/edges/'\n",
      "#pe.matpath ='../AssoField/mat/'\n",
      "#pe.edgematpath = '../AssoField/mat/edges/'\n",
      "pe.datapath = '../AssoField/database/'\n",
      "if debug:\n",
      "    pe.N, pe.N_image = 16, 5\n",
      "else:\n",
      "    pe.N, pe.N_image = 1000, 600"
     ],
     "language": "python",
     "metadata": {},
     "outputs": []
    },
    {
     "cell_type": "code",
     "collapsed": false,
     "input": [
      "im = Image(pe)\n",
      "lg = LogGabor(im)\n",
      "mp = SparseEdges(lg)\n",
      "print mp.run_mp.__doc__"
     ],
     "language": "python",
     "metadata": {},
     "outputs": []
    },
    {
     "cell_type": "code",
     "collapsed": false,
     "input": [
      "#! using first database\n",
      "print im.get_imagelist(exp='testing_vanilla', name_database='serre07_distractors')\n",
      "!ls mat/edges/testing_vanilla_serre07_distractors/"
     ],
     "language": "python",
     "metadata": {},
     "outputs": []
    },
    {
     "cell_type": "code",
     "collapsed": false,
     "input": [
      "#edgeslist = np.load('../AssoField/mat/classifier_serre07_distractors_edges.npy')\n",
      "edgeslist = mp.full_run(exp='testing_vanilla', name_database='serre07_distractors', imagelist=im.get_imagelist(exp='testing_vanilla', name_database='serre07_distractors'), noise=0)"
     ],
     "language": "python",
     "metadata": {},
     "outputs": []
    },
    {
     "cell_type": "markdown",
     "metadata": {},
     "source": [
      "plots for targets"
     ]
    },
    {
     "cell_type": "code",
     "collapsed": true,
     "input": [
      "# show one sample\n",
      "fig_, a = mp.show_edges(edgeslist[:, :, 0], image=None)"
     ],
     "language": "python",
     "metadata": {},
     "outputs": []
    },
    {
     "cell_type": "code",
     "collapsed": true,
     "input": [
      "_ = myplot(edgeslist[:, :, 0][:, :, np.newaxis], pe=pe)"
     ],
     "language": "python",
     "metadata": {},
     "outputs": []
    },
    {
     "cell_type": "code",
     "collapsed": false,
     "input": [
      "_ = myplot(edgeslist, pe=pe)"
     ],
     "language": "python",
     "metadata": {},
     "outputs": []
    },
    {
     "cell_type": "heading",
     "level": 3,
     "metadata": {},
     "source": [
      "plotting with targets"
     ]
    },
    {
     "cell_type": "code",
     "collapsed": false,
     "input": [
      "#! using second database\n",
      "#!----------------------\n",
      "edgeslist = mp.full_run(exp='testing_vanilla', \n",
      "                   imagelist=im.get_imagelist(exp='testing_vanilla', name_database='serre07_targets'),\n",
      "                   noise=0.)\n",
      "#edgeslist = np.load('../AssoField/mat/classifier_noise_serre07_targets_edges.npy')\n",
      "#! show one sample\n",
      "#fig, a = mp.show_edges(edgeslist[:, :, 0], image=None)\n",
      "#v = pylab.axis((0, pe.N_X, pe.N_X, 0))\n",
      "_ = myplot(edgeslist[:, :, 0][:, :, np.newaxis], pe=pe)"
     ],
     "language": "python",
     "metadata": {},
     "outputs": []
    },
    {
     "cell_type": "code",
     "collapsed": false,
     "input": [
      "_ = myplot(edgeslist, pe=pe)"
     ],
     "language": "python",
     "metadata": {},
     "outputs": []
    },
    {
     "cell_type": "heading",
     "level": 3,
     "metadata": {},
     "source": [
      "the same with more noise"
     ]
    },
    {
     "cell_type": "markdown",
     "metadata": {},
     "source": [
      "using second database"
     ]
    },
    {
     "cell_type": "code",
     "collapsed": false,
     "input": [
      "edgeslist = mp.full_run(exp='testing_noise', \n",
      "                   name_database='serre07_distractors', \n",
      "                   imagelist=im.get_imagelist(exp='testing_noise', name_database='serre07_distractors', N_image=pe.N_image),\n",
      "                   noise=pe.noise)\n",
      "#edgeslist = np.load('../AssoField/mat/classifier_noise_serre07_targets_edges.npy')\n",
      "#! show one sample\n",
      "#fig, a = mp.show_edges(edgeslist[:, :, 0], image=None)\n",
      "#v = pylab.axis((0, pe.N_X, pe.N_X, 0))"
     ],
     "language": "python",
     "metadata": {},
     "outputs": []
    },
    {
     "cell_type": "code",
     "collapsed": false,
     "input": [
      "_ = myplot(edgeslist[:, :, 0][:, :, np.newaxis], pe=pe)"
     ],
     "language": "python",
     "metadata": {},
     "outputs": []
    },
    {
     "cell_type": "code",
     "collapsed": false,
     "input": [
      "v_hist = myplot(edgeslist, pe=pe)"
     ],
     "language": "python",
     "metadata": {},
     "outputs": []
    },
    {
     "cell_type": "code",
     "collapsed": false,
     "input": [
      "#v_hist = mp.cohistedges(edgeslist, display='none')"
     ],
     "language": "python",
     "metadata": {},
     "outputs": []
    },
    {
     "cell_type": "markdown",
     "metadata": {},
     "source": [
      "the histogram is symmetric with respect to log-scales"
     ]
    },
    {
     "cell_type": "code",
     "collapsed": false,
     "input": [
      "mp.init_edges()\n",
      "print mp.edges_d.max()\n",
      "print v_hist.shape\n",
      "print mp.edges_loglevel"
     ],
     "language": "python",
     "metadata": {},
     "outputs": []
    },
    {
     "cell_type": "code",
     "collapsed": false,
     "input": [
      "l_ = v_hist.sum(axis=(2, 1, 0))\n",
      "print l_, l_-l_[::-1]"
     ],
     "language": "python",
     "metadata": {},
     "outputs": []
    },
    {
     "cell_type": "code",
     "collapsed": false,
     "input": [
      "print np.sum(v_hist), np.sum((v_hist - v_hist[:, :, :, ::-1])**2)"
     ],
     "language": "python",
     "metadata": {},
     "outputs": []
    },
    {
     "cell_type": "code",
     "collapsed": false,
     "input": [
      "v_hist[:, 4, 4, 1]*100, v_hist[:, 4, 4, 3]*100"
     ],
     "language": "python",
     "metadata": {},
     "outputs": []
    },
    {
     "cell_type": "code",
     "collapsed": false,
     "input": [
      "np.set_printoptions(precision=5, suppress=True)\n",
      "v_hist_chevrons = v_hist.sum(axis=(0,3))\n",
      "print v_hist_chevrons.shape"
     ],
     "language": "python",
     "metadata": {},
     "outputs": []
    },
    {
     "cell_type": "code",
     "collapsed": false,
     "input": [
      "print v_hist_chevrons#.std()\n",
      "print v_hist_chevrons[:, 6:11]\n",
      "print v_hist_chevrons[:, :6:-1]\n"
     ],
     "language": "python",
     "metadata": {},
     "outputs": []
    },
    {
     "cell_type": "code",
     "collapsed": false,
     "input": [],
     "language": "python",
     "metadata": {},
     "outputs": []
    },
    {
     "cell_type": "heading",
     "level": 2,
     "metadata": {},
     "source": [
      "Computing some image statistics"
     ]
    },
    {
     "cell_type": "heading",
     "level": 2,
     "metadata": {},
     "source": [
      "initialisation of the framework"
     ]
    },
    {
     "cell_type": "code",
     "collapsed": false,
     "input": [
      "pe = ParameterSet('default_param.py')"
     ],
     "language": "python",
     "metadata": {},
     "outputs": []
    },
    {
     "cell_type": "code",
     "collapsed": false,
     "input": [
      "debug = True\n",
      "debug = False\n",
      "if debug:\n",
      "    pe.N, pe.N_image = 100, 5\n",
      "else:\n",
      "    pe.N, pe.N_image = 1000, 600\n",
      "    \n",
      "\n",
      "#pe.figpath = '../AssoField/figures/'\n",
      "#pe.edgefigpath = '../AssoField/figures/edges/'\n",
      "#pe.matpath ='../AssoField/mat/'\n",
      "#pe.edgematpath = '../AssoField/mat/edges/'\n",
      "pe.datapath = '../AssoField/database/'"
     ],
     "language": "python",
     "metadata": {},
     "outputs": []
    },
    {
     "cell_type": "code",
     "collapsed": false,
     "input": [
      "pe.N_X, N_Y = image.shape\n",
      "pe.N_X = 256\n",
      "N_X, N_Y = pe.N_X, pe.N_X\n",
      "n_levels = np.log2(pe.N_X)\n",
      "#N_X, N_Y, N = pe.N_X, pe.N_X, pe.N\n",
      "im = Image(pe)\n",
      "image = im.normalize(image, center=True)\n",
      "im = Image(pe)\n",
      "lg = LogGabor(im)\n",
      "mp = SparseEdges(lg)\n"
     ],
     "language": "python",
     "metadata": {},
     "outputs": []
    },
    {
     "cell_type": "code",
     "collapsed": false,
     "input": [
      "edgeslist_targets = mp.full_run(exp='testing_targets', name_database='serre07_targets', imagelist=im.get_imagelist(exp='testing_targets', name_database='serre07_targets', N_image=pe.N_image), noise=0)\n",
      "edgeslist_distractors = mp.full_run(exp='testing_vanilla', name_database='serre07_distractors', imagelist=im.get_imagelist(exp='testing_vanilla', name_database='serre07_distractors'), noise=0)\n",
      "print edgeslist_targets.shape, edgeslist_distractors.shape"
     ],
     "language": "python",
     "metadata": {},
     "outputs": []
    },
    {
     "cell_type": "heading",
     "level": 3,
     "metadata": {},
     "source": [
      "Zero-order stats"
     ]
    },
    {
     "cell_type": "code",
     "collapsed": false,
     "input": [
      "for exp, name_database in zip(['testing_vanilla', 'testing_vanilla'], ['serre07_distractors', 'serre07_targets']):\n",
      "    print 'DATABASE ', database\n",
      "    imagelist, edgeslist = mp.process(exp, name_database=name_database)\n",
      "    N_image = edgeslist.shape[2]\n",
      "    for i_image in range(N_image):\n",
      "        filename, croparea = imagelist[i_image]\n",
      "        image, filename_, croparea_ = im.patch(name_database=name_database, filename=filename, croparea=croparea)\n",
      "        print 'Image ', filename, croparea, image.std(), image.mean()#, filename_, croparea_"
     ],
     "language": "python",
     "metadata": {},
     "outputs": []
    },
    {
     "cell_type": "code",
     "collapsed": false,
     "input": [
      "value_distractors = edgeslist_distractors[4, :, :]\n",
      "print np.arctan2(value_distractors.imag, value_distractors.real)[0, 0], np.angle(value_distractors)[0, 0]\n",
      "phase_distractors = np.angle(value_distractors)\n",
      "Value_distractors = np.absolute(value_distractors)\n",
      "print value_distractors[0, 0], Value_distractors[0, 0] * np.exp(1j*phase_distractors[0, 0])"
     ],
     "language": "python",
     "metadata": {},
     "outputs": []
    },
    {
     "cell_type": "code",
     "collapsed": false,
     "input": [
      "value_targets = edgeslist_targets[4, :, :]\n",
      "phase_targets = np.angle(value_targets)\n",
      "Value_targets = np.absolute(value_targets)"
     ],
     "language": "python",
     "metadata": {},
     "outputs": []
    },
    {
     "cell_type": "code",
     "collapsed": false,
     "input": [
      "indices = np.ones((value_targets.shape[0], 1)) * (np.arange(value_targets.shape[1])[np.newaxis, :])"
     ],
     "language": "python",
     "metadata": {},
     "outputs": []
    },
    {
     "cell_type": "heading",
     "level": 3,
     "metadata": {},
     "source": [
      "Sparseness:"
     ]
    },
    {
     "cell_type": "markdown",
     "metadata": {},
     "source": [
      "overall sparseness:"
     ]
    },
    {
     "cell_type": "code",
     "collapsed": false,
     "input": [
      "fig = plt.figure(figsize=(18, 6))\n",
      "ax1 = fig.add_subplot(121); ax2 = fig.add_subplot(122)\n",
      "ax1.set_xlabel('values'); ax2.set_xlabel('values'); ax1.set_ylabel('smarts')\n",
      "ax1.set_title('distractor'); ax2.set_title('targets')\n",
      "_ = ax1.hist(Value_distractors.ravel(), 100, log=True)\n",
      "_ = ax2.hist(Value_targets.ravel(), 100, log=True)"
     ],
     "language": "python",
     "metadata": {},
     "outputs": []
    },
    {
     "cell_type": "code",
     "collapsed": false,
     "input": [
      "fig = plt.figure(figsize=(18, 6))\n",
      "ax1 = fig.add_subplot(121); ax2 = fig.add_subplot(122)\n",
      "ax1.set_xlabel('values'); ax2.set_xlabel('values'); ax1.set_ylabel('# image')\n",
      "ax1.set_title('distractor'); ax2.set_title('targets')\n",
      "_ = ax1.hist2d(Value_distractors.ravel(), indices.ravel(), [30, value_distractors.shape[1]], norm=matplotlib.colors.LogNorm())\n",
      "_ = ax2.hist2d(Value_targets.ravel(), indices.ravel(), [30, value_targets.shape[1]], norm=matplotlib.colors.LogNorm())"
     ],
     "language": "python",
     "metadata": {},
     "outputs": []
    },
    {
     "cell_type": "code",
     "collapsed": false,
     "input": [
      "print 'energy ', [np.sqrt((Value**2).mean()) for Value in [Value_distractors, Value_targets]]\n",
      "print 'mean ', [Value.mean() for Value in [Value_distractors, Value_targets]]\n",
      "print 'median ', [np.median(Value) for Value in [Value_distractors, Value_targets]]\n",
      "print 'sparseness ', [Value.mean()/np.median(Value) for Value in [Value_distractors, Value_targets]]\n",
      "#plt.hist?"
     ],
     "language": "python",
     "metadata": {},
     "outputs": []
    },
    {
     "cell_type": "markdown",
     "metadata": {},
     "source": [
      "statistics of phase"
     ]
    },
    {
     "cell_type": "code",
     "collapsed": false,
     "input": [
      "fig = plt.figure(figsize=(18, 6))\n",
      "ax1 = fig.add_subplot(121); ax2 = fig.add_subplot(122)\n",
      "ax1.set_xlabel('phase'); ax2.set_xlabel('phase'); ax1.set_ylabel('smarts')\n",
      "ax1.set_title('distractor'); ax2.set_title('targets')\n",
      "_ = ax1.hist(phase_distractors.ravel(), 30)\n",
      "(n, bins, patches)= ax2.hist(phase_targets.ravel(), 30, log=False)\n",
      "print np.max(n)/np.min(n)"
     ],
     "language": "python",
     "metadata": {},
     "outputs": []
    },
    {
     "cell_type": "code",
     "collapsed": false,
     "input": [
      "fig = plt.figure(figsize=(18, 6))\n",
      "ax1 = fig.add_subplot(121); ax2 = fig.add_subplot(122)\n",
      "ax1.set_xlabel('phase'); ax2.set_xlabel('phase'); ax1.set_ylabel('# image')\n",
      "ax1.set_title('distractor'); ax2.set_title('targets')\n",
      "_ = ax1.hist2d(phase_distractors.ravel(), indices.ravel(), [30, value_distractors.shape[1]])\n",
      "_ = ax2.hist2d(phase_targets.ravel(), indices.ravel(), [30, value_targets.shape[1]])"
     ],
     "language": "python",
     "metadata": {},
     "outputs": []
    },
    {
     "cell_type": "markdown",
     "metadata": {},
     "source": [
      "Image by image"
     ]
    },
    {
     "cell_type": "code",
     "collapsed": false,
     "input": [
      "fig = plt.figure(figsize=(18, 6))\n",
      "ax1 = fig.add_subplot(121); ax2 = fig.add_subplot(122)\n",
      "ax1.set_xlabel('sparseness score'); ax2.set_xlabel('sparseness score'); ax1.set_ylabel('smarts')\n",
      "ax1.set_title('distractor'); ax2.set_title('targets')\n",
      "_ = ax1.hist(Value_distractors.mean(axis=0)/np.median(Value_distractors, axis=0))\n",
      "_ = ax2.hist(Value_targets.mean(axis=0)/np.median(Value_targets, axis=0))"
     ],
     "language": "python",
     "metadata": {},
     "outputs": []
    },
    {
     "cell_type": "markdown",
     "metadata": {},
     "source": [
      "dependency between value and phase"
     ]
    },
    {
     "cell_type": "code",
     "collapsed": false,
     "input": [
      "import matplotlib\n",
      "fig = plt.figure(figsize=(18, 6))\n",
      "ax1 = fig.add_subplot(121); ax2 = fig.add_subplot(122)\n",
      "ax1.set_xlabel('value'); ax2.set_xlabel('value'); ax1.set_ylabel('phase')\n",
      "ax1.set_title('distractor'); ax2.set_title('targets')\n",
      "_ = ax1.hist2d(Value_distractors.ravel(), phase_distractors.ravel(), 100, norm=matplotlib.colors.LogNorm())\n",
      "_ = ax2.hist2d(Value_targets.ravel(), phase_targets.ravel(), 100, norm=matplotlib.colors.LogNorm())"
     ],
     "language": "python",
     "metadata": {},
     "outputs": []
    },
    {
     "cell_type": "markdown",
     "metadata": {},
     "source": [
      "but not specific to a class:"
     ]
    },
    {
     "cell_type": "code",
     "collapsed": false,
     "input": [
      "#plt.hist2d?\n",
      "import matplotlib\n",
      "fig = plt.figure(figsize=(18, 6))\n",
      "ax1 = fig.add_subplot(121); ax2 = fig.add_subplot(122)\n",
      "ax1.set_xlabel('value'); ax2.set_xlabel('value'); ax1.set_ylabel('phase')\n",
      "ax1.set_title('distractor'); ax2.set_title('targets')\n",
      "_ = ax1.hist2d(Value_distractors.ravel(), phase_targets.ravel(), 100, norm=matplotlib.colors.LogNorm())\n",
      "_ = ax2.hist2d(Value_targets.ravel(), phase_distractors.ravel(), 100, norm=matplotlib.colors.LogNorm())"
     ],
     "language": "python",
     "metadata": {},
     "outputs": []
    },
    {
     "cell_type": "markdown",
     "metadata": {},
     "source": [
      "relation between sparseness and phase"
     ]
    },
    {
     "cell_type": "code",
     "collapsed": false,
     "input": [
      "#fig = plt.figure(figsize=(18, 6))\n",
      "#ax1 = fig.add_subplot(121); ax2 = fig.add_subplot(122)\n",
      "#ax1.set_xlabel('sparseness score'); ax2.set_xlabel('sparseness score'); ax1.set_ylabel('smarts')\n",
      "#ax1.set_title('distractor'); ax2.set_title('targets')\n",
      "#_ = ax1.hist2d(Value_distractors.mean(axis=0)/np.median(Value_distractors, axis=0), 100)\n",
      "#_ = ax2.hist2d(Value_targets.mean(axis=0)/np.median(Value_targets, axis=0), 100)"
     ],
     "language": "python",
     "metadata": {},
     "outputs": []
    },
    {
     "cell_type": "markdown",
     "metadata": {},
     "source": [
      "relation between sparseness and scale"
     ]
    },
    {
     "cell_type": "code",
     "collapsed": false,
     "input": [
      "sf_targets = edgeslist_targets[3, :, :].real\n",
      "print np.unique(np.log2(sf_targets).ravel())\n",
      "_ = plt.hist(np.log2(sf_targets).ravel(), 7)"
     ],
     "language": "python",
     "metadata": {},
     "outputs": []
    },
    {
     "cell_type": "heading",
     "level": 4,
     "metadata": {},
     "source": [
      "relation between activity and scale"
     ]
    },
    {
     "cell_type": "code",
     "collapsed": false,
     "input": [
      "sf_targets = np.log2(edgeslist_targets[3, :, :].real)\n",
      "sf_distractors = np.log2(edgeslist_distractors[3, :, :].real)\n",
      "#_ = plt.scatter(np.log2(sf_targets).ravel(), (np.absolute(Value_targets)).ravel())\n",
      "fig = plt.figure(figsize=(18, 6))\n",
      "ax1 = fig.add_subplot(121); ax2 = fig.add_subplot(122)\n",
      "ax1.set_ylabel('value'); ax2.set_xlabel('log scale'); ax1.set_xlabel('log scale')\n",
      "ax1.set_title('distractor'); ax2.set_title('targets')\n",
      "_ = ax1.hist2d(sf_targets.ravel(), Value_distractors.ravel(), 30, norm=matplotlib.colors.LogNorm())\n",
      "_ = ax2.hist2d(sf_distractors.ravel(), Value_targets.ravel(), 30, norm=matplotlib.colors.LogNorm())"
     ],
     "language": "python",
     "metadata": {},
     "outputs": []
    },
    {
     "cell_type": "markdown",
     "metadata": {},
     "source": [
      "Angles"
     ]
    },
    {
     "cell_type": "code",
     "collapsed": false,
     "input": [
      "theta_targets = edgeslist_targets[2, :, 0].ravel().real\n",
      "theta_distractors = edgeslist_distractors[2,  :, 0].ravel().real\n",
      "mp.init_edges()\n",
      "print mp.edges_theta * 180 / np.pi\n",
      "print theta_targets * 180 / np.pi"
     ],
     "language": "python",
     "metadata": {},
     "outputs": []
    },
    {
     "cell_type": "code",
     "collapsed": false,
     "input": [
      "_ = plt.hist(theta_targets, bins=mp.edges_theta)\n",
      "_ = plt.hist(theta_targets, bins=120)"
     ],
     "language": "python",
     "metadata": {},
     "outputs": []
    },
    {
     "cell_type": "heading",
     "level": 3,
     "metadata": {},
     "source": [
      "Second statistics"
     ]
    },
    {
     "cell_type": "code",
     "collapsed": false,
     "input": [
      "theta = theta_targets[:, np.newaxis] - theta_targets[np.newaxis, :]\n",
      "plt.matshow(theta)\n",
      "plt.colorbar()\n",
      "plt.matshow(np.sin(theta + theta.T)); plt.colorbar()"
     ],
     "language": "python",
     "metadata": {},
     "outputs": []
    },
    {
     "cell_type": "code",
     "collapsed": false,
     "input": [
      "theta = ((theta + np.pi/2 - np.pi/mp.pe.N_Dtheta/4)  % (np.pi) ) - np.pi/2  + np.pi/mp.pe.N_Dtheta/4\n",
      "plt.matshow(theta)\n",
      "plt.colorbar()\n",
      "plt.matshow(np.sin(theta + theta.T)); plt.colorbar()"
     ],
     "language": "python",
     "metadata": {},
     "outputs": []
    },
    {
     "cell_type": "code",
     "collapsed": false,
     "input": [
      "_ = plt.hist(theta.ravel(), bins=np.linspace(-np.pi/2, np.pi/2, 2*mp.pe.N_Dtheta+1) + np.pi/mp.pe.N_Dtheta/4, alpha=.5)\n",
      "_ = plt.hist(theta.ravel(), bins=mp.edges_theta, alpha=.5)\n",
      "_ = plt.hist(theta.ravel(), bins=120, alpha=.5)"
     ],
     "language": "python",
     "metadata": {},
     "outputs": []
    },
    {
     "cell_type": "heading",
     "level": 2,
     "metadata": {},
     "source": [
      "more book keeping"
     ]
    },
    {
     "cell_type": "code",
     "collapsed": false,
     "input": [
      "%install_ext https://raw.githubusercontent.com/rasbt/python_reference/master/ipython_magic/watermark.py\n",
      "%load_ext watermark\n",
      "%watermark"
     ],
     "language": "python",
     "metadata": {},
     "outputs": []
    },
    {
     "cell_type": "code",
     "collapsed": false,
     "input": [
      "# CSS styling within IPython notebook\n",
      "from IPython.core.display import HTML\n",
      "def css_styling():\n",
      "    styles = open(\"custom.css\", \"r\").read()\n",
      "    return HTML(styles)\n",
      "css_styling()"
     ],
     "language": "python",
     "metadata": {},
     "outputs": []
    }
   ],
   "metadata": {}
  }
 ]
}