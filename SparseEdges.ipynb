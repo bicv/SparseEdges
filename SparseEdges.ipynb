{
 "cells": [
  {
   "cell_type": "markdown",
   "metadata": {},
   "source": [
    "# SparseEdges"
   ]
  },
  {
   "cell_type": "markdown",
   "metadata": {},
   "source": [
    "\n",
    "## A bio-inspired sparse representation of edges in natural images"
   ]
  },
  {
   "cell_type": "markdown",
   "metadata": {},
   "source": [
    "\n",
    "Table of content\n",
    "\n",
    "* [What is the SparseEdges package?](#What-is-the-SparseEdges-package?) \n",
    "* [Installing](#Installing) \n",
    "* [testing one step](#testing-one-step)\n"
   ]
  },
  {
   "cell_type": "markdown",
   "metadata": {},
   "source": [
    "What is the SparseEdges package?\n",
    "================================\n",
    "\n",
    "Our goal here is to build practical algorithms of sparse coding for computer vision.\n",
    "\n",
    "The code is available @ https://github.com/bicv/SparseEdges\n",
    "\n",
    "This class exploits the LogGabor package to provide with a sparse representation of edges in images.\n",
    "\n",
    "This algorithm was presented in the following paper:\n",
    "\n",
    "```bibtex\n",
    "@inbook{Perrinet15bicv,\n",
    "    title = {Sparse models},\n",
    "    author = {Perrinet, Laurent U.},\n",
    "    booktitle = {Biologically-inspired Computer Vision},\n",
    "    chapter = {13},\n",
    "    editor = {Keil, Matthias and Crist\\'{o}bal, Gabriel and Perrinet, Laurent U.},\n",
    "    publisher = {Wiley, New-York},\n",
    "    year = {2015}\n",
    "}\n",
    "```\n",
    "\n",
    "\n",
    "\n",
    "This package gives a python implementation.\n",
    "\n",
    "Moreover, it gives additional tools to compute useful stistics in images; first- and second order statistics of co-occurences in images.\n",
    "More information is available @ http://nbviewer.ipython.org/github/bicv/SparseEdges/blob/master/SparseEdges.ipynb\n",
    "Tests for the packages are available @ http://nbviewer.ipython.org/github/bicv/SparseEdges/blob/master/test-SparseEdges.ipynb."
   ]
  },
  {
   "cell_type": "markdown",
   "metadata": {},
   "source": [
    "## Installing\n",
    "\n",
    "To install the ``SparseEdges`` class, you would need the ``LogGabor`` class (multiscale filters) which itself depends on the ``SLIP`` class (the image processing tools).\n",
    "\n",
    "    pip install git+https://github.com/bicv/SLIP.git\n",
    "    pip install git+https://github.com/bicv/LogGabor.git \n",
    "    pip install git+https://github.com/bicv/SparseEdges.git\n",
    "    \n",
    "\n",
    "But before, you need th usual depndencies, such as numpy, matplotlib, pyprind and imageio:\n",
    "\n",
    "    pip install -U numpy matplotlib pyprind imageio\n"
   ]
  },
  {
   "cell_type": "markdown",
   "metadata": {},
   "source": [
    "[Back to top](#SparseEdges)"
   ]
  },
  {
   "cell_type": "code",
   "execution_count": 1,
   "metadata": {
    "ExecuteTime": {
     "end_time": "2018-06-14T14:07:54.848304Z",
     "start_time": "2018-06-14T14:07:53.581678Z"
    }
   },
   "outputs": [
    {
     "name": "stdout",
     "output_type": "stream",
     "text": [
      "[Errno 2] No such file or directory: 'test'\n"
     ]
    }
   ],
   "source": [
    "%cd -q test\n",
    "from __future__ import division, print_function\n",
    "%matplotlib inline\n",
    "import os\n",
    "import matplotlib.pyplot as plt\n",
    "import numpy as np\n",
    "np.set_printoptions(precision=4)#, suppress=True)"
   ]
  },
  {
   "cell_type": "markdown",
   "metadata": {},
   "source": [
    "### Extracting edges on a sample image\n",
    "\n",
    "We will show here how we can simply reconstruct an example image with the list of extracted edges overlaid.\n",
    "\n",
    "First we define our object by loading default parameters from internet:"
   ]
  },
  {
   "cell_type": "code",
   "execution_count": 2,
   "metadata": {
    "ExecuteTime": {
     "end_time": "2018-06-14T14:07:57.118512Z",
     "start_time": "2018-06-14T14:07:54.867733Z"
    }
   },
   "outputs": [
    {
     "name": "stdout",
     "output_type": "stream",
     "text": [
      "{'verbose': 0, 'N_image': None, 'seed': 42, 'N_X': 256, 'N_Y': 256, 'noise': 0.33, 'do_mask': True, 'mask_exponent': 3.0, 'do_whitening': True, 'white_name_database': 'kodakdb', 'white_n_learning': 0, 'white_N': 0.07, 'white_N_0': 0.0, 'white_f_0': 0.4, 'white_alpha': 1.4, 'white_steepness': 4.0, 'white_recompute': False, 'base_levels': 1.618, 'n_theta': 24, 'B_sf': 0.4, 'B_theta': 0.17453277777777776, 'N': 2048, 'MP_alpha': 0.7, 'd_width': 45.0, 'd_min': 0.5, 'd_max': 2.0, 'N_r': 6, 'N_Dtheta': 24, 'N_phi': 12, 'N_scale': 5, 'loglevel_max': 7, 'edge_mask': True, 'do_rank': False, 'scale_invariant': True, 'multiscale': True, 'kappa_phase': 0.0, 'weight_by_distance': True, 'svm_n_jobs': 1, 'svm_test_size': 0.2, 'N_svm_grid': 32, 'N_svm_cv': 50, 'C_range_begin': -5, 'C_range_end': 10.0, 'gamma_range_begin': -14, 'gamma_range_end': 3, 'svm_KL_m': 0.34, 'svm_tol': 0.001, 'svm_max_iter': -1, 'svm_log': False, 'svm_norm': False, 'figpath': 'results', 'do_edgedir': False, 'edgefigpath': 'results/edges', 'matpath': 'data_cache', 'edgematpath': 'data_cache/edges', 'datapath': 'database', 'figsize': 14.0, 'figsize_hist': 8, 'figsize_cohist': 8, 'formats': ['png', 'pdf', 'svg', 'jpg'], 'dpi': 450, 'use_cache': True, 'scale': 0.8, 'scale_circle': 0.08, 'scale_chevrons': 2.5, 'line_width': 1.0, 'line_width_chevrons': 0.75, 'edge_scale_chevrons': 180.0}\n"
     ]
    }
   ],
   "source": [
    "from SparseEdges import SparseEdges\n",
    "mp = SparseEdges('https://raw.githubusercontent.com/bicv/SparseEdges/master/default_param.py')\n",
    "print(mp.pe)"
   ]
  },
  {
   "cell_type": "markdown",
   "metadata": {},
   "source": [
    "At this point, we can change these parameters, by instance by using ``2048`` edges and a different value for the $\\alpha$ value in matching pursuit:"
   ]
  },
  {
   "cell_type": "code",
   "execution_count": 3,
   "metadata": {
    "ExecuteTime": {
     "end_time": "2018-06-14T14:07:57.129112Z",
     "start_time": "2018-06-14T14:07:57.124268Z"
    }
   },
   "outputs": [],
   "source": [
    "mp.pe.N = 2048\n",
    "mp.pe.MP_alpha = .9"
   ]
  },
  {
   "cell_type": "markdown",
   "metadata": {},
   "source": [
    "We can now load an image and make sure to set the framework to the appropriate size:"
   ]
  },
  {
   "cell_type": "code",
   "execution_count": 4,
   "metadata": {
    "ExecuteTime": {
     "end_time": "2018-06-14T14:07:57.707386Z",
     "start_time": "2018-06-14T14:07:57.133016Z"
    }
   },
   "outputs": [],
   "source": [
    "# defining input image\n",
    "name = 'example'\n",
    "image = mp.imread('https://raw.githubusercontent.com/bicv/SparseEdges/master/database/lena256.png')\n",
    "mp.set_size(image)"
   ]
  },
  {
   "cell_type": "markdown",
   "metadata": {},
   "source": [
    "... then, we can initialize the algorithm and normalize the image:"
   ]
  },
  {
   "cell_type": "code",
   "execution_count": 5,
   "metadata": {
    "ExecuteTime": {
     "end_time": "2018-06-14T14:07:57.747799Z",
     "start_time": "2018-06-14T14:07:57.710179Z"
    }
   },
   "outputs": [
    {
     "name": "stdout",
     "output_type": "stream",
     "text": [
      "-6.185782242332238e-09 0.42537239307034436\n"
     ]
    }
   ],
   "source": [
    "mp.init()\n",
    "image = mp.normalize(image, center=True)\n",
    "print(image.mean(), image.std())"
   ]
  },
  {
   "cell_type": "markdown",
   "metadata": {},
   "source": [
    "Then, it is easy to run matching pursuit on that image (or load a cached file with the results):"
   ]
  },
  {
   "cell_type": "code",
   "execution_count": 6,
   "metadata": {
    "ExecuteTime": {
     "end_time": "2018-06-14T14:07:57.762640Z",
     "start_time": "2018-06-14T14:07:57.751739Z"
    }
   },
   "outputs": [
    {
     "name": "stdout",
     "output_type": "stream",
     "text": [
      "data_cache/example.npy\n"
     ]
    }
   ],
   "source": [
    "print(os.path.join(mp.pe.matpath, name + '.npy'))"
   ]
  },
  {
   "cell_type": "code",
   "execution_count": null,
   "metadata": {
    "ExecuteTime": {
     "start_time": "2018-06-14T14:07:53.601Z"
    },
    "scrolled": false
   },
   "outputs": [
    {
     "name": "stdout",
     "output_type": "stream",
     "text": [
      "Edge  0 / 2048  - Max activity  :  3.872  phase=  -179.287  deg,  @  (83, 212, 20, 8)\n",
      "Edge  1 / 2048  - Max activity  :  3.553  phase=  100.073  deg,  @  (150, 109, 0, 10)\n",
      "Edge  2 / 2048  - Max activity  :  2.899  phase=  -50.619  deg,  @  (204, 175, 16, 10)\n",
      "Edge  3 / 2048  - Max activity  :  2.650  phase=  -26.616  deg,  @  (180, 21, 23, 7)\n",
      "Edge  4 / 2048  - Max activity  :  2.112  phase=  -34.618  deg,  @  (224, 172, 3, 8)\n",
      "Edge  5 / 2048  - Max activity  :  1.983  phase=  -16.257  deg,  @  (54, 126, 9, 10)\n",
      "Edge  6 / 2048  - Max activity  :  1.887  phase=  -118.263  deg,  @  (116, 115, 17, 7)\n",
      "Edge  7 / 2048  - Max activity  :  1.781  phase=  11.489  deg,  @  (191, 236, 20, 7)\n",
      "Edge  8 / 2048  - Max activity  :  1.681  phase=  101.132  deg,  @  (120, 168, 23, 8)\n",
      "Edge  9 / 2048  - Max activity  :  1.628  phase=  116.866  deg,  @  (49, 33, 23, 7)\n",
      "Edge  10 / 2048  - Max activity  :  1.379  phase=  0.554  deg,  @  (52, 207, 19, 7)\n",
      "Edge  11 / 2048  - Max activity  :  1.324  phase=  -51.436  deg,  @  (59, 156, 5, 9)\n",
      "Edge  12 / 2048  - Max activity  :  1.314  phase=  -44.248  deg,  @  (172, 1, 1, 8)\n",
      "Edge  13 / 2048  - Max activity  :  1.202  phase=  -107.816  deg,  @  (118, 14, 23, 6)\n",
      "Edge  14 / 2048  - Max activity  :  1.195  phase=  -104.807  deg,  @  (59, 205, 10, 8)\n",
      "Edge  15 / 2048  - Max activity  :  1.185  phase=  31.173  deg,  @  (153, 101, 18, 5)\n",
      "Edge  16 / 2048  - Max activity  :  1.120  phase=  30.804  deg,  @  (35, 3, 20, 6)\n",
      "Edge  17 / 2048  - Max activity  :  1.080  phase=  -82.769  deg,  @  (224, 11, 0, 4)\n",
      "Edge  18 / 2048  - Max activity  :  1.022  phase=  -137.889  deg,  @  (225, 184, 1, 6)\n",
      "Edge  19 / 2048  - Max activity  :  1.009  phase=  141.523  deg,  @  (186, 183, 9, 8)\n",
      "Edge  20 / 2048  - Max activity  :  0.997  phase=  -54.758  deg,  @  (133, 182, 23, 5)\n",
      "Edge  21 / 2048  - Max activity  :  0.974  phase=  -60.258  deg,  @  (22, 184, 14, 8)\n",
      "Edge  22 / 2048  - Max activity  :  0.962  phase=  106.784  deg,  @  (207, 90, 23, 7)\n",
      "Edge  23 / 2048  - Max activity  :  0.938  phase=  -1.149  deg,  @  (227, 220, 20, 6)\n",
      "Edge  24 / 2048  - Max activity  :  0.892  phase=  87.494  deg,  @  (53, 181, 22, 6)\n",
      "Edge  25 / 2048  - Max activity  :  0.891  phase=  -33.468  deg,  @  (15, 215, 4, 6)\n",
      "Edge  26 / 2048  - Max activity  :  0.850  phase=  -74.524  deg,  @  (34, 134, 7, 7)\n",
      "Edge  27 / 2048  - Max activity  :  0.795  phase=  -112.207  deg,  @  (199, 166, 6, 5)\n",
      "Edge  28 / 2048  - Max activity  :  0.789  phase=  79.473  deg,  @  (87, 60, 0, 5)\n",
      "Edge  29 / 2048  - Max activity  :  0.779  phase=  49.766  deg,  @  (173, 254, 23, 5)\n",
      "Edge  30 / 2048  - Max activity  :  0.765  phase=  30.962  deg,  @  (137, 57, 20, 8)\n",
      "Edge  31 / 2048  - Max activity  :  0.760  phase=  -122.274  deg,  @  (51, 159, 4, 5)\n",
      "Edge  32 / 2048  - Max activity  :  0.759  phase=  86.248  deg,  @  (173, 145, 14, 8)\n",
      "Edge  33 / 2048  - Max activity  :  0.758  phase=  33.522  deg,  @  (174, 157, 19, 6)\n",
      "Edge  34 / 2048  - Max activity  :  0.741  phase=  23.787  deg,  @  (95, 193, 17, 4)\n",
      "Edge  35 / 2048  - Max activity  :  0.729  phase=  -79.409  deg,  @  (255, 242, 11, 7)\n",
      "Edge  36 / 2048  - Max activity  :  0.725  phase=  74.923  deg,  @  (70, 207, 22, 4)\n",
      "Edge  37 / 2048  - Max activity  :  0.724  phase=  89.681  deg,  @  (246, 31, 22, 5)\n",
      "Edge  38 / 2048  - Max activity  :  0.697  phase=  109.326  deg,  @  (126, 147, 11, 6)\n",
      "Edge  39 / 2048  - Max activity  :  0.667  phase=  170.891  deg,  @  (58, 188, 15, 6)\n",
      "Edge  40 / 2048  - Max activity  :  0.658  phase=  95.595  deg,  @  (35, 223, 18, 4)\n",
      "Edge  41 / 2048  - Max activity  :  0.651  phase=  100.158  deg,  @  (197, 244, 17, 5)\n",
      "Edge  42 / 2048  - Max activity  :  0.650  phase=  -29.130  deg,  @  (144, 155, 23, 5)\n",
      "Edge  43 / 2048  - Max activity  :  0.628  phase=  -7.740  deg,  @  (102, 219, 20, 6)\n",
      "Edge  44 / 2048  - Max activity  :  0.605  phase=  -171.097  deg,  @  (116, 89, 17, 6)\n",
      "Edge  45 / 2048  - Max activity  :  0.599  phase=  41.132  deg,  @  (160, 186, 0, 3)\n",
      "Edge  46 / 2048  - Max activity  :  0.582  phase=  -100.907  deg,  @  (251, 85, 13, 7)\n",
      "Edge  47 / 2048  - Max activity  :  0.567  phase=  -145.654  deg,  @  (219, 182, 2, 4)\n",
      "Edge  48 / 2048  - Max activity  :  0.552  phase=  159.727  deg,  @  (134, 122, 16, 5)\n",
      "Edge  49 / 2048  - Max activity  :  0.542  phase=  -75.120  deg,  @  (160, 38, 22, 5)\n",
      "Edge  50 / 2048  - Max activity  :  0.541  phase=  -103.094  deg,  @  (55, 206, 1, 6)\n",
      "Edge  51 / 2048  - Max activity  :  0.540  phase=  136.261  deg,  @  (153, 151, 2, 7)\n",
      "Edge  52 / 2048  - Max activity  :  0.512  phase=  76.389  deg,  @  (200, 63, 4, 8)\n",
      "Edge  53 / 2048  - Max activity  :  0.512  phase=  160.777  deg,  @  (89, 141, 14, 5)\n",
      "Edge  54 / 2048  - Max activity  :  0.511  phase=  -74.314  deg,  @  (112, 170, 2, 5)\n",
      "Edge  55 / 2048  - Max activity  :  3.245  phase=  -72.228  deg,  @  (22, 0, 23, 4)\n",
      "Edge  56 / 2048  - Max activity  :  0.503  phase=  0.676  deg,  @  (231, 186, 21, 7)\n",
      "Edge  57 / 2048  - Max activity  :  0.500  phase=  -96.072  deg,  @  (15, 218, 3, 4)\n",
      "Edge  58 / 2048  - Max activity  :  0.483  phase=  -138.029  deg,  @  (148, 196, 21, 5)\n",
      "Edge  59 / 2048  - Max activity  :  0.476  phase=  78.420  deg,  @  (115, 184, 23, 4)\n",
      "Edge  60 / 2048  - Max activity  :  0.470  phase=  -95.143  deg,  @  (192, 187, 23, 4)\n",
      "Edge  61 / 2048  - Max activity  :  0.465  phase=  167.729  deg,  @  (144, 72, 0, 5)\n",
      "Edge  62 / 2048  - Max activity  :  0.465  phase=  -11.047  deg,  @  (147, 253, 17, 9)\n",
      "Edge  63 / 2048  - Max activity  :  0.464  phase=  20.471  deg,  @  (243, 8, 0, 4)\n",
      "Edge  64 / 2048  - Max activity  :  0.463  phase=  166.792  deg,  @  (197, 248, 12, 6)\n",
      "Edge  65 / 2048  - Max activity  :  0.461  phase=  -166.257  deg,  @  (234, 95, 19, 6)\n",
      "Edge  66 / 2048  - Max activity  :  0.456  phase=  -148.607  deg,  @  (55, 34, 23, 5)\n",
      "Edge  67 / 2048  - Max activity  :  0.454  phase=  -159.266  deg,  @  (163, 85, 16, 4)\n",
      "Edge  68 / 2048  - Max activity  :  0.453  phase=  95.193  deg,  @  (138, 58, 17, 4)\n",
      "Edge  69 / 2048  - Max activity  :  0.452  phase=  -43.553  deg,  @  (89, 66, 2, 7)\n"
     ]
    }
   ],
   "source": [
    "try:\n",
    "    edges = np.load(os.path.join(mp.pe.matpath, name + '.npy'))\n",
    "except Exception:\n",
    "    edges, C_res = mp.run_mp(image, verbose=True)\n",
    "    np.save(matname, edges)    "
   ]
  },
  {
   "cell_type": "markdown",
   "metadata": {},
   "source": [
    "Let's summarize that in one script:"
   ]
  },
  {
   "cell_type": "code",
   "execution_count": null,
   "metadata": {
    "ExecuteTime": {
     "start_time": "2018-06-14T14:07:53.607Z"
    }
   },
   "outputs": [],
   "source": [
    "%%writefile experiment_example.py\n",
    "#! /usr/bin/env python\n",
    "# -*- coding: utf8 -*-\n",
    "from __future__ import division, print_function\n",
    "\"\"\"\n",
    "\n",
    "An example MP run.\n",
    "\n",
    "To run:\n",
    "$ python experiment_example.py \n",
    "\n",
    "To remove cache:\n",
    "$ rm -fr **/example*\n",
    "\n",
    "\"\"\"\n",
    "__author__ = \"(c) Laurent Perrinet INT - CNRS\"\n",
    "\n",
    "\n",
    "import numpy as np\n",
    "from SparseEdges import SparseEdges\n",
    "mp = SparseEdges('https://raw.githubusercontent.com/bicv/SparseEdges/master/default_param.py')\n",
    "mp.N = 128\n",
    "\n",
    "image = mp.imread('https://raw.githubusercontent.com/bicv/SparseEdges/master/database/lena256.png')\n",
    "\n",
    "name = 'example'\n",
    "image = mp.normalize(image, center=True)\n",
    "#print image.mean(), image.std()\n",
    "white = mp.whitening(image)\n",
    "white *= mp.mask\n",
    "\n",
    "\n",
    "import os\n",
    "matname = os.path.join(mp.pe.matpath, name + '.npy')\n",
    "try:\n",
    "    edges = np.load(matname)\n",
    "except Exception:\n",
    "    edges, C_res = mp.run_mp(white, verbose=True)\n",
    "    np.save(matname, edges)    \n"
   ]
  },
  {
   "cell_type": "code",
   "execution_count": null,
   "metadata": {
    "ExecuteTime": {
     "start_time": "2018-06-14T14:07:53.612Z"
    },
    "scrolled": false
   },
   "outputs": [],
   "source": [
    "%run experiment_example.py"
   ]
  },
  {
   "cell_type": "markdown",
   "metadata": {},
   "source": [
    "Let's show the results of the sparse edge extraction with the edges overlaid on the original image:"
   ]
  },
  {
   "cell_type": "code",
   "execution_count": null,
   "metadata": {
    "ExecuteTime": {
     "start_time": "2018-06-14T14:07:53.617Z"
    }
   },
   "outputs": [],
   "source": [
    "mp.pe.figsize_edges = 12\n",
    "mp.pe.line_width = 3.\n",
    "mp.pe.scale = .5\n",
    "\n",
    "fig, a = mp.show_edges(edges, image=mp.dewhitening(mp.whitening(image)), show_phase=False, mask=True)"
   ]
  },
  {
   "cell_type": "markdown",
   "metadata": {},
   "source": [
    "Note the dashed circle which (as in Geisler, 2001) shows the limit after which we discard edges. Indeed, when computing statistics (our main goal) we wish to be not perturbed by the fact that images are rectangular.\n",
    "\n",
    "Let's show the results of the sparse edge extraction with the edges overlaid on the image reconstructed from the edges:"
   ]
  },
  {
   "cell_type": "code",
   "execution_count": null,
   "metadata": {
    "ExecuteTime": {
     "start_time": "2018-06-14T14:07:53.622Z"
    }
   },
   "outputs": [],
   "source": [
    "image_rec = mp.reconstruct(edges, mask=True)        \n",
    "fig, a = mp.show_edges(edges, image=mp.dewhitening(image_rec), show_phase=False, mask=True)"
   ]
  },
  {
   "cell_type": "markdown",
   "metadata": {},
   "source": [
    "\n",
    "Check out [this blog post](http://blog.invibe.net/posts/2015-05-22-a-hitchhiker-guide-to-matching-pursuit.html) to learn more about Matching Pursuit.\n",
    "\n",
    "## more examples\n",
    "First, some tests are available as separate notebooks:"
   ]
  },
  {
   "cell_type": "code",
   "execution_count": null,
   "metadata": {
    "ExecuteTime": {
     "start_time": "2018-06-14T14:07:53.626Z"
    }
   },
   "outputs": [],
   "source": [
    "from IPython.display import FileLink, FileLinks, Image\n",
    "FileLinks('../notebooks', recursive=False)"
   ]
  },
  {
   "cell_type": "markdown",
   "metadata": {},
   "source": [
    "[Back to top](#SparseEdges)"
   ]
  },
  {
   "cell_type": "markdown",
   "metadata": {},
   "source": [
    "### Effect of parameters on edge extraction: image size\n"
   ]
  },
  {
   "cell_type": "code",
   "execution_count": null,
   "metadata": {
    "ExecuteTime": {
     "start_time": "2018-06-14T14:07:53.631Z"
    },
    "scrolled": true
   },
   "outputs": [],
   "source": [
    "# TODO include figure"
   ]
  },
  {
   "cell_type": "markdown",
   "metadata": {},
   "source": [
    "### Effect of parameters on edge extraction: filter parameters\n",
    "\n"
   ]
  },
  {
   "cell_type": "code",
   "execution_count": null,
   "metadata": {
    "ExecuteTime": {
     "start_time": "2018-06-14T14:07:53.637Z"
    }
   },
   "outputs": [],
   "source": [
    "# TODO include figure"
   ]
  },
  {
   "cell_type": "markdown",
   "metadata": {},
   "source": [
    "As we test different parameters for the filters, we measured the gain in efficiency for the algorithm as the ratio of the code length to achieve $85\\%$ of energy extraction relative to that for the default parameters (white bar). The average is computed on the same database of natural images and error bars denote the standard deviation of gain over the database. First, we studied the effect of the bandwidth of filters respectively in the $\\textsf{(A)}$ spatial frequency and $\\textsf{(B)}$ orientation spaces. The minimum is reached for the default parameters: this shows that default parameters provide an optimal compromise between the precision of filters in the frequency and position domains for this database. We may also compare pyramids with different number of filters.  Indeed, efficiency (in bits) is equal to the number of selected filters times the coding cost for the address of each edge in the pyramid.\n",
    "We plot here the average gain in efficiency which shows an optimal compromise respectively for respectively $\\textsf{(C)}$ the number of orientations and $\\textsf{(D)}$ the number of spatial frequencies (scales). Note first that with more than 12 directions, the gain remains stable. Note also that a dyadic scale ratio (that is of 2) is efficient but that other solutions ---such as using the golden section $\\phi$--- prove to be significantly more efficient, though the average gain is relatively small (inferior to $5\\%$)."
   ]
  },
  {
   "cell_type": "markdown",
   "metadata": {},
   "source": [
    "## some book keeping for the notebook"
   ]
  },
  {
   "cell_type": "code",
   "execution_count": null,
   "metadata": {
    "ExecuteTime": {
     "start_time": "2018-06-14T14:07:53.642Z"
    }
   },
   "outputs": [],
   "source": [
    "%load_ext watermark\n",
    "%watermark"
   ]
  },
  {
   "cell_type": "code",
   "execution_count": null,
   "metadata": {
    "ExecuteTime": {
     "start_time": "2018-06-14T14:07:53.646Z"
    }
   },
   "outputs": [],
   "source": [
    "%load_ext version_information\n",
    "%version_information numpy, scipy, matplotlib, sympy"
   ]
  },
  {
   "cell_type": "code",
   "execution_count": null,
   "metadata": {
    "ExecuteTime": {
     "start_time": "2018-06-14T14:07:53.650Z"
    }
   },
   "outputs": [],
   "source": [
    "%cd -q .."
   ]
  }
 ],
 "metadata": {
  "kernelspec": {
   "display_name": "Python 3",
   "language": "python",
   "name": "python3"
  },
  "language_info": {
   "codemirror_mode": {
    "name": "ipython",
    "version": 3
   },
   "file_extension": ".py",
   "mimetype": "text/x-python",
   "name": "python",
   "nbconvert_exporter": "python",
   "pygments_lexer": "ipython3",
   "version": "3.6.5"
  },
  "toc": {
   "base_numbering": 1,
   "nav_menu": {},
   "number_sections": true,
   "sideBar": true,
   "skip_h1_title": false,
   "title_cell": "Table of Contents",
   "title_sidebar": "Contents",
   "toc_cell": false,
   "toc_position": {},
   "toc_section_display": true,
   "toc_window_display": false
  }
 },
 "nbformat": 4,
 "nbformat_minor": 1
}
