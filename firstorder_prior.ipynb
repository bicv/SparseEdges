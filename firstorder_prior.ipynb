{
 "metadata": {
  "name": "",
  "signature": "sha256:aa185f24bfde26daade1d2fca91a70334b0980fd5d9abdad47204091402f6af9"
 },
 "nbformat": 3,
 "nbformat_minor": 0,
 "worksheets": [
  {
   "cells": [
    {
     "cell_type": "heading",
     "level": 1,
     "metadata": {},
     "source": [
      "SparseEdges : including prior information"
     ]
    },
    {
     "cell_type": "markdown",
     "metadata": {},
     "source": [
      "\n",
      "Using prior information in the edge extraction\n",
      "\n",
      "\n",
      "Table of content\n",
      "\n",
      "* [Prior on first-order distribution of orientations](#Prior-on-first-order-distribution-of-orientations)\n",
      "* [Prior on second-order distribution of edge co-occurences](#Prior-on-second-order-distribution-of-orientations)\n",
      "* [Application to segmentation](#Application-to-segmentation)\n"
     ]
    },
    {
     "cell_type": "heading",
     "level": 2,
     "metadata": {},
     "source": [
      "Initialization"
     ]
    },
    {
     "cell_type": "code",
     "collapsed": false,
     "input": [
      "#import matplotlib\n",
      "#matplotlib.rcParams.update({'font.size': 18, 'font.family': 'STIXGeneral', 'mathtext.fontset': 'stix'})\n",
      "#matplotlib.rcParams.update({'text.usetex': False})\n",
      "%matplotlib inline\n",
      "%config InlineBackend.figure_format='retina'\n",
      "#%config InlineBackend.figure_format = 'svg'\n",
      "import matplotlib.pyplot as plt\n",
      "import numpy as np\n",
      "np.set_printoptions(precision=2, suppress=True)\n",
      "FORMATS = ['pdf', 'eps']"
     ],
     "language": "python",
     "metadata": {},
     "outputs": [],
     "prompt_number": 1
    },
    {
     "cell_type": "code",
     "collapsed": false,
     "input": [
      "from NeuroTools.parameters import ParameterSet\n",
      "from SLIP import Image\n",
      "from LogGabor import LogGabor\n",
      "from SparseEdges import SparseEdges"
     ],
     "language": "python",
     "metadata": {},
     "outputs": [],
     "prompt_number": 2
    },
    {
     "cell_type": "code",
     "collapsed": false,
     "input": [
      "#! defining framework\n",
      "#!-------------------\n",
      "pe = ParameterSet('default_param.py')\n",
      "pe.noise = 0.4\n",
      "im = Image(pe)\n",
      "lg = LogGabor(im)\n",
      "mp = SparseEdges(lg)\n",
      "\n",
      "print 'Range of spatial frequencies: ', mp.sf_0"
     ],
     "language": "python",
     "metadata": {},
     "outputs": [
      {
       "output_type": "stream",
       "stream": "stdout",
       "text": [
        "Range of spatial frequencies:  [ 0.62  0.38  0.24  0.15  0.09  0.06  0.03  0.02  0.01  0.01  0.01]\n"
       ]
      }
     ],
     "prompt_number": 3
    },
    {
     "cell_type": "code",
     "collapsed": false,
     "input": [
      "print 'Range of angles: ', mp.theta*180./np.pi"
     ],
     "language": "python",
     "metadata": {},
     "outputs": [
      {
       "output_type": "stream",
       "stream": "stdout",
       "text": [
        "Range of angles:  [-82.5 -75.  -67.5 -60.  -52.5 -45.  -37.5 -30.  -22.5 -15.   -7.5   0.\n",
        "   7.5  15.   22.5  30.   37.5  45.   52.5  60.   67.5  75.   82.5  90. ]\n"
       ]
      }
     ],
     "prompt_number": 4
    },
    {
     "cell_type": "code",
     "collapsed": false,
     "input": [
      "name_database_ = 'serre07_distractors'\n",
      "name_database_ = 'serre07_distractors_urban'\n"
     ],
     "language": "python",
     "metadata": {},
     "outputs": [],
     "prompt_number": 5
    },
    {
     "cell_type": "heading",
     "level": 2,
     "metadata": {},
     "source": [
      "Prior on first-order distribution of orientations"
     ]
    },
    {
     "cell_type": "markdown",
     "metadata": {},
     "source": [
      "First, we retrieve edges from a prior edge extraction"
     ]
    },
    {
     "cell_type": "code",
     "collapsed": false,
     "input": [
      "imageslist, edgeslist, RMSE = mp.process(exp='prior_vanilla_noise', name_database=name_database_)"
     ],
     "language": "python",
     "metadata": {},
     "outputs": [
      {
       "output_type": "stream",
       "stream": "stderr",
       "text": [
        "INFO:SparseEdges: > computing edges for experiment prior_vanilla_noise with database serre07_distractors_urban \n"
       ]
      },
      {
       "output_type": "stream",
       "stream": "stderr",
       "text": [
        "INFO:SparseEdges:>>> For the class serre07_distractors_urban, in experiment prior_vanilla_noise RMSE = 0.134950 \n"
       ]
      },
      {
       "output_type": "stream",
       "stream": "stdout",
       "text": [
        "[-82.5 -75.  -67.5 -60.  -52.5 -45.  -37.5 -30.  -22.5 -15.   -7.5   0.\n",
        "   7.5  15.   22.5  30.   37.5  45.   52.5  60.   67.5  75.   82.5  90. ]\n"
       ]
      }
     ],
     "prompt_number": 6
    },
    {
     "cell_type": "code",
     "collapsed": false,
     "input": [
      "imageslist, edgeslist, RMSE = mp.process(exp='prior_vanilla', name_database=name_database_)"
     ],
     "language": "python",
     "metadata": {},
     "outputs": [
      {
       "output_type": "stream",
       "stream": "stderr",
       "text": [
        "INFO:SparseEdges: > computing edges for experiment prior_vanilla with database serre07_distractors_urban \n"
       ]
      },
      {
       "output_type": "stream",
       "stream": "stderr",
       "text": [
        "INFO:SparseEdges:>>> For the class serre07_distractors_urban, in experiment prior_vanilla RMSE = 0.035902 \n"
       ]
      },
      {
       "output_type": "stream",
       "stream": "stdout",
       "text": [
        "[-82.5 -75.  -67.5 -60.  -52.5 -45.  -37.5 -30.  -22.5 -15.   -7.5   0.\n",
        "   7.5  15.   22.5  30.   37.5  45.   52.5  60.   67.5  75.   82.5  90. ]\n"
       ]
      }
     ],
     "prompt_number": 7
    },
    {
     "cell_type": "raw",
     "metadata": {},
     "source": [
      "print figpath\n",
      "!ls ../../CNRS/BICV-book/BICV_INT/BICV-sparse/"
     ]
    },
    {
     "cell_type": "code",
     "collapsed": false,
     "input": [
      "#fig, (a1, a2) = plt.subplots(1, 2)\n",
      "#fig, a1 = mp.histedges_theta(edgeslist, fig=fig, a=a1)\n",
      "#fig, a2 = mp.histedges_theta(edgeslist, fig=fig, a=a1)\n",
      "fig_width_pt = 318.670  # Get this from LaTeX using \\showthe\\columnwidth\n",
      "inches_per_pt = 1.0/72.27               # Convert pt to inches\n",
      "fig_width = fig_width_pt*inches_per_pt  # width in inches\n",
      "fig = plt.figure(figsize=(fig_width/1.618, fig_width/1.618))\n",
      "ax = fig.add_subplot(111, axisbg='w', polar=True)\n",
      "fig, ax = mp.histedges_theta(edgeslist, fig=fig, a=ax)\n",
      "v_hist, v_theta_edges = mp.histedges_theta(edgeslist, display=False)\n",
      "ax.plot((v_theta_edges[1:]+v_theta_edges[:-1])/2, np.ones_like(v_hist)*v_hist.mean(), 'r--')\n",
      "ax.plot((v_theta_edges[1:]+v_theta_edges[:-1])/2+np.pi, np.ones_like(v_hist)*v_hist.mean(), 'r--')\n",
      "\n",
      "for ext in FORMATS: fig.savefig(mp.pe.figpath + 'firstorder_A.' + ext)"
     ],
     "language": "python",
     "metadata": {},
     "outputs": [
      {
       "metadata": {
        "png": {
         "height": 191,
         "width": 197
        }
       },
       "output_type": "display_data",
       "png": "[encoded data removed]",
       "text": [
        "<matplotlib.figure.Figure at 0x106e34ad0>"
       ]
      }
     ],
     "prompt_number": 8
    },
    {
     "cell_type": "code",
     "collapsed": false,
     "input": [
      "#print v_hist, (v_theta_edges-v_theta_bin/2)*180/np.pi\n",
      "v_hist, v_theta_edges = mp.histedges_theta(edgeslist, display=False)\n",
      "v_theta_middles, v_theta_bin  = (v_theta_edges[1:]+v_theta_edges[:-1])/2, v_theta_edges[1]-v_theta_edges[0]"
     ],
     "language": "python",
     "metadata": {},
     "outputs": [],
     "prompt_number": 9
    },
    {
     "cell_type": "code",
     "collapsed": false,
     "input": [
      "print 'angles for the edges of bins (deg) = ', v_theta_edges*180/np.pi\n",
      "print 'angles for the middle of bins (deg) = ', v_theta_middles*180/np.pi\n",
      "print 'angles for the center of bins (deg) = ', (v_theta_edges-v_theta_bin/2)*180/np.pi"
     ],
     "language": "python",
     "metadata": {},
     "outputs": [
      {
       "output_type": "stream",
       "stream": "stdout",
       "text": [
        "angles for the edges of bins (deg) =  [-86.25 -78.75 -71.25 -63.75 -56.25 -48.75 -41.25 -33.75 -26.25 -18.75\n",
        " -11.25  -3.75   3.75  11.25  18.75  26.25  33.75  41.25  48.75  56.25\n",
        "  63.75  71.25  78.75  86.25  93.75]\n",
        "angles for the middle of bins (deg) =  [-82.5 -75.  -67.5 -60.  -52.5 -45.  -37.5 -30.  -22.5 -15.   -7.5  -0.\n",
        "   7.5  15.   22.5  30.   37.5  45.   52.5  60.   67.5  75.   82.5  90. ]\n",
        "angles for the center of bins (deg) =  [-90.  -82.5 -75.  -67.5 -60.  -52.5 -45.  -37.5 -30.  -22.5 -15.   -7.5\n",
        "  -0.    7.5  15.   22.5  30.   37.5  45.   52.5  60.   67.5  75.   82.5\n",
        "  90. ]\n"
       ]
      }
     ],
     "prompt_number": 10
    },
    {
     "cell_type": "raw",
     "metadata": {},
     "source": [
      "edges = np.load('./mat/edges/efficiency_n_theta_24_serre07_distractors/Bda_int16.jpg[0, 256, 0, 256].npy')\n",
      "plt.hist(edges[2])\n"
     ]
    },
    {
     "cell_type": "markdown",
     "metadata": {},
     "source": [
      "Now, we may use this statistics:\n"
     ]
    },
    {
     "cell_type": "raw",
     "metadata": {},
     "source": [
      "z = np.linspace(1./pe.n_theta, 1., pe.n_theta)\n",
      "P = np.cumsum(v_hist)# np.hstack((0, np.cumsum(v_hist)))\n",
      "theta_prior = np.interp(z, P, v_theta_middles)"
     ]
    },
    {
     "cell_type": "code",
     "collapsed": false,
     "input": [
      "z = np.linspace(0, 1., pe.n_theta+1)\n",
      "P = np.cumsum(np.hstack((0, v_hist[-1]/2, v_hist[:-1], v_hist[-1]/2)))\n",
      "print z.shape, P.shape, P[0], P[-1]\n",
      "#theta_prior = np.interp(z, P, v_theta_middles)\n",
      "#theta_prior = np.interp(z, P, np.hstack((v_theta_edges[-1]-np.pi, v_theta_edges))) #% np.pi\n",
      "#theta_prior = np.interp(z, P, v_theta_edges-v_theta_bin/2) #% np.pi\n",
      "theta_prior = np.interp(z, P, np.hstack((v_theta_edges[0]-v_theta_bin/2, v_theta_edges[:-1], v_theta_edges[-1]-v_theta_bin/2))) #% np.pi"
     ],
     "language": "python",
     "metadata": {},
     "outputs": [
      {
       "output_type": "stream",
       "stream": "stdout",
       "text": [
        "(25,) (26,) 0.0 1.0\n"
       ]
      }
     ],
     "prompt_number": 11
    },
    {
     "cell_type": "code",
     "collapsed": false,
     "input": [
      "z = z[1:]\n",
      "P=P[1:]\n",
      "print 'z = ', z\n",
      "print 'P = ', P\n",
      "#print pe.n_theta, z.shape, P.shape\n",
      "#print np.hstack((0, np.cumsum(v_hist)))\n",
      "print 'angles (deg) = ', mp.theta*180/np.pi\n",
      "print 'angles (deg) = ', theta_prior*180/np.pi\n",
      "#print 'angles (deg) = ', np.interp(z, np.hstack((0, np.cumsum(v_hist))), (v_theta_edges-v_theta_bin/2))*180/np.pi\n",
      "#print mp.theta.shape, theta_prior.shape"
     ],
     "language": "python",
     "metadata": {},
     "outputs": [
      {
       "output_type": "stream",
       "stream": "stdout",
       "text": [
        "z =  [ 0.04  0.08  0.12  0.17  0.21  0.25  0.29  0.33  0.38  0.42  0.46  0.5\n",
        "  0.54  0.58  0.62  0.67  0.71  0.75  0.79  0.83  0.88  0.92  0.96  1.  ]\n",
        "P =  [ 0.08  0.12  0.15  0.18  0.2   0.23  0.26  0.29  0.32  0.35  0.38  0.44\n",
        "  0.57  0.63  0.66  0.69  0.72  0.74  0.77  0.79  0.82  0.85  0.87  0.92\n",
        "  1.  ]\n",
        "angles (deg) =  [-82.5 -75.  -67.5 -60.  -52.5 -45.  -37.5 -30.  -22.5 -15.   -7.5   0.\n",
        "   7.5  15.   22.5  30.   37.5  45.   52.5  60.   67.5  75.   82.5  90. ]\n",
        "angles (deg) =  [-90.   -88.02 -85.45 -77.51 -66.56 -55.14 -43.72 -32.34 -21.99 -11.91\n",
        "  -6.46  -2.66  -0.35   1.96   4.96  10.39  19.85  31.39  43.28  55.93\n",
        "  67.71  78.9   85.54  88.02  90.  ]\n"
       ]
      }
     ],
     "prompt_number": 12
    },
    {
     "cell_type": "code",
     "collapsed": false,
     "input": [
      "fig, [[B, C], [A, D]] = plt.subplots(2, 2, figsize=(fig_width, fig_width/1.618), subplot_kw={'axisbg':'w'}, sharex=True)\n",
      "for ax in [A, B, C, D]:\n",
      "    ax.spines['right'].set_visible(False)\n",
      "    ax.spines['top'].set_visible(False)\n",
      "#  subplots_adjust(left=None, bottom=None, right=None, top=None,\n",
      "#                  wspace=None, hspace=None)\n",
      "#\n",
      "#The parameter meanings (and suggested defaults) are::\n",
      "#\n",
      "#  left  = 0.125  # the left side of the subplots of the figure\n",
      "#  right = 0.9    # the right side of the subplots of the figure\n",
      "#  bottom = 0.1   # the bottom of the subplots of the figure\n",
      "#  top = 0.9      # the top of the subplots of the figure\n",
      "#  wspace = 0.2   # the amount of width reserved for blank space between subplots\n",
      "#  hspace = 0.2   # the amount of height reserved for white space between subplots\n",
      "fig.subplots_adjust(wspace=0.1, hspace=0.1,\n",
      "                    left=0.125, right=0.9,\n",
      "                    top=0.9,    bottom=0.175)\n",
      "A.bar(v_theta_edges-v_theta_bin, np.hstack((v_hist[-1], v_hist)), alpha=.6, width=v_theta_bin)\n",
      "#A.bar(v_theta_edges[:-1], v_hist, alpha=.6, width=v_theta_bin, align='edge')\n",
      "A.hlines([v_hist.mean()], [v_theta_edges[0]-v_theta_bin/8.], [v_theta_edges[-1]+v_theta_bin/8.], lw=.5, color='r', linestyle='--', alpha=.6)\n",
      "plt.setp(A, yticklabels=[], ylabel=r'$p(\\theta)$',#xlim=[v_theta_edges[0]-v_theta_bin/4, v_theta_edges[-1]+v_theta_bin/4], \n",
      "         #xticks=[-np.pi/2, 0, np.pi/2], xticklabels=[r'$\\frac{-\\pi}{2}$', r'$0$', r'$\\frac{\\pi}{2}$'], \n",
      "         xticks=[0, np.pi/2], xticklabels=[r'$0$', r'$\\frac{\\pi}{2}$'], \n",
      "         xlabel=r'$\\theta$ (rad)')\n",
      "B.step(v_theta_edges, P, where='pre')\n",
      "B.vlines(((mp.theta[:-1] + np.pi/2 + v_theta_bin/4)  % np.pi ) - np.pi/2  + v_theta_bin/4, [0], P[1:], lw=.5, color='k', alpha=.6)\n",
      "plt.setp(B, xticks=[], ylim=[0, 1.02], yticks=[0., 0.5, 1.], yticklabels=['0', r'$\\frac{1}{2}$', '1'], ylabel=r'$P(\\theta)$')#, xlim=[v_theta_edges[0], v_theta_edges[-1]]\n",
      "#B.text(-np.pi/2*1.65, 1.05, '(B)')\n",
      "C.plot(v_theta_edges, P)\n",
      "C.hlines(z[:-1], [v_theta_edges[0]-v_theta_bin/2], theta_prior[1:], lw=.5)\n",
      "C.vlines(theta_prior[1:], [0], z[:-1], lw=.5, color='r', alpha=.6)\n",
      "#C.text(-np.pi/2*1.1, 1.05, '(C)')\n",
      "bord = 0.01\n",
      "plt.setp(C, ylim=[0,1.05], xticks=[], yticks=[])#, xlim=[v_theta_edges[0], v_theta_edges[-1]]\n",
      "#D.axis('tight')\n",
      "#D.vlines((theta_prior + np.pi/2) % np.pi  - np.pi/2, [0], np.ones_like(z), lw=.5, color='r')\n",
      "D.vlines(theta_prior, [0], np.ones_like(z), lw=.5, color='r', alpha=.6)\n",
      "D.vlines([-np.pi/2, np.pi/2], [0], np.ones_like(z), lw=.5, color='r', alpha=.6)\n",
      "#D.vlines(((mp.theta[:-1] + np.pi/2 + v_theta_bin/2)  % np.pi ) - np.pi/2  - v_theta_bin/2, [0], np.ones_like(z), lw=.5, color='k', alpha=.6)\n",
      "#D.plot(theta, np.ones_like(z), ms='^', lw=0, color='r')\n",
      "plt.setp(D, ylim=[0, 1.1], yticks=[], xlim=[v_theta_edges[0]-v_theta_bin/2-bord, v_theta_edges[-1]-v_theta_bin/2+bord], \n",
      "         xticks=[-np.pi/2, 0, np.pi/2], xticklabels=[r'$\\frac{-\\pi}{2}$', r'$0$', r'$\\frac{\\pi}{2}$'], \n",
      "         #xticks=[0, np.pi/2], xticklabels=[r'$0$', r'$\\frac{\\pi}{2}$'], \n",
      "         xlabel=r'$\\theta$ (rad)')\n",
      "#D.text(-np.pi/2*1.1, 1.35, '(D)')\n",
      "for ext in FORMATS: fig.savefig(mp.pe.figpath + 'laughlin.' + ext)"
     ],
     "language": "python",
     "metadata": {},
     "outputs": [
      {
       "metadata": {
        "png": {
         "height": 197,
         "width": 293
        }
       },
       "output_type": "display_data",
       "png": "[encoded data removed]",
       "text": [
        "<matplotlib.figure.Figure at 0x107082f10>"
       ]
      }
     ],
     "prompt_number": 13
    },
    {
     "cell_type": "code",
     "collapsed": false,
     "input": [
      "%%writefile experiment_fig-firstorder.py\n",
      "# -*- coding: utf8 -*-\n",
      "\"\"\"\n",
      "\n",
      "$ python experiment_fig-firstorder.py\n",
      "\n",
      "rm -fr **/prior_* **/**/prior_*\n",
      "rm -fr **/prior_vanilla* **/**/prior_vanilla*\n",
      "rm -fr **/prior_firstorder* **/**/prior_firstorder*\n",
      "\n",
      "\"\"\"\n",
      "import __init__\n",
      "import numpy as np\n",
      "from NeuroTools.parameters import ParameterSet\n",
      "from SLIP import Image\n",
      "from LogGabor import LogGabor\n",
      "from SparseEdges import SparseEdges\n",
      "\n",
      "pe = ParameterSet('default_param.py')\n",
      "pe.seed = 42 # this ensures that all image lists are the same for the different experiments\n",
      "pe.N_image = 36\n",
      "pe.N = 1024\n",
      "im = Image(pe)\n",
      "lg = LogGabor(im)\n",
      "mp = SparseEdges(lg)\n",
      "\n",
      "for name_database in ['serre07_distractors_urban', 'serre07_distractors']:#, 'laboratory']:\n",
      "    # control experiment\n",
      "    mp.theta = np.linspace(-np.pi/2, np.pi/2, mp.n_theta+1)[1:]\n",
      "    imageslist, edgeslist, RMSE = mp.process(exp='prior_vanilla', name_database=name_database)\n",
      "    imageslist, edgeslist_noise, RMSE = mp.process(exp='prior_vanilla_noise_' + str(pe.noise).replace('.', '_'), name_database=name_database, noise=pe.noise)\n",
      "\n",
      "    try:\n",
      "        # first-order prior\n",
      "        v_hist, v_theta_edges = mp.histedges_theta(edgeslist, display=False)\n",
      "        v_theta_middles, v_theta_bin  = (v_theta_edges[1:]+v_theta_edges[:-1])/2, v_theta_edges[1]-v_theta_edges[0]\n",
      "        v_hist, v_theta_edges = mp.histedges_theta(edgeslist, display=False)\n",
      "        v_theta_middles, v_theta_bin  = (v_theta_edges[1:]+v_theta_edges[:-1])/2, v_theta_edges[1]-v_theta_edges[0]\n",
      "\n",
      "        z = np.linspace(0, 1., pe.n_theta+1)\n",
      "        P = np.cumsum(np.hstack((0, v_hist[-1]/2, v_hist[:-1], v_hist[-1]/2)))\n",
      "        \n",
      "        theta_prior = np.interp(z, P, np.hstack((v_theta_edges[0]-v_theta_bin/2, v_theta_edges[:-1], v_theta_edges[-1]-v_theta_bin/2))) #% np.pi\n",
      "        mp.theta = (theta_prior[1:-1]) #% (np.pi)\n",
      "\n",
      "        imageslist, edgeslist, RMSE =  mp.process(exp='prior_firstorder', name_database=name_database)\n",
      "        imageslist, edgeslist, RMSE = mp.process(exp='prior_firstorder_noise_' + str(pe.noise).replace('.', '_'), name_database=name_database, noise=pe.noise)\n",
      "    except:\n",
      "        print('run again once first batches are finished ')\n"
     ],
     "language": "python",
     "metadata": {},
     "outputs": [
      {
       "output_type": "stream",
       "stream": "stdout",
       "text": [
        "Overwriting experiment_fig-firstorder.py\n"
       ]
      }
     ],
     "prompt_number": 23
    },
    {
     "cell_type": "code",
     "collapsed": false,
     "input": [
      "%run experiment_fig-firstorder.py"
     ],
     "language": "python",
     "metadata": {},
     "outputs": [
      {
       "output_type": "stream",
       "stream": "stderr",
       "text": [
        "INFO:SparseEdges: > computing edges for experiment prior_vanilla with database serre07_distractors_urban \n"
       ]
      },
      {
       "output_type": "stream",
       "stream": "stderr",
       "text": [
        "INFO:SparseEdges:>>> For the class serre07_distractors_urban, in experiment prior_vanilla RMSE = 0.035902 \n"
       ]
      },
      {
       "output_type": "stream",
       "stream": "stderr",
       "text": [
        "INFO:SparseEdges: > computing edges for experiment prior_vanilla_noise_0_4 with database serre07_distractors_urban \n"
       ]
      },
      {
       "output_type": "stream",
       "stream": "stderr",
       "text": [
        "INFO:SparseEdges:>>> For the class serre07_distractors_urban, in experiment prior_vanilla_noise_0_4 RMSE = 0.378813 \n"
       ]
      },
      {
       "output_type": "stream",
       "stream": "stderr",
       "text": [
        "INFO:SparseEdges: > computing edges for experiment prior_firstorder with database serre07_distractors_urban \n"
       ]
      },
      {
       "output_type": "stream",
       "stream": "stderr",
       "text": [
        "INFO:SparseEdges:>>> For the class serre07_distractors_urban, in experiment prior_firstorder RMSE = 0.036618 \n"
       ]
      },
      {
       "output_type": "stream",
       "stream": "stderr",
       "text": [
        "INFO:SparseEdges: > computing edges for experiment prior_firstorder_noise_0_4 with database serre07_distractors_urban \n"
       ]
      },
      {
       "output_type": "stream",
       "stream": "stderr",
       "text": [
        "INFO:SparseEdges:>>> For the class serre07_distractors_urban, in experiment prior_firstorder_noise_0_4 RMSE = 0.377520 \n"
       ]
      },
      {
       "output_type": "stream",
       "stream": "stderr",
       "text": [
        "INFO:SparseEdges: > computing edges for experiment prior_vanilla with database serre07_distractors \n"
       ]
      },
      {
       "output_type": "stream",
       "stream": "stderr",
       "text": [
        "INFO:SparseEdges:>>> For the class serre07_distractors, in experiment prior_vanilla RMSE = 0.045412 \n"
       ]
      },
      {
       "output_type": "stream",
       "stream": "stderr",
       "text": [
        "INFO:SparseEdges: > computing edges for experiment prior_vanilla_noise_0_4 with database serre07_distractors \n"
       ]
      },
      {
       "output_type": "stream",
       "stream": "stdout",
       "text": [
        "[-82.5 -75.  -67.5 -60.  -52.5 -45.  -37.5 -30.  -22.5 -15.   -7.5   0.\n",
        "   7.5  15.   22.5  30.   37.5  45.   52.5  60.   67.5  75.   82.5  90. ]\n",
        "[-82.5 -75.  -67.5 -60.  -52.5 -45.  -37.5 -30.  -22.5 -15.   -7.5   0.\n",
        "   7.5  15.   22.5  30.   37.5  45.   52.5  60.   67.5  75.   82.5  90. ]\n",
        "[  91.98   94.55  102.49  113.44  124.86  136.28  147.66  158.01  168.09\n",
        "  173.54  177.34  179.65    1.96    4.96   10.39   19.85   31.39   43.28\n",
        "   55.93   67.71   78.9    85.54   88.02]\n",
        "[  91.98   94.55  102.49  113.44  124.86  136.28  147.66  158.01  168.09\n",
        "  173.54  177.34  179.65    1.96    4.96   10.39   19.85   31.39   43.28\n",
        "   55.93   67.71   78.9    85.54   88.02]\n",
        "[-82.5 -75.  -67.5 -60.  -52.5 -45.  -37.5 -30.  -22.5 -15.   -7.5   0.\n",
        "   7.5  15.   22.5  30.   37.5  45.   52.5  60.   67.5  75.   82.5  90. ]\n",
        "[-82.5 -75.  -67.5 -60.  -52.5 -45.  -37.5 -30.  -22.5 -15.   -7.5   0.\n",
        "   7.5  15.   22.5  30.   37.5  45.   52.5  60.   67.5  75.   82.5  90. ]"
       ]
      },
      {
       "output_type": "stream",
       "stream": "stderr",
       "text": [
        "INFO:SparseEdges:>>> For the class serre07_distractors, in experiment prior_vanilla_noise_0_4 RMSE = 0.614948 \n"
       ]
      },
      {
       "output_type": "stream",
       "stream": "stderr",
       "text": [
        "INFO:SparseEdges: > computing edges for experiment prior_firstorder with database serre07_distractors \n"
       ]
      },
      {
       "output_type": "stream",
       "stream": "stderr",
       "text": [
        "INFO:SparseEdges:>>> For the class serre07_distractors, in experiment prior_firstorder RMSE = 0.045657 \n"
       ]
      },
      {
       "output_type": "stream",
       "stream": "stderr",
       "text": [
        "INFO:SparseEdges: > computing edges for experiment prior_firstorder_noise_0_4 with database serre07_distractors \n"
       ]
      },
      {
       "output_type": "stream",
       "stream": "stderr",
       "text": [
        "INFO:SparseEdges:>>> For the class serre07_distractors, in experiment prior_firstorder_noise_0_4 RMSE = 0.620577 \n"
       ]
      },
      {
       "output_type": "stream",
       "stream": "stderr",
       "text": [
        "INFO:SparseEdges: > computing edges for experiment prior_vanilla with database laboratory \n"
       ]
      },
      {
       "output_type": "stream",
       "stream": "stderr",
       "text": [
        "INFO:SparseEdges:>>> For the class laboratory, in experiment prior_vanilla RMSE = 0.048619 \n"
       ]
      },
      {
       "output_type": "stream",
       "stream": "stderr",
       "text": [
        "INFO:SparseEdges: > computing edges for experiment prior_vanilla_noise_0_4 with database laboratory \n"
       ]
      },
      {
       "output_type": "stream",
       "stream": "stderr",
       "text": [
        "INFO:SparseEdges: >> There is no edgeslist: [Errno 2] No such file or directory: 'mat/edges/prior_vanilla_noise_0_4_laboratory_edges.npy' \n"
       ]
      },
      {
       "output_type": "stream",
       "stream": "stderr",
       "text": [
        "INFO:SparseEdges:>> Doing the edge extraction\n"
       ]
      },
      {
       "output_type": "stream",
       "stream": "stderr",
       "text": [
        "INFO:SparseEdges:The edge extraction at step mat/edges/prior_vanilla_noise_0_4_laboratory/frame054.png[28, 284, 176, 432].npy is locked\n"
       ]
      },
      {
       "output_type": "stream",
       "stream": "stderr",
       "text": [
        "INFO:SparseEdges:The edge extraction at step mat/edges/prior_vanilla_noise_0_4_laboratory/frame236.png[132, 388, 164, 420].npy is locked\n"
       ]
      },
      {
       "output_type": "stream",
       "stream": "stderr",
       "text": [
        "INFO:SparseEdges:The edge extraction at step mat/edges/prior_vanilla_noise_0_4_laboratory/frame208.png[230, 486, 89, 345].npy is locked\n"
       ]
      },
      {
       "output_type": "stream",
       "stream": "stderr",
       "text": [
        "INFO:SparseEdges:The edge extraction at step mat/edges/prior_vanilla_noise_0_4_laboratory/frame110.png[222, 478, 68, 324].npy is locked\n"
       ]
      },
      {
       "output_type": "stream",
       "stream": "stderr",
       "text": [
        "INFO:SparseEdges:The edge extraction at step mat/edges/prior_vanilla_noise_0_4_laboratory/frame019.png[92, 348, 156, 412].npy is locked\n"
       ]
      },
      {
       "output_type": "stream",
       "stream": "stderr",
       "text": [
        "INFO:SparseEdges:The edge extraction at step mat/edges/prior_vanilla_noise_0_4_laboratory/frame006.png[160, 416, 67, 323].npy is locked\n"
       ]
      },
      {
       "output_type": "stream",
       "stream": "stderr",
       "text": [
        "INFO:SparseEdges:The edge extraction at step mat/edges/prior_vanilla_noise_0_4_laboratory/frame560.png[225, 481, 70, 326].npy is locked\n"
       ]
      },
      {
       "output_type": "stream",
       "stream": "stderr",
       "text": [
        "INFO:SparseEdges:The edge extraction at step mat/edges/prior_vanilla_noise_0_4_laboratory/frame392.png[228, 484, 165, 421].npy is locked\n"
       ]
      },
      {
       "output_type": "stream",
       "stream": "stderr",
       "text": [
        "INFO:SparseEdges:The edge extraction at step mat/edges/prior_vanilla_noise_0_4_laboratory/frame564.png[218, 474, 12, 268].npy is locked\n"
       ]
      },
      {
       "output_type": "stream",
       "stream": "stderr",
       "text": [
        "INFO:SparseEdges:The edge extraction at step mat/edges/prior_vanilla_noise_0_4_laboratory/frame096.png[39, 295, 223, 479].npy is locked\n"
       ]
      },
      {
       "output_type": "stream",
       "stream": "stderr",
       "text": [
        "INFO:SparseEdges:The edge extraction at step mat/edges/prior_vanilla_noise_0_4_laboratory/frame159.png[129, 385, 202, 458].npy is locked\n"
       ]
      },
      {
       "output_type": "stream",
       "stream": "stderr",
       "text": [
        "INFO:SparseEdges:The edge extraction at step mat/edges/prior_vanilla_noise_0_4_laboratory/frame581.png[180, 436, 91, 347].npy is locked\n"
       ]
      },
      {
       "output_type": "stream",
       "stream": "stderr",
       "text": [
        "INFO:SparseEdges:The edge extraction at step mat/edges/prior_vanilla_noise_0_4_laboratory/frame461.png[8, 264, 210, 466].npy is locked\n"
       ]
      },
      {
       "output_type": "stream",
       "stream": "stderr",
       "text": [
        "INFO:SparseEdges:The edge extraction at step mat/edges/prior_vanilla_noise_0_4_laboratory/frame014.png[107, 363, 146, 402].npy is locked\n"
       ]
      },
      {
       "output_type": "stream",
       "stream": "stderr",
       "text": [
        "INFO:SparseEdges:The edge extraction at step mat/edges/prior_vanilla_noise_0_4_laboratory/frame187.png[246, 502, 144, 400].npy is locked\n"
       ]
      },
      {
       "output_type": "stream",
       "stream": "stderr",
       "text": [
        "INFO:SparseEdges:The edge extraction at step mat/edges/prior_vanilla_noise_0_4_laboratory/frame106.png[28, 284, 191, 447].npy is locked\n"
       ]
      },
      {
       "output_type": "stream",
       "stream": "stderr",
       "text": [
        "INFO:SparseEdges:The edge extraction at step mat/edges/prior_vanilla_noise_0_4_laboratory/frame281.png[77, 333, 108, 364].npy is locked\n"
       ]
      },
      {
       "output_type": "stream",
       "stream": "stderr",
       "text": [
        "INFO:SparseEdges:The edge extraction at step mat/edges/prior_vanilla_noise_0_4_laboratory/frame216.png[8, 264, 66, 322].npy is locked\n"
       ]
      },
      {
       "output_type": "stream",
       "stream": "stderr",
       "text": [
        "INFO:SparseEdges:The edge extraction at step mat/edges/prior_vanilla_noise_0_4_laboratory/frame575.png[31, 287, 195, 451].npy is locked\n"
       ]
      },
      {
       "output_type": "stream",
       "stream": "stderr",
       "text": [
        "ERROR:SparseEdges: some locked edge extractions \n"
       ]
      },
      {
       "output_type": "stream",
       "stream": "stderr",
       "text": [
        "INFO:SparseEdges:>> Edge extraction mat/edges/prior_vanilla_noise_0_4_laboratory is locked\n"
       ]
      },
      {
       "output_type": "stream",
       "stream": "stderr",
       "text": [
        "INFO:SparseEdges: > computing edges for experiment prior_firstorder with database laboratory \n"
       ]
      },
      {
       "output_type": "stream",
       "stream": "stdout",
       "text": [
        "\n",
        "[  93.11   99.63  108.76  118.51  128.13  137.53  146.95  155.94  164.02\n",
        "  171.26  177.1     0.68    4.57   10.31   17.11   24.5    32.24   40.84\n",
        "   50.45   60.28   70.06   79.72   86.89]\n",
        "[  93.11   99.63  108.76  118.51  128.13  137.53  146.95  155.94  164.02\n",
        "  171.26  177.1     0.68    4.57   10.31   17.11   24.5    32.24   40.84\n",
        "   50.45   60.28   70.06   79.72   86.89]\n",
        "[-82.5 -75.  -67.5 -60.  -52.5 -45.  -37.5 -30.  -22.5 -15.   -7.5   0.\n",
        "   7.5  15.   22.5  30.   37.5  45.   52.5  60.   67.5  75.   82.5  90. ]\n",
        "[-82.5 -75.  -67.5 -60.  -52.5 -45.  -37.5 -30.  -22.5 -15.   -7.5   0.\n",
        "   7.5  15.   22.5  30.   37.5  45.   52.5  60.   67.5  75.   82.5  90. ]\n",
        "[  93.84  100.26  108.49  118.34  128.59  139.16  148.95  157.94  165.06\n",
        "  170.73  175.55    1.05    7.15   14.43   23.33   33.24   43.83   54.25\n",
        "   64.16   69.88   75.67   81.13   86.18]"
       ]
      },
      {
       "output_type": "stream",
       "stream": "stderr",
       "text": [
        "INFO:SparseEdges:>>> For the class laboratory, in experiment prior_firstorder RMSE = 0.049096 \n"
       ]
      },
      {
       "output_type": "stream",
       "stream": "stderr",
       "text": [
        "INFO:SparseEdges: > computing edges for experiment prior_firstorder_noise_0_4 with database laboratory \n"
       ]
      },
      {
       "output_type": "stream",
       "stream": "stderr",
       "text": [
        "INFO:SparseEdges: >> There is no edgeslist: [Errno 2] No such file or directory: 'mat/edges/prior_firstorder_noise_0_4_laboratory_edges.npy' \n"
       ]
      },
      {
       "output_type": "stream",
       "stream": "stderr",
       "text": [
        "INFO:SparseEdges:>> Doing the edge extraction\n"
       ]
      },
      {
       "output_type": "stream",
       "stream": "stderr",
       "text": [
        "INFO:SparseEdges:The edge extraction at step mat/edges/prior_firstorder_noise_0_4_laboratory/frame443.png[90, 346, 245, 501].npy is locked\n"
       ]
      },
      {
       "output_type": "stream",
       "stream": "stderr",
       "text": [
        "INFO:SparseEdges:The edge extraction at step mat/edges/prior_firstorder_noise_0_4_laboratory/frame591.png[190, 446, 26, 282].npy is locked\n"
       ]
      },
      {
       "output_type": "stream",
       "stream": "stderr",
       "text": [
        "INFO:SparseEdges:The edge extraction at step mat/edges/prior_firstorder_noise_0_4_laboratory/frame101.png[218, 474, 128, 384].npy is locked\n"
       ]
      },
      {
       "output_type": "stream",
       "stream": "stderr",
       "text": [
        "INFO:SparseEdges:The edge extraction at step mat/edges/prior_firstorder_noise_0_4_laboratory/frame205.png[209, 465, 202, 458].npy is locked\n"
       ]
      },
      {
       "output_type": "stream",
       "stream": "stderr",
       "text": [
        "INFO:SparseEdges:The edge extraction at step mat/edges/prior_firstorder_noise_0_4_laboratory/frame308.png[133, 389, 219, 475].npy is locked\n"
       ]
      },
      {
       "output_type": "stream",
       "stream": "stderr",
       "text": [
        "INFO:SparseEdges:The edge extraction at step mat/edges/prior_firstorder_noise_0_4_laboratory/frame034.png[211, 467, 7, 263].npy is locked\n"
       ]
      },
      {
       "output_type": "stream",
       "stream": "stderr",
       "text": [
        "INFO:SparseEdges:The edge extraction at step mat/edges/prior_firstorder_noise_0_4_laboratory/frame494.png[28, 284, 55, 311].npy is locked\n"
       ]
      },
      {
       "output_type": "stream",
       "stream": "stderr",
       "text": [
        "INFO:SparseEdges:The edge extraction at step mat/edges/prior_firstorder_noise_0_4_laboratory/frame102.png[174, 430, 132, 388].npy is locked\n"
       ]
      },
      {
       "output_type": "stream",
       "stream": "stderr",
       "text": [
        "INFO:SparseEdges:The edge extraction at step mat/edges/prior_firstorder_noise_0_4_laboratory/frame373.png[15, 271, 32, 288].npy is locked\n"
       ]
      },
      {
       "output_type": "stream",
       "stream": "stderr",
       "text": [
        "INFO:SparseEdges:The edge extraction at step mat/edges/prior_firstorder_noise_0_4_laboratory/frame079.png[215, 471, 249, 505].npy is locked\n"
       ]
      },
      {
       "output_type": "stream",
       "stream": "stderr",
       "text": [
        "INFO:SparseEdges:The edge extraction at step mat/edges/prior_firstorder_noise_0_4_laboratory/frame142.png[214, 470, 83, 339].npy is locked\n"
       ]
      },
      {
       "output_type": "stream",
       "stream": "stderr",
       "text": [
        "INFO:SparseEdges:The edge extraction at step mat/edges/prior_firstorder_noise_0_4_laboratory/frame133.png[198, 454, 46, 302].npy is locked\n"
       ]
      },
      {
       "output_type": "stream",
       "stream": "stderr",
       "text": [
        "INFO:SparseEdges:The edge extraction at step mat/edges/prior_firstorder_noise_0_4_laboratory/frame007.png[213, 469, 115, 371].npy is locked\n"
       ]
      },
      {
       "output_type": "stream",
       "stream": "stderr",
       "text": [
        "INFO:SparseEdges:The edge extraction at step mat/edges/prior_firstorder_noise_0_4_laboratory/frame393.png[217, 473, 159, 415].npy is locked\n"
       ]
      },
      {
       "output_type": "stream",
       "stream": "stderr",
       "text": [
        "INFO:SparseEdges:The edge extraction at step mat/edges/prior_firstorder_noise_0_4_laboratory/frame258.png[247, 503, 251, 507].npy is locked\n"
       ]
      },
      {
       "output_type": "stream",
       "stream": "stderr",
       "text": [
        "INFO:SparseEdges:The edge extraction at step mat/edges/prior_firstorder_noise_0_4_laboratory/frame054.png[28, 284, 176, 432].npy is locked\n"
       ]
      },
      {
       "output_type": "stream",
       "stream": "stderr",
       "text": [
        "INFO:SparseEdges:The edge extraction at step mat/edges/prior_firstorder_noise_0_4_laboratory/frame236.png[132, 388, 164, 420].npy is locked\n"
       ]
      },
      {
       "output_type": "stream",
       "stream": "stderr",
       "text": [
        "INFO:SparseEdges:The edge extraction at step mat/edges/prior_firstorder_noise_0_4_laboratory/frame208.png[230, 486, 89, 345].npy is locked\n"
       ]
      },
      {
       "output_type": "stream",
       "stream": "stderr",
       "text": [
        "INFO:SparseEdges:The edge extraction at step mat/edges/prior_firstorder_noise_0_4_laboratory/frame110.png[222, 478, 68, 324].npy is locked\n"
       ]
      },
      {
       "output_type": "stream",
       "stream": "stderr",
       "text": [
        "INFO:SparseEdges:The edge extraction at step mat/edges/prior_firstorder_noise_0_4_laboratory/frame019.png[92, 348, 156, 412].npy is locked\n"
       ]
      },
      {
       "output_type": "stream",
       "stream": "stderr",
       "text": [
        "INFO:SparseEdges:The edge extraction at step mat/edges/prior_firstorder_noise_0_4_laboratory/frame006.png[160, 416, 67, 323].npy is locked\n"
       ]
      },
      {
       "output_type": "stream",
       "stream": "stderr",
       "text": [
        "INFO:SparseEdges:The edge extraction at step mat/edges/prior_firstorder_noise_0_4_laboratory/frame560.png[225, 481, 70, 326].npy is locked\n"
       ]
      },
      {
       "output_type": "stream",
       "stream": "stderr",
       "text": [
        "INFO:SparseEdges:The edge extraction at step mat/edges/prior_firstorder_noise_0_4_laboratory/frame015.png[126, 382, 55, 311].npy is locked\n"
       ]
      },
      {
       "output_type": "stream",
       "stream": "stderr",
       "text": [
        "INFO:SparseEdges:The edge extraction at step mat/edges/prior_firstorder_noise_0_4_laboratory/frame392.png[228, 484, 165, 421].npy is locked\n"
       ]
      },
      {
       "output_type": "stream",
       "stream": "stderr",
       "text": [
        "INFO:SparseEdges:The edge extraction at step mat/edges/prior_firstorder_noise_0_4_laboratory/frame564.png[218, 474, 12, 268].npy is locked\n"
       ]
      },
      {
       "output_type": "stream",
       "stream": "stderr",
       "text": [
        "INFO:SparseEdges:The edge extraction at step mat/edges/prior_firstorder_noise_0_4_laboratory/frame096.png[39, 295, 223, 479].npy is locked\n"
       ]
      },
      {
       "output_type": "stream",
       "stream": "stderr",
       "text": [
        "INFO:SparseEdges:The edge extraction at step mat/edges/prior_firstorder_noise_0_4_laboratory/frame159.png[129, 385, 202, 458].npy is locked\n"
       ]
      },
      {
       "output_type": "stream",
       "stream": "stderr",
       "text": [
        "INFO:SparseEdges:The edge extraction at step mat/edges/prior_firstorder_noise_0_4_laboratory/frame581.png[180, 436, 91, 347].npy is locked\n"
       ]
      },
      {
       "output_type": "stream",
       "stream": "stderr",
       "text": [
        "INFO:SparseEdges:The edge extraction at step mat/edges/prior_firstorder_noise_0_4_laboratory/frame461.png[8, 264, 210, 466].npy is locked\n"
       ]
      },
      {
       "output_type": "stream",
       "stream": "stderr",
       "text": [
        "INFO:SparseEdges:The edge extraction at step mat/edges/prior_firstorder_noise_0_4_laboratory/frame014.png[107, 363, 146, 402].npy is locked\n"
       ]
      },
      {
       "output_type": "stream",
       "stream": "stderr",
       "text": [
        "INFO:SparseEdges:The edge extraction at step mat/edges/prior_firstorder_noise_0_4_laboratory/frame187.png[246, 502, 144, 400].npy is locked\n"
       ]
      },
      {
       "output_type": "stream",
       "stream": "stderr",
       "text": [
        "INFO:SparseEdges:The edge extraction at step mat/edges/prior_firstorder_noise_0_4_laboratory/frame106.png[28, 284, 191, 447].npy is locked\n"
       ]
      },
      {
       "output_type": "stream",
       "stream": "stderr",
       "text": [
        "INFO:SparseEdges:The edge extraction at step mat/edges/prior_firstorder_noise_0_4_laboratory/frame281.png[77, 333, 108, 364].npy is locked\n"
       ]
      },
      {
       "output_type": "stream",
       "stream": "stderr",
       "text": [
        "INFO:SparseEdges:The edge extraction at step mat/edges/prior_firstorder_noise_0_4_laboratory/frame216.png[8, 264, 66, 322].npy is locked\n"
       ]
      },
      {
       "output_type": "stream",
       "stream": "stderr",
       "text": [
        "INFO:SparseEdges:The edge extraction at step mat/edges/prior_firstorder_noise_0_4_laboratory/frame575.png[31, 287, 195, 451].npy is locked\n"
       ]
      },
      {
       "output_type": "stream",
       "stream": "stderr",
       "text": [
        "ERROR:SparseEdges: some locked edge extractions \n"
       ]
      },
      {
       "output_type": "stream",
       "stream": "stderr",
       "text": [
        "INFO:SparseEdges:>> Edge extraction mat/edges/prior_firstorder_noise_0_4_laboratory is locked\n"
       ]
      },
      {
       "output_type": "stream",
       "stream": "stdout",
       "text": [
        "\n",
        "[  93.84  100.26  108.49  118.34  128.59  139.16  148.95  157.94  165.06\n",
        "  170.73  175.55    1.05    7.15   14.43   23.33   33.24   43.83   54.25\n",
        "   64.16   69.88   75.67   81.13   86.18]\n"
       ]
      }
     ],
     "prompt_number": 15
    },
    {
     "cell_type": "code",
     "collapsed": false,
     "input": [
      "FORMATS = ['pdf', 'eps']\n",
      "#experiments = ['prior_vanilla', 'prior_vanilla_noise_' + str(pe.noise).replace('.', '_'), 'prior_firstorder', 'prior_firstorder_noise_' + str(pe.noise).replace('.', '_')]\n",
      "#experiments = ['prior_vanilla', 'prior_vanilla_noise_' + str(pe.noise).replace('.', '_'), 'prior_firstorder_noise_' + str(pe.noise).replace('.', '_')]\n",
      "#experiments = ['prior_vanilla_noise_' + str(pe.noise).replace('.', '_'), 'prior_firstorder_noise_' + str(pe.noise).replace('.', '_')]\n",
      "experiments = ['prior_vanilla_noise_' + str(pe.noise).replace('.', '_'), 'prior_firstorder_noise_' + str(pe.noise).replace('.', '_')]\n",
      "databases = [name_database_] * len(experiments)\n",
      "#databases = ['laboratory'] * len(experiments)\n",
      "#labels = ['control', 'noise', 'with prior', 'noise (prior)']\n",
      "#labels = ['control', 'noise', 'noise (prior)']\n",
      "labels = ['control', 'with prior']\n",
      "mps = [mp] * len(experiments)\n",
      "from SparseEdges import plot\n",
      "fig = plt.figure(figsize=(fig_width/1.618, fig_width/1.618))\n",
      "fig, a, ax = plot(mps=mps, experiments=experiments, databases=databases, fig=fig, labels=labels, \n",
      "                  color=[0., 0., 1.], scale=True)#  , threshold=0.6, ref=0 \n",
      "for ext in FORMATS: fig.savefig(mp.pe.figpath + 'firstorder_C.' + ext)"
     ],
     "language": "python",
     "metadata": {},
     "outputs": [
      {
       "output_type": "stream",
       "stream": "stderr",
       "text": [
        "INFO:SparseEdges: > computing edges for experiment prior_vanilla_noise_0_4 with database serre07_distractors_urban \n"
       ]
      },
      {
       "output_type": "stream",
       "stream": "stderr",
       "text": [
        "INFO:SparseEdges:>>> For the class serre07_distractors_urban, in experiment prior_vanilla_noise_0_4 RMSE = 0.378813 \n"
       ]
      },
      {
       "output_type": "stream",
       "stream": "stderr",
       "text": [
        "INFO:SparseEdges: > computing edges for experiment prior_vanilla_noise_0_4 with database serre07_distractors_urban \n"
       ]
      },
      {
       "output_type": "stream",
       "stream": "stderr",
       "text": [
        "INFO:SparseEdges:>>> For the class serre07_distractors_urban, in experiment prior_vanilla_noise_0_4 RMSE = 0.378813 \n"
       ]
      },
      {
       "output_type": "stream",
       "stream": "stderr",
       "text": [
        "INFO:SparseEdges: > computing edges for experiment prior_firstorder_noise_0_4 with database serre07_distractors_urban \n"
       ]
      },
      {
       "output_type": "stream",
       "stream": "stderr",
       "text": [
        "INFO:SparseEdges:>>> For the class serre07_distractors_urban, in experiment prior_firstorder_noise_0_4 RMSE = 0.377520 \n"
       ]
      },
      {
       "output_type": "stream",
       "stream": "stdout",
       "text": [
        "[  93.84  100.26  108.49  118.34  128.59  139.16  148.95  157.94  165.06\n",
        "  170.73  175.55    1.05    7.15   14.43   23.33   33.24   43.83   54.25\n",
        "   64.16   69.88   75.67   81.13   86.18]\n",
        "[  93.84  100.26  108.49  118.34  128.59  139.16  148.95  157.94  165.06\n",
        "  170.73  175.55    1.05    7.15   14.43   23.33   33.24   43.83   54.25\n",
        "   64.16   69.88   75.67   81.13   86.18]\n",
        "[  93.84  100.26  108.49  118.34  128.59  139.16  148.95  157.94  165.06\n",
        "  170.73  175.55    1.05    7.15   14.43   23.33   33.24   43.83   54.25\n",
        "   64.16   69.88   75.67   81.13   86.18]\n"
       ]
      },
      {
       "metadata": {
        "png": {
         "height": 240,
         "width": 264
        }
       },
       "output_type": "display_data",
       "png": "[encoded data removed]",
       "text": [
        "<matplotlib.figure.Figure at 0x108c00c10>"
       ]
      }
     ],
     "prompt_number": 22
    },
    {
     "cell_type": "code",
     "collapsed": false,
     "input": [
      "print 'angles (deg) = ', theta_prior*180/np.pi\n",
      "imageslist, edgeslist, RMSE =  mp.process('prior_firstorder', name_database=name_database_)\n",
      "\n",
      "#theta_bin = np.linspace(- np.pi/2  + np.pi/mp.pe.N_Dtheta/2, np.pi/2  + np.pi/mp.pe.N_Dtheta/2, 48)\n",
      "#theta_bin = np.hstack((theta_prior, theta_prior[0]+np.pi)) - np.pi/320#mp.pe.N_Dtheta/2\n",
      "theta_bin = .5 * ( np.hstack((theta_prior[-2]-np.pi, theta_prior)) +\n",
      "                  np.hstack((theta_prior, theta_prior[1]+np.pi)) )\n",
      "print 'angles (deg) = ',  theta_bin*180/np.pi\n",
      "\n",
      "theta_firstbin = (theta_bin[1]-theta_bin[0])/2.\n",
      "print theta_firstbin*180/np.pi * 0\n",
      "theta = (edgeslist[2, ...].ravel())\n",
      "#theta = ((theta + np.pi/2 - np.pi/mp.pe.N_Dtheta/2)  % np.pi ) - np.pi/2  + np.pi/mp.pe.N_Dtheta/2\n",
      "print theta.min()*180/np.pi, theta.max()*180/np.pi, (theta.max()-theta.min())*180/np.pi\n",
      "theta = ((theta + (np.pi/2 + theta_firstbin) )  % np.pi ) - (np.pi/2  + theta_firstbin)\n",
      "print theta.min()*180/np.pi, theta.max()*180/np.pi, (theta.max()-theta.min())*180/np.pi\n",
      "value = edgeslist[4, ...].ravel()\n",
      "\n",
      "if mp.pe.edge_mask:\n",
      "    # remove edges whose center position is not on the central disk\n",
      "    x , y = edgeslist[0, ...].ravel().real, edgeslist[1, ...].ravel().real\n",
      "    mask = ((x/mp.N_X -.5)**2+(y/mp.N_Y -.5)**2) < .5**2\n",
      "    theta = theta[mask]\n",
      "    value = value[mask]\n",
      "\n",
      "weights = np.absolute(value)/(np.absolute(value)).sum()\n",
      "\n",
      "v_hist, v_theta_edges_ = np.histogram(theta, bins=theta_bin, density=False, weights=weights)\n",
      "print 'angles (deg) = ',  v_theta_edges_*180/np.pi\n",
      "print v_hist\n",
      "\n",
      "#plotting\n",
      "fig = plt.figure(figsize=(fig_width/1.618, fig_width/1.618))\n",
      "ax = fig.add_subplot(111, axisbg='w', polar=True)\n",
      "#fig, ax = mp.histedges_theta(edgeslist, fig=fig, a=ax)\n",
      "#v_hist, v_theta_edges = mp.histedges_theta(edgeslist, display=False)\n",
      "ax.bar(v_theta_edges_[:-1], v_hist, width=v_theta_edges_[:-1] - v_theta_edges_[1:], color='b')# edgecolor=\"none\")\n",
      "ax.bar(v_theta_edges_[:-1]+np.pi, v_hist, width=v_theta_edges_[:-1] - v_theta_edges_[1:], color='g')\n",
      "ax.plot((v_theta_edges_[1:]+v_theta_edges_[:-1])/2, np.ones_like(v_hist)*v_hist.mean(), 'r--')\n",
      "ax.plot((v_theta_edges_[1:]+v_theta_edges_[:-1])/2+np.pi, np.ones_like(v_hist)*v_hist.mean(), 'r--')\n",
      "plt.setp(ax, yticks=[])\n",
      "for ext in FORMATS: fig.savefig(mp.pe.figpath + 'firstorder_B.' + ext)"
     ],
     "language": "python",
     "metadata": {},
     "outputs": [
      {
       "output_type": "stream",
       "stream": "stderr",
       "text": [
        "INFO:SparseEdges: > computing edges for experiment prior_firstorder with database serre07_distractors_urban \n"
       ]
      },
      {
       "output_type": "stream",
       "stream": "stderr",
       "text": [
        "INFO:SparseEdges:>>> For the class serre07_distractors_urban, in experiment prior_firstorder RMSE = 0.036618 \n"
       ]
      },
      {
       "output_type": "stream",
       "stream": "stdout",
       "text": [
        "angles (deg) =  [-90.   -86.16 -79.74 -71.51 -61.66 -51.41 -40.84 -31.05 -22.06 -14.94\n",
        "  -9.27  -4.45   1.05   7.15  14.43  23.33  33.24  43.83  54.25  64.16\n",
        "  69.88  75.67  81.13  86.18  90.  ]\n",
        "[  93.84  100.26  108.49  118.34  128.59  139.16  148.95  157.94  165.06\n",
        "  170.73  175.55    1.05    7.15   14.43   23.33   33.24   43.83   54.25\n",
        "   64.16   69.88   75.67   81.13   86.18]\n",
        "angles (deg) =  [-91.91 -88.08 -82.95 -75.62 -66.59 -56.53 -46.12 -35.94 -26.56 -18.5  -12.1\n",
        "  -6.86  -1.7    4.1   10.79  18.88  28.28  38.53  49.04  59.21  67.02\n",
        "  72.77  78.4   83.65  88.09  91.92]\n",
        "0.0\n",
        "1.95626435819 179.647128032 177.690863673\n",
        "-88.0199291903 88.0199291903 176.039858381\n",
        "angles (deg) =  [-91.91 -88.08 -82.95 -75.62 -66.59 -56.53 -46.12 -35.94 -26.56 -18.5  -12.1\n",
        "  -6.86  -1.7    4.1   10.79  18.88  28.28  38.53  49.04  59.21  67.02\n",
        "  72.77  78.4   83.65  88.09  91.92]\n",
        "[ 0.    0.11  0.04  0.    0.04  0.04  0.04  0.04  0.04  0.    0.04  0.08\n",
        "  0.1   0.08  0.    0.04  0.04  0.04  0.04  0.    0.04  0.    0.03  0.1   0.  ]\n"
       ]
      },
      {
       "metadata": {
        "png": {
         "height": 248,
         "width": 254
        }
       },
       "output_type": "display_data",
       "png": "[encoded data removed]",
       "text": [
        "<matplotlib.figure.Figure at 0x10abc0ed0>"
       ]
      }
     ],
     "prompt_number": 17
    },
    {
     "cell_type": "heading",
     "level": 2,
     "metadata": {},
     "source": [
      "some book keeping for the notebook"
     ]
    },
    {
     "cell_type": "code",
     "collapsed": false,
     "input": [
      "%install_ext https://raw.githubusercontent.com/rasbt/python_reference/master/ipython_magic/watermark.py\n",
      "%load_ext watermark\n",
      "%watermark"
     ],
     "language": "python",
     "metadata": {},
     "outputs": [
      {
       "output_type": "stream",
       "stream": "stdout",
       "text": [
        "Installed watermark.py. To use it, type:\n",
        "  %load_ext watermark\n",
        "08/12/2014 16:58:29\n",
        "\n",
        "CPython 2.7.8\n",
        "IPython 2.3.1\n",
        "\n",
        "compiler   : GCC 4.2.1 Compatible Apple LLVM 6.0 (clang-600.0.51)\n",
        "system     : Darwin\n",
        "release    : 14.0.0\n",
        "machine    : x86_64\n",
        "processor  : i386\n",
        "CPU cores  : 8\n",
        "interpreter: 64bit"
       ]
      },
      {
       "output_type": "stream",
       "stream": "stdout",
       "text": [
        "\n"
       ]
      }
     ],
     "prompt_number": 18
    },
    {
     "cell_type": "code",
     "collapsed": false,
     "input": [
      "%install_ext http://raw.github.com/jrjohansson/version_information/master/version_information.py\n",
      "%load_ext version_information\n",
      "%version_information numpy, scipy, matplotlib, sympy"
     ],
     "language": "python",
     "metadata": {},
     "outputs": [
      {
       "output_type": "stream",
       "stream": "stdout",
       "text": [
        "Installed version_information.py. To use it, type:\n",
        "  %load_ext version_information\n"
       ]
      },
      {
       "html": [
        "<table><tr><th>Software</th><th>Version</th></tr><tr><td>Python</td><td>2.7.8 64bit [GCC 4.2.1 Compatible Apple LLVM 6.0 (clang-600.0.51)]</td></tr><tr><td>IPython</td><td>2.3.1</td></tr><tr><td>OS</td><td>Darwin 14.0.0 x86_64 i386 64bit</td></tr><tr><td>numpy</td><td>1.9.1</td></tr><tr><td>scipy</td><td>0.14.0</td></tr><tr><td>matplotlib</td><td>1.4.2</td></tr><tr><td>sympy</td><td>0.7.5</td></tr><tr><td colspan='2'>Mon Dec 08 16:58:30 2014 CET</td></tr></table>"
       ],
       "json": [
        "{\"Software versions\": [{\"version\": \"2.7.8 64bit [GCC 4.2.1 Compatible Apple LLVM 6.0 (clang-600.0.51)]\", \"module\": \"Python\"}, {\"version\": \"2.3.1\", \"module\": \"IPython\"}, {\"version\": \"Darwin 14.0.0 x86_64 i386 64bit\", \"module\": \"OS\"}, {\"version\": \"1.9.1\", \"module\": \"numpy\"}, {\"version\": \"0.14.0\", \"module\": \"scipy\"}, {\"version\": \"1.4.2\", \"module\": \"matplotlib\"}, {\"version\": \"0.7.5\", \"module\": \"sympy\"}]}"
       ],
       "latex": [
        "\\begin{tabular}{|l|l|}\\hline\n",
        "{\\bf Software} & {\\bf Version} \\\\ \\hline\\hline\n",
        "Python & 2.7.8 64bit [GCC 4.2.1 Compatible Apple LLVM 6.0 (clang-600.0.51)] \\\\ \\hline\n",
        "IPython & 2.3.1 \\\\ \\hline\n",
        "OS & Darwin 14.0.0 x86\\_64 i386 64bit \\\\ \\hline\n",
        "numpy & 1.9.1 \\\\ \\hline\n",
        "scipy & 0.14.0 \\\\ \\hline\n",
        "matplotlib & 1.4.2 \\\\ \\hline\n",
        "sympy & 0.7.5 \\\\ \\hline\n",
        "\\hline \\multicolumn{2}{|l|}{Mon Dec 08 16:58:30 2014 CET} \\\\ \\hline\n",
        "\\end{tabular}\n"
       ],
       "metadata": {},
       "output_type": "pyout",
       "prompt_number": 19,
       "text": [
        "Software versions\n",
        "Python 2.7.8 64bit [GCC 4.2.1 Compatible Apple LLVM 6.0 (clang-600.0.51)]\n",
        "IPython 2.3.1\n",
        "OS Darwin 14.0.0 x86_64 i386 64bit\n",
        "numpy 1.9.1\n",
        "scipy 0.14.0\n",
        "matplotlib 1.4.2\n",
        "sympy 0.7.5\n",
        "Mon Dec 08 16:58:30 2014 CET"
       ]
      }
     ],
     "prompt_number": 19
    },
    {
     "cell_type": "code",
     "collapsed": false,
     "input": [
      "# CSS styling within IPython notebook\n",
      "from IPython.core.display import HTML\n",
      "def css_styling():\n",
      "    styles = open(\"custom.css\", \"r\").read()\n",
      "    return HTML(styles)\n",
      "css_styling()"
     ],
     "language": "python",
     "metadata": {},
     "outputs": [
      {
       "html": [
        "<style>\n",
        "    /*body {\n",
        "        background-color: #F5F5F5;\n",
        "    }*/\n",
        "    div.cell{\n",
        "        width: 850px;\n",
        "        margin-left: 10% !important;\n",
        "        margin-right: auto;\n",
        "    }\n",
        "    h1 {\n",
        "        font-family: \"Open sans\",verdana,arial,sans-serif;\n",
        "    }\n",
        "    .text_cell_render h1 {\n",
        "        font-weight: 200;\n",
        "        font-size: 40pt;\n",
        "        line-height: 100%;\n",
        "        color:#447adb;\n",
        "        margin-bottom: 0em;\n",
        "        margin-top: 0em;\n",
        "        display: block;\n",
        "        white-space: nowrap;\n",
        "    } \n",
        "    h2 {\n",
        "        font-family: \"Open sans\",verdana,arial,sans-serif;\n",
        "        text-indent:1em;\n",
        "    }\n",
        "    .text_cell_render h2 {\n",
        "        font-weight: 200;\n",
        "        font-size: 20pt;\n",
        "        font-style: italic;\n",
        "        line-height: 100%;\n",
        "        color:#447adb;\n",
        "        margin-bottom: 1.5em;\n",
        "        margin-top: 0.5em;\n",
        "        display: block;\n",
        "        white-space: nowrap;\n",
        "    } \n",
        "    h3 {\n",
        "        font-family: \"Open sans\",verdana,arial,sans-serif;\n",
        "    }\n",
        "    .text_cell_render h3 {\n",
        "        font-weight: 300;\n",
        "        font-size: 18pt;\n",
        "        line-height: 100%;\n",
        "        color:#447adb;\n",
        "        margin-bottom: 0.5em;\n",
        "        margin-top: 2em;\n",
        "        display: block;\n",
        "        white-space: nowrap;\n",
        "    }\n",
        "    h4 {\n",
        "        font-family: \"Open sans\",verdana,arial,sans-serif;\n",
        "    }\n",
        "    .text_cell_render h4 {\n",
        "        font-weight: 300;\n",
        "        font-size: 16pt;\n",
        "        color:#447adb;\n",
        "        margin-bottom: 0.5em;\n",
        "        margin-top: 0.5em;\n",
        "        display: block;\n",
        "        white-space: nowrap;\n",
        "    }\n",
        "    h5 {\n",
        "        font-family: \"Open sans\",verdana,arial,sans-serif;\n",
        "    }\n",
        "    .text_cell_render h5 {\n",
        "        font-weight: 300;\n",
        "        font-style: normal;\n",
        "        color: #1d3b84;\n",
        "        font-size: 16pt;\n",
        "        margin-bottom: 0em;\n",
        "        margin-top: 1.5em;\n",
        "        display: block;\n",
        "        white-space: nowrap;\n",
        "    }\n",
        "    div.text_cell_render{\n",
        "        font-family: \"Open sans\",verdana,arial,sans-serif;\n",
        "        line-height: 135%;\n",
        "        font-size: 125%;\n",
        "        width:750px;\n",
        "        margin-left:auto;\n",
        "        margin-right:auto;\n",
        "        text-align:justify;\n",
        "        text-justify:inter-word;\n",
        "    }\n",
        "    div.output_subarea.output_text.output_pyout {\n",
        "        overflow-x: auto;\n",
        "        overflow-y: scroll;\n",
        "        max-height: 300px;\n",
        "    }\n",
        "    div.output_subarea.output_stream.output_stdout.output_text {\n",
        "        overflow-x: auto;\n",
        "        overflow-y: scroll;\n",
        "        max-height: 300px;\n",
        "    }\n",
        "    div.output_subarea.output_html.rendered_html {\n",
        "        overflow-x: scroll;\n",
        "        max-width: 100%;\n",
        "      /*  overflow-y: scroll; */\n",
        "      /*  max-height: 300px;   */\n",
        "    }\n",
        "    code{\n",
        "      font-size: 78%;\n",
        "    }\n",
        "    .rendered_html code{\n",
        "    background-color: transparent;\n",
        "    }\n",
        "    ul{\n",
        "        /* color:#447adb; */  \n",
        "        margin: 2em;\n",
        "    }\n",
        "    ul li{\n",
        "        padding-left: 0.5em; \n",
        "        margin-bottom: 0.5em; \n",
        "        margin-top: 0.5em; \n",
        "    }\n",
        "    ul li li{\n",
        "        padding-left: 0.2em; \n",
        "        margin-bottom: 0.2em; \n",
        "        margin-top: 0.2em; \n",
        "    }\n",
        "    ol{\n",
        "        /* color:#447adb; */  \n",
        "        margin: 2em;\n",
        "    }\n",
        "    ol li{\n",
        "        padding-left: 0.5em; \n",
        "        margin-bottom: 0.5em; \n",
        "        margin-top: 0.5em; \n",
        "    }\n",
        "    /*.prompt{\n",
        "        display: None;\n",
        "    } */\n",
        "    ul li{\n",
        "        padding-left: 0.5em; \n",
        "        margin-bottom: 0.5em; \n",
        "        margin-top: 0.2em; \n",
        "    }\n",
        "    a:link{\n",
        "       font-weight: bold;\n",
        "       color:#447adb;\n",
        "    }\n",
        "    a:visited{\n",
        "       font-weight: bold;\n",
        "       color: #1d3b84;\n",
        "    }\n",
        "    a:hover{\n",
        "       font-weight: bold;\n",
        "       color: #1d3b84;\n",
        "    }\n",
        "    a:focus{\n",
        "       font-weight: bold;\n",
        "       color:#447adb;\n",
        "    }\n",
        "    a:active{\n",
        "       font-weight: bold;\n",
        "       color:#447adb;\n",
        "    }\n",
        "    .rendered_html :link {\n",
        "       text-decoration: none; \n",
        "    }\n",
        "    .rendered_html :hover {\n",
        "       text-decoration: none; \n",
        "    }\n",
        "    .rendered_html :visited {\n",
        "      text-decoration: none;\n",
        "    }\n",
        "    .rendered_html :focus {\n",
        "      text-decoration: none;\n",
        "    }\n",
        "    .rendered_html :active {\n",
        "      text-decoration: none;\n",
        "    }\n",
        "    .warning{\n",
        "        color: rgb( 240, 20, 20 )\n",
        "    } \n",
        "    hr {\n",
        "      color: #f3f3f3;\n",
        "      background-color: #f3f3f3;\n",
        "      height: 1px;\n",
        "    }\n",
        "    blockquote{\n",
        "      display:block;\n",
        "      background: #f3f3f3;\n",
        "      font-family: \"Open sans\",verdana,arial,sans-serif;\n",
        "      width:610px;\n",
        "      padding: 15px 15px 15px 15px;\n",
        "      text-align:justify;\n",
        "      text-justify:inter-word;\n",
        "      }\n",
        "      blockquote p {\n",
        "        margin-bottom: 0;\n",
        "        line-height: 125%;\n",
        "        font-size: 100%;\n",
        "      }\n",
        "   /* element.style {\n",
        "    } */  \n",
        "</style>\n",
        "<script>\n",
        "    MathJax.Hub.Config({\n",
        "                        TeX: {\n",
        "                           extensions: [\"AMSmath.js\"]\n",
        "                           },\n",
        "                tex2jax: {\n",
        "                    inlineMath: [ [\"$\",\"$\"], [\"\\\\(\",\"\\\\)\"] ],\n",
        "                    displayMath: [ [\"$$\",\"$$\"], [\"\\\\[\",\"\\\\]\"] ]\n",
        "                },\n",
        "                displayAlign: \"center\", // Change this to \"center\" to center equations.\n",
        "                \"HTML-CSS\": {\n",
        "                    styles: {\".MathJax_Display\": {\"margin\": 4}}\n",
        "                }\n",
        "        });\n",
        "</script>\n"
       ],
       "metadata": {},
       "output_type": "pyout",
       "prompt_number": 20,
       "text": [
        "<IPython.core.display.HTML at 0x108bf44d0>"
       ]
      }
     ],
     "prompt_number": 20
    },
    {
     "cell_type": "code",
     "collapsed": false,
     "input": [],
     "language": "python",
     "metadata": {},
     "outputs": [],
     "prompt_number": 20
    }
   ],
   "metadata": {}
  }
 ]
}