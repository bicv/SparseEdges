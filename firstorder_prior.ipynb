{
 "metadata": {
  "name": "",
  "signature": "sha256:105c4bcbd1e181db0823ba30422453ad5f2e5bb0ef88feddf02d8c78b3912d41"
 },
 "nbformat": 3,
 "nbformat_minor": 0,
 "worksheets": [
  {
   "cells": [
    {
     "cell_type": "heading",
     "level": 1,
     "metadata": {},
     "source": [
      "SparseEdges : including prior information"
     ]
    },
    {
     "cell_type": "markdown",
     "metadata": {},
     "source": [
      "\n",
      "Using prior information in the edge extraction\n",
      "\n",
      "\n",
      "Table of content\n",
      "\n",
      "* [Prior on first-order distribution of orientations](#Prior-on-first-order-distribution-of-orientations)\n",
      "* [Prior on second-order distribution of edge co-occurences](#Prior-on-second-order-distribution-of-orientations)\n",
      "* [Application to segmentation](#Application-to-segmentation)\n"
     ]
    },
    {
     "cell_type": "heading",
     "level": 2,
     "metadata": {},
     "source": [
      "Initialization"
     ]
    },
    {
     "cell_type": "code",
     "collapsed": false,
     "input": [
      "#import matplotlib\n",
      "#matplotlib.rcParams.update({'font.size': 18, 'font.family': 'STIXGeneral', 'mathtext.fontset': 'stix'})\n",
      "#matplotlib.rcParams.update({'text.usetex': False})\n",
      "%matplotlib inline\n",
      "%config InlineBackend.figure_format='retina'\n",
      "#%config InlineBackend.figure_format = 'svg'\n",
      "import matplotlib.pyplot as plt\n",
      "import numpy as np\n",
      "np.set_printoptions(precision=2, suppress=True)\n",
      "FORMATS = ['pdf', 'eps']"
     ],
     "language": "python",
     "metadata": {},
     "outputs": [],
     "prompt_number": 1
    },
    {
     "cell_type": "code",
     "collapsed": false,
     "input": [
      "from NeuroTools.parameters import ParameterSet\n",
      "from SLIP import Image\n",
      "from LogGabor import LogGabor\n",
      "from SparseEdges import SparseEdges"
     ],
     "language": "python",
     "metadata": {},
     "outputs": [],
     "prompt_number": 2
    },
    {
     "cell_type": "code",
     "collapsed": false,
     "input": [
      "#! defining framework\n",
      "#!-------------------\n",
      "pe = ParameterSet('default_param.py')\n",
      "#pe.N = 4\n",
      "#pe.do_mask=False\n",
      "#pe.MP_alpha=1.\n",
      "#pe.do_whitening = False\n",
      "im = Image(pe)\n",
      "lg = LogGabor(im)\n",
      "mp = SparseEdges(lg)\n",
      "\n",
      "print 'Range of spatial frequencies: ', mp.sf_0"
     ],
     "language": "python",
     "metadata": {},
     "outputs": [
      {
       "output_type": "stream",
       "stream": "stdout",
       "text": [
        "Range of spatial frequencies:  [ 0.62  0.38  0.24  0.15  0.09  0.06  0.03  0.02  0.01  0.01  0.01]\n"
       ]
      }
     ],
     "prompt_number": 3
    },
    {
     "cell_type": "code",
     "collapsed": false,
     "input": [
      "print 'Range of angles: ', mp.theta*180./np.pi"
     ],
     "language": "python",
     "metadata": {},
     "outputs": [
      {
       "output_type": "stream",
       "stream": "stdout",
       "text": [
        "Range of angles:  [-82.5 -75.  -67.5 -60.  -52.5 -45.  -37.5 -30.  -22.5 -15.   -7.5   0.\n",
        "   7.5  15.   22.5  30.   37.5  45.   52.5  60.   67.5  75.   82.5  90. ]\n"
       ]
      }
     ],
     "prompt_number": 4
    },
    {
     "cell_type": "heading",
     "level": 2,
     "metadata": {},
     "source": [
      "Prior on first-order distribution of orientations"
     ]
    },
    {
     "cell_type": "markdown",
     "metadata": {},
     "source": [
      "First, we retrieve edges from a prior edge extraction"
     ]
    },
    {
     "cell_type": "code",
     "collapsed": false,
     "input": [
      "imageslist, edgeslist, RMSE = mp.process(exp='prior_vanilla_noise', name_database='serre07_distractors')"
     ],
     "language": "python",
     "metadata": {},
     "outputs": [
      {
       "output_type": "stream",
       "stream": "stderr",
       "text": [
        "INFO:SparseEdges: > computing edges for experiment prior_vanilla_noise with database serre07_distractors \n"
       ]
      },
      {
       "output_type": "stream",
       "stream": "stderr",
       "text": [
        "INFO:SparseEdges:>>> For the class serre07_distractors, in experiment prior_vanilla_noise RMSE = 0.300413 \n"
       ]
      }
     ],
     "prompt_number": 5
    },
    {
     "cell_type": "code",
     "collapsed": false,
     "input": [
      "imageslist, edgeslist, RMSE = mp.process(exp='prior_vanilla', name_database='serre07_distractors')"
     ],
     "language": "python",
     "metadata": {},
     "outputs": [
      {
       "output_type": "stream",
       "stream": "stderr",
       "text": [
        "INFO:SparseEdges: > computing edges for experiment prior_vanilla with database serre07_distractors \n"
       ]
      },
      {
       "output_type": "stream",
       "stream": "stderr",
       "text": [
        "INFO:SparseEdges:>>> For the class serre07_distractors, in experiment prior_vanilla RMSE = 0.246826 \n"
       ]
      }
     ],
     "prompt_number": 6
    },
    {
     "cell_type": "raw",
     "metadata": {},
     "source": [
      "print figpath\n",
      "!ls ../../CNRS/BICV-book/BICV_INT/BICV-sparse/"
     ]
    },
    {
     "cell_type": "code",
     "collapsed": false,
     "input": [
      "#fig, (a1, a2) = plt.subplots(1, 2)\n",
      "#fig, a1 = mp.histedges_theta(edgeslist, fig=fig, a=a1)\n",
      "#fig, a2 = mp.histedges_theta(edgeslist, fig=fig, a=a1)\n",
      "fig_width_pt = 318.670  # Get this from LaTeX using \\showthe\\columnwidth\n",
      "inches_per_pt = 1.0/72.27               # Convert pt to inches\n",
      "fig_width = fig_width_pt*inches_per_pt  # width in inches\n",
      "fig = plt.figure(figsize=(fig_width/1.618, fig_width/1.618))\n",
      "ax = fig.add_subplot(111, axisbg='w', polar=True)\n",
      "fig, ax = mp.histedges_theta(edgeslist, fig=fig, a=ax)\n",
      "v_hist, v_theta_edges = mp.histedges_theta(edgeslist, display=False)\n",
      "ax.plot((v_theta_edges[1:]+v_theta_edges[:-1])/2, np.ones_like(v_hist)*v_hist.mean(), 'r--')\n",
      "ax.plot((v_theta_edges[1:]+v_theta_edges[:-1])/2+np.pi, np.ones_like(v_hist)*v_hist.mean(), 'r--')\n",
      "\n",
      "for ext in FORMATS: fig.savefig(mp.pe.figpath + 'firstorder_A.' + ext)"
     ],
     "language": "python",
     "metadata": {},
     "outputs": [
      {
       "metadata": {
        "png": {
         "height": 191,
         "width": 197
        }
       },
       "output_type": "display_data",
       "png": "[encoded data removed]",
       "text": [
        "<matplotlib.figure.Figure at 0x109d71c50>"
       ]
      }
     ],
     "prompt_number": 7
    },
    {
     "cell_type": "code",
     "collapsed": false,
     "input": [
      "#print v_hist, (v_theta_edges-v_theta_bin/2)*180/np.pi\n",
      "v_hist, v_theta_edges = mp.histedges_theta(edgeslist, display=False)\n",
      "v_theta_middles, v_theta_bin  = (v_theta_edges[1:]+v_theta_edges[:-1])/2, v_theta_edges[1]-v_theta_edges[0]"
     ],
     "language": "python",
     "metadata": {},
     "outputs": [],
     "prompt_number": 8
    },
    {
     "cell_type": "code",
     "collapsed": false,
     "input": [
      "print 'angles for the edges of bins (deg) = ', v_theta_edges*180/np.pi\n",
      "print 'angles for the middle of bins (deg) = ', v_theta_middles*180/np.pi\n",
      "print 'angles for the center of bins (deg) = ', (v_theta_edges-v_theta_bin/2)*180/np.pi"
     ],
     "language": "python",
     "metadata": {},
     "outputs": [
      {
       "output_type": "stream",
       "stream": "stdout",
       "text": [
        "angles for the edges of bins (deg) =  [-86.25 -78.75 -71.25 -63.75 -56.25 -48.75 -41.25 -33.75 -26.25 -18.75\n",
        " -11.25  -3.75   3.75  11.25  18.75  26.25  33.75  41.25  48.75  56.25\n",
        "  63.75  71.25  78.75  86.25  93.75]\n",
        "angles for the middle of bins (deg) =  [-82.5 -75.  -67.5 -60.  -52.5 -45.  -37.5 -30.  -22.5 -15.   -7.5  -0.\n",
        "   7.5  15.   22.5  30.   37.5  45.   52.5  60.   67.5  75.   82.5  90. ]\n",
        "angles for the center of bins (deg) =  [-90.  -82.5 -75.  -67.5 -60.  -52.5 -45.  -37.5 -30.  -22.5 -15.   -7.5\n",
        "  -0.    7.5  15.   22.5  30.   37.5  45.   52.5  60.   67.5  75.   82.5\n",
        "  90. ]\n"
       ]
      }
     ],
     "prompt_number": 9
    },
    {
     "cell_type": "raw",
     "metadata": {},
     "source": [
      "edges = np.load('./mat/edges/efficiency_n_theta_24_serre07_distractors/Bda_int16.jpg[0, 256, 0, 256].npy')\n",
      "plt.hist(edges[2])\n"
     ]
    },
    {
     "cell_type": "markdown",
     "metadata": {},
     "source": [
      "Now, we may use this statistics:\n"
     ]
    },
    {
     "cell_type": "raw",
     "metadata": {},
     "source": [
      "z = np.linspace(1./pe.n_theta, 1., pe.n_theta)\n",
      "P = np.cumsum(v_hist)# np.hstack((0, np.cumsum(v_hist)))\n",
      "theta_prior = np.interp(z, P, v_theta_middles)"
     ]
    },
    {
     "cell_type": "code",
     "collapsed": false,
     "input": [
      "z = np.linspace(0, 1., pe.n_theta+1)\n",
      "P = np.cumsum(np.hstack((0, v_hist[-1]/2, v_hist[:-1], v_hist[-1]/2)))\n",
      "print z.shape, P.shape, P[0], P[-1]\n",
      "#theta_prior = np.interp(z, P, v_theta_middles)\n",
      "#theta_prior = np.interp(z, P, np.hstack((v_theta_edges[-1]-np.pi, v_theta_edges))) #% np.pi\n",
      "#theta_prior = np.interp(z, P, v_theta_edges-v_theta_bin/2) #% np.pi\n",
      "theta_prior = np.interp(z, P, np.hstack((v_theta_edges[0]-v_theta_bin/2, v_theta_edges[:-1], v_theta_edges[-1]-v_theta_bin/2))) #% np.pi"
     ],
     "language": "python",
     "metadata": {},
     "outputs": [
      {
       "output_type": "stream",
       "stream": "stdout",
       "text": [
        "(25,) (26,) 0.0 1.0\n"
       ]
      }
     ],
     "prompt_number": 10
    },
    {
     "cell_type": "code",
     "collapsed": false,
     "input": [
      "z = z[1:]\n",
      "P=P[1:]\n",
      "print 'z = ', z\n",
      "print 'P = ', P\n",
      "#print pe.n_theta, z.shape, P.shape\n",
      "#print np.hstack((0, np.cumsum(v_hist)))\n",
      "print 'angles (deg) = ', mp.theta*180/np.pi\n",
      "print 'angles (deg) = ', theta_prior*180/np.pi\n",
      "#print 'angles (deg) = ', np.interp(z, np.hstack((0, np.cumsum(v_hist))), (v_theta_edges-v_theta_bin/2))*180/np.pi\n",
      "#print mp.theta.shape, theta_prior.shape"
     ],
     "language": "python",
     "metadata": {},
     "outputs": [
      {
       "output_type": "stream",
       "stream": "stdout",
       "text": [
        "z =  [ 0.04  0.08  0.12  0.17  0.21  0.25  0.29  0.33  0.38  0.42  0.46  0.5\n",
        "  0.54  0.58  0.62  0.67  0.71  0.75  0.79  0.83  0.88  0.92  0.96  1.  ]\n",
        "P =  [ 0.03  0.06  0.1   0.14  0.16  0.2   0.24  0.27  0.3   0.34  0.38  0.44\n",
        "  0.56  0.62  0.66  0.7   0.74  0.77  0.8   0.83  0.86  0.89  0.93  0.97\n",
        "  1.  ]\n",
        "angles (deg) =  [-82.5 -75.  -67.5 -60.  -52.5 -45.  -37.5 -30.  -22.5 -15.   -7.5   0.\n",
        "   7.5  15.   22.5  30.   37.5  45.   52.5  60.   67.5  75.   82.5  90. ]\n",
        "angles (deg) =  [-90.   -83.26 -74.86 -65.95 -55.57 -47.41 -37.78 -28.7  -20.06 -11.95\n",
        "  -6.66  -2.66  -0.06   2.54   6.84  12.97  20.33  28.11  36.39  45.9\n",
        "  56.27  66.46  75.6   83.46  90.  ]\n"
       ]
      }
     ],
     "prompt_number": 11
    },
    {
     "cell_type": "code",
     "collapsed": false,
     "input": [
      "fig, [[B, C], [A, D]] = plt.subplots(2, 2, figsize=(fig_width, fig_width/1.618), subplot_kw={'axisbg':'w'}, sharex=True)\n",
      "for ax in [A, B, C, D]:\n",
      "    ax.spines['right'].set_visible(False)\n",
      "    ax.spines['top'].set_visible(False)\n",
      "#  subplots_adjust(left=None, bottom=None, right=None, top=None,\n",
      "#                  wspace=None, hspace=None)\n",
      "#\n",
      "#The parameter meanings (and suggested defaults) are::\n",
      "#\n",
      "#  left  = 0.125  # the left side of the subplots of the figure\n",
      "#  right = 0.9    # the right side of the subplots of the figure\n",
      "#  bottom = 0.1   # the bottom of the subplots of the figure\n",
      "#  top = 0.9      # the top of the subplots of the figure\n",
      "#  wspace = 0.2   # the amount of width reserved for blank space between subplots\n",
      "#  hspace = 0.2   # the amount of height reserved for white space between subplots\n",
      "fig.subplots_adjust(wspace=0.1, hspace=0.1,\n",
      "                    left=0.125, right=0.9,\n",
      "                    top=0.9,    bottom=0.175)\n",
      "A.bar(v_theta_edges-v_theta_bin, np.hstack((v_hist[-1], v_hist)), alpha=.6, width=v_theta_bin)\n",
      "#A.bar(v_theta_edges[:-1], v_hist, alpha=.6, width=v_theta_bin, align='edge')\n",
      "A.hlines([v_hist.mean()], [v_theta_edges[0]-v_theta_bin/8.], [v_theta_edges[-1]+v_theta_bin/8.], lw=.5, color='r', linestyle='--', alpha=.6)\n",
      "plt.setp(A, yticklabels=[], ylabel=r'$p(\\theta)$',#xlim=[v_theta_edges[0]-v_theta_bin/4, v_theta_edges[-1]+v_theta_bin/4], \n",
      "         #xticks=[-np.pi/2, 0, np.pi/2], xticklabels=[r'$\\frac{-\\pi}{2}$', r'$0$', r'$\\frac{\\pi}{2}$'], \n",
      "         xticks=[0, np.pi/2], xticklabels=[r'$0$', r'$\\frac{\\pi}{2}$'], \n",
      "         xlabel=r'$\\theta$ (rad)')\n",
      "B.step(v_theta_edges, P, where='pre')\n",
      "B.vlines(((mp.theta[:-1] + np.pi/2 + v_theta_bin/4)  % np.pi ) - np.pi/2  + v_theta_bin/4, [0], P[1:], lw=.5, color='k', alpha=.6)\n",
      "plt.setp(B, xticks=[], ylim=[0, 1.02], yticks=[0., 0.5, 1.], yticklabels=['0', r'$\\frac{1}{2}$', '1'], ylabel=r'$P(\\theta)$')#, xlim=[v_theta_edges[0], v_theta_edges[-1]]\n",
      "#B.text(-np.pi/2*1.65, 1.05, '(B)')\n",
      "C.plot(v_theta_edges, P)\n",
      "C.hlines(z[:-1], [v_theta_edges[0]-v_theta_bin/2], theta_prior[1:], lw=.5)\n",
      "C.vlines(theta_prior[1:], [0], z[:-1], lw=.5, color='r', alpha=.6)\n",
      "#C.text(-np.pi/2*1.1, 1.05, '(C)')\n",
      "bord = 0.01\n",
      "plt.setp(C, ylim=[0,1.05], xticks=[], yticks=[])#, xlim=[v_theta_edges[0], v_theta_edges[-1]]\n",
      "#D.axis('tight')\n",
      "#D.vlines((theta_prior + np.pi/2) % np.pi  - np.pi/2, [0], np.ones_like(z), lw=.5, color='r')\n",
      "D.vlines(theta_prior, [0], np.ones_like(z), lw=.5, color='r', alpha=.6)\n",
      "D.vlines([-np.pi/2, np.pi/2], [0], np.ones_like(z), lw=.5, color='r', alpha=.6)\n",
      "#D.vlines(((mp.theta[:-1] + np.pi/2 + v_theta_bin/2)  % np.pi ) - np.pi/2  - v_theta_bin/2, [0], np.ones_like(z), lw=.5, color='k', alpha=.6)\n",
      "#D.plot(theta, np.ones_like(z), ms='^', lw=0, color='r')\n",
      "plt.setp(D, ylim=[0, 1.1], yticks=[], xlim=[v_theta_edges[0]-v_theta_bin/2-bord, v_theta_edges[-1]-v_theta_bin/2+bord], \n",
      "         xticks=[-np.pi/2, 0, np.pi/2], xticklabels=[r'$\\frac{-\\pi}{2}$', r'$0$', r'$\\frac{\\pi}{2}$'], \n",
      "         #xticks=[0, np.pi/2], xticklabels=[r'$0$', r'$\\frac{\\pi}{2}$'], \n",
      "         xlabel=r'$\\theta$ (rad)')\n",
      "#D.text(-np.pi/2*1.1, 1.35, '(D)')\n",
      "for ext in FORMATS: fig.savefig(mp.pe.figpath + 'laughlin.' + ext)"
     ],
     "language": "python",
     "metadata": {},
     "outputs": [
      {
       "metadata": {
        "png": {
         "height": 197,
         "width": 293
        }
       },
       "output_type": "display_data",
       "png": "[encoded data removed]",
       "text": [
        "<matplotlib.figure.Figure at 0x109face10>"
       ]
      }
     ],
     "prompt_number": 12
    },
    {
     "cell_type": "code",
     "collapsed": false,
     "input": [
      "%%writefile experiment_fig-firstorder.py\n",
      "# -*- coding: utf8 -*-\n",
      "\"\"\"\n",
      "\n",
      "$ python experiment_fig-firstorder.py\n",
      "\n",
      "rm -fr **/prior_* **/**/prior_*\n",
      "rm -fr **/prior_vanilla* **/**/prior_vanilla*\n",
      "rm -fr **/prior_firstorder* **/**/prior_firstorder*\n",
      "\n",
      "\"\"\"\n",
      "import __init__\n",
      "import numpy as np\n",
      "from NeuroTools.parameters import ParameterSet\n",
      "from SLIP import Image\n",
      "from LogGabor import LogGabor\n",
      "from SparseEdges import SparseEdges\n",
      "\n",
      "pe = ParameterSet('default_param.py')\n",
      "pe.seed = 42 # this ensures that all image lists are the same for the different experiments\n",
      "pe.N_image = 9\n",
      "pe.N = 512\n",
      "im = Image(pe)\n",
      "lg = LogGabor(im)\n",
      "mp = SparseEdges(lg)\n",
      "\n",
      "for name_database in ['serre07_distractors']:#, 'laboratory']:\n",
      "    # control experiment\n",
      "    imageslist, edgeslist, RMSE = mp.process(exp='prior_vanilla', name_database=name_database)\n",
      "    imageslist, edgeslist_noise, RMSE = mp.process(exp='prior_vanilla_noise', name_database=name_database, noise=pe.noise)\n",
      "\n",
      "    try:\n",
      "        # first-order prior\n",
      "        v_hist, v_theta_edges = mp.histedges_theta(edgeslist, display=False)\n",
      "        v_theta_middles, v_theta_bin  = (v_theta_edges[1:]+v_theta_edges[:-1])/2, v_theta_edges[1]-v_theta_edges[0]\n",
      "        \n",
      "        z = np.linspace(0, 1., pe.n_theta+1)\n",
      "        P = np.cumsum(np.hstack((0, v_hist[-1]/2, v_hist[:-1], v_hist[-1]/2)))\n",
      "        theta_prior = np.interp(z, P, np.hstack((v_theta_edges[0]-v_theta_bin/2, v_theta_edges[:-1], v_theta_edges[-1]-v_theta_bin/2))) #% np.pi\n",
      "        mp.theta = (theta_prior[1:-1]) % (np.pi)\n",
      "\n",
      "        imageslist, edgeslist, RMSE =  mp.process(exp='prior_firstorder', name_database=name_database)\n",
      "        imageslist, edgeslist, RMSE = mp.process(exp='prior_firstorder_noise', name_database=name_database, noise=pe.noise)\n",
      "    except:\n",
      "        print('run again once first batches are finished ')\n"
     ],
     "language": "python",
     "metadata": {},
     "outputs": [
      {
       "output_type": "stream",
       "stream": "stdout",
       "text": [
        "Overwriting experiment_fig-firstorder.py\n"
       ]
      }
     ],
     "prompt_number": 13
    },
    {
     "cell_type": "code",
     "collapsed": false,
     "input": [
      "%run experiment_fig-firstorder.py"
     ],
     "language": "python",
     "metadata": {},
     "outputs": [
      {
       "output_type": "stream",
       "stream": "stderr",
       "text": [
        "INFO:SparseEdges: > computing edges for experiment prior_vanilla with database serre07_distractors \n"
       ]
      },
      {
       "output_type": "stream",
       "stream": "stderr",
       "text": [
        "INFO:SparseEdges:>>> For the class serre07_distractors, in experiment prior_vanilla RMSE = 0.246826 \n"
       ]
      },
      {
       "output_type": "stream",
       "stream": "stderr",
       "text": [
        "INFO:SparseEdges: > computing edges for experiment prior_vanilla_noise with database serre07_distractors \n"
       ]
      },
      {
       "output_type": "stream",
       "stream": "stderr",
       "text": [
        "INFO:SparseEdges:>>> For the class serre07_distractors, in experiment prior_vanilla_noise RMSE = 0.300413 \n"
       ]
      },
      {
       "output_type": "stream",
       "stream": "stderr",
       "text": [
        "INFO:SparseEdges: > computing edges for experiment prior_firstorder with database serre07_distractors \n"
       ]
      },
      {
       "output_type": "stream",
       "stream": "stderr",
       "text": [
        "INFO:SparseEdges:>>> For the class serre07_distractors, in experiment prior_firstorder RMSE = 0.250297 \n"
       ]
      },
      {
       "output_type": "stream",
       "stream": "stderr",
       "text": [
        "INFO:SparseEdges: > computing edges for experiment prior_firstorder_noise with database serre07_distractors \n"
       ]
      },
      {
       "output_type": "stream",
       "stream": "stderr",
       "text": [
        "INFO:SparseEdges:>>> For the class serre07_distractors, in experiment prior_firstorder_noise RMSE = 0.302844 \n"
       ]
      }
     ],
     "prompt_number": 14
    },
    {
     "cell_type": "code",
     "collapsed": false,
     "input": [
      "FORMATS = ['pdf', 'eps']\n",
      "#experiments = ['prior_vanilla', 'prior_vanilla_noise', 'prior_firstorder', 'prior_firstorder_noise']\n",
      "#experiments = ['prior_vanilla', 'prior_vanilla_noise', 'prior_firstorder_noise']\n",
      "#experiments = ['prior_vanilla_noise', 'prior_vanilla_firstorder_noise']\n",
      "experiments = ['prior_vanilla_noise', 'prior_firstorder_noise']\n",
      "databases = ['serre07_distractors'] * len(experiments)\n",
      "#databases = ['laboratory'] * len(experiments)\n",
      "#labels = ['control', 'noise', 'with prior', 'noise (prior)']\n",
      "#labels = ['control', 'noise', 'noise (prior)']\n",
      "labels = ['control', 'with prior']\n",
      "mps = [mp] * len(experiments)\n",
      "from SparseEdges import plot\n",
      "fig = plt.figure(figsize=(fig_width/1.618, fig_width/1.618))\n",
      "fig, a, ax = plot(mps=mps, experiments=experiments, databases=databases, fig=fig, labels=labels, color=[0., 0., 1.], threshold=0.4, ref=2, scale=True)    \n",
      "for ext in FORMATS: fig.savefig(mp.pe.figpath + 'firstorder_C.' + ext)"
     ],
     "language": "python",
     "metadata": {},
     "outputs": []
    },
    {
     "cell_type": "code",
     "collapsed": false,
     "input": [
      "print 'angles (deg) = ', theta_prior*180/np.pi\n",
      "imageslist, edgeslist, RMSE =  mp.process('prior_vanilla_firstorder', name_database=name_database)\n",
      "\n",
      "theta = (edgeslist[2, ...].ravel())\n",
      "theta = ((theta + np.pi/2 - np.pi/mp.pe.N_Dtheta/2)  % np.pi ) - np.pi/2  + np.pi/mp.pe.N_Dtheta/2\n",
      "value = edgeslist[4, ...].ravel()\n",
      "\n",
      "if mp.pe.edge_mask:\n",
      "    # remove edges whose center position is not on the central disk\n",
      "    x , y = edgeslist[0, ...].ravel().real, edgeslist[1, ...].ravel().real\n",
      "    mask = ((x/mp.N_X -.5)**2+(y/mp.N_Y -.5)**2) < .5**2\n",
      "    theta = theta[mask]\n",
      "    value = value[mask]\n",
      "\n",
      "weights = np.absolute(value)/(np.absolute(value)).sum()\n",
      "\n",
      "print 'angles (deg) = ',  np.hstack((theta_prior, theta_prior[0]+np.pi))*180/np.pi\n",
      "#theta_bin = np.linspace(- np.pi/2  + np.pi/mp.pe.N_Dtheta/2, np.pi/2  + np.pi/mp.pe.N_Dtheta/2, 48)\n",
      "#theta_bin = np.hstack((theta_prior, theta_prior[0]+np.pi)) - np.pi/320#mp.pe.N_Dtheta/2\n",
      "theta_bin = .5 * ( np.hstack((theta_prior[-1]-np.pi, theta_prior)) +\n",
      "                  np.hstack((theta_prior, theta_prior[0]+np.pi)) )\n",
      "print 'angles (deg) = ',  theta_bin*180/np.pi\n",
      "v_hist, v_theta_edges_ = np.histogram(theta, bins=theta_bin, density=False, weights=weights)\n",
      "\n",
      "#plotting\n",
      "fig = plt.figure(figsize=(fig_width/1.618, fig_width/1.618))\n",
      "ax = fig.add_subplot(111, axisbg='w', polar=True)\n",
      "#fig, ax = mp.histedges_theta(edgeslist, fig=fig, a=ax)\n",
      "#v_hist, v_theta_edges = mp.histedges_theta(edgeslist, display=False)\n",
      "ax.bar(theta_bin[1:], v_hist, width=theta_bin[:-1] - theta_bin[1:], color='b')# edgecolor=\"none\")\n",
      "ax.bar(theta_bin[1:]+np.pi, v_hist, width=theta_bin[:-1] - theta_bin[1:], color='g')\n",
      "ax.plot((v_theta_edges_[1:]+v_theta_edges_[:-1])/2, np.ones_like(v_hist)*v_hist.mean(), 'r--')\n",
      "ax.plot((v_theta_edges_[1:]+v_theta_edges_[:-1])/2+np.pi, np.ones_like(v_hist)*v_hist.mean(), 'r--')\n",
      "plt.setp(ax, yticks=[])\n",
      "for ext in FORMATS: fig.savefig(mp.pe.figpath + 'firstorder_B.' + ext)"
     ],
     "language": "python",
     "metadata": {},
     "outputs": [
      {
       "output_type": "stream",
       "stream": "stderr",
       "text": [
        "INFO:SparseEdges: > computing edges for experiment prior_vanilla_firstorder with database serre07_distractors \n"
       ]
      },
      {
       "output_type": "stream",
       "stream": "stderr",
       "text": [
        "INFO:SparseEdges: >> There is no edgeslist: [Errno 2] No such file or directory: 'mat/edges/prior_vanilla_firstorder_serre07_distractors_edges.npy' \n"
       ]
      },
      {
       "output_type": "stream",
       "stream": "stderr",
       "text": [
        "INFO:SparseEdges:>> Doing the edge extraction\n"
       ]
      },
      {
       "output_type": "stream",
       "stream": "stderr",
       "text": [
        "INFO:SparseEdges:The edge extraction at step mat/edges/prior_vanilla_firstorder_serre07_distractors/Bdn_natu133.jpg[0, 256, 0, 256].npy is locked\n"
       ]
      }
     ]
    },
    {
     "cell_type": "heading",
     "level": 2,
     "metadata": {},
     "source": [
      "some book keeping for the notebook"
     ]
    },
    {
     "cell_type": "code",
     "collapsed": false,
     "input": [
      "%install_ext https://raw.githubusercontent.com/rasbt/python_reference/master/ipython_magic/watermark.py\n",
      "%load_ext watermark\n",
      "%watermark"
     ],
     "language": "python",
     "metadata": {},
     "outputs": []
    },
    {
     "cell_type": "code",
     "collapsed": false,
     "input": [
      "%install_ext http://raw.github.com/jrjohansson/version_information/master/version_information.py\n",
      "%load_ext version_information\n",
      "%version_information numpy, scipy, matplotlib, sympy"
     ],
     "language": "python",
     "metadata": {},
     "outputs": []
    },
    {
     "cell_type": "code",
     "collapsed": false,
     "input": [
      "# CSS styling within IPython notebook\n",
      "from IPython.core.display import HTML\n",
      "def css_styling():\n",
      "    styles = open(\"custom.css\", \"r\").read()\n",
      "    return HTML(styles)\n",
      "css_styling()"
     ],
     "language": "python",
     "metadata": {},
     "outputs": []
    },
    {
     "cell_type": "code",
     "collapsed": false,
     "input": [],
     "language": "python",
     "metadata": {},
     "outputs": []
    }
   ],
   "metadata": {}
  }
 ]
}