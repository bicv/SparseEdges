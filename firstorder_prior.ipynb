{
 "metadata": {
  "name": "",
  "signature": "sha256:3aba0b07dd818111b5761a78e6bc736edf36ca896280b59c078f4badcaf6fb1f"
 },
 "nbformat": 3,
 "nbformat_minor": 0,
 "worksheets": [
  {
   "cells": [
    {
     "cell_type": "heading",
     "level": 1,
     "metadata": {},
     "source": [
      "SparseEdges : including prior information"
     ]
    },
    {
     "cell_type": "markdown",
     "metadata": {},
     "source": [
      "\n",
      "Using prior information in the edge extraction\n",
      "\n",
      "\n",
      "Table of content\n",
      "\n",
      "* [Prior on first-order distribution of orientations](#Prior-on-first-order-distribution-of-orientations)\n",
      "* [Prior on second-order distribution of edge co-occurences](#Prior-on-second-order-distribution-of-orientations)\n",
      "* [Application to segmentation](#Application-to-segmentation)\n"
     ]
    },
    {
     "cell_type": "heading",
     "level": 2,
     "metadata": {},
     "source": [
      "Initialization"
     ]
    },
    {
     "cell_type": "code",
     "collapsed": false,
     "input": [
      "#import matplotlib\n",
      "#matplotlib.rcParams.update({'font.size': 18, 'font.family': 'STIXGeneral', 'mathtext.fontset': 'stix'})\n",
      "#matplotlib.rcParams.update({'text.usetex': False})\n",
      "%matplotlib inline\n",
      "%config InlineBackend.figure_format='retina'\n",
      "#%config InlineBackend.figure_format = 'svg'\n",
      "import matplotlib.pyplot as plt\n",
      "import numpy as np\n",
      "np.set_printoptions(precision=2, suppress=True)\n",
      "FORMATS = ['pdf', 'eps']"
     ],
     "language": "python",
     "metadata": {},
     "outputs": [],
     "prompt_number": 1
    },
    {
     "cell_type": "code",
     "collapsed": false,
     "input": [
      "from NeuroTools.parameters import ParameterSet\n",
      "from SLIP import Image\n",
      "from LogGabor import LogGabor\n",
      "from SparseEdges import SparseEdges"
     ],
     "language": "python",
     "metadata": {},
     "outputs": [],
     "prompt_number": 2
    },
    {
     "cell_type": "code",
     "collapsed": false,
     "input": [
      "#! defining framework\n",
      "#!-------------------\n",
      "pe = ParameterSet('default_param.py')\n",
      "#pe.N = 4\n",
      "#pe.do_mask=False\n",
      "#pe.MP_alpha=1.\n",
      "#pe.do_whitening = False\n",
      "im = Image(pe)\n",
      "lg = LogGabor(im)\n",
      "mp = SparseEdges(lg)\n",
      "\n",
      "print 'Range of spatial frequencies: ', mp.sf_0"
     ],
     "language": "python",
     "metadata": {},
     "outputs": [
      {
       "output_type": "stream",
       "stream": "stdout",
       "text": [
        "Range of spatial frequencies:  [ 0.62  0.38  0.24  0.15  0.09  0.06  0.03  0.02  0.01  0.01  0.01]\n"
       ]
      }
     ],
     "prompt_number": 3
    },
    {
     "cell_type": "code",
     "collapsed": false,
     "input": [
      "print 'Range of angles: ', mp.theta*180./np.pi"
     ],
     "language": "python",
     "metadata": {},
     "outputs": [
      {
       "output_type": "stream",
       "stream": "stdout",
       "text": [
        "Range of angles:  [-82.5 -75.  -67.5 -60.  -52.5 -45.  -37.5 -30.  -22.5 -15.   -7.5   0.\n",
        "   7.5  15.   22.5  30.   37.5  45.   52.5  60.   67.5  75.   82.5  90. ]\n"
       ]
      }
     ],
     "prompt_number": 4
    },
    {
     "cell_type": "heading",
     "level": 2,
     "metadata": {},
     "source": [
      "Prior on first-order distribution of orientations"
     ]
    },
    {
     "cell_type": "markdown",
     "metadata": {},
     "source": [
      "First, we retrieve edges from a prior edge extraction"
     ]
    },
    {
     "cell_type": "code",
     "collapsed": false,
     "input": [
      "name_database = 'serre07_distractors_urban'\n",
      "imageslist, edgeslist, RMSE = mp.process(exp='prior_vanilla_noise', name_database=name_database)"
     ],
     "language": "python",
     "metadata": {},
     "outputs": [
      {
       "output_type": "stream",
       "stream": "stderr",
       "text": [
        "INFO:SparseEdges: > computing edges for experiment prior_vanilla_noise with database serre07_distractors_urban \n"
       ]
      },
      {
       "output_type": "stream",
       "stream": "stderr",
       "text": [
        "INFO:SparseEdges: >> There is no RMSE: [Errno 2] No such file or directory: 'mat/edges/prior_vanilla_noise_serre07_distractors_urban_RMSE.npy' \n"
       ]
      },
      {
       "output_type": "stream",
       "stream": "stderr",
       "text": [
        "ERROR:SparseEdges: some locked RMSE extractions could not broadcast input array from shape (512) into shape (2048), error \n"
       ]
      },
      {
       "output_type": "stream",
       "stream": "stderr",
       "text": [
        "INFO:SparseEdges:>> RMSE extraction mat/edges/prior_vanilla_noise_serre07_distractors_urban is locked\n"
       ]
      },
      {
       "output_type": "stream",
       "stream": "stderr",
       "text": [
        "ERROR:SparseEdges:Failed to display RMSE string indices must be integers, not tuple \n"
       ]
      }
     ],
     "prompt_number": 5
    },
    {
     "cell_type": "code",
     "collapsed": false,
     "input": [
      "imageslist, edgeslist, RMSE = mp.process(exp='prior_vanilla', name_database=name_database)"
     ],
     "language": "python",
     "metadata": {},
     "outputs": [
      {
       "output_type": "stream",
       "stream": "stderr",
       "text": [
        "INFO:SparseEdges: > computing edges for experiment prior_vanilla with database serre07_distractors_urban \n"
       ]
      },
      {
       "output_type": "stream",
       "stream": "stderr",
       "text": [
        "INFO:SparseEdges: >> There is no edgeslist: [Errno 2] No such file or directory: 'mat/edges/prior_vanilla_serre07_distractors_urban_edges.npy' \n"
       ]
      },
      {
       "output_type": "stream",
       "stream": "stderr",
       "text": [
        "INFO:SparseEdges:>> Doing the edge extraction\n"
       ]
      },
      {
       "output_type": "stream",
       "stream": "stderr",
       "text": [
        "ERROR:SparseEdges: some locked edge extractions could not broadcast input array from shape (6,512) into shape (6,2048), error \n"
       ]
      },
      {
       "output_type": "stream",
       "stream": "stderr",
       "text": [
        "INFO:SparseEdges:>> Edge extraction mat/edges/prior_vanilla_serre07_distractors_urban is locked\n"
       ]
      }
     ],
     "prompt_number": 6
    },
    {
     "cell_type": "raw",
     "metadata": {},
     "source": [
      "print figpath\n",
      "!ls ../../CNRS/BICV-book/BICV_INT/BICV-sparse/"
     ]
    },
    {
     "cell_type": "code",
     "collapsed": false,
     "input": [
      "#fig, (a1, a2) = plt.subplots(1, 2)\n",
      "#fig, a1 = mp.histedges_theta(edgeslist, fig=fig, a=a1)\n",
      "#fig, a2 = mp.histedges_theta(edgeslist, fig=fig, a=a1)\n",
      "fig_width_pt = 318.670  # Get this from LaTeX using \\showthe\\columnwidth\n",
      "inches_per_pt = 1.0/72.27               # Convert pt to inches\n",
      "fig_width = fig_width_pt*inches_per_pt  # width in inches\n",
      "fig = plt.figure(figsize=(fig_width/1.618, fig_width/1.618))\n",
      "ax = fig.add_subplot(111, axisbg='w', polar=True)\n",
      "fig, ax = mp.histedges_theta(edgeslist, fig=fig, a=ax)\n",
      "v_hist, v_theta_edges = mp.histedges_theta(edgeslist, display=False)\n",
      "ax.plot((v_theta_edges[1:]+v_theta_edges[:-1])/2, np.ones_like(v_hist)*v_hist.mean(), 'r--')\n",
      "ax.plot((v_theta_edges[1:]+v_theta_edges[:-1])/2+np.pi, np.ones_like(v_hist)*v_hist.mean(), 'r--')\n",
      "\n",
      "for ext in FORMATS: fig.savefig(mp.pe.figpath + 'firstorder_A.' + ext)"
     ],
     "language": "python",
     "metadata": {},
     "outputs": [
      {
       "ename": "TypeError",
       "evalue": "string indices must be integers, not tuple",
       "output_type": "pyerr",
       "traceback": [
        "\u001b[0;31m---------------------------------------------------------------------------\u001b[0m\n\u001b[0;31mTypeError\u001b[0m                                 Traceback (most recent call last)",
        "\u001b[0;32m<ipython-input-7-68d831d2c5fe>\u001b[0m in \u001b[0;36m<module>\u001b[0;34m()\u001b[0m\n\u001b[1;32m      7\u001b[0m \u001b[0mfig\u001b[0m \u001b[0;34m=\u001b[0m \u001b[0mplt\u001b[0m\u001b[0;34m.\u001b[0m\u001b[0mfigure\u001b[0m\u001b[0;34m(\u001b[0m\u001b[0mfigsize\u001b[0m\u001b[0;34m=\u001b[0m\u001b[0;34m(\u001b[0m\u001b[0mfig_width\u001b[0m\u001b[0;34m/\u001b[0m\u001b[0;36m1.618\u001b[0m\u001b[0;34m,\u001b[0m \u001b[0mfig_width\u001b[0m\u001b[0;34m/\u001b[0m\u001b[0;36m1.618\u001b[0m\u001b[0;34m)\u001b[0m\u001b[0;34m)\u001b[0m\u001b[0;34m\u001b[0m\u001b[0m\n\u001b[1;32m      8\u001b[0m \u001b[0max\u001b[0m \u001b[0;34m=\u001b[0m \u001b[0mfig\u001b[0m\u001b[0;34m.\u001b[0m\u001b[0madd_subplot\u001b[0m\u001b[0;34m(\u001b[0m\u001b[0;36m111\u001b[0m\u001b[0;34m,\u001b[0m \u001b[0maxisbg\u001b[0m\u001b[0;34m=\u001b[0m\u001b[0;34m'w'\u001b[0m\u001b[0;34m,\u001b[0m \u001b[0mpolar\u001b[0m\u001b[0;34m=\u001b[0m\u001b[0mTrue\u001b[0m\u001b[0;34m)\u001b[0m\u001b[0;34m\u001b[0m\u001b[0m\n\u001b[0;32m----> 9\u001b[0;31m \u001b[0mfig\u001b[0m\u001b[0;34m,\u001b[0m \u001b[0max\u001b[0m \u001b[0;34m=\u001b[0m \u001b[0mmp\u001b[0m\u001b[0;34m.\u001b[0m\u001b[0mhistedges_theta\u001b[0m\u001b[0;34m(\u001b[0m\u001b[0medgeslist\u001b[0m\u001b[0;34m,\u001b[0m \u001b[0mfig\u001b[0m\u001b[0;34m=\u001b[0m\u001b[0mfig\u001b[0m\u001b[0;34m,\u001b[0m \u001b[0ma\u001b[0m\u001b[0;34m=\u001b[0m\u001b[0max\u001b[0m\u001b[0;34m)\u001b[0m\u001b[0;34m\u001b[0m\u001b[0m\n\u001b[0m\u001b[1;32m     10\u001b[0m \u001b[0mv_hist\u001b[0m\u001b[0;34m,\u001b[0m \u001b[0mv_theta_edges\u001b[0m \u001b[0;34m=\u001b[0m \u001b[0mmp\u001b[0m\u001b[0;34m.\u001b[0m\u001b[0mhistedges_theta\u001b[0m\u001b[0;34m(\u001b[0m\u001b[0medgeslist\u001b[0m\u001b[0;34m,\u001b[0m \u001b[0mdisplay\u001b[0m\u001b[0;34m=\u001b[0m\u001b[0mFalse\u001b[0m\u001b[0;34m)\u001b[0m\u001b[0;34m\u001b[0m\u001b[0m\n\u001b[1;32m     11\u001b[0m \u001b[0max\u001b[0m\u001b[0;34m.\u001b[0m\u001b[0mplot\u001b[0m\u001b[0;34m(\u001b[0m\u001b[0;34m(\u001b[0m\u001b[0mv_theta_edges\u001b[0m\u001b[0;34m[\u001b[0m\u001b[0;36m1\u001b[0m\u001b[0;34m:\u001b[0m\u001b[0;34m]\u001b[0m\u001b[0;34m+\u001b[0m\u001b[0mv_theta_edges\u001b[0m\u001b[0;34m[\u001b[0m\u001b[0;34m:\u001b[0m\u001b[0;34m-\u001b[0m\u001b[0;36m1\u001b[0m\u001b[0;34m]\u001b[0m\u001b[0;34m)\u001b[0m\u001b[0;34m/\u001b[0m\u001b[0;36m2\u001b[0m\u001b[0;34m,\u001b[0m \u001b[0mnp\u001b[0m\u001b[0;34m.\u001b[0m\u001b[0mones_like\u001b[0m\u001b[0;34m(\u001b[0m\u001b[0mv_hist\u001b[0m\u001b[0;34m)\u001b[0m\u001b[0;34m*\u001b[0m\u001b[0mv_hist\u001b[0m\u001b[0;34m.\u001b[0m\u001b[0mmean\u001b[0m\u001b[0;34m(\u001b[0m\u001b[0;34m)\u001b[0m\u001b[0;34m,\u001b[0m \u001b[0;34m'r--'\u001b[0m\u001b[0;34m)\u001b[0m\u001b[0;34m\u001b[0m\u001b[0m\n",
        "\u001b[0;32m/Users/lolo/Dropbox/science/SparseEdges/SparseEdges.pyc\u001b[0m in \u001b[0;36mhistedges_theta\u001b[0;34m(self, edgeslist, fig, a, display)\u001b[0m\n\u001b[1;32m    367\u001b[0m         \u001b[0mself\u001b[0m\u001b[0;34m.\u001b[0m\u001b[0minit_edges\u001b[0m\u001b[0;34m(\u001b[0m\u001b[0;34m)\u001b[0m\u001b[0;34m\u001b[0m\u001b[0m\n\u001b[1;32m    368\u001b[0m \u001b[0;34m\u001b[0m\u001b[0m\n\u001b[0;32m--> 369\u001b[0;31m         \u001b[0mtheta\u001b[0m \u001b[0;34m=\u001b[0m \u001b[0;34m(\u001b[0m\u001b[0medgeslist\u001b[0m\u001b[0;34m[\u001b[0m\u001b[0;36m2\u001b[0m\u001b[0;34m,\u001b[0m \u001b[0;34m.\u001b[0m\u001b[0;34m.\u001b[0m\u001b[0;34m.\u001b[0m\u001b[0;34m]\u001b[0m\u001b[0;34m.\u001b[0m\u001b[0mravel\u001b[0m\u001b[0;34m(\u001b[0m\u001b[0;34m)\u001b[0m\u001b[0;34m)\u001b[0m\u001b[0;34m\u001b[0m\u001b[0m\n\u001b[0m\u001b[1;32m    370\u001b[0m         \u001b[0mtheta\u001b[0m \u001b[0;34m=\u001b[0m \u001b[0;34m(\u001b[0m\u001b[0;34m(\u001b[0m\u001b[0mtheta\u001b[0m \u001b[0;34m+\u001b[0m \u001b[0mnp\u001b[0m\u001b[0;34m.\u001b[0m\u001b[0mpi\u001b[0m\u001b[0;34m/\u001b[0m\u001b[0;36m2\u001b[0m \u001b[0;34m-\u001b[0m \u001b[0mnp\u001b[0m\u001b[0;34m.\u001b[0m\u001b[0mpi\u001b[0m\u001b[0;34m/\u001b[0m\u001b[0mself\u001b[0m\u001b[0;34m.\u001b[0m\u001b[0mpe\u001b[0m\u001b[0;34m.\u001b[0m\u001b[0mN_Dtheta\u001b[0m\u001b[0;34m/\u001b[0m\u001b[0;36m2\u001b[0m\u001b[0;34m)\u001b[0m  \u001b[0;34m%\u001b[0m \u001b[0mnp\u001b[0m\u001b[0;34m.\u001b[0m\u001b[0mpi\u001b[0m \u001b[0;34m)\u001b[0m \u001b[0;34m-\u001b[0m \u001b[0mnp\u001b[0m\u001b[0;34m.\u001b[0m\u001b[0mpi\u001b[0m\u001b[0;34m/\u001b[0m\u001b[0;36m2\u001b[0m  \u001b[0;34m+\u001b[0m \u001b[0mnp\u001b[0m\u001b[0;34m.\u001b[0m\u001b[0mpi\u001b[0m\u001b[0;34m/\u001b[0m\u001b[0mself\u001b[0m\u001b[0;34m.\u001b[0m\u001b[0mpe\u001b[0m\u001b[0;34m.\u001b[0m\u001b[0mN_Dtheta\u001b[0m\u001b[0;34m/\u001b[0m\u001b[0;36m2\u001b[0m\u001b[0;34m\u001b[0m\u001b[0m\n\u001b[1;32m    371\u001b[0m         \u001b[0mvalue\u001b[0m \u001b[0;34m=\u001b[0m \u001b[0medgeslist\u001b[0m\u001b[0;34m[\u001b[0m\u001b[0;36m4\u001b[0m\u001b[0;34m,\u001b[0m \u001b[0;34m.\u001b[0m\u001b[0;34m.\u001b[0m\u001b[0;34m.\u001b[0m\u001b[0;34m]\u001b[0m\u001b[0;34m.\u001b[0m\u001b[0mravel\u001b[0m\u001b[0;34m(\u001b[0m\u001b[0;34m)\u001b[0m\u001b[0;34m\u001b[0m\u001b[0m\n",
        "\u001b[0;31mTypeError\u001b[0m: string indices must be integers, not tuple"
       ]
      },
      {
       "metadata": {
        "png": {
         "height": 191,
         "width": 197
        }
       },
       "output_type": "display_data",
       "png": "[encoded data removed]",
       "text": [
        "<matplotlib.figure.Figure at 0x113859cd0>"
       ]
      }
     ],
     "prompt_number": 7
    },
    {
     "cell_type": "code",
     "collapsed": false,
     "input": [
      "#print v_hist, (v_theta_edges-v_theta_bin/2)*180/np.pi\n",
      "v_hist, v_theta_edges = mp.histedges_theta(edgeslist, display=False)\n",
      "v_theta_middles, v_theta_bin  = (v_theta_edges[1:]+v_theta_edges[:-1])/2, v_theta_edges[1]-v_theta_edges[0]"
     ],
     "language": "python",
     "metadata": {},
     "outputs": []
    },
    {
     "cell_type": "code",
     "collapsed": false,
     "input": [
      "print 'angles for the edges of bins (deg) = ', v_theta_edges*180/np.pi\n",
      "print 'angles for the middle of bins (deg) = ', v_theta_middles*180/np.pi\n",
      "print 'angles for the center of bins (deg) = ', (v_theta_edges-v_theta_bin/2)*180/np.pi"
     ],
     "language": "python",
     "metadata": {},
     "outputs": []
    },
    {
     "cell_type": "raw",
     "metadata": {},
     "source": [
      "edges = np.load('./mat/edges/efficiency_n_theta_24_serre07_distractors/Bda_int16.jpg[0, 256, 0, 256].npy')\n",
      "plt.hist(edges[2])\n"
     ]
    },
    {
     "cell_type": "markdown",
     "metadata": {},
     "source": [
      "Now, we may use this statistics:\n"
     ]
    },
    {
     "cell_type": "raw",
     "metadata": {},
     "source": [
      "z = np.linspace(1./pe.n_theta, 1., pe.n_theta)\n",
      "P = np.cumsum(v_hist)# np.hstack((0, np.cumsum(v_hist)))\n",
      "theta_prior = np.interp(z, P, v_theta_middles)"
     ]
    },
    {
     "cell_type": "code",
     "collapsed": false,
     "input": [
      "z = np.linspace(0, 1., pe.n_theta+1)\n",
      "P = np.cumsum(np.hstack((0, v_hist[-1]/2, v_hist[:-1], v_hist[-1]/2)))\n",
      "print z.shape, P.shape, P[0], P[-1]\n",
      "#theta_prior = np.interp(z, P, v_theta_middles)\n",
      "#theta_prior = np.interp(z, P, np.hstack((v_theta_edges[-1]-np.pi, v_theta_edges))) #% np.pi\n",
      "#theta_prior = np.interp(z, P, v_theta_edges-v_theta_bin/2) #% np.pi\n",
      "theta_prior = np.interp(z, P, np.hstack((v_theta_edges[0]-v_theta_bin/2, v_theta_edges[:-1], v_theta_edges[-1]-v_theta_bin/2))) #% np.pi"
     ],
     "language": "python",
     "metadata": {},
     "outputs": []
    },
    {
     "cell_type": "code",
     "collapsed": false,
     "input": [
      "z = z[1:]\n",
      "P=P[1:]\n",
      "print 'z = ', z\n",
      "print 'P = ', P\n",
      "#print pe.n_theta, z.shape, P.shape\n",
      "#print np.hstack((0, np.cumsum(v_hist)))\n",
      "print 'angles (deg) = ', mp.theta*180/np.pi\n",
      "print 'angles (deg) = ', theta_prior*180/np.pi\n",
      "#print 'angles (deg) = ', np.interp(z, np.hstack((0, np.cumsum(v_hist))), (v_theta_edges-v_theta_bin/2))*180/np.pi\n",
      "#print mp.theta.shape, theta_prior.shape"
     ],
     "language": "python",
     "metadata": {},
     "outputs": []
    },
    {
     "cell_type": "code",
     "collapsed": false,
     "input": [
      "fig, [[B, C], [A, D]] = plt.subplots(2, 2, figsize=(fig_width, fig_width/1.618), subplot_kw={'axisbg':'w'}, sharex=True)\n",
      "for ax in [A, B, C, D]:\n",
      "    ax.spines['right'].set_visible(False)\n",
      "    ax.spines['top'].set_visible(False)\n",
      "#  subplots_adjust(left=None, bottom=None, right=None, top=None,\n",
      "#                  wspace=None, hspace=None)\n",
      "#\n",
      "#The parameter meanings (and suggested defaults) are::\n",
      "#\n",
      "#  left  = 0.125  # the left side of the subplots of the figure\n",
      "#  right = 0.9    # the right side of the subplots of the figure\n",
      "#  bottom = 0.1   # the bottom of the subplots of the figure\n",
      "#  top = 0.9      # the top of the subplots of the figure\n",
      "#  wspace = 0.2   # the amount of width reserved for blank space between subplots\n",
      "#  hspace = 0.2   # the amount of height reserved for white space between subplots\n",
      "fig.subplots_adjust(wspace=0.1, hspace=0.1,\n",
      "                    left=0.125, right=0.9,\n",
      "                    top=0.9,    bottom=0.175)\n",
      "A.bar(v_theta_edges-v_theta_bin, np.hstack((v_hist[-1], v_hist)), alpha=.6, width=v_theta_bin)\n",
      "#A.bar(v_theta_edges[:-1], v_hist, alpha=.6, width=v_theta_bin, align='edge')\n",
      "A.hlines([v_hist.mean()], [v_theta_edges[0]-v_theta_bin/8.], [v_theta_edges[-1]+v_theta_bin/8.], lw=.5, color='r', linestyle='--', alpha=.6)\n",
      "plt.setp(A, yticklabels=[], ylabel=r'$p(\\theta)$',#xlim=[v_theta_edges[0]-v_theta_bin/4, v_theta_edges[-1]+v_theta_bin/4], \n",
      "         #xticks=[-np.pi/2, 0, np.pi/2], xticklabels=[r'$\\frac{-\\pi}{2}$', r'$0$', r'$\\frac{\\pi}{2}$'], \n",
      "         xticks=[0, np.pi/2], xticklabels=[r'$0$', r'$\\frac{\\pi}{2}$'], \n",
      "         xlabel=r'$\\theta$ (rad)')\n",
      "B.step(v_theta_edges, P, where='pre')\n",
      "B.vlines(((mp.theta[:-1] + np.pi/2 + v_theta_bin/4)  % np.pi ) - np.pi/2  + v_theta_bin/4, [0], P[1:], lw=.5, color='k', alpha=.6)\n",
      "plt.setp(B, xticks=[], ylim=[0, 1.02], yticks=[0., 0.5, 1.], yticklabels=['0', r'$\\frac{1}{2}$', '1'], ylabel=r'$P(\\theta)$')#, xlim=[v_theta_edges[0], v_theta_edges[-1]]\n",
      "#B.text(-np.pi/2*1.65, 1.05, '(B)')\n",
      "C.plot(v_theta_edges, P)\n",
      "C.hlines(z[:-1], [v_theta_edges[0]-v_theta_bin/2], theta_prior[1:], lw=.5)\n",
      "C.vlines(theta_prior[1:], [0], z[:-1], lw=.5, color='r', alpha=.6)\n",
      "#C.text(-np.pi/2*1.1, 1.05, '(C)')\n",
      "bord = 0.01\n",
      "plt.setp(C, ylim=[0,1.05], xticks=[], yticks=[])#, xlim=[v_theta_edges[0], v_theta_edges[-1]]\n",
      "#D.axis('tight')\n",
      "#D.vlines((theta_prior + np.pi/2) % np.pi  - np.pi/2, [0], np.ones_like(z), lw=.5, color='r')\n",
      "D.vlines(theta_prior, [0], np.ones_like(z), lw=.5, color='r', alpha=.6)\n",
      "D.vlines([-np.pi/2, np.pi/2], [0], np.ones_like(z), lw=.5, color='r', alpha=.6)\n",
      "#D.vlines(((mp.theta[:-1] + np.pi/2 + v_theta_bin/2)  % np.pi ) - np.pi/2  - v_theta_bin/2, [0], np.ones_like(z), lw=.5, color='k', alpha=.6)\n",
      "#D.plot(theta, np.ones_like(z), ms='^', lw=0, color='r')\n",
      "plt.setp(D, ylim=[0, 1.1], yticks=[], xlim=[v_theta_edges[0]-v_theta_bin/2-bord, v_theta_edges[-1]-v_theta_bin/2+bord], \n",
      "         xticks=[-np.pi/2, 0, np.pi/2], xticklabels=[r'$\\frac{-\\pi}{2}$', r'$0$', r'$\\frac{\\pi}{2}$'], \n",
      "         #xticks=[0, np.pi/2], xticklabels=[r'$0$', r'$\\frac{\\pi}{2}$'], \n",
      "         xlabel=r'$\\theta$ (rad)')\n",
      "#D.text(-np.pi/2*1.1, 1.35, '(D)')\n",
      "for ext in FORMATS: fig.savefig(mp.pe.figpath + 'laughlin.' + ext)"
     ],
     "language": "python",
     "metadata": {},
     "outputs": []
    },
    {
     "cell_type": "code",
     "collapsed": false,
     "input": [
      "%%writefile experiment_fig-firstorder.py\n",
      "# -*- coding: utf8 -*-\n",
      "\"\"\"\n",
      "\n",
      "$ python experiment_fig-firstorder.py\n",
      "\n",
      "rm -fr **/prior_* **/**/prior_*\n",
      "rm -fr **/prior_vanilla* **/**/prior_vanilla*\n",
      "rm -fr **/prior_firstorder* **/**/prior_firstorder*\n",
      "\n",
      "\"\"\"\n",
      "import __init__\n",
      "import numpy as np\n",
      "from NeuroTools.parameters import ParameterSet\n",
      "from SLIP import Image\n",
      "from LogGabor import LogGabor\n",
      "from SparseEdges import SparseEdges\n",
      "\n",
      "pe = ParameterSet('default_param.py')\n",
      "pe.seed = 42 # this ensures that all image lists are the same for the different experiments\n",
      "pe.N_image = 18\n",
      "pe.N = 512\n",
      "im = Image(pe)\n",
      "lg = LogGabor(im)\n",
      "mp = SparseEdges(lg)\n",
      "\n",
      "for name_database in ['serre07_distractors_urban']:#'serre07_distractors']:#, 'laboratory']:\n",
      "    # control experiment\n",
      "    imageslist, edgeslist, RMSE = mp.process(exp='prior_vanilla', name_database=name_database)\n",
      "    imageslist, edgeslist_noise, RMSE = mp.process(exp='prior_vanilla_noise', name_database=name_database, noise=pe.noise)\n",
      "\n",
      "    try:\n",
      "        # first-order prior\n",
      "        v_hist, v_theta_edges = mp.histedges_theta(edgeslist, display=False)\n",
      "        v_theta_middles, v_theta_bin  = (v_theta_edges[1:]+v_theta_edges[:-1])/2, v_theta_edges[1]-v_theta_edges[0]\n",
      "        \n",
      "        z = np.linspace(0, 1., pe.n_theta+1)\n",
      "        P = np.cumsum(np.hstack((0, v_hist[-1]/2, v_hist[:-1], v_hist[-1]/2)))\n",
      "        theta_prior = np.interp(z, P, np.hstack((v_theta_edges[0]-v_theta_bin/2, v_theta_edges[:-1], v_theta_edges[-1]-v_theta_bin/2))) #% np.pi\n",
      "        mp.theta = (theta_prior[1:-1]) % (np.pi)\n",
      "\n",
      "        imageslist, edgeslist, RMSE =  mp.process(exp='prior_firstorder', name_database=name_database)\n",
      "        imageslist, edgeslist, RMSE = mp.process(exp='prior_firstorder_noise', name_database=name_database, noise=pe.noise)\n",
      "    except:\n",
      "        print('run again once first batches are finished ')\n"
     ],
     "language": "python",
     "metadata": {},
     "outputs": []
    },
    {
     "cell_type": "code",
     "collapsed": false,
     "input": [
      "%run experiment_fig-firstorder.py"
     ],
     "language": "python",
     "metadata": {},
     "outputs": []
    },
    {
     "cell_type": "code",
     "collapsed": false,
     "input": [
      "FORMATS = ['pdf', 'eps']\n",
      "#experiments = ['prior_vanilla', 'prior_vanilla_noise', 'prior_firstorder', 'prior_firstorder_noise']\n",
      "#experiments = ['prior_vanilla', 'prior_vanilla_noise', 'prior_firstorder_noise']\n",
      "#experiments = ['prior_vanilla_noise', 'prior_vanilla_firstorder_noise']\n",
      "experiments = ['prior_vanilla_noise', 'prior_firstorder_noise']\n",
      "databases = [name_database] * len(experiments)\n",
      "#databases = ['laboratory'] * len(experiments)\n",
      "#labels = ['control', 'noise', 'with prior', 'noise (prior)']\n",
      "#labels = ['control', 'noise', 'noise (prior)']\n",
      "labels = ['control', 'with prior']\n",
      "mps = [mp] * len(experiments)\n",
      "from SparseEdges import plot\n",
      "fig = plt.figure(figsize=(fig_width/1.618, fig_width/1.618))\n",
      "fig, a, ax = plot(mps=mps, experiments=experiments, databases=databases, fig=fig, labels=labels, color=[0., 0., 1.], threshold=0.4, ref=0, scale=True)    \n",
      "for ext in FORMATS: fig.savefig(mp.pe.figpath + 'firstorder_C.' + ext)"
     ],
     "language": "python",
     "metadata": {},
     "outputs": []
    },
    {
     "cell_type": "code",
     "collapsed": false,
     "input": [
      "print 'angles (deg) = ', theta_prior*180/np.pi\n",
      "name_database='serre07_distractors'\n",
      "imageslist, edgeslist, RMSE =  mp.process('prior_firstorder', name_database=name_database)\n",
      "\n",
      "#theta_bin = np.linspace(- np.pi/2  + np.pi/mp.pe.N_Dtheta/2, np.pi/2  + np.pi/mp.pe.N_Dtheta/2, 48)\n",
      "#theta_bin = np.hstack((theta_prior, theta_prior[0]+np.pi)) - np.pi/320#mp.pe.N_Dtheta/2\n",
      "theta_bin = .5 * ( np.hstack((theta_prior[-2]-np.pi, theta_prior)) +\n",
      "                  np.hstack((theta_prior, theta_prior[1]+np.pi)) )\n",
      "print 'angles (deg) = ',  theta_bin*180/np.pi\n",
      "\n",
      "theta_firstbin = (theta_bin[1]-theta_bin[0])/2.\n",
      "print theta_firstbin*180/np.pi * 0\n",
      "theta = (edgeslist[2, ...].ravel())\n",
      "#theta = ((theta + np.pi/2 - np.pi/mp.pe.N_Dtheta/2)  % np.pi ) - np.pi/2  + np.pi/mp.pe.N_Dtheta/2\n",
      "print theta.min()*180/np.pi, theta.max()*180/np.pi, (theta.max()-theta.min())*180/np.pi\n",
      "theta = ((theta + (np.pi/2 + theta_firstbin) )  % np.pi ) - (np.pi/2  + theta_firstbin)\n",
      "print theta.min()*180/np.pi, theta.max()*180/np.pi, (theta.max()-theta.min())*180/np.pi\n",
      "value = edgeslist[4, ...].ravel()\n",
      "\n",
      "if mp.pe.edge_mask:\n",
      "    # remove edges whose center position is not on the central disk\n",
      "    x , y = edgeslist[0, ...].ravel().real, edgeslist[1, ...].ravel().real\n",
      "    mask = ((x/mp.N_X -.5)**2+(y/mp.N_Y -.5)**2) < .5**2\n",
      "    theta = theta[mask]\n",
      "    value = value[mask]\n",
      "\n",
      "weights = np.absolute(value)/(np.absolute(value)).sum()\n",
      "\n",
      "v_hist, v_theta_edges_ = np.histogram(theta, bins=theta_bin, density=False, weights=weights)\n",
      "print 'angles (deg) = ',  v_theta_edges_*180/np.pi\n",
      "print v_hist\n",
      "\n",
      "#plotting\n",
      "fig = plt.figure(figsize=(fig_width/1.618, fig_width/1.618))\n",
      "ax = fig.add_subplot(111, axisbg='w', polar=True)\n",
      "#fig, ax = mp.histedges_theta(edgeslist, fig=fig, a=ax)\n",
      "#v_hist, v_theta_edges = mp.histedges_theta(edgeslist, display=False)\n",
      "ax.bar(v_theta_edges_[:-1], v_hist, width=v_theta_edges_[:-1] - v_theta_edges_[1:], color='b')# edgecolor=\"none\")\n",
      "ax.bar(v_theta_edges_[:-1]+np.pi, v_hist, width=v_theta_edges_[:-1] - v_theta_edges_[1:], color='g')\n",
      "ax.plot((v_theta_edges_[1:]+v_theta_edges_[:-1])/2, np.ones_like(v_hist)*v_hist.mean(), 'r--')\n",
      "ax.plot((v_theta_edges_[1:]+v_theta_edges_[:-1])/2+np.pi, np.ones_like(v_hist)*v_hist.mean(), 'r--')\n",
      "plt.setp(ax, yticks=[])\n",
      "for ext in FORMATS: fig.savefig(mp.pe.figpath + 'firstorder_B.' + ext)"
     ],
     "language": "python",
     "metadata": {},
     "outputs": []
    },
    {
     "cell_type": "heading",
     "level": 2,
     "metadata": {},
     "source": [
      "some book keeping for the notebook"
     ]
    },
    {
     "cell_type": "code",
     "collapsed": false,
     "input": [
      "%install_ext https://raw.githubusercontent.com/rasbt/python_reference/master/ipython_magic/watermark.py\n",
      "%load_ext watermark\n",
      "%watermark"
     ],
     "language": "python",
     "metadata": {},
     "outputs": []
    },
    {
     "cell_type": "code",
     "collapsed": false,
     "input": [
      "%install_ext http://raw.github.com/jrjohansson/version_information/master/version_information.py\n",
      "%load_ext version_information\n",
      "%version_information numpy, scipy, matplotlib, sympy"
     ],
     "language": "python",
     "metadata": {},
     "outputs": []
    },
    {
     "cell_type": "code",
     "collapsed": false,
     "input": [
      "# CSS styling within IPython notebook\n",
      "from IPython.core.display import HTML\n",
      "def css_styling():\n",
      "    styles = open(\"custom.css\", \"r\").read()\n",
      "    return HTML(styles)\n",
      "css_styling()"
     ],
     "language": "python",
     "metadata": {},
     "outputs": []
    },
    {
     "cell_type": "code",
     "collapsed": false,
     "input": [],
     "language": "python",
     "metadata": {},
     "outputs": []
    }
   ],
   "metadata": {}
  }
 ]
}