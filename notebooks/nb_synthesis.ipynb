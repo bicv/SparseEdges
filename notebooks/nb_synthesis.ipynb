{
 "cells": [
  {
   "cell_type": "markdown",
   "metadata": {},
   "source": [
    ">> in progress  "
   ]
  },
  {
   "cell_type": "code",
   "execution_count": null,
   "metadata": {
    "collapsed": true
   },
   "outputs": [],
   "source": [
    "%load_ext autoreload\n",
    "%autoreload 2"
   ]
  },
  {
   "cell_type": "code",
   "execution_count": null,
   "metadata": {
    "collapsed": true
   },
   "outputs": [],
   "source": [
    "%cd ../probe"
   ]
  },
  {
   "cell_type": "code",
   "execution_count": null,
   "metadata": {
    "collapsed": false
   },
   "outputs": [],
   "source": [
    "from __future__ import division, print_function\n",
    "import numpy as np\n",
    "np.set_printoptions(precision=3, suppress=True)\n",
    "import pylab\n",
    "import matplotlib.pyplot as plt\n",
    "%matplotlib inline\n",
    "fig_width_pt = 247.  # Get this from LaTeX using \\showthe\\columnwidth\n",
    "inches_per_pt = 1.0/72.27               # Convert pt to inches\n",
    "fig_width = fig_width_pt*inches_per_pt  # width in inches"
   ]
  },
  {
   "cell_type": "code",
   "execution_count": null,
   "metadata": {
    "collapsed": false
   },
   "outputs": [],
   "source": [
    "from SparseEdges import EdgeFactory\n",
    "ef = EdgeFactory('https://raw.githubusercontent.com/bicv/SparseEdges/master/default_param.py')\n",
    "ef.pe.N_X = 244\n",
    "ef.pe.datapath = '../../SLIP/database/'\n",
    "ef.init_edges()\n",
    "print(ef.pe.N_X)"
   ]
  },
  {
   "cell_type": "markdown",
   "metadata": {},
   "source": [
    "# manipulating values"
   ]
  },
  {
   "cell_type": "code",
   "execution_count": null,
   "metadata": {
    "collapsed": false
   },
   "outputs": [],
   "source": [
    "N = 100\n",
    "a = np.random.randn(N)**2\n",
    "#w = np.random.randn(N,N)**2\n",
    "#w += w.T\n",
    "b = np.random.randn(N)\n",
    "f = b[:, np.newaxis] * b[np.newaxis, :]\n",
    "b = np.random.randn(N)\n",
    "g = b[:, np.newaxis] * b[np.newaxis, :]\n",
    "plt.matshow(g)"
   ]
  },
  {
   "cell_type": "markdown",
   "metadata": {},
   "source": [
    "The goal is to solve for the equation\n",
    "\n",
    "$$\n",
    "b_i \\cdot b_j = w_{ij} \\cdot a_i \\cdot a_j \n",
    "$$\n",
    "\n",
    "A solution is to use the recursion\n",
    "\n",
    "$$ \n",
    "b_i^{n+1} = \n",
    "\\frac{\\sum_j g_{ij} \\cdot a_i \\cdot a_j \\cdot f_{ij} \\cdot b_j^n}{\\sum_j (f_{ij} \\cdot b_j^n)^ 2 }\n",
    "$$"
   ]
  },
  {
   "cell_type": "code",
   "execution_count": null,
   "metadata": {
    "collapsed": false
   },
   "outputs": [],
   "source": [
    "def update(a, b, f, g, i):\n",
    "    b[i] = np.sum(g[i, :] * a[i] * a * f[i, :] * b)/np.sum((f[i, :] * b)**2)\n",
    "    return b\n",
    "def solve(a, f=None, g=None, N_iter=1000):\n",
    "    b = np.ones(a.shape)\n",
    "    C = np.zeros((N_iter,))\n",
    "    if f==None: f = np.ones(g.shape)\n",
    "    if g==None: g = np.ones(f.shape)\n",
    "    for i_iter in range(N_iter):\n",
    "        C[i_iter] = np.sum( (g * a[:, np.newaxis] * a[np.newaxis, :] - f*b[:, np.newaxis] * b[np.newaxis, :])**2 )\n",
    "        b = update(a, b, f, g, np.random.randint(N))\n",
    "    return b, C\n",
    "\n",
    "b, C = solve(a, f, g)\n",
    "plt.semilogy(C)"
   ]
  },
  {
   "cell_type": "code",
   "execution_count": null,
   "metadata": {
    "collapsed": false
   },
   "outputs": [],
   "source": [
    "ef.patch?"
   ]
  },
  {
   "cell_type": "code",
   "execution_count": null,
   "metadata": {
    "collapsed": false
   },
   "outputs": [],
   "source": [
    "print(a[:, np.newaxis]*a[np.newaxis, :] * a)"
   ]
  },
  {
   "cell_type": "code",
   "execution_count": null,
   "metadata": {
    "collapsed": true
   },
   "outputs": [],
   "source": [
    "%pwd\n"
   ]
  },
  {
   "cell_type": "code",
   "execution_count": null,
   "metadata": {
    "collapsed": true
   },
   "outputs": [],
   "source": [
    "!mdfind -name srep_serre07_targets_edges.npy"
   ]
  },
  {
   "cell_type": "code",
   "execution_count": null,
   "metadata": {
    "collapsed": true
   },
   "outputs": [],
   "source": [
    "!ls ../../SLIP/database/"
   ]
  },
  {
   "cell_type": "code",
   "execution_count": null,
   "metadata": {
    "collapsed": false
   },
   "outputs": [],
   "source": [
    "import os, pickle\n",
    "exp, name_database, i_image = 'srep', 'serre07_targets', 310\n",
    "matname = exp + '_' + name_database\n",
    "with open(os.path.join(ef.pe.matpath, matname + '_images.pickle'), 'rb' ) as f:\n",
    "    imagelist = pickle.load(f)\n",
    "edgeslist_targets = np.load(os.path.join(ef.pe.edgematpath, matname + '_edges.npy'))\n",
    "\n",
    "filename, croparea = imagelist[i_image]\n",
    "image, filename_, croparea_  = ef.patch(name_database=name_database, filename=filename, croparea=croparea)\n",
    "print('> figure 1 : one example image ')\n",
    "# (A) model\n",
    "fig = pylab.figure(figsize=(fig_width, fig_width))\n",
    "border = 0.\n",
    "ax = fig.add_axes((border, border, 1.-2*border, 1.-2*border), axisbg='w')\n",
    "ax.axis(c='b', lw=0)\n",
    "#print N_X, image.shape, croparea_\n",
    "pylab.setp(ax, xticks=[])\n",
    "pylab.setp(ax, yticks=[])\n",
    "fig, ax = ef.show_edges(np.empty((5, 0)), fig=fig, a=ax, image=image*1.)\n",
    "#for format_ in formats: fig.savefig('ms/figure1A.' + format_, dpi=450)\n",
    "#pylab.close('all')\n",
    "v_hist_targets = ef.cohistedges(edgeslist_targets[:, :, i_image][..., np.newaxis], display=None)"
   ]
  },
  {
   "cell_type": "code",
   "execution_count": null,
   "metadata": {
    "collapsed": false
   },
   "outputs": [],
   "source": [
    "#edgeslist_targets[0, :, :] = N_X - edgeslist_targets[0, :, :]\n",
    "#edgeslist_targets[2, :, :] = - edgeslist_targets[2, :, :]"
   ]
  },
  {
   "cell_type": "code",
   "execution_count": null,
   "metadata": {
    "collapsed": false
   },
   "outputs": [],
   "source": [
    "image_ = ef.reconstruct(edgeslist_targets[:, :, i_image])\n",
    "fig, ax = ef.show_edges(edgeslist_targets[:, :, i_image], image=image_)"
   ]
  },
  {
   "cell_type": "code",
   "execution_count": null,
   "metadata": {
    "collapsed": false
   },
   "outputs": [],
   "source": [
    "exp, name_database, i_image = 'classifier', 'serre07_distractors', 310\n",
    "edgeslist_distractors = np.load(os.path.join(ef.pe.edgematpath, matname + '_edges.npy'))\n",
    "print(edgeslist_distractors.shape)\n",
    "v_hist_distractors = ef.cohistedges(edgeslist_distractors[:, :, i_image][..., np.newaxis], display=None)\n",
    "print(v_hist_distractors.shape)"
   ]
  },
  {
   "cell_type": "code",
   "execution_count": null,
   "metadata": {
    "collapsed": false
   },
   "outputs": [],
   "source": [
    "print (ef.edges_d.shape)"
   ]
  },
  {
   "cell_type": "code",
   "execution_count": null,
   "metadata": {
    "collapsed": false
   },
   "outputs": [],
   "source": [
    "def w_ij(edgeslist, v_hist):\n",
    "    X, Y = edgeslist[0, :].real, edgeslist[1, :].real\n",
    "    Theta = edgeslist[2, :].real\n",
    "    Sf_0 = edgeslist[3, :].real\n",
    "    value = edgeslist[4, :]\n",
    "    Weights = np.absolute(value)#/(np.absolute(value)).sum()\n",
    "    dx = X[:, np.newaxis] - X[np.newaxis, :]\n",
    "    dy = Y[:, np.newaxis] - Y[np.newaxis, :]\n",
    "    d = np.sqrt(dx**2 + dy**2) / ef.N_X  # distance\n",
    "    if ef.pe.scale_invariant: d *= np.sqrt(Sf_0[:, np.newaxis]*Sf_0[np.newaxis, :])/np.sqrt(ef.N_X)\n",
    "    d *= ef.pe.d_width # distance in visual angle\n",
    "    theta = Theta[:, np.newaxis] - Theta[np.newaxis, :]\n",
    "    phi = np.arctan2(dy, dx) - np.pi/2 - Theta[np.newaxis, :]\n",
    "    phi -= theta/2\n",
    "    loglevel = np.log2(Sf_0[:, np.newaxis]) - np.log2(Sf_0[np.newaxis, :])\n",
    "    weights = Weights[:, np.newaxis] * Weights[np.newaxis, :]\n",
    "    if ef.pe.weight_by_distance:\n",
    "        weights /= (d + 1.e-6) # warning, some are still at the same position d=0...\n",
    "    phi = ((phi + np.pi/2  - np.pi/ef.pe.N_phi/2 ) % (np.pi)) - np.pi/2  + np.pi/ef.pe.N_phi/2\n",
    "    theta = ((theta + np.pi/2 - np.pi/ef.pe.n_theta/2)  % (np.pi) ) - np.pi/2  + np.pi/ef.pe.n_theta/2\n",
    "\n",
    "    i_d = np.argmin((ef.edges_d[np.newaxis, np.newaxis, :-1] - d[:, :, np.newaxis])**2, axis=-1)\n",
    "    i_theta = np.argmin((ef.edges_theta[np.newaxis, np.newaxis, :-1] - theta[:, :, np.newaxis])**2, axis=-1)\n",
    "    i_psi = np.argmin((ef.edges_phi[np.newaxis, np.newaxis, :-1] - phi[:, :, np.newaxis])**2, axis=-1)\n",
    "    i_loglevel = np.argmin((ef.edges_loglevel[np.newaxis, np.newaxis, :-1] - loglevel[:, :, np.newaxis])**2, axis=-1)\n",
    "#    print i_d.ravel(), i_d.shape, i_d.max()\n",
    "#    return v_hist[i_d.ravel(), i_psi.ravel(), i_theta.ravel(), i_loglevel.ravel()]\n",
    "    return v_hist[i_d, i_psi, i_theta, i_loglevel]\n",
    "\n",
    "f_ij = w_ij(edgeslist_targets[:, :, i_image], v_hist_targets)\n",
    "g_ij = w_ij(edgeslist_distractors[:, :, i_image], v_hist_distractors)"
   ]
  },
  {
   "cell_type": "code",
   "execution_count": null,
   "metadata": {
    "collapsed": false
   },
   "outputs": [],
   "source": [
    "plt.matshow(f_ij)"
   ]
  },
  {
   "cell_type": "code",
   "execution_count": null,
   "metadata": {
    "collapsed": false
   },
   "outputs": [],
   "source": [
    "plt.matshow(g_ij)"
   ]
  },
  {
   "cell_type": "code",
   "execution_count": null,
   "metadata": {
    "collapsed": false
   },
   "outputs": [],
   "source": [
    "a = np.absolute(edgeslist_targets[4, :, i_image])\n",
    "a_sign = edgeslist_targets[4, :, i_image] / a\n",
    "b, C = solve(a, f_ij, g_ij)\n",
    "plt.semilogy(C)"
   ]
  },
  {
   "cell_type": "code",
   "execution_count": null,
   "metadata": {
    "collapsed": false
   },
   "outputs": [],
   "source": [
    "edgeslist_targets[4, :, i_image] = b * a_sign\n",
    "image_ = ef.reconstruct(edgeslist_targets[:, :, i_image])\n",
    "#if self.edge.do_whitening: image_ = self.edge.im.dewhitening(image_)\n",
    "fig, ax = ef.show_edges(edgeslist_targets[:, :, i_image], image=image_*1.)"
   ]
  },
  {
   "cell_type": "markdown",
   "metadata": {},
   "source": [
    "# generating textures: heuristics on values"
   ]
  },
  {
   "cell_type": "code",
   "execution_count": null,
   "metadata": {
    "collapsed": false
   },
   "outputs": [],
   "source": [
    "def shuffle(edgeslist, N=None):\n",
    "    if N==None: N = edgeslist_targets.shape[1]\n",
    "    index_to_shuffle = np.random.permutation(edgeslist_targets.shape[1])[:N]\n",
    "    for index in range(5):\n",
    "        edgeslist[index, index_to_shuffle, ...] = np.random.permutation(edgeslist[index, index_to_shuffle, ...].ravel()).reshape(edgeslist[index, index_to_shuffle, ...].shape)\n",
    "    return edgeslist\n",
    "edgeslist_shuffled = shuffle(edgeslist_targets, N=128)"
   ]
  },
  {
   "cell_type": "code",
   "execution_count": null,
   "metadata": {
    "collapsed": false
   },
   "outputs": [],
   "source": [
    "Weights = np.absolute(edgeslist_shuffled[4, :, i_image])\n",
    "value_sign = edgeslist_shuffled[4, :, i_image]/ Weights\n",
    "Weights[Weights.argsort()] = np.linspace(1./Weights.size, 1., Weights.size)\n",
    "edgeslist_shuffled[4, :, i_image] = value_sign * Weights"
   ]
  },
  {
   "cell_type": "code",
   "execution_count": null,
   "metadata": {
    "collapsed": false
   },
   "outputs": [],
   "source": [
    "image_ = ef.reconstruct(edgeslist_shuffled[:, :, i_image])\n",
    "fig, ax = ef.show_edges(edgeslist_shuffled[:, :, i_image], image=image_)"
   ]
  },
  {
   "cell_type": "code",
   "execution_count": null,
   "metadata": {
    "collapsed": false
   },
   "outputs": [],
   "source": [
    "from itertools import izip\n",
    "def relative_entropy(freq, background):\n",
    "    KL = 0.\n",
    "    positives = (freq.ravel() != 0.) & (background.ravel() != 0.)\n",
    "    for i, (freq, idx) in enumerate(izip(freq, positives)):\n",
    "        KL += np.sum(freq[idx] * np.log2(freq[idx] / background[idx]))\n",
    "    return Dkls\n",
    "\n",
    "def KL(v_hist, v_hist_obs, eps=1e-12):\n",
    "    if v_hist.sum()==0 or v_hist_obs.sum()==0: print('>X>X>X KL function:  problem with null histograms! <X<X<X<')\n",
    "    # taking advantage of log(True) = 0 and canceling out null bins in v_hist_obs\n",
    "    return np.sum(v_hist_obs.ravel()*(np.log(v_hist_obs.ravel()+(v_hist_obs == 0).ravel()) - np.log(v_hist.ravel()+eps)))\n"
   ]
  },
  {
   "cell_type": "code",
   "execution_count": null,
   "metadata": {
    "collapsed": false
   },
   "outputs": [],
   "source": [
    "a = np.absolute(edgeslist_targets[4, :, i_image])\n",
    "a_sign = edgeslist_targets[4, :, i_image] / a\n",
    "\n",
    "f_ij = w_ij(edgeslist_targets[:, :, i_image], v_hist_targets)\n",
    "g_ij = w_ij(edgeslist_distractors[:, :, i_image], v_hist_distractors)\n",
    "b, C = solve(a, f_ij, g_ij)\n",
    "plt.semilogy(C)"
   ]
  },
  {
   "cell_type": "code",
   "execution_count": null,
   "metadata": {
    "collapsed": false
   },
   "outputs": [],
   "source": [
    "edgeslist_targets[4, :, i_image] = b * a_sign\n",
    "\n",
    "image_ = ef.reconstruct(edgeslist_shuffled[:, :, i_image])\n",
    "fig, ax = ef.show_edges(edgeslist_targets[:, :, i_image], image=image_*1.)"
   ]
  },
  {
   "cell_type": "code",
   "execution_count": null,
   "metadata": {
    "collapsed": false
   },
   "outputs": [],
   "source": [
    "# initialize\n",
    "edgeslist_new = shuffle(edgeslist_targets[:, :, i_image], N=None)\n",
    "Weights = np.absolute(edgeslist_new[4, :])\n",
    "value_sign = edgeslist_new[4, :]/ Weights\n",
    "Weights[Weights.argsort()] = np.linspace(1./Weights.size, 1., Weights.size)\n",
    "edgeslist_new[4, :] = value_sign * Weights\n",
    "\n",
    "v_hist_obs = ef.cohistedges(edgeslist_new[:, :, np.newaxis], display=None)\n",
    "print  (KL(v_hist_targets, v_hist_obs))\n",
    "    \n",
    "# manipulate values\n",
    "a = np.absolute(edgeslist_new[4, :])\n",
    "a_sign = edgeslist_new[4, :] / a\n",
    "\n",
    "g_ij = w_ij(edgeslist_new, v_hist_targets)\n",
    "#g_ij = w_ij(edgeslist_targets, v_hist_targets)\n",
    "b, C = solve(a, f=None, g=g_ij)\n",
    "plt.semilogy(C)\n",
    "edgeslist_new[4, :] = b * a_sign\n",
    "\n",
    "v_hist_obs = ef.cohistedges(edgeslist_new[:, :, np.newaxis], display=None)\n",
    "print  (KL(v_hist_targets, v_hist_obs))"
   ]
  },
  {
   "cell_type": "code",
   "execution_count": null,
   "metadata": {
    "collapsed": false
   },
   "outputs": [],
   "source": [
    "# initialize\n",
    "edgeslist_shuffled = shuffle(edgeslist_targets[:, :, i_image], N=None)\n",
    "Weights = np.absolute(edgeslist_shuffled[4, :])\n",
    "value_sign = edgeslist_shuffled[4, :]/ Weights\n",
    "Weights[Weights.argsort()] = np.linspace(1./Weights.size, 1., Weights.size)\n",
    "edgeslist_shuffled[4, :] = value_sign * Weights\n",
    "\n",
    "#from scipy.stats import entropy\n",
    "# recurse\n",
    "def multiply_and_select(edgeslist, v_hist, N_trial=100, N_shuffle=32, N_iter=100):\n",
    "    for i_iter in range(N_iter):\n",
    "        KL_min, edgeslist_old = np.inf, edgeslist.copy()\n",
    "        for i_trial in range(N_trial):\n",
    "            edgeslist_new = shuffle(edgeslist_old, N=N_shuffle)\n",
    "            v_hist_obs = ef.cohistedges(edgeslist_new[:, :, np.newaxis], display=None)\n",
    "            KL_obs = KL(v_hist, v_hist_obs) # entropy(v_hist_obs.ravel(), v_hist.ravel(), base=2)\n",
    "            #print 'KL=', KL_obs\n",
    "            if KL_obs<KL_min:\n",
    "                edgeslist = edgeslist_new\n",
    "                KL_min = KL_obs\n",
    "        print ('KL_min=', KL_min)\n",
    "    return edgeslist\n",
    "\n",
    "edgeslist_shuffled =  multiply_and_select(edgeslist_shuffled, v_hist_targets)\n",
    "image_ = ef.reconstruct(edgeslist_shuffled)\n",
    "fig, ax = ef.show_edges(edgeslist_shuffled, image=image_)"
   ]
  },
  {
   "cell_type": "code",
   "execution_count": null,
   "metadata": {
    "collapsed": false
   },
   "outputs": [],
   "source": [
    "# initialize\n",
    "edgeslist_shuffled = shuffle(edgeslist_targets[:, :, i_image], N=None)\n",
    "Weights = np.absolute(edgeslist_shuffled[4, :])\n",
    "value_sign = edgeslist_shuffled[4, :]/ Weights\n",
    "Weights[Weights.argsort()] = np.linspace(1./Weights.size, 1., Weights.size)\n",
    "edgeslist_shuffled[4, :] = value_sign * Weights\n",
    "\n",
    "#from scipy.stats import entropy\n",
    "# recurse\n",
    "def multiply_and_select(edgeslist, v_hist, N_trial=100, N_shuffle=32, N_iter=100):\n",
    "    for i_iter in range(N_iter):\n",
    "        KL_min, edgeslist_old = np.inf, edgeslist.copy()\n",
    "        for i_trial in range(N_trial):\n",
    "            edgeslist_new = shuffle(edgeslist_old, N=N_shuffle)\n",
    "            v_hist_obs = ef.cohistedges(edgeslist_new[:, :, np.newaxis], display=None)\n",
    "            KL_obs = relative_entropy(v_hist_obs.ravel(), v_hist.ravel())\n",
    "            #print 'KL=', KL_obs\n",
    "            if KL_obs<KL_min:\n",
    "                edgeslist = edgeslist_new\n",
    "                KL_min = KL_obs\n",
    "        print ('KL_min=', KL_min)\n",
    "    return edgeslist\n",
    "\n",
    "edgeslist_shuffled =  multiply_and_select(edgeslist_shuffled, v_hist_targets)\n",
    "image_ = ef.reconstruct(edgeslist_shuffled)\n",
    "fig, ax = ef.show_edges(edgeslist_shuffled, image=image_)"
   ]
  },
  {
   "cell_type": "code",
   "execution_count": null,
   "metadata": {
    "collapsed": false
   },
   "outputs": [],
   "source": [
    "from scipy.stats import entropy\n",
    "entropy(v_hist_targets.ravel(), qk=v_hist_targets.ravel())"
   ]
  },
  {
   "cell_type": "code",
   "execution_count": null,
   "metadata": {
    "collapsed": false
   },
   "outputs": [],
   "source": [
    "def adapt_values(edgeslist, v_hist):\n",
    "\n",
    "    # manipulate values\n",
    "    a = np.absolute(edgeslist[4, :])\n",
    "    a_sign = edgeslist[4, :] / a\n",
    "    g_ij = w_ij(edgeslist, v_hist)\n",
    "    #g_ij = w_ij(edgeslist, v_hist_targets)\n",
    "    b, C = solve(a, f=None, g=g_ij)\n",
    "    edgeslist[4, :] = b * a_sign\n",
    "    return edgeslist\n",
    "\n",
    "edgeslist_new = adapt_values(edgeslist_new, v_hist_targets)"
   ]
  },
  {
   "cell_type": "code",
   "execution_count": null,
   "metadata": {
    "collapsed": false
   },
   "outputs": [],
   "source": [
    "# initialize\n",
    "edgeslist_shuffled = shuffle(edgeslist_targets[:, :, i_image], N=None)\n",
    "Weights = np.absolute(edgeslist_shuffled[4, :])\n",
    "value_sign = edgeslist_shuffled[4, :]/ Weights\n",
    "Weights[Weights.argsort()] = np.linspace(1./Weights.size, 1., Weights.size)\n",
    "edgeslist_shuffled[4, :] = value_sign * Weights\n",
    "\n",
    "#from scipy.stats import entropy\n",
    "# recurse\n",
    "def multiply_and_select(edgeslist, v_hist, N_trial=100, N_shuffle=32, N_iter=100):\n",
    "    for i_iter in range(N_iter):\n",
    "        KL_min, edgeslist_old = np.inf, edgeslist.copy()\n",
    "        for i_trial in range(N_trial):\n",
    "            edgeslist_new = shuffle(edgeslist_old, N=N_shuffle)\n",
    "            v_hist_obs = ef.cohistedges(edgeslist_new[:, :, np.newaxis], display=None)\n",
    "            KL_obs = relative_entropy(v_hist_obs.ravel(), v_hist.ravel())\n",
    "            #print 'KL=', KL_obs\n",
    "            if KL_obs<KL_min:\n",
    "                edgeslist = edgeslist_new\n",
    "                KL_min = KL_obs\n",
    "        print( 'KL_min=', KL_min)\n",
    "        edgeslist = adapt_values(edgeslist, v_hist)\n",
    "\n",
    "        v_hist_obs = ef.cohistedges(edgeslist[:,cv :, np.newaxis], display=None)\n",
    "        KL_obs = relative_entropy(v_hist_obs.ravel(), v_hist.ravel())\n",
    "        print ('KL_obs=', KL_obs)\n",
    "    return edgeslist\n",
    "\n",
    "edgeslist_shuffled =  multiply_and_select(edgeslist_shuffled, v_hist_targets)\n",
    "image_ = ef.reconstruct(edgeslist_shuffled)\n",
    "fig, ax = ef.show_edges(edgeslist_shuffled, image=image_)"
   ]
  },
  {
   "cell_type": "markdown",
   "metadata": {},
   "source": [
    "## shuffling clusters of edges"
   ]
  },
  {
   "cell_type": "code",
   "execution_count": null,
   "metadata": {
    "collapsed": false
   },
   "outputs": [],
   "source": [
    "import numpy as np\n",
    "np.set_printoptions(precision=3, suppress=True)\n",
    "import pylab\n",
    "import matplotlib.pyplot as plt\n",
    "%matplotlib inline\n",
    "fig_width_pt = 247.  # Get this from LaTeX using \\showthe\\columnwidth\n",
    "inches_per_pt = 1.0/72.27               # Convert pt to inches\n",
    "fig_width = fig_width_pt*inches_per_pt  # width in inches"
   ]
  },
  {
   "cell_type": "code",
   "execution_count": null,
   "metadata": {
    "collapsed": false
   },
   "outputs": [],
   "source": [
    "import EdgeFactory as EF\n",
    "ef = EF.EdgeFactory('default_param.py')\n",
    "\n",
    "ef.init_edges()\n",
    "print ef.pe.N_X"
   ]
  },
  {
   "cell_type": "code",
   "execution_count": null,
   "metadata": {
    "collapsed": false
   },
   "outputs": [],
   "source": [
    "import os, pickle\n",
    "exp, name_database = 'classifier', 'serre07_targets'\n",
    "matname = os.path.join('mat/', exp + '_' + name_database)\n",
    "imagelist = pickle.load( open(matname + '_images.pickle', \"rb\" ) )\n",
    "edgeslist_targets = np.load(matname + '_edges.npy')\n",
    "\n",
    "exp, name_database = 'classifier', 'serre07_distractors'\n",
    "matname = os.path.join('mat/', exp + '_' + name_database)\n",
    "edgeslist_distractors = np.load(matname + '_edges.npy')\n",
    "print edgeslist_distractors.shape\n",
    "\n",
    "v_hist_distractors = ef.cohistedges(edgeslist_distractors[:, :, i_image][..., np.newaxis], display=None)\n",
    "print (v_hist_distractors.shape)"
   ]
  },
  {
   "cell_type": "code",
   "execution_count": null,
   "metadata": {
    "collapsed": false
   },
   "outputs": [],
   "source": [
    "print (edgeslist_distractors[4, :, 0], np.absolute(edgeslist_distractors[4, :, 0]))"
   ]
  },
  {
   "cell_type": "code",
   "execution_count": null,
   "metadata": {
    "collapsed": false
   },
   "outputs": [],
   "source": [
    "np.random.permutation(10)"
   ]
  },
  {
   "cell_type": "code",
   "execution_count": null,
   "metadata": {
    "collapsed": false
   },
   "outputs": [],
   "source": [
    "#im.normalize??\n",
    "#plt.cm.gray?\n",
    "2048/64\n",
    "# TODO essayer avec les sous categories _head"
   ]
  },
  {
   "cell_type": "code",
   "execution_count": null,
   "metadata": {
    "collapsed": false
   },
   "outputs": [],
   "source": [
    "def shuffle(edgeslists, N_cluster=32, seed=None):\n",
    "    np.random.seed(seed=seed)\n",
    "    N_image = edgeslists.shape[-1]\n",
    "    edgeslist_shuffled = np.zeros(edgeslists[:, :, 0].shape)\n",
    "    size_cluster = edgeslists.shape[1]/N_cluster\n",
    "    values = np.absolute(edgeslists[4, 0, :]) # absolute values for each cluster\n",
    "    idx_cluster = np.random.permutation(N_image)\n",
    "    for i_cluster in range(N_cluster):\n",
    "        cluster = edgeslists[:, :size_cluster, idx_cluster[i_cluster]].copy()\n",
    "        # random translation\n",
    "        cluster[0, :] = np.mod(cluster[0, :].real + np.random.randint(0, pe.N_X), pe.N_X)\n",
    "        cluster[1, :] = np.mod(cluster[1, :].real + np.random.randint(0, pe.N_X), pe.N_X)\n",
    "        # random rotation\n",
    "        #if np.random.rand()>.5:\n",
    "        #    cluster[0, :] = pe.N_X - cluster[0,:]\n",
    "        #    cluster[2, :] = - cluster[2,:]\n",
    "        #if np.random.rand()>.5:\n",
    "        #    cluster[1, :] = pe.N_X - cluster[1,:]\n",
    "        #    cluster[3, :] = np.pi - cluster[3,:]\n",
    "        # random amplitude\n",
    "        cluster[4, :] *= np.random.randn()#/values[idx_cluster[i_cluster]]\n",
    "        edgeslist_shuffled[:, (i_cluster*size_cluster):((i_cluster+1)*size_cluster)] = cluster\n",
    "    return edgeslist_shuffled"
   ]
  },
  {
   "cell_type": "code",
   "execution_count": null,
   "metadata": {
    "collapsed": false
   },
   "outputs": [],
   "source": [
    "N_trial = 8\n",
    "fig, ax = plt.subplots(N_trial, 2, figsize=(19, 9*N_trial))\n",
    "for i_trial in range(N_trial):\n",
    "    image = ef.normalize(ef.edge.reconstruct(shuffle(edgeslist_distractors, seed=12345+i_trial)))\n",
    "    ax[i_trial][0].imshow(image, cmap=plt.cm.gray)\n",
    "    image = im.normalize(ef.edge.reconstruct(shuffle(edgeslist_targets, seed=12345+i_trial+1)))\n",
    "    ax[i_trial][1].imshow(image, cmap=plt.cm.gray)"
   ]
  },
  {
   "cell_type": "code",
   "execution_count": null,
   "metadata": {
    "collapsed": false
   },
   "outputs": [],
   "source": [
    "# TODO: check that recognition is still good using SVM\n",
    "shuffled_edgeslist_distractors = np.zeros(edgeslist_distractors.shape)\n",
    "for i_image in range(edgeslist_distractors.shape[-1]):\n",
    "    shuffled_edgeslist_distractors[:, :, i_image] = shuffle(edgeslist_distractors)\n",
    "shuffled_edgeslist_targets = np.zeros(edgeslist_targets.shape)\n",
    "for i_image in range(edgeslist_targets.shape[-1]):\n",
    "    shuffled_edgeslist_targets[:, :, i_image] = shuffle(edgeslist_targets)"
   ]
  },
  {
   "cell_type": "code",
   "execution_count": null,
   "metadata": {
    "collapsed": false
   },
   "outputs": [],
   "source": [
    "exp = 'classifier'\n",
    "fone_score = ef.svm(exp, databases=['serre07_distractors', 'serre07_targets'], feature='full')\n",
    "print (\"=> Accuracy = %0.2f +/- %0.2f  \" % (fone_score.mean(), fone_score.std()))"
   ]
  },
  {
   "cell_type": "code",
   "execution_count": null,
   "metadata": {
    "collapsed": false
   },
   "outputs": [],
   "source": [
    "!rm mat/classifier_SVM_shuffled_*_lock\n",
    "fone_score = ef.svm(exp, databases=['shuffled_serre07_distractors', 'shuffled_serre07_targets'], edgeslists=[shuffled_edgeslist_distractors, shuffled_edgeslist_targets], feature='full')\n",
    "print (\"=> Accuracy = %0.2f +/- %0.2f  \" % (fone_score.mean(), fone_score.std()))"
   ]
  },
  {
   "cell_type": "code",
   "execution_count": null,
   "metadata": {
    "collapsed": false
   },
   "outputs": [],
   "source": [
    "!rm -fr database/shuffled_distractors\n",
    "# generate images to test psychophysically\n",
    "if not(os.path.isdir('database/shuffled_distractors')): os.mkdir('database/shuffled_distractors')\n",
    "for i_image in range(edgeslist_distractors.shape[-1]):\n",
    "    image_shuffled = im.normalize(ef.edge.reconstruct(shuffled_edgeslist_distractors[:, :, i_image]))\n",
    "    matname = 'database/shuffled_distractors/image_%03d.png' % i_image\n",
    "    if not(os.path.isfile(matname)): plt.imsave(matname, image_shuffled, cmap=plt.cm.gray)"
   ]
  },
  {
   "cell_type": "code",
   "execution_count": null,
   "metadata": {
    "collapsed": false
   },
   "outputs": [],
   "source": [
    "!rm -fr database/shuffled_targets\n",
    "if not(os.path.isdir('database/shuffled_targets')): os.mkdir('database/shuffled_targets')\n",
    "for i_image in range(edgeslist_targets.shape[-1]):\n",
    "    image_shuffled = im.normalize(ef.edge.reconstruct(shuffled_edgeslist_targets[:, :, i_image]))\n",
    "    matname = 'database/shuffled_targets/image_%03d.png' % i_image\n",
    "    if not(os.path.isfile(matname)): plt.imsave(matname, image_shuffled, cmap=plt.cm.gray)"
   ]
  },
  {
   "cell_type": "markdown",
   "metadata": {},
   "source": [
    "## some book keeping for the notebook"
   ]
  },
  {
   "cell_type": "code",
   "execution_count": null,
   "metadata": {
    "collapsed": false
   },
   "outputs": [],
   "source": [
    "%install_ext https://raw.githubusercontent.com/rasbt/python_reference/master/ipython_magic/watermark.py\n",
    "%load_ext watermark\n",
    "%watermark"
   ]
  },
  {
   "cell_type": "code",
   "execution_count": null,
   "metadata": {
    "collapsed": false,
    "scrolled": true
   },
   "outputs": [],
   "source": [
    "%install_ext http://raw.github.com/jrjohansson/version_information/master/version_information.py\n",
    "%load_ext version_information\n",
    "%version_information numpy, scipy, matplotlib, sympy"
   ]
  },
  {
   "cell_type": "code",
   "execution_count": null,
   "metadata": {
    "collapsed": false
   },
   "outputs": [],
   "source": [
    "%cd ../notebooks"
   ]
  }
 ],
 "metadata": {
  "kernelspec": {
   "display_name": "Python 3",
   "language": "python",
   "name": "python3"
  },
  "language_info": {
   "codemirror_mode": {
    "name": "ipython",
    "version": 3
   },
   "file_extension": ".py",
   "mimetype": "text/x-python",
   "name": "python",
   "nbconvert_exporter": "python",
   "pygments_lexer": "ipython3",
   "version": "3.5.2"
  }
 },
 "nbformat": 4,
 "nbformat_minor": 0
}
