{
 "cells": [
  {
   "cell_type": "markdown",
   "metadata": {},
   "source": [
    "# studying statistics of natural images for different image classes"
   ]
  },
  {
   "cell_type": "markdown",
   "metadata": {},
   "source": [
    "Before using edge co-occurences, we explore for 2 sets of images some classical statistical measures on the set of sparse edges.\n"
   ]
  },
  {
   "cell_type": "code",
   "execution_count": null,
   "metadata": {
    "collapsed": false
   },
   "outputs": [],
   "source": [
    "from __future__ import division, print_function\n",
    "import matplotlib\n",
    "matplotlib.rcParams.update({'text.usetex': False})\n",
    "%matplotlib inline\n",
    "%config InlineBackend.figure_format='retina'\n",
    "import matplotlib.pyplot as plt\n",
    "\n",
    "import numpy as np\n",
    "np.set_printoptions(precision=4)#, suppress=True)"
   ]
  },
  {
   "cell_type": "code",
   "execution_count": null,
   "metadata": {
    "collapsed": false
   },
   "outputs": [],
   "source": [
    "%cd test"
   ]
  },
  {
   "cell_type": "code",
   "execution_count": null,
   "metadata": {
    "collapsed": false
   },
   "outputs": [],
   "source": [
    "#! defining framework\n",
    "#!-------------------\n",
    "from SparseEdges import SparseEdges\n",
    "mp = SparseEdges('https://raw.githubusercontent.com/meduz/SparseEdges/master/default_param.py')\n",
    "mp.pe.N = 4\n",
    "mp.pe.do_mask = False\n",
    "mp.pe.MP_alpha = 1.\n",
    "mp.pe.do_whitening = False\n",
    "mp.init()\n",
    "\n",
    "print ('Range of spatial frequencies: ', mp.sf_0)"
   ]
  },
  {
   "cell_type": "markdown",
   "metadata": {},
   "source": [
    "### initialisation of the framework"
   ]
  },
  {
   "cell_type": "code",
   "execution_count": null,
   "metadata": {
    "collapsed": false
   },
   "outputs": [],
   "source": [
    "mp = SparseEdges('https://raw.githubusercontent.com/meduz/SparseEdges/master/default_param.py')\n",
    "from pylab import imread\n",
    "image = imread('../../SLIP/database/yelmo' + str(mp.pe.N_X) + '.png').mean(axis=-1)#.flipud().fliplr()\n",
    "image = mp.normalize(image, center=True)\n",
    "mp.set_size(image)\n",
    "mp.pe.datapath = '../../SLIP/database/'\n",
    "\n",
    "imagelist = mp.get_imagelist(exp='testing_vanilla', name_database='serre07_targets')\n",
    "#!ls mat/edges/testing_v*"
   ]
  },
  {
   "cell_type": "code",
   "execution_count": null,
   "metadata": {
    "collapsed": false
   },
   "outputs": [],
   "source": [
    "imagelist, edgeslist_targets, RMSE = mp.process(exp='testing_vanilla', name_database='serre07_targets')\n",
    "imagelist, edgeslist_distractors, RMSE = mp.process(exp='testing_vanilla', name_database='serre07_distractors')\n",
    "print( edgeslist_targets.shape, edgeslist_distractors.shape)"
   ]
  },
  {
   "cell_type": "markdown",
   "metadata": {},
   "source": [
    "### Zero-order stats"
   ]
  },
  {
   "cell_type": "code",
   "execution_count": null,
   "metadata": {
    "collapsed": false
   },
   "outputs": [],
   "source": [
    "for exp, name_database in zip(['testing_vanilla', 'testing_vanilla'], ['serre07_distractors', 'serre07_targets']):\n",
    "    print ('DATABASE ', name_database)\n",
    "    imagelist, edgeslist, RMSE = mp.process(exp, name_database=name_database)\n",
    "    N_image = edgeslist.shape[2]\n",
    "    for i_image in range(N_image):\n",
    "        filename, croparea = imagelist[i_image]\n",
    "        #image, filename_, croparea_ = im.patch(name_database=name_database, filename=filename, croparea=croparea)\n",
    "        #print 'Image ', filename, croparea, image.std(), image.mean()#, filename_, croparea_"
   ]
  },
  {
   "cell_type": "code",
   "execution_count": null,
   "metadata": {
    "collapsed": false
   },
   "outputs": [],
   "source": [
    "value_distractors = edgeslist_distractors[4, :, :]\n",
    "phase_distractors = edgeslist_distractors[5, :, :]"
   ]
  },
  {
   "cell_type": "code",
   "execution_count": null,
   "metadata": {
    "collapsed": false
   },
   "outputs": [],
   "source": [
    "value_targets = edgeslist_targets[4, :, :]\n",
    "phase_targets = edgeslist_targets[5, :, :]"
   ]
  },
  {
   "cell_type": "code",
   "execution_count": null,
   "metadata": {
    "collapsed": false
   },
   "outputs": [],
   "source": [
    "indices = np.ones((value_targets.shape[0], 1)) * (np.arange(value_targets.shape[1])[np.newaxis, :])"
   ]
  },
  {
   "cell_type": "markdown",
   "metadata": {},
   "source": [
    "### Sparseness:"
   ]
  },
  {
   "cell_type": "markdown",
   "metadata": {},
   "source": [
    "overall sparseness:"
   ]
  },
  {
   "cell_type": "code",
   "execution_count": null,
   "metadata": {
    "collapsed": false
   },
   "outputs": [],
   "source": [
    "fig = plt.figure(figsize=(18, 6))\n",
    "ax1 = fig.add_subplot(121); ax2 = fig.add_subplot(122)\n",
    "ax1.set_xlabel('values'); ax2.set_xlabel('values'); ax1.set_ylabel('smarts')\n",
    "ax1.set_title('distractor'); ax2.set_title('targets')\n",
    "_ = ax1.hist(value_distractors.ravel(), 100, log=True)\n",
    "_ = ax2.hist(value_targets.ravel(), 100, log=True)"
   ]
  },
  {
   "cell_type": "code",
   "execution_count": null,
   "metadata": {
    "collapsed": false
   },
   "outputs": [],
   "source": [
    "fig = plt.figure(figsize=(18, 6))\n",
    "import matplotlib\n",
    "ax1 = fig.add_subplot(121); ax2 = fig.add_subplot(122)\n",
    "ax1.set_xlabel('values'); ax2.set_xlabel('values'); ax1.set_ylabel('# image')\n",
    "ax1.set_title('distractor'); ax2.set_title('targets')\n",
    "_ = ax1.hist2d(value_distractors.ravel(), indices.ravel(), [30, value_distractors.shape[1]], norm=matplotlib.colors.LogNorm())\n",
    "_ = ax2.hist2d(value_targets.ravel(), indices.ravel(), [30, value_targets.shape[1]], norm=matplotlib.colors.LogNorm())"
   ]
  },
  {
   "cell_type": "markdown",
   "metadata": {},
   "source": [
    "Sparseness score"
   ]
  },
  {
   "cell_type": "code",
   "execution_count": null,
   "metadata": {
    "collapsed": false
   },
   "outputs": [],
   "source": [
    "print ('energy ', [np.sqrt((Value**2).mean()) for Value in [value_distractors, value_targets]])\n",
    "print ('mean ', [Value.mean() for Value in [value_distractors, value_targets]])\n",
    "print ('median ', [np.median(Value) for Value in [value_distractors, value_targets]])\n",
    "print ('sparseness ', [Value.mean()/np.median(Value) for Value in [value_distractors, value_targets]])\n",
    "#plt.hist?"
   ]
  },
  {
   "cell_type": "code",
   "execution_count": null,
   "metadata": {
    "collapsed": false
   },
   "outputs": [],
   "source": [
    "fig = plt.figure(figsize=(18, 6))\n",
    "ax1 = fig.add_subplot(121); ax2 = fig.add_subplot(122)\n",
    "ax1.set_xlabel('sparseness score'); ax2.set_xlabel('sparseness score'); ax1.set_ylabel('smarts')\n",
    "ax1.set_title('distractor'); ax2.set_title('targets')\n",
    "_ = ax1.hist(value_distractors.mean(axis=0)/np.median(value_distractors, axis=0))\n",
    "_ = ax2.hist(value_targets.mean(axis=0)/np.median(value_targets, axis=0))"
   ]
  },
  {
   "cell_type": "markdown",
   "metadata": {},
   "source": [
    "Computing a fit of activities with a power law"
   ]
  },
  {
   "cell_type": "code",
   "execution_count": null,
   "metadata": {
    "collapsed": false
   },
   "outputs": [],
   "source": [
    "from scipy.stats import powerlaw\n",
    "\n",
    "shape = np.zeros(value_distractors.shape[1])\n",
    "for i_image in range(value_distractors.shape[1]):\n",
    "    shape[i_image], loc, scale = powerlaw.fit(value_distractors[:, i_image])\n",
    "print (shape.mean(), shape.std())\n",
    "    "
   ]
  },
  {
   "cell_type": "markdown",
   "metadata": {},
   "source": [
    "Such that we can compare the sparseness strength for different image sizes"
   ]
  },
  {
   "cell_type": "code",
   "execution_count": null,
   "metadata": {
    "collapsed": false
   },
   "outputs": [],
   "source": [
    "if False: #for size, size_str in zip([16, 32, 128, 256], ['_016', '_032', '_128', '']):\n",
    "    imagelist, edgeslist_distractors, RMSE = mp.process(exp='testing_vanilla' + size_str, name_database='serre07_distractors')\n",
    "    value_distractors = edgeslist_distractors[4, :, :]\n",
    "    shape = np.zeros(value_distractors.shape[1])\n",
    "    for i_image in range(value_distractors.shape[1]):\n",
    "        shape[i_image], loc, scale = powerlaw.fit(value_distractors[:, i_image])\n",
    "    print (shape.mean(), shape.std())\n"
   ]
  },
  {
   "cell_type": "markdown",
   "metadata": {},
   "source": [
    "statistics of phase"
   ]
  },
  {
   "cell_type": "code",
   "execution_count": null,
   "metadata": {
    "collapsed": false
   },
   "outputs": [],
   "source": [
    "fig = plt.figure(figsize=(18, 6))\n",
    "ax1 = fig.add_subplot(121); ax2 = fig.add_subplot(122)\n",
    "ax1.set_xlabel('phase'); ax2.set_xlabel('phase'); ax1.set_ylabel('smarts')\n",
    "ax1.set_title('distractor'); ax2.set_title('targets')\n",
    "_ = ax1.hist(phase_distractors.ravel(), 30)\n",
    "ax1.set_xlim([-np.pi, np.pi])\n",
    "(n, bins, patches)= ax2.hist(phase_targets.ravel(), 30, log=False)\n",
    "ax2.set_xlim([-np.pi, np.pi])\n",
    "print (np.max(n)/np.min(n))"
   ]
  },
  {
   "cell_type": "code",
   "execution_count": null,
   "metadata": {
    "collapsed": false
   },
   "outputs": [],
   "source": [
    "fig = plt.figure(figsize=(18, 6))\n",
    "ax1 = fig.add_subplot(121); ax2 = fig.add_subplot(122)\n",
    "ax1.set_xlabel('phase'); ax2.set_xlabel('phase'); ax1.set_ylabel('# image')\n",
    "ax1.set_title('distractor'); ax2.set_title('targets')\n",
    "_ = ax1.hist2d(phase_distractors.ravel(), indices.ravel(), [30, value_distractors.shape[1]])\n",
    "_ = ax2.hist2d(phase_targets.ravel(), indices.ravel(), [30, value_targets.shape[1]])"
   ]
  },
  {
   "cell_type": "markdown",
   "metadata": {},
   "source": [
    "dependency between value and phase"
   ]
  },
  {
   "cell_type": "code",
   "execution_count": null,
   "metadata": {
    "collapsed": false
   },
   "outputs": [],
   "source": [
    "import matplotlib\n",
    "fig = plt.figure(figsize=(18, 6))\n",
    "ax1 = fig.add_subplot(121); ax2 = fig.add_subplot(122)\n",
    "ax1.set_xlabel('value'); ax2.set_xlabel('value'); ax1.set_ylabel('phase')\n",
    "ax1.set_title('distractor'); ax2.set_title('targets')\n",
    "_ = ax1.hist2d(value_distractors.ravel(), phase_distractors.ravel(), 100, norm=matplotlib.colors.LogNorm())\n",
    "_ = ax2.hist2d(value_targets.ravel(), phase_targets.ravel(), 100, norm=matplotlib.colors.LogNorm())"
   ]
  },
  {
   "cell_type": "markdown",
   "metadata": {},
   "source": [
    "\n",
    "but not specific to a class:"
   ]
  },
  {
   "cell_type": "code",
   "execution_count": null,
   "metadata": {
    "collapsed": false
   },
   "outputs": [],
   "source": [
    "#plt.hist2d?\n",
    "import matplotlib\n",
    "fig = plt.figure(figsize=(18, 6))\n",
    "ax1 = fig.add_subplot(121); ax2 = fig.add_subplot(122)\n",
    "ax1.set_xlabel('value'); ax2.set_xlabel('value'); ax1.set_ylabel('phase')\n",
    "ax1.set_title('distractor'); ax2.set_title('targets')\n",
    "_ = ax1.hist2d(value_distractors.ravel(), phase_targets.ravel(), 100, norm=matplotlib.colors.LogNorm())\n",
    "_ = ax2.hist2d(value_targets.ravel(), phase_distractors.ravel(), 100, norm=matplotlib.colors.LogNorm())"
   ]
  },
  {
   "cell_type": "markdown",
   "metadata": {},
   "source": [
    "relation between sparseness and phase"
   ]
  },
  {
   "cell_type": "code",
   "execution_count": null,
   "metadata": {
    "collapsed": false
   },
   "outputs": [],
   "source": [
    "#fig = plt.figure(figsize=(18, 6))\n",
    "#ax1 = fig.add_subplot(121); ax2 = fig.add_subplot(122)\n",
    "#ax1.set_xlabel('sparseness score'); ax2.set_xlabel('sparseness score'); ax1.set_ylabel('smarts')\n",
    "#ax1.set_title('distractor'); ax2.set_title('targets')\n",
    "#_ = ax1.hist2d(Value_distractors.mean(axis=0)/np.median(Value_distractors, axis=0), 100)\n",
    "#_ = ax2.hist2d(Value_targets.mean(axis=0)/np.median(Value_targets, axis=0), 100)"
   ]
  },
  {
   "cell_type": "markdown",
   "metadata": {},
   "source": [
    "relation between sparseness and scale"
   ]
  },
  {
   "cell_type": "code",
   "execution_count": null,
   "metadata": {
    "collapsed": false
   },
   "outputs": [],
   "source": [
    "sf_targets = edgeslist_targets[3, :, :].real\n",
    "print (np.unique(np.log2(sf_targets).ravel()))\n",
    "_ = plt.hist(np.log2(sf_targets).ravel(), 7)"
   ]
  },
  {
   "cell_type": "markdown",
   "metadata": {},
   "source": [
    "#### relation between activity and scale"
   ]
  },
  {
   "cell_type": "code",
   "execution_count": null,
   "metadata": {
    "collapsed": false
   },
   "outputs": [],
   "source": [
    "sf_targets = np.log2(edgeslist_targets[3, :, :].real)\n",
    "sf_distractors = np.log2(edgeslist_distractors[3, :, :].real)\n",
    "#_ = plt.scatter(np.log2(sf_targets).ravel(), (np.absolute(Value_targets)).ravel())\n",
    "fig = plt.figure(figsize=(18, 6))\n",
    "ax1 = fig.add_subplot(121); ax2 = fig.add_subplot(122)\n",
    "ax1.set_ylabel('value'); ax2.set_xlabel('log scale'); ax1.set_xlabel('log scale')\n",
    "ax1.set_title('distractor'); ax2.set_title('targets')\n",
    "_ = ax1.hist2d(sf_targets.ravel(), value_distractors.ravel(), 30, norm=matplotlib.colors.LogNorm())\n",
    "_ = ax2.hist2d(sf_distractors.ravel(), value_targets.ravel(), 30, norm=matplotlib.colors.LogNorm())"
   ]
  },
  {
   "cell_type": "markdown",
   "metadata": {},
   "source": [
    "Angles"
   ]
  },
  {
   "cell_type": "code",
   "execution_count": null,
   "metadata": {
    "collapsed": false
   },
   "outputs": [],
   "source": [
    "theta_targets = edgeslist_targets[2, :, 0].ravel().real\n",
    "theta_distractors = edgeslist_distractors[2,  :, 0].ravel().real\n",
    "mp.init_edges()\n",
    "print (mp.edges_theta * 180 / np.pi)\n",
    "print (theta_targets * 180 / np.pi)"
   ]
  },
  {
   "cell_type": "code",
   "execution_count": null,
   "metadata": {
    "collapsed": false
   },
   "outputs": [],
   "source": [
    "_ = plt.hist(theta_targets, bins=mp.edges_theta)\n",
    "_ = plt.hist(theta_targets, bins=120)"
   ]
  },
  {
   "cell_type": "markdown",
   "metadata": {},
   "source": [
    "### Second order statistics"
   ]
  },
  {
   "cell_type": "code",
   "execution_count": null,
   "metadata": {
    "collapsed": false
   },
   "outputs": [],
   "source": [
    "theta = theta_targets[:, np.newaxis] - theta_targets[np.newaxis, :]\n",
    "plt.matshow(theta)\n",
    "plt.colorbar()\n",
    "plt.matshow(np.sin(theta + theta.T)); plt.colorbar()"
   ]
  },
  {
   "cell_type": "code",
   "execution_count": null,
   "metadata": {
    "collapsed": false
   },
   "outputs": [],
   "source": [
    "theta = ((theta + np.pi/2 - np.pi/mp.pe.N_Dtheta/4)  % (np.pi) ) - np.pi/2  + np.pi/mp.pe.N_Dtheta/4\n",
    "plt.matshow(theta)\n",
    "plt.colorbar()\n",
    "plt.matshow(np.sin(theta + theta.T)); plt.colorbar()"
   ]
  },
  {
   "cell_type": "code",
   "execution_count": null,
   "metadata": {
    "collapsed": false
   },
   "outputs": [],
   "source": [
    "_ = plt.hist(theta.ravel(), bins=np.linspace(-np.pi/2, np.pi/2, 2*mp.pe.N_Dtheta+1) + np.pi/mp.pe.N_Dtheta/4, alpha=.5)\n",
    "_ = plt.hist(theta.ravel(), bins=mp.edges_theta, alpha=.5)\n",
    "_ = plt.hist(theta.ravel(), bins=120, alpha=.5)"
   ]
  },
  {
   "cell_type": "code",
   "execution_count": null,
   "metadata": {
    "collapsed": false
   },
   "outputs": [],
   "source": [
    "%cd .."
   ]
  },
  {
   "cell_type": "markdown",
   "metadata": {},
   "source": [
    "## some book keeping for the notebook"
   ]
  },
  {
   "cell_type": "code",
   "execution_count": null,
   "metadata": {
    "collapsed": false
   },
   "outputs": [],
   "source": [
    "%install_ext https://raw.githubusercontent.com/rasbt/python_reference/master/ipython_magic/watermark.py\n",
    "%load_ext watermark\n",
    "%watermark"
   ]
  },
  {
   "cell_type": "code",
   "execution_count": null,
   "metadata": {
    "collapsed": false
   },
   "outputs": [],
   "source": [
    "%install_ext http://raw.github.com/jrjohansson/version_information/master/version_information.py\n",
    "%load_ext version_information\n",
    "%version_information numpy, scipy, matplotlib, sympy"
   ]
  }
 ],
 "metadata": {
  "kernelspec": {
   "display_name": "Python 3",
   "language": "python",
   "name": "python3"
  },
  "language_info": {
   "codemirror_mode": {
    "name": "ipython",
    "version": 3
   },
   "file_extension": ".py",
   "mimetype": "text/x-python",
   "name": "python",
   "nbconvert_exporter": "python",
   "pygments_lexer": "ipython3",
   "version": "3.5.1"
  }
 },
 "nbformat": 4,
 "nbformat_minor": 0
}
