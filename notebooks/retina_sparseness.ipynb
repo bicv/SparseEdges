{
 "cells": [
  {
   "cell_type": "markdown",
   "metadata": {},
   "source": [
    "# SparseEdges : computing sparseness of natural images with retina-like RFs\n",
    "\n",
    "Let's compute the \"edges\" produced with symmetrical filters.\n",
    "\n",
    "## Initialization"
   ]
  },
  {
   "cell_type": "code",
   "execution_count": 1,
   "metadata": {
    "collapsed": false
   },
   "outputs": [],
   "source": [
    "%load_ext autoreload\n",
    "%autoreload 2"
   ]
  },
  {
   "cell_type": "code",
   "execution_count": 2,
   "metadata": {
    "collapsed": true
   },
   "outputs": [],
   "source": [
    "cluster = True"
   ]
  },
  {
   "cell_type": "code",
   "execution_count": 3,
   "metadata": {
    "collapsed": false
   },
   "outputs": [],
   "source": [
    "from __future__ import division, print_function\n",
    "import matplotlib\n",
    "pylab_defaults = { \n",
    "    'font.size': 10,\n",
    "    'xtick.labelsize':'medium',\n",
    "    'ytick.labelsize':'medium',\n",
    "    'text.usetex': False,\n",
    "    'font.family' : 'sans-serif',\n",
    "    'font.sans-serif' : ['Helvetica'],\n",
    "    }\n",
    "matplotlib.rcParams.update(pylab_defaults)\n",
    "\n",
    "%matplotlib inline\n",
    "import matplotlib.pyplot as plt\n",
    "%config InlineBackend.figure_format='retina'\n",
    "#%config InlineBackend.figure_format = 'svg'\n",
    "import os\n",
    "import numpy as np\n",
    "np.set_printoptions(precision=2, suppress=True)\n",
    "fig_width_pt = 397.48  # Get this from LaTeX using \\showthe\\columnwidth\n",
    "inches_per_pt = 1.0/72.27               # Convert pt to inches\n",
    "fig_width = fig_width_pt*inches_per_pt  # width in inches\n",
    "#fig_width = 21\n",
    "figsize=(fig_width, .618*fig_width)"
   ]
  },
  {
   "cell_type": "code",
   "execution_count": 4,
   "metadata": {
    "collapsed": false,
    "scrolled": true
   },
   "outputs": [
    {
     "name": "stdout",
     "output_type": "stream",
     "text": [
      "/Users/laurentperrinet/pool/science/BICV/SparseEdges/test\n"
     ]
    }
   ],
   "source": [
    "%cd ../test\n",
    "figpath, ext = os.path.join(os.getenv('HOME'), 'pool/science/RetinaClouds/2016-05-20_nips'), '.pdf'\n",
    "exp='retina_sparseness'"
   ]
  },
  {
   "cell_type": "raw",
   "metadata": {
    "collapsed": true
   },
   "source": [
    "!rm -fr **/retina_sparseness* **/**/retina_sparseness*"
   ]
  },
  {
   "cell_type": "markdown",
   "metadata": {},
   "source": [
    "defining framework\n"
   ]
  },
  {
   "cell_type": "code",
   "execution_count": 5,
   "metadata": {
    "collapsed": false
   },
   "outputs": [
    {
     "ename": "AttributeError",
     "evalue": "'ParameterSet' object has no attribute 'mask_exponent'",
     "output_type": "error",
     "traceback": [
      "\u001b[0;31m---------------------------------------------------------------------------\u001b[0m",
      "\u001b[0;31mKeyError\u001b[0m                                  Traceback (most recent call last)",
      "\u001b[0;32m/usr/local/lib/python3.5/site-packages/NeuroTools/parameters/__init__.py\u001b[0m in \u001b[0;36m__getattr__\u001b[0;34m(self, name)\u001b[0m\n\u001b[1;32m    455\u001b[0m         \u001b[0;32mtry\u001b[0m\u001b[0;34m:\u001b[0m\u001b[0;34m\u001b[0m\u001b[0m\n\u001b[0;32m--> 456\u001b[0;31m             \u001b[0;32mreturn\u001b[0m \u001b[0mself\u001b[0m\u001b[0;34m[\u001b[0m\u001b[0mname\u001b[0m\u001b[0;34m]\u001b[0m\u001b[0;34m\u001b[0m\u001b[0m\n\u001b[0m\u001b[1;32m    457\u001b[0m         \u001b[0;32mexcept\u001b[0m \u001b[0mKeyError\u001b[0m\u001b[0;34m:\u001b[0m\u001b[0;34m\u001b[0m\u001b[0m\n",
      "\u001b[0;32m/usr/local/lib/python3.5/site-packages/NeuroTools/parameters/__init__.py\u001b[0m in \u001b[0;36m__getitem__\u001b[0;34m(self, name)\u001b[0m\n\u001b[1;32m    472\u001b[0m         \u001b[0;32mif\u001b[0m \u001b[0mlen\u001b[0m\u001b[0;34m(\u001b[0m\u001b[0msplit\u001b[0m\u001b[0;34m)\u001b[0m \u001b[0;34m==\u001b[0m \u001b[0;36m1\u001b[0m\u001b[0;34m:\u001b[0m\u001b[0;34m\u001b[0m\u001b[0m\n\u001b[0;32m--> 473\u001b[0;31m             \u001b[0;32mreturn\u001b[0m \u001b[0mdict\u001b[0m\u001b[0;34m.\u001b[0m\u001b[0m__getitem__\u001b[0m\u001b[0;34m(\u001b[0m\u001b[0mself\u001b[0m\u001b[0;34m,\u001b[0m \u001b[0mname\u001b[0m\u001b[0;34m)\u001b[0m\u001b[0;34m\u001b[0m\u001b[0m\n\u001b[0m\u001b[1;32m    474\u001b[0m         \u001b[0;31m# nested get\u001b[0m\u001b[0;34m\u001b[0m\u001b[0;34m\u001b[0m\u001b[0m\n",
      "\u001b[0;31mKeyError\u001b[0m: 'mask_exponent'",
      "\nDuring handling of the above exception, another exception occurred:\n",
      "\u001b[0;31mAttributeError\u001b[0m                            Traceback (most recent call last)",
      "\u001b[0;32m<ipython-input-5-e350070b00c5>\u001b[0m in \u001b[0;36m<module>\u001b[0;34m()\u001b[0m\n\u001b[1;32m      1\u001b[0m \u001b[0;32mfrom\u001b[0m \u001b[0mSparseEdges\u001b[0m \u001b[0;32mimport\u001b[0m \u001b[0mSparseEdges\u001b[0m\u001b[0;34m\u001b[0m\u001b[0m\n\u001b[0;32m----> 2\u001b[0;31m \u001b[0mmp\u001b[0m \u001b[0;34m=\u001b[0m \u001b[0mSparseEdges\u001b[0m\u001b[0;34m(\u001b[0m\u001b[0;34m'https://raw.githubusercontent.com/meduz/SparseEdges/master/default_param.py'\u001b[0m\u001b[0;34m)\u001b[0m\u001b[0;34m\u001b[0m\u001b[0m\n\u001b[0m\u001b[1;32m      3\u001b[0m \u001b[0mprint\u001b[0m \u001b[0;34m(\u001b[0m\u001b[0;34m'Range of spatial frequencies: '\u001b[0m\u001b[0;34m,\u001b[0m \u001b[0mmp\u001b[0m\u001b[0;34m.\u001b[0m\u001b[0msf_0\u001b[0m\u001b[0;34m)\u001b[0m\u001b[0;34m\u001b[0m\u001b[0m\n",
      "\u001b[0;32m/Users/laurentperrinet/pool/science/BICV/SparseEdges/src/SparseEdges.py\u001b[0m in \u001b[0;36m__init__\u001b[0;34m(self, pe)\u001b[0m\n\u001b[1;32m     30\u001b[0m \u001b[0;34m\u001b[0m\u001b[0m\n\u001b[1;32m     31\u001b[0m         \"\"\"\n\u001b[0;32m---> 32\u001b[0;31m         \u001b[0mLogGabor\u001b[0m\u001b[0;34m.\u001b[0m\u001b[0m__init__\u001b[0m\u001b[0;34m(\u001b[0m\u001b[0mself\u001b[0m\u001b[0;34m,\u001b[0m \u001b[0mpe\u001b[0m\u001b[0;34m)\u001b[0m\u001b[0;34m\u001b[0m\u001b[0m\n\u001b[0m\u001b[1;32m     33\u001b[0m         \u001b[0mself\u001b[0m\u001b[0;34m.\u001b[0m\u001b[0minit\u001b[0m\u001b[0;34m(\u001b[0m\u001b[0;34m)\u001b[0m\u001b[0;34m\u001b[0m\u001b[0m\n\u001b[1;32m     34\u001b[0m         \u001b[0mself\u001b[0m\u001b[0;34m.\u001b[0m\u001b[0minit_logging\u001b[0m\u001b[0;34m(\u001b[0m\u001b[0mname\u001b[0m\u001b[0;34m=\u001b[0m\u001b[0;34m'SparseEdges'\u001b[0m\u001b[0;34m)\u001b[0m\u001b[0;34m\u001b[0m\u001b[0m\n",
      "\u001b[0;32m/Users/laurentperrinet/pool/science/BICV/LogGabor/src/LogGabor.py\u001b[0m in \u001b[0;36m__init__\u001b[0;34m(self, pe)\u001b[0m\n\u001b[1;32m     21\u001b[0m     \"\"\"\n\u001b[1;32m     22\u001b[0m     \u001b[0;32mdef\u001b[0m \u001b[0m__init__\u001b[0m\u001b[0;34m(\u001b[0m\u001b[0mself\u001b[0m\u001b[0;34m,\u001b[0m \u001b[0mpe\u001b[0m\u001b[0;34m)\u001b[0m\u001b[0;34m:\u001b[0m\u001b[0;34m\u001b[0m\u001b[0m\n\u001b[0;32m---> 23\u001b[0;31m         \u001b[0mImage\u001b[0m\u001b[0;34m.\u001b[0m\u001b[0m__init__\u001b[0m\u001b[0;34m(\u001b[0m\u001b[0mself\u001b[0m\u001b[0;34m,\u001b[0m \u001b[0mpe\u001b[0m\u001b[0;34m)\u001b[0m\u001b[0;34m\u001b[0m\u001b[0m\n\u001b[0m\u001b[1;32m     24\u001b[0m         \u001b[0mself\u001b[0m\u001b[0;34m.\u001b[0m\u001b[0minit_logging\u001b[0m\u001b[0;34m(\u001b[0m\u001b[0mname\u001b[0m\u001b[0;34m=\u001b[0m\u001b[0;34m'LogGabor'\u001b[0m\u001b[0;34m)\u001b[0m\u001b[0;34m\u001b[0m\u001b[0m\n\u001b[1;32m     25\u001b[0m \u001b[0;34m\u001b[0m\u001b[0m\n",
      "\u001b[0;32m/Users/laurentperrinet/pool/science/BICV/SLIP/src/SLIP.py\u001b[0m in \u001b[0;36m__init__\u001b[0;34m(self, pe)\u001b[0m\n\u001b[1;32m    117\u001b[0m         \u001b[0mself\u001b[0m\u001b[0;34m.\u001b[0m\u001b[0mN_X\u001b[0m \u001b[0;34m=\u001b[0m \u001b[0mself\u001b[0m\u001b[0;34m.\u001b[0m\u001b[0mpe\u001b[0m\u001b[0;34m.\u001b[0m\u001b[0mN_X\u001b[0m \u001b[0;31m# n_x\u001b[0m\u001b[0;34m\u001b[0m\u001b[0m\n\u001b[1;32m    118\u001b[0m         \u001b[0mself\u001b[0m\u001b[0;34m.\u001b[0m\u001b[0mN_Y\u001b[0m \u001b[0;34m=\u001b[0m \u001b[0mself\u001b[0m\u001b[0;34m.\u001b[0m\u001b[0mpe\u001b[0m\u001b[0;34m.\u001b[0m\u001b[0mN_Y\u001b[0m \u001b[0;31m# n_y\u001b[0m\u001b[0;34m\u001b[0m\u001b[0m\n\u001b[0;32m--> 119\u001b[0;31m         \u001b[0mself\u001b[0m\u001b[0;34m.\u001b[0m\u001b[0minit\u001b[0m\u001b[0;34m(\u001b[0m\u001b[0;34m)\u001b[0m\u001b[0;34m\u001b[0m\u001b[0m\n\u001b[0m\u001b[1;32m    120\u001b[0m \u001b[0;34m\u001b[0m\u001b[0m\n\u001b[1;32m    121\u001b[0m     \u001b[0;32mdef\u001b[0m \u001b[0mget_pe\u001b[0m\u001b[0;34m(\u001b[0m\u001b[0mself\u001b[0m\u001b[0;34m,\u001b[0m \u001b[0mpe\u001b[0m\u001b[0;34m)\u001b[0m\u001b[0;34m:\u001b[0m\u001b[0;34m\u001b[0m\u001b[0m\n",
      "\u001b[0;32m/Users/laurentperrinet/pool/science/BICV/SparseEdges/src/SparseEdges.py\u001b[0m in \u001b[0;36minit\u001b[0;34m(self)\u001b[0m\n\u001b[1;32m     35\u001b[0m \u001b[0;34m\u001b[0m\u001b[0m\n\u001b[1;32m     36\u001b[0m     \u001b[0;32mdef\u001b[0m \u001b[0minit\u001b[0m\u001b[0;34m(\u001b[0m\u001b[0mself\u001b[0m\u001b[0;34m)\u001b[0m\u001b[0;34m:\u001b[0m\u001b[0;34m\u001b[0m\u001b[0m\n\u001b[0;32m---> 37\u001b[0;31m         \u001b[0mLogGabor\u001b[0m\u001b[0;34m.\u001b[0m\u001b[0minit\u001b[0m\u001b[0;34m(\u001b[0m\u001b[0mself\u001b[0m\u001b[0;34m)\u001b[0m\u001b[0;34m\u001b[0m\u001b[0m\n\u001b[0m\u001b[1;32m     38\u001b[0m \u001b[0;34m\u001b[0m\u001b[0m\n\u001b[1;32m     39\u001b[0m         \u001b[0mself\u001b[0m\u001b[0;34m.\u001b[0m\u001b[0mn_levels\u001b[0m \u001b[0;34m=\u001b[0m \u001b[0mint\u001b[0m\u001b[0;34m(\u001b[0m\u001b[0mnp\u001b[0m\u001b[0;34m.\u001b[0m\u001b[0mlog\u001b[0m\u001b[0;34m(\u001b[0m\u001b[0mnp\u001b[0m\u001b[0;34m.\u001b[0m\u001b[0mmax\u001b[0m\u001b[0;34m(\u001b[0m\u001b[0;34m(\u001b[0m\u001b[0mself\u001b[0m\u001b[0;34m.\u001b[0m\u001b[0mN_X\u001b[0m\u001b[0;34m,\u001b[0m \u001b[0mself\u001b[0m\u001b[0;34m.\u001b[0m\u001b[0mN_Y\u001b[0m\u001b[0;34m)\u001b[0m\u001b[0;34m)\u001b[0m\u001b[0;34m)\u001b[0m\u001b[0;34m/\u001b[0m\u001b[0mnp\u001b[0m\u001b[0;34m.\u001b[0m\u001b[0mlog\u001b[0m\u001b[0;34m(\u001b[0m\u001b[0mself\u001b[0m\u001b[0;34m.\u001b[0m\u001b[0mpe\u001b[0m\u001b[0;34m.\u001b[0m\u001b[0mbase_levels\u001b[0m\u001b[0;34m)\u001b[0m\u001b[0;34m)\u001b[0m\u001b[0;34m\u001b[0m\u001b[0m\n",
      "\u001b[0;32m/Users/laurentperrinet/pool/science/BICV/SLIP/src/SLIP.py\u001b[0m in \u001b[0;36minit\u001b[0;34m(self)\u001b[0m\n\u001b[1;32m    202\u001b[0m         \u001b[0mself\u001b[0m\u001b[0;34m.\u001b[0m\u001b[0mx\u001b[0m\u001b[0;34m,\u001b[0m \u001b[0mself\u001b[0m\u001b[0;34m.\u001b[0m\u001b[0my\u001b[0m \u001b[0;34m=\u001b[0m \u001b[0mnp\u001b[0m\u001b[0;34m.\u001b[0m\u001b[0mmgrid\u001b[0m\u001b[0;34m[\u001b[0m\u001b[0;34m-\u001b[0m\u001b[0;36m1\u001b[0m\u001b[0;34m:\u001b[0m\u001b[0;36m1\u001b[0m\u001b[0;34m:\u001b[0m\u001b[0;36m1j\u001b[0m\u001b[0;34m*\u001b[0m\u001b[0mself\u001b[0m\u001b[0;34m.\u001b[0m\u001b[0mN_X\u001b[0m\u001b[0;34m,\u001b[0m \u001b[0;34m-\u001b[0m\u001b[0;36m1\u001b[0m\u001b[0;34m:\u001b[0m\u001b[0;36m1\u001b[0m\u001b[0;34m:\u001b[0m\u001b[0;36m1j\u001b[0m\u001b[0;34m*\u001b[0m\u001b[0mself\u001b[0m\u001b[0;34m.\u001b[0m\u001b[0mN_Y\u001b[0m\u001b[0;34m]\u001b[0m\u001b[0;34m\u001b[0m\u001b[0m\n\u001b[1;32m    203\u001b[0m         \u001b[0mself\u001b[0m\u001b[0;34m.\u001b[0m\u001b[0mR\u001b[0m \u001b[0;34m=\u001b[0m \u001b[0mnp\u001b[0m\u001b[0;34m.\u001b[0m\u001b[0msqrt\u001b[0m\u001b[0;34m(\u001b[0m\u001b[0mself\u001b[0m\u001b[0;34m.\u001b[0m\u001b[0mx\u001b[0m\u001b[0;34m**\u001b[0m\u001b[0;36m2\u001b[0m \u001b[0;34m+\u001b[0m \u001b[0mself\u001b[0m\u001b[0;34m.\u001b[0m\u001b[0my\u001b[0m\u001b[0;34m**\u001b[0m\u001b[0;36m2\u001b[0m\u001b[0;34m)\u001b[0m\u001b[0;34m\u001b[0m\u001b[0m\n\u001b[0;32m--> 204\u001b[0;31m         \u001b[0mself\u001b[0m\u001b[0;34m.\u001b[0m\u001b[0mmask\u001b[0m \u001b[0;34m=\u001b[0m \u001b[0;34m(\u001b[0m\u001b[0;34m(\u001b[0m\u001b[0mnp\u001b[0m\u001b[0;34m.\u001b[0m\u001b[0mcos\u001b[0m\u001b[0;34m(\u001b[0m\u001b[0mnp\u001b[0m\u001b[0;34m.\u001b[0m\u001b[0mpi\u001b[0m\u001b[0;34m*\u001b[0m\u001b[0mself\u001b[0m\u001b[0;34m.\u001b[0m\u001b[0mR\u001b[0m\u001b[0;34m)\u001b[0m\u001b[0;34m+\u001b[0m\u001b[0;36m1\u001b[0m\u001b[0;34m)\u001b[0m\u001b[0;34m/\u001b[0m\u001b[0;36m2\u001b[0m \u001b[0;34m*\u001b[0m\u001b[0;34m(\u001b[0m\u001b[0mself\u001b[0m\u001b[0;34m.\u001b[0m\u001b[0mR\u001b[0m \u001b[0;34m<\u001b[0m \u001b[0;36m1.\u001b[0m\u001b[0;34m)\u001b[0m\u001b[0;34m)\u001b[0m\u001b[0;34m**\u001b[0m\u001b[0;34m(\u001b[0m\u001b[0;36m1\u001b[0m\u001b[0;34m/\u001b[0m\u001b[0mself\u001b[0m\u001b[0;34m.\u001b[0m\u001b[0mpe\u001b[0m\u001b[0;34m.\u001b[0m\u001b[0mmask_exponent\u001b[0m\u001b[0;34m)\u001b[0m\u001b[0;34m\u001b[0m\u001b[0m\n\u001b[0m\u001b[1;32m    205\u001b[0m         \u001b[0mself\u001b[0m\u001b[0;34m.\u001b[0m\u001b[0mf_mask\u001b[0m \u001b[0;34m=\u001b[0m \u001b[0mself\u001b[0m\u001b[0;34m.\u001b[0m\u001b[0mretina\u001b[0m\u001b[0;34m(\u001b[0m\u001b[0;34m)\u001b[0m\u001b[0;34m\u001b[0m\u001b[0m\n\u001b[1;32m    206\u001b[0m         \u001b[0mself\u001b[0m\u001b[0;34m.\u001b[0m\u001b[0mX\u001b[0m\u001b[0;34m,\u001b[0m \u001b[0mself\u001b[0m\u001b[0;34m.\u001b[0m\u001b[0mY\u001b[0m  \u001b[0;34m=\u001b[0m \u001b[0mnp\u001b[0m\u001b[0;34m.\u001b[0m\u001b[0mmeshgrid\u001b[0m\u001b[0;34m(\u001b[0m\u001b[0mnp\u001b[0m\u001b[0;34m.\u001b[0m\u001b[0marange\u001b[0m\u001b[0;34m(\u001b[0m\u001b[0mself\u001b[0m\u001b[0;34m.\u001b[0m\u001b[0mN_X\u001b[0m\u001b[0;34m)\u001b[0m\u001b[0;34m,\u001b[0m \u001b[0mnp\u001b[0m\u001b[0;34m.\u001b[0m\u001b[0marange\u001b[0m\u001b[0;34m(\u001b[0m\u001b[0mself\u001b[0m\u001b[0;34m.\u001b[0m\u001b[0mN_Y\u001b[0m\u001b[0;34m)\u001b[0m\u001b[0;34m)\u001b[0m\u001b[0;34m\u001b[0m\u001b[0m\n",
      "\u001b[0;32m/usr/local/lib/python3.5/site-packages/NeuroTools/parameters/__init__.py\u001b[0m in \u001b[0;36m__getattr__\u001b[0;34m(self, name)\u001b[0m\n\u001b[1;32m    456\u001b[0m             \u001b[0;32mreturn\u001b[0m \u001b[0mself\u001b[0m\u001b[0;34m[\u001b[0m\u001b[0mname\u001b[0m\u001b[0;34m]\u001b[0m\u001b[0;34m\u001b[0m\u001b[0m\n\u001b[1;32m    457\u001b[0m         \u001b[0;32mexcept\u001b[0m \u001b[0mKeyError\u001b[0m\u001b[0;34m:\u001b[0m\u001b[0;34m\u001b[0m\u001b[0m\n\u001b[0;32m--> 458\u001b[0;31m             \u001b[0;32mreturn\u001b[0m \u001b[0mself\u001b[0m\u001b[0;34m.\u001b[0m\u001b[0m__getattribute__\u001b[0m\u001b[0;34m(\u001b[0m\u001b[0mname\u001b[0m\u001b[0;34m)\u001b[0m\u001b[0;34m\u001b[0m\u001b[0m\n\u001b[0m\u001b[1;32m    459\u001b[0m \u001b[0;34m\u001b[0m\u001b[0m\n\u001b[1;32m    460\u001b[0m     \u001b[0;32mdef\u001b[0m \u001b[0m__setattr__\u001b[0m\u001b[0;34m(\u001b[0m\u001b[0mself\u001b[0m\u001b[0;34m,\u001b[0m \u001b[0mname\u001b[0m\u001b[0;34m,\u001b[0m \u001b[0mvalue\u001b[0m\u001b[0;34m)\u001b[0m\u001b[0;34m:\u001b[0m\u001b[0;34m\u001b[0m\u001b[0m\n",
      "\u001b[0;31mAttributeError\u001b[0m: 'ParameterSet' object has no attribute 'mask_exponent'"
     ]
    }
   ],
   "source": [
    "from SparseEdges import SparseEdges\n",
    "mp = SparseEdges('https://raw.githubusercontent.com/meduz/SparseEdges/master/default_param.py')\n",
    "print ('Range of spatial frequencies: ', mp.sf_0)"
   ]
  },
  {
   "cell_type": "markdown",
   "metadata": {},
   "source": [
    "Standard edges are oriented, but one may modify that:"
   ]
  },
  {
   "cell_type": "code",
   "execution_count": null,
   "metadata": {
    "collapsed": false
   },
   "outputs": [],
   "source": [
    "sf_0 = .02 # TODO .1 cycle / pixel (Geisler)\n",
    "params= {'sf_0':sf_0, 'B_sf': mp.pe.B_sf, 'theta':0., 'B_theta': mp.pe.B_theta}\n",
    "FT_lg = mp.loggabor(mp.N_X/2, mp.N_Y/2, **params)\n",
    "#(fourier_domain(mp.normalize(np.absolute(FT_lg), center=False))+ image_domain(mp.normalize(mp.invert(FT_lg), center=False)))\n",
    "fig, a1, a2 = mp.show_FT(FT_lg, axis=True)"
   ]
  },
  {
   "cell_type": "code",
   "execution_count": null,
   "metadata": {
    "collapsed": false
   },
   "outputs": [],
   "source": [
    "sf_0 = .02 # TODO .1 cycle / pixel (Geisler)\n",
    "params= {'sf_0':sf_0, 'B_sf': mp.pe.B_sf, 'theta':0., 'B_theta': np.inf}\n",
    "FT_lg = mp.loggabor(mp.N_X/2, mp.N_Y/2, **params)\n",
    "fig, a1, a2 = mp.show_FT(FT_lg, axis=True)\n",
    "fig.savefig(os.path.join(figpath, exp + '_dog' + ext))"
   ]
  },
  {
   "cell_type": "markdown",
   "metadata": {},
   "source": [
    "When defining the framework, one thus needs only one angle:"
   ]
  },
  {
   "cell_type": "code",
   "execution_count": null,
   "metadata": {
    "collapsed": false,
    "scrolled": true
   },
   "outputs": [],
   "source": [
    "print ('Range of angles: ', mp.theta*180./np.pi)\n",
    "mp.pe.n_theta = 1\n",
    "mp.pe.B_theta = np.inf\n",
    "mp.init()\n",
    "print ('Range of angles: ', mp.theta*180./np.pi)"
   ]
  },
  {
   "cell_type": "code",
   "execution_count": null,
   "metadata": {
    "collapsed": false,
    "scrolled": true
   },
   "outputs": [],
   "source": [
    "print('Final sparseness in the pyramid = {}'.format(mp.pe.N/(4/3*mp.N_X*mp.N_Y)))"
   ]
  },
  {
   "cell_type": "markdown",
   "metadata": {},
   "source": [
    "## one example image"
   ]
  },
  {
   "cell_type": "code",
   "execution_count": null,
   "metadata": {
    "collapsed": false
   },
   "outputs": [],
   "source": [
    "image = mp.imread('https://raw.githubusercontent.com/meduz/SparseEdges/master/database/lena256.png')\n",
    "mp.pe.mask_exponent = 4.\n",
    "mp.init()\n",
    "image *= mp.mask\n",
    "image = mp.normalize(image, center=True)\n",
    "fig, axs[i_ax] = mp.imshow(image, mask=True)\n"
   ]
  },
  {
   "cell_type": "code",
   "execution_count": null,
   "metadata": {
    "collapsed": false
   },
   "outputs": [],
   "source": [
    "mp.pe.N = 2**14\n",
    "name = exp.replace('_sparseness', '_lena')\n",
    "matname = os.path.join(mp.pe.matpath, name + '.npy')\n",
    "try:\n",
    "    edges = np.load(matname)\n",
    "except:\n",
    "    edges, C_res = mp.run_mp(image, verbose=False)\n",
    "    np.save(matname, edges)    \n",
    "\n",
    "image_rec = mp.reconstruct(edges, mask=True)        "
   ]
  },
  {
   "cell_type": "code",
   "execution_count": null,
   "metadata": {
    "collapsed": false
   },
   "outputs": [],
   "source": [
    "mp.pe.line_width = 0\n",
    "fig, a = mp.show_edges(edges, image=mp.dewhitening(image_rec), show_phase=False, mask=True)\n",
    "fig.savefig(os.path.join(figpath, name + ext))"
   ]
  },
  {
   "cell_type": "code",
   "execution_count": null,
   "metadata": {
    "collapsed": false,
    "scrolled": true
   },
   "outputs": [],
   "source": [
    "for i in range(15): print(np.logspace(1, 13, i, base=2))"
   ]
  },
  {
   "cell_type": "code",
   "execution_count": null,
   "metadata": {
    "collapsed": false
   },
   "outputs": [],
   "source": [
    "list_of_number_of_edge = np.logspace(1, 13, 7, base=2) *2\n",
    "fig, axs = plt.subplots(1, len(list_of_number_of_edge), figsize=(3*fig_width, 3*fig_width/len(list_of_number_of_edge)))\n",
    "vmax = 1.\n",
    "image_rec = mp.reconstruct(edges, mask=True)        \n",
    "vmax = mp.dewhitening(image_rec).max()\n",
    "for i_ax, number_of_edge in enumerate(list_of_number_of_edge):\n",
    "    edges_ = edges[:, :number_of_edge][..., np.newaxis]\n",
    "    image_rec = mp.dewhitening(mp.reconstruct(edges_, mask=True))\n",
    "    fig, axs[i_ax] = mp.imshow(image_rec/vmax, fig=fig, ax=axs[i_ax], norm=False, mask=True)\n",
    "    axs[i_ax].text(5, 29, 'N=%d' % number_of_edge, color='red', fontsize=24)\n",
    "plt.tight_layout()\n",
    "fig.subplots_adjust(hspace = .0, wspace = .0, left=0.0, bottom=0., right=1., top=1.)\n",
    "\n",
    "if not(figpath==''): \n",
    "    fig.savefig(os.path.join(figpath, exp + '_lena_movie' + ext))"
   ]
  },
  {
   "cell_type": "markdown",
   "metadata": {},
   "source": [
    "## Running simulations on a set of natural images"
   ]
  },
  {
   "cell_type": "code",
   "execution_count": null,
   "metadata": {
    "collapsed": false
   },
   "outputs": [],
   "source": [
    "%%writefile ../test/experiment_retina_sparseness.py\n",
    "# -*- coding: utf8 -*-\n",
    "from __future__ import division, print_function\n",
    "\"\"\"\n",
    "\n",
    "$ python experiment_retina_sparseness.py\n",
    "\n",
    "rm -fr **/retina_sparseness* **/**/retina_sparseness*\n",
    "\n",
    "\"\"\"\n",
    "import numpy as np\n",
    "from SparseEdges import SparseEdges\n",
    "mps = []\n",
    "for name_database in ['serre07_distractors']:#, 'serre07_distractors_urban', 'laboratory']:\n",
    "    mp = SparseEdges('https://raw.githubusercontent.com/meduz/SparseEdges/master/default_param.py')\n",
    "    mp.pe.datapath = '../../SLIP/database/'\n",
    "    mp.pe.N_image = 100\n",
    "    mp.pe.N = 2**14\n",
    "    mp.pe.n_theta = 1\n",
    "    mp.pe.B_theta = np.inf\n",
    "    mp.pe.line_width = 0\n",
    "    mp.init()\n",
    "    # normal experiment\n",
    "    imageslist, edgeslist, RMSE = mp.process(exp='retina_sparseness', name_database=name_database)\n",
    "    mps.append(mp)\n",
    "    # control experiment\n",
    "    mp.pe.MP_alpha = np.inf\n",
    "    mp.init()\n",
    "    imageslist, edgeslist, RMSE = mp.process(exp='retina_sparseness_linear', name_database=name_database)\n",
    "    mps.append(mp)\n"
   ]
  },
  {
   "cell_type": "code",
   "execution_count": null,
   "metadata": {
    "collapsed": false
   },
   "outputs": [],
   "source": [
    "%run experiment_retina_sparseness.py"
   ]
  },
  {
   "cell_type": "code",
   "execution_count": null,
   "metadata": {
    "collapsed": false
   },
   "outputs": [],
   "source": [
    "SERVER = 'perrinet.l@frioul.int.univ-amu.fr'\n",
    "PATH = '/hpc/invibe/perrinet.l/science/SparseEdges/test/'\n",
    "def run_on_cluster(cmd, PATH=PATH, SERVER=SERVER):\n",
    "    import subprocess\n",
    "    fullcmd = 'ssh {SERVER} \"cd {PATH} ; {cmd} \"'.format(SERVER=SERVER, PATH=PATH, cmd=cmd)\n",
    "    print ('⚡︎ Running ⚡︎ ', fullcmd)\n",
    "    stdout = subprocess.check_output([fullcmd], shell=True)\n",
    "    return stdout.decode().splitlines()\n",
    "if cluster:\n",
    "    for cmd in [\n",
    "        #\"cd ..; make update_dev\",\n",
    "        #\"rm -fr **/retina_sparseness* **/**/retina_sparseness*\",\n",
    "        \"find . -name *lock* -exec rm -fr {} \\\\;\",\n",
    "        \"find . -name *retina_sparseness_linear* -exec rm -fr {} \\\\;\",\n",
    "        \"rm frioul* \",\n",
    "        \"frioul_batch  -M 136 'ipython experiment_retina_sparseness.py' \", \n",
    "        \"frioul_list_jobs -v |grep job_array_id |uniq -c\",\n",
    "                ]:\n",
    "        print(run_on_cluster(cmd))"
   ]
  },
  {
   "cell_type": "code",
   "execution_count": null,
   "metadata": {
    "collapsed": false
   },
   "outputs": [],
   "source": [
    "if cluster:\n",
    "    for cmd in [\n",
    "        \"frioul_list_jobs -v |grep job_array_id |uniq -c\",\n",
    "    ]:\n",
    "        print(run_on_cluster(cmd))"
   ]
  },
  {
   "cell_type": "code",
   "execution_count": null,
   "metadata": {
    "collapsed": true
   },
   "outputs": [],
   "source": [
    "import time\n",
    "time.sleep(4800)"
   ]
  },
  {
   "cell_type": "code",
   "execution_count": null,
   "metadata": {
    "collapsed": false
   },
   "outputs": [],
   "source": [
    "def fetch_from_cluster(source=\"{figures,mat}\", dest=\".\", PATH=PATH, SERVER=SERVER, opts=\"-av --exclude .AppleDouble --exclude .git\"):\n",
    "    import subprocess\n",
    "    fullcmd = 'rsync {opts} {SERVER}:{PATH}{source} {dest}  '.format(opts=opts, SERVER=SERVER, PATH=PATH, source=source, dest=dest)\n",
    "    print ('⚡︎ Running ⚡︎ \\n', fullcmd)\n",
    "    stdout = subprocess.check_output([fullcmd], shell=True)\n",
    "    return stdout.decode().splitlines()\n",
    "#cluster = True\n",
    "if cluster: fetch_from_cluster()"
   ]
  },
  {
   "cell_type": "markdown",
   "metadata": {},
   "source": [
    "## Analysing results"
   ]
  },
  {
   "cell_type": "markdown",
   "metadata": {},
   "source": [
    "\n",
    "First, we retrieve edges from a prior edge extraction"
   ]
  },
  {
   "cell_type": "code",
   "execution_count": null,
   "metadata": {
    "collapsed": false
   },
   "outputs": [],
   "source": [
    "experiment = 'retina_sparseness'\n",
    "name_database='serre07_distractors'\n",
    "imageslist, edgeslist, RMSE = mp.process(exp=experiment, name_database=name_database)\n"
   ]
  },
  {
   "cell_type": "code",
   "execution_count": null,
   "metadata": {
    "collapsed": true
   },
   "outputs": [],
   "source": [
    "fig, [A, B] = plt.subplots(1, 2, figsize=(fig_width, fig_width/1.618), subplot_kw={'axisbg':'w'})\n",
    "help(A.set_color_cycle)"
   ]
  },
  {
   "cell_type": "code",
   "execution_count": null,
   "metadata": {
    "collapsed": false
   },
   "outputs": [],
   "source": [
    "fig, [A, B] = plt.subplots(1, 2, figsize=(fig_width, fig_width/1.618), subplot_kw={'axisbg':'w'})\n",
    "A.set_color_cycle(np.array([[1., 0., 0.]]))\n",
    "imagelist, edgeslist, RMSE = mp.process(exp=experiment, name_database=name_database)\n",
    "RMSE /= RMSE[:, 0][:, np.newaxis]\n",
    "#print RMSE.shape, edgeslist.shape\n",
    "value = edgeslist[4, ...]\n",
    "#value /= value[0, :][np.newaxis, :]\n",
    "value /= RMSE[:, 0][np.newaxis, :]\n",
    "\n",
    "B.semilogx( value, alpha=.7)\n",
    "\n",
    "A.semilogx( RMSE.T, alpha=.7)\n",
    "A.set_xlabel('l0')\n",
    "B.set_xlabel('l0')\n",
    "A.axis('tight')\n",
    "B.axis('tight')\n",
    "_ = A.set_ylabel('RMSE')\n",
    "\n",
    "\n",
    "#plt.locator_params(axis = 'x', nbins = 5)\n",
    "#plt.locator_params(axis = 'y', nbins = 5)\n",
    "\n",
    "fig.savefig(os.path.join(figpath, exp + '_raw' + ext))"
   ]
  },
  {
   "cell_type": "code",
   "execution_count": null,
   "metadata": {
    "collapsed": false
   },
   "outputs": [],
   "source": [
    "fig = plt.figure(figsize=(fig_width/1.618, fig_width/1.618))\n",
    "fig, a, ax = mp.plot(mps=mps, experiments=[experiment, experiment + '_linear'], databases=[name_database, name_database], fig=fig, \n",
    "                  color=[0., 0., 1.], scale=False, labels=['MP', 'lin'])#\n",
    "fig.savefig(os.path.join(figpath, exp + '_raw_inset' + ext))"
   ]
  },
  {
   "cell_type": "markdown",
   "metadata": {},
   "source": [
    "## trying different fits\n",
    "\n",
    "### on the modulation function\n",
    "!pip install lmfit"
   ]
  },
  {
   "cell_type": "raw",
   "metadata": {
    "collapsed": false
   },
   "source": [
    "from lmfit.models import ExpressionModel\n",
    "import numpy as np\n",
    "mod = ExpressionModel('off + amp * exp(-x/x0) * sin(x*phase)')\n",
    "x = np.linspace(0, 10, 501)\n",
    "params = mod.make_params(off=0.25, amp=1.0, x0=2.0, phase=0.04)\n",
    "y = mod.eval(params, x=x)\n",
    "y"
   ]
  },
  {
   "cell_type": "raw",
   "metadata": {
    "collapsed": false,
    "scrolled": true
   },
   "source": [
    "fig, A = plt.subplots(1, 1, figsize=(fig_width, fig_width/1.618), subplot_kw={'axisbg':'w'})\n",
    "from lmfit.models import ExpressionModel\n",
    "#mod = PowerLawModel()\n",
    "mod = ExpressionModel('rho**x')\n",
    "RMSE /= RMSE[:, 0][:, np.newaxis]\n",
    "N = RMSE.shape[1] #number of edges\n",
    "rho = np.zeros(RMSE.shape[0])\n",
    "for i_image in range(RMSE.shape[0]):\n",
    "    #pars = mod.guess(RMSE[i_image, :], x=np.arange(N))\n",
    "    mod.def_vals = {'rho':.99}\n",
    "    out  = mod.fit(RMSE[i_image, :], x=np.arange(N), verbose=False, weights=1/(np.arange(N)+1))\n",
    "    #print(out.fit_report(min_correl=0.25))\n",
    "    rho[i_image] =  out.params.get('rho').value\n",
    "    #print 'rho=', rho[i_image]\n",
    "    #N_theta = np.log(threshold)/np.log(rho)\n",
    "    #print N_theta\n",
    "    A.semilogx( RMSE[i_image, :], alpha=.7)\n",
    "    params = mod.make_params(rho=rho[i_image])\n",
    "    A.semilogx(mod.eval(params, x=np.arange(N)), 'r--', alpha=.7)\n",
    "    A.set_xlabel('l0')\n",
    "    A.axis('tight')\n",
    "    A.axis('tight')\n",
    "    _ = A.set_ylabel('RMSE')            \n",
    "\n",
    "print ('rho=', rho.mean(), ', +/- ', rho.std())"
   ]
  },
  {
   "cell_type": "raw",
   "metadata": {
    "collapsed": false
   },
   "source": [
    "fig, A = plt.subplots(1, 1, figsize=(fig_width, fig_width/1.618), subplot_kw={'axisbg':'w'})\n",
    "from lmfit.models import ExpressionModel\n",
    "#mod = PowerLawModel()\n",
    "mod = ExpressionModel('1 - (1- eps_inf) * ( 1 - rho**(x+1))')\n",
    "\n",
    "threshold = .5\n",
    "verbose = False\n",
    "imagelist, edgeslist, RMSE = mp.process(exp=experiment, name_database=name_database)\n",
    "RMSE /= RMSE[:, 0][:, np.newaxis]\n",
    "N = RMSE.shape[1] #number of edges\n",
    "for i_image in range(RMSE.shape[0]):\n",
    "    #pars = mod.guess(RMSE[i_image, :], x=np.arange(N))\n",
    "    mod.def_vals = {'eps_inf':.001, 'rho':.99}\n",
    "    out  = mod.fit(RMSE[i_image, :], x=np.arange(N), verbose=verbose, weights=1/(np.arange(N)+1))\n",
    "    #print(out.fit_report(min_correl=0.25))\n",
    "    eps_inf = out.params.get('eps_inf').value\n",
    "    rho =  out.params.get('rho').value\n",
    "    #print rho, eps_inf\n",
    "    N_theta = np.log((threshold-eps_inf)/(1-eps_inf))/np.log(rho)\n",
    "    #print N_theta\n",
    "    A.semilogx( RMSE[i_image, :], alpha=.7)\n",
    "    params = mod.make_params(eps_inf=eps_inf, rho=rho)\n",
    "    A.semilogx(mod.eval(params, x=np.arange(N)), 'r--', alpha=.7)\n",
    "    A.set_xlabel('l0')\n",
    "    A.axis('tight')\n",
    "    A.axis('tight')\n",
    "    _ = A.set_ylabel('RMSE')            \n"
   ]
  },
  {
   "cell_type": "raw",
   "metadata": {
    "collapsed": false
   },
   "source": [
    "imagelist, edgeslist, RMSE = mp.process(exp=experiment, name_database=name_database)\n",
    "value = edgeslist[4, ...]\n",
    "value /= RMSE[:, 0][np.newaxis, :]\n",
    "#value /= RMSE[:, 0][np.newaxis, :]\n",
    "#RMSE /= RMSE[:, 0][:, np.newaxis]\n",
    "N_image, N = RMSE.shape #number of images x edges\n",
    "value = value.T\n",
    "\n",
    "from lmfit.models import ExpressionModel\n",
    "mod = ExpressionModel('amplitude * exp ( - .5 * log(x+off)**2 / log(rho+1) **2 )')\n",
    "verbose = False\n",
    "amplitude, rho = np.zeros(N_image), np.zeros(N_image)\n",
    "for i_image in range(N_image):\n",
    "    #pars = mod.guess(RMSE[i_image, :], x=np.arange(N))\n",
    "    mod.def_vals = {'amplitude':.01, 'rho':100, 'off':1}\n",
    "    params = mod.make_params()\n",
    "    out  = mod.fit(value[i_image, :], x=np.arange(N), verbose=verbose)\n",
    "    #print(out.fit_report())\n",
    "    amplitude[i_image] = out.params.get('amplitude').value\n",
    "    rho[i_image] =  out.params.get('rho').value\n",
    "    off[i_image] =  out.params.get('off').value\n",
    "print(off)"
   ]
  },
  {
   "cell_type": "code",
   "execution_count": null,
   "metadata": {
    "collapsed": false
   },
   "outputs": [],
   "source": [
    "imagelist, edgeslist, RMSE = mp.process(exp=experiment, name_database=name_database)\n",
    "value = edgeslist[4, ...].T\n",
    "#value /= RMSE[:, 0][np.newaxis, :]\n",
    "value /= RMSE[:, 0][:, np.newaxis]\n",
    "#RMSE /= RMSE[:, 0][:, np.newaxis]\n",
    "N_image, N = RMSE.shape #number of images x edges\n",
    "#value = value.T"
   ]
  },
  {
   "cell_type": "code",
   "execution_count": null,
   "metadata": {
    "collapsed": false
   },
   "outputs": [],
   "source": [
    "from lmfit.models import ExpressionModel\n",
    "mod = ExpressionModel('amplitude * exp ( - .5 * log(x+1)**2 / log(rho+1) **2 )')\n",
    "verbose = False\n",
    "amplitude, rho = np.zeros(N_image), np.zeros(N_image)\n",
    "for i_image in range(N_image):\n",
    "    #pars = mod.guess(RMSE[i_image, :], x=np.arange(N))\n",
    "    mod.def_vals = {'amplitude':.01, 'rho':100}\n",
    "    params = mod.make_params()\n",
    "    out  = mod.fit(value[i_image, :], x=np.arange(N), verbose=verbose)\n",
    "    #print(out.fit_report())\n",
    "    amplitude[i_image] = out.params.get('amplitude').value\n",
    "    rho[i_image] =  out.params.get('rho').value"
   ]
  },
  {
   "cell_type": "code",
   "execution_count": null,
   "metadata": {
    "collapsed": false
   },
   "outputs": [],
   "source": [
    "amplitude, rho"
   ]
  },
  {
   "cell_type": "raw",
   "metadata": {
    "collapsed": false
   },
   "source": [
    "imagelist, edgeslist, RMSE = mp.process(exp=experiment, name_database=name_database)\n",
    "value = edgeslist[4, ...]\n",
    "value /= RMSE[:, 0][np.newaxis, :]\n",
    "#RMSE /= RMSE[:, 0][:, np.newaxis]\n",
    "N = RMSE.shape[1] #number of edges\n",
    "value = value.T\n",
    "print(value.shape, RMSE.shape)\n",
    "\n",
    "fig, ax = plt.subplots(1, 1, figsize=(fig_width, fig_width/1.618), subplot_kw={'axisbg':'w'})\n",
    "from lmfit.models import ExpressionModel\n",
    "mod = ExpressionModel('amplitude * exp ( - .5 * log(x+1)**2 / rho **2 )')\n",
    "verbose = False\n",
    "amplitude, rho = np.zeros(N_image), np.zeros(N_image)\n",
    "\n",
    "for i_image in range(RMSE.shape[0]):\n",
    "    #pars = mod.guess(RMSE[i_image, :], x=np.arange(N))\n",
    "    mod.def_vals = {'amplitude':.01, 'rho':100}\n",
    "    params = mod.make_params()\n",
    "    out  = mod.fit(value[i_image, :], x=np.arange(N), verbose=verbose, params=params)#, weights=np.exp(- np.arange(N) / 200))\n",
    "    #print(out.params)\n",
    "    #print(out.fit_report())\n",
    "    amplitude[i_image] = out.params.get('amplitude').value\n",
    "    rho[i_image] =  out.params.get('rho').value\n",
    "\n",
    "    ax.loglog( value[i_image, :], alpha=.2)\n",
    "    params = mod.make_params(amplitude=amplitude[i_image], rho=rho[i_image])\n",
    "    ax.loglog(mod.eval(params, x=np.arange(N)), 'r--', alpha=.2)\n",
    "    ax.set_xlabel('l0')\n",
    "    ax.axis('tight')\n",
    "    _ = ax.set_ylabel('coefficient')            \n"
   ]
  },
  {
   "cell_type": "code",
   "execution_count": null,
   "metadata": {
    "collapsed": false
   },
   "outputs": [],
   "source": [
    "fig, ax = plt.subplots(1, 1, figsize=(fig_width, fig_width/1.618), subplot_kw={'axisbg':'w'})\n",
    "\n",
    "for i_image in range(N_image):\n",
    "    ax.loglog( value[i_image, :], alpha=.2)\n",
    "    params = mod.make_params(amplitude=amplitude[i_image], rho=rho[i_image])\n",
    "    ax.loglog(mod.eval(params, x=np.arange(N)), 'r--', alpha=.2)\n",
    "    ax.set_xlabel('l0')\n",
    "    ax.axis('tight')\n",
    "    _ = ax.set_ylabel('coefficient')            \n",
    "fig.savefig(os.path.join(figpath, exp + '_fit_all' + ext))"
   ]
  },
  {
   "cell_type": "code",
   "execution_count": null,
   "metadata": {
    "collapsed": false
   },
   "outputs": [],
   "source": [
    "fig, ax = plt.subplots(1, 1, figsize=(fig_width, fig_width/1.618), subplot_kw={'axisbg':'w'})\n",
    "\n",
    "for i_image in range(N_image):\n",
    "    ax.semilogy(np.log((np.arange(N)+1)/np.log(rho[i_image]+1)), value[i_image, :]/amplitude[i_image], alpha=.2)\n",
    "    params = mod.make_params(amplitude=amplitude[i_image], rho=rho[i_image])\n",
    "    ax.semilogy(np.log((np.arange(N)+1)/np.log(rho[i_image]+1)), mod.eval(params, x=np.arange(N))/amplitude[i_image], 'r--', alpha=.2)\n",
    "    ax.set_xlabel('l0 norm')\n",
    "    ax.axis('tight')\n",
    "    _ = ax.set_ylabel('norm. coefficient')            \n",
    "fig.savefig(os.path.join(figpath, exp + '_fit_norm' + ext))"
   ]
  },
  {
   "cell_type": "code",
   "execution_count": null,
   "metadata": {
    "collapsed": false
   },
   "outputs": [],
   "source": [
    "fig, axs = plt.subplots(1, 3, figsize=(fig_width, fig_width/1.618), subplot_kw={'axisbg':'w'})\n",
    "\n",
    "axs[0].hist(amplitude)\n",
    "axs[1].hist(np.abs(rho))\n",
    "axs[2].scatter(amplitude, np.abs(rho))\n",
    "for ax in axs: \n",
    "    ax.axis('tight')\n",
    "    _ = ax.set_ylabel('')            \n",
    "    _ = ax.set_yticks([])            \n",
    "axs[0].set_ylabel('probability')            \n",
    "axs[0].set_xlabel('amplitude')\n",
    "axs[1].set_xlabel('rho')\n",
    "axs[2].set_xlabel('amplitude')\n",
    "axs[2].set_ylabel('rho')\n",
    "fig.tight_layout()\n",
    "fig.savefig(os.path.join(figpath, exp + '_fit_hist' + ext))"
   ]
  },
  {
   "cell_type": "markdown",
   "metadata": {},
   "source": [
    "\n",
    "### on the pdf"
   ]
  },
  {
   "cell_type": "code",
   "execution_count": null,
   "metadata": {
    "collapsed": false
   },
   "outputs": [],
   "source": [
    "help(np.histogram)"
   ]
  },
  {
   "cell_type": "code",
   "execution_count": null,
   "metadata": {
    "collapsed": false,
    "scrolled": true
   },
   "outputs": [],
   "source": [
    "value.max(axis=1).shape"
   ]
  },
  {
   "cell_type": "code",
   "execution_count": null,
   "metadata": {
    "collapsed": false
   },
   "outputs": [],
   "source": [
    "%pwd\n"
   ]
  },
  {
   "cell_type": "code",
   "execution_count": null,
   "metadata": {
    "collapsed": false
   },
   "outputs": [],
   "source": [
    "#imagelist, edgeslist, RMSE = mp.process(exp=experiment + '_linear', name_database=name_database)\n",
    "#imagelist, edgeslist, RMSE = mp.process(exp=experiment, name_database=name_database)\n",
    "edgeslist = np.load('mat/edges/retina_sparseness_serre07_distractors_edges.npy')\n",
    "value = edgeslist[4, ...].T\n",
    "#value /= RMSE[:, 0][np.newaxis, :]\n",
    "value /= value.min(axis=1)[:, np.newaxis]\n",
    "#RMSE /= RMSE[:, 0][:, np.newaxis]\n",
    "N_image, N = value.shape #number of images x edges\n",
    "#value = value.T"
   ]
  },
  {
   "cell_type": "code",
   "execution_count": null,
   "metadata": {
    "collapsed": false
   },
   "outputs": [],
   "source": [
    "N_bins, a_max = 128, value.max()\n",
    "start, end = N_bins/16, N_bins\n",
    "print(a_max)\n",
    "v_hist = np.zeros((N_image, N_bins))\n",
    "#bins = np.linspace(0, a_max, N_bins+1, endpoint=True)#[:-1]\n",
    "#print(bins.shape)\n",
    "for i_image in range(N_image):\n",
    "    #v_hist[i_image, : ], v_bins = np.histogram(value[i_image, :], bins=bins) \n",
    "    v_hist[i_image, : ], v_bins = np.histogram(value[i_image, :], bins=N_bins) \n",
    "    v_hist[i_image, : ] /= v_hist[i_image, : ].sum()\n",
    "print(v_bins.shape)\n",
    "v_middle = .5*(v_bins[1:]+v_bins[:-1])"
   ]
  },
  {
   "cell_type": "code",
   "execution_count": null,
   "metadata": {
    "collapsed": false
   },
   "outputs": [],
   "source": [
    "plt.plot(v_bins[1:], v_middle)\n",
    "print(v_bins[0], v_middle[0])\n",
    "print(v_bins[-1], v_middle[-1])"
   ]
  },
  {
   "cell_type": "markdown",
   "metadata": {},
   "source": [
    "MLE estimate of rho:\n",
    "https://en.wikipedia.org/wiki/Power_law#Maximum_likelihood\n"
   ]
  },
  {
   "cell_type": "code",
   "execution_count": null,
   "metadata": {
    "collapsed": false
   },
   "outputs": [],
   "source": [
    "amplitude, rho = np.zeros(N_image), np.zeros(N_image)\n",
    "for i_image in range(N_image):\n",
    "    rho[i_image] =  1 +  (end-start) / np.sum(np.log(value[i_image, start:end]))\n",
    "    amplitude[i_image] = rho[i_image] - 1\n",
    "print(rho)"
   ]
  },
  {
   "cell_type": "code",
   "execution_count": null,
   "metadata": {
    "collapsed": false
   },
   "outputs": [],
   "source": [
    "from lmfit.models import ExpressionModel\n",
    "mod = ExpressionModel('amplitude * x**-rho ')\n",
    "#mod = ExpressionModel('amplitude * exp( - log(x)**2/rho**2 ) ')\n",
    "#mod = ExpressionModel('amplitude * exp( - x/rho ) ')\n",
    "verbose = False\n",
    "for i_image in range(N_image):\n",
    "    #pars = mod.guess(RMSE[i_image, :], x=np.arange(N))\n",
    "    mod.def_vals = {'amplitude': amplitude[i_image], 'rho': rho[i_image]}\n",
    "    params = mod.make_params()\n",
    "    out  = mod.fit(v_hist[i_image, start:end], x=v_middle[start:end], verbose=verbose)\n",
    "    #print(out.fit_report())\n",
    "    amplitude[i_image] = out.params.get('amplitude').value\n",
    "    rho[i_image] =  out.params.get('rho').value\n",
    "print(rho)    "
   ]
  },
  {
   "cell_type": "code",
   "execution_count": null,
   "metadata": {
    "collapsed": false
   },
   "outputs": [],
   "source": [
    "fig, ax = plt.subplots(1, 1, figsize=(3*fig_width, 3*fig_width/1.618), subplot_kw={'axisbg':'w'})\n",
    "\n",
    "for i_image in range(N_image):\n",
    "    ax.plot(v_middle, v_hist[i_image, :], alpha=.2)\n",
    "    params = mod.make_params(amplitude=amplitude[i_image], rho=rho[i_image])\n",
    "    ax.plot(v_middle[start:end], mod.eval(params, x=v_middle[start:end]), 'r.', alpha=.2)\n",
    "    if True:\n",
    "      ax.set_yscale('log')\n",
    "      ax.set_xscale('log')\n",
    "    ax.set_xlabel('density')\n",
    "    ax.axis('tight')\n",
    "    ax.set_xlabel('coefficient')            \n",
    "fig.savefig(os.path.join(figpath, exp + '_proba' + ext))"
   ]
  },
  {
   "cell_type": "code",
   "execution_count": null,
   "metadata": {
    "collapsed": false
   },
   "outputs": [],
   "source": [
    "plt.hist(rho)"
   ]
  },
  {
   "cell_type": "markdown",
   "metadata": {},
   "source": [
    "## some book keeping for the notebook"
   ]
  },
  {
   "cell_type": "code",
   "execution_count": null,
   "metadata": {
    "collapsed": false
   },
   "outputs": [],
   "source": [
    "%install_ext https://raw.githubusercontent.com/rasbt/python_reference/master/ipython_magic/watermark.py\n",
    "%load_ext watermark\n",
    "%watermark"
   ]
  },
  {
   "cell_type": "code",
   "execution_count": null,
   "metadata": {
    "collapsed": false
   },
   "outputs": [],
   "source": [
    "%install_ext http://raw.github.com/jrjohansson/version_information/master/version_information.py\n",
    "%load_ext version_information\n",
    "%version_information numpy, scipy, matplotlib, sympy"
   ]
  },
  {
   "cell_type": "raw",
   "metadata": {
    "collapsed": false
   },
   "source": [
    "%cd ../notebooks"
   ]
  }
 ],
 "metadata": {
  "kernelspec": {
   "display_name": "Python 3",
   "language": "python",
   "name": "python3"
  },
  "language_info": {
   "codemirror_mode": {
    "name": "ipython",
    "version": 3
   },
   "file_extension": ".py",
   "mimetype": "text/x-python",
   "name": "python",
   "nbconvert_exporter": "python",
   "pygments_lexer": "ipython3",
   "version": "3.5.1"
  }
 },
 "nbformat": 4,
 "nbformat_minor": 0
}
