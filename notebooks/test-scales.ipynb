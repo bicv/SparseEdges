{
 "cells": [
  {
   "cell_type": "markdown",
   "metadata": {},
   "source": [
    "# SparseEdges tests: testing different parameters\n"
   ]
  },
  {
   "cell_type": "markdown",
   "metadata": {},
   "source": [
    "For a full tutorial on Matching Pursuit, see https://laurentperrinet.github.io/sciblog/posts/2015-05-22-a-hitchhiker-guide-to-matching-pursuit.html\n",
    "\n"
   ]
  },
  {
   "cell_type": "code",
   "execution_count": 1,
   "metadata": {
    "ExecuteTime": {
     "end_time": "2018-07-13T15:09:43.475257Z",
     "start_time": "2018-07-13T15:09:42.110114Z"
    }
   },
   "outputs": [],
   "source": [
    "%load_ext autoreload\n",
    "%autoreload 2\n",
    "\n",
    "from __future__ import division, print_function\n",
    "%matplotlib inline\n",
    "\n",
    "import matplotlib.pyplot as plt\n",
    "\n",
    "import numpy as np\n",
    "np.set_printoptions(precision=4)#, suppress=True)"
   ]
  },
  {
   "cell_type": "code",
   "execution_count": 2,
   "metadata": {
    "ExecuteTime": {
     "end_time": "2018-07-13T23:09:44.402682Z",
     "start_time": "2018-07-13T15:09:43.480158Z"
    }
   },
   "outputs": [],
   "source": [
    "import time\n",
    "time.sleep(8*3600)"
   ]
  },
  {
   "cell_type": "code",
   "execution_count": 3,
   "metadata": {
    "ExecuteTime": {
     "end_time": "2018-07-13T23:09:44.576529Z",
     "start_time": "2018-07-13T23:09:44.411968Z"
    }
   },
   "outputs": [],
   "source": [
    "%cd -q ../probe"
   ]
  },
  {
   "cell_type": "markdown",
   "metadata": {},
   "source": [
    "## Testing sf_0\n"
   ]
  },
  {
   "cell_type": "code",
   "execution_count": 4,
   "metadata": {
    "ExecuteTime": {
     "end_time": "2018-07-13T23:09:44.628945Z",
     "start_time": "2018-07-13T23:09:44.580825Z"
    }
   },
   "outputs": [
    {
     "name": "stdout",
     "output_type": "stream",
     "text": [
      "Overwriting experiment_test_sf_0.py\n"
     ]
    }
   ],
   "source": [
    "%%writefile experiment_test_sf_0.py\n",
    "#! /usr/bin/env python\n",
    "# -*- coding: utf8 -*-\n",
    "from __future__ import division, print_function\n",
    "\"\"\"\n",
    "\n",
    "Testing some parameters of the SparseEdges framework on its efficiency.\n",
    "\n",
    "rm -fr cache_dir/edges/testing_* cache_dir/testing_* \n",
    "rm -fr results/edges/testing_* results/testing_*\n",
    "frioul_batch  -n \"14,15,16\"  -M 36 'python experiment_test_sf_0.py'\n",
    "frioul_batch -M 200 'python experiment_test_sf_0.py'\n",
    "\n",
    "\"\"\"\n",
    "__author__ = \"(c) Laurent Perrinet INT - CNRS\"\n",
    "import numpy as np\n",
    "import matplotlib\n",
    "matplotlib.use(\"Agg\") # agg-backend, so we can create figures without x-server (no PDF, just PNG etc.)\n",
    "\n",
    "from SparseEdges import SparseEdges\n",
    "\n",
    "# TODO: here, we are more interested in the processing of the database, not the comparison - use the correct function\n",
    "# TODO : annotate the efficiency of different LogGabor bases (RMSE?)\n",
    "# TODO: make a circular mask to avoid border effects coming with whitening...\n",
    "\n",
    "#! comparing databases\n",
    "#!--------------------\n",
    "mp = SparseEdges('https://raw.githubusercontent.com/bicv/SparseEdges/master/default_param.py')\n",
    "mp.N = 128\n",
    "mp.pe.datapath = '../../SLIP/database/'\n",
    "mp.process('testing_vanilla')\n",
    "# TODO: CRF\n",
    "mp.process('testing_noise', noise=mp.pe.noise)\n",
    "mp.process('testing_vanilla', name_database='serre07_targets')\n",
    "\n",
    "# TODO : make an experiment showing that using scale does not bring much\n",
    "mps, experiments = [], []\n",
    "white_f0s = np.linspace(0.3, .6, 9)\n",
    "for white_f0 in white_f0s:\n",
    "    mp = SparseEdges('https://raw.githubusercontent.com/bicv/SparseEdges/master/default_param.py')\n",
    "    mp.N = 128\n",
    "    mp.pe.datapath = '../../SLIP/database/'\n",
    "    mp.pe.white_f0 = white_f0\n",
    "    mp.init()\n",
    "    exp = 'testing_white_f0_' + str(white_f0).replace('.', '_')\n",
    "    mp.process(exp)\n",
    "    experiments.append(exp)\n",
    "    mps.append(mp)\n",
    "    \n",
    "import matplotlib.pyplot as plt\n",
    "fig_width_pt = 900 #318.670*.61 # Get this from LaTeX using \\showthe\\columnwidth\n",
    "inches_per_pt = 1.0/72.27               # Convert pt to inches\n",
    "fig_width = fig_width_pt*inches_per_pt  # width in inches\n",
    "\n",
    "threshold = None\n",
    "threshold = .25\n",
    "databases = ['serre07_distractors'] * len(experiments)\n",
    "labels = ['%0.2f' % white_f0 for white_f0 in white_f0s]\n",
    "fig = plt.figure(figsize=(fig_width, fig_width/1.618))\n",
    "fig, a, ax = mp.plot(mps=mps,\n",
    "                  experiments=experiments, databases=databases, labels=labels, \n",
    "                  fig=fig, color=[0., 1., 0.], threshold=threshold, scale=True)    \n",
    "a.set_xlabel(r' $Mf_{0}$')\n",
    "\n",
    "import os\n",
    "mp.savefig(fig, os.path.join(mp.pe.figpath, 'testing_white_f0'), display=True)\n",
    "        \n",
    "## TODO:  would be interesting to see how that changes with number of image patches used, i.e. whether it settles down to that particular pattern or just jumps around.\n"
   ]
  },
  {
   "cell_type": "code",
   "execution_count": null,
   "metadata": {
    "ExecuteTime": {
     "start_time": "2018-07-13T15:09:42.067Z"
    },
    "scrolled": false
   },
   "outputs": [
    {
     "name": "stderr",
     "output_type": "stream",
     "text": [
      "/Users/laurentperrinet/pool/science/SparseEdges/probe/experiment_test_sf_0.py:17: UserWarning: \n",
      "This call to matplotlib.use() has no effect because the backend has already\n",
      "been chosen; matplotlib.use() must be called *before* pylab, matplotlib.pyplot,\n",
      "or matplotlib.backends is imported for the first time.\n",
      "\n",
      "The backend was *originally* set to 'module://ipykernel.pylab.backend_inline' by the following code:\n",
      "  File \"/usr/local/Cellar/python/3.7.0/Frameworks/Python.framework/Versions/3.7/lib/python3.7/runpy.py\", line 193, in _run_module_as_main\n",
      "    \"__main__\", mod_spec)\n",
      "  File \"/usr/local/Cellar/python/3.7.0/Frameworks/Python.framework/Versions/3.7/lib/python3.7/runpy.py\", line 85, in _run_code\n",
      "    exec(code, run_globals)\n",
      "  File \"/usr/local/lib/python3.7/site-packages/ipykernel_launcher.py\", line 16, in <module>\n",
      "    app.launch_new_instance()\n",
      "  File \"/usr/local/lib/python3.7/site-packages/traitlets/config/application.py\", line 658, in launch_instance\n",
      "    app.start()\n",
      "  File \"/usr/local/lib/python3.7/site-packages/ipykernel/kernelapp.py\", line 486, in start\n",
      "    self.io_loop.start()\n",
      "  File \"/usr/local/lib/python3.7/site-packages/tornado/platform/asyncio.py\", line 127, in start\n",
      "    self.asyncio_loop.run_forever()\n",
      "  File \"/usr/local/Cellar/python/3.7.0/Frameworks/Python.framework/Versions/3.7/lib/python3.7/asyncio/base_events.py\", line 523, in run_forever\n",
      "    self._run_once()\n",
      "  File \"/usr/local/Cellar/python/3.7.0/Frameworks/Python.framework/Versions/3.7/lib/python3.7/asyncio/base_events.py\", line 1758, in _run_once\n",
      "    handle._run()\n",
      "  File \"/usr/local/Cellar/python/3.7.0/Frameworks/Python.framework/Versions/3.7/lib/python3.7/asyncio/events.py\", line 88, in _run\n",
      "    self._context.run(self._callback, *self._args)\n",
      "  File \"/usr/local/lib/python3.7/site-packages/tornado/ioloop.py\", line 759, in _run_callback\n",
      "    ret = callback()\n",
      "  File \"/usr/local/lib/python3.7/site-packages/tornado/stack_context.py\", line 276, in null_wrapper\n",
      "    return fn(*args, **kwargs)\n",
      "  File \"/usr/local/lib/python3.7/site-packages/zmq/eventloop/zmqstream.py\", line 536, in <lambda>\n",
      "    self.io_loop.add_callback(lambda : self._handle_events(self.socket, 0))\n",
      "  File \"/usr/local/lib/python3.7/site-packages/zmq/eventloop/zmqstream.py\", line 450, in _handle_events\n",
      "    self._handle_recv()\n",
      "  File \"/usr/local/lib/python3.7/site-packages/zmq/eventloop/zmqstream.py\", line 480, in _handle_recv\n",
      "    self._run_callback(callback, msg)\n",
      "  File \"/usr/local/lib/python3.7/site-packages/zmq/eventloop/zmqstream.py\", line 432, in _run_callback\n",
      "    callback(*args, **kwargs)\n",
      "  File \"/usr/local/lib/python3.7/site-packages/tornado/stack_context.py\", line 276, in null_wrapper\n",
      "    return fn(*args, **kwargs)\n",
      "  File \"/usr/local/lib/python3.7/site-packages/ipykernel/kernelbase.py\", line 283, in dispatcher\n",
      "    return self.dispatch_shell(stream, msg)\n",
      "  File \"/usr/local/lib/python3.7/site-packages/ipykernel/kernelbase.py\", line 233, in dispatch_shell\n",
      "    handler(stream, idents, msg)\n",
      "  File \"/usr/local/lib/python3.7/site-packages/ipykernel/kernelbase.py\", line 399, in execute_request\n",
      "    user_expressions, allow_stdin)\n",
      "  File \"/usr/local/lib/python3.7/site-packages/ipykernel/ipkernel.py\", line 208, in do_execute\n",
      "    res = shell.run_cell(code, store_history=store_history, silent=silent)\n",
      "  File \"/usr/local/lib/python3.7/site-packages/ipykernel/zmqshell.py\", line 537, in run_cell\n",
      "    return super(ZMQInteractiveShell, self).run_cell(*args, **kwargs)\n",
      "  File \"/usr/local/lib/python3.7/site-packages/IPython/core/interactiveshell.py\", line 2666, in run_cell\n",
      "    self.events.trigger('post_run_cell', result)\n",
      "  File \"/usr/local/lib/python3.7/site-packages/IPython/core/events.py\", line 88, in trigger\n",
      "    func(*args, **kwargs)\n",
      "  File \"/usr/local/lib/python3.7/site-packages/ipykernel/pylab/backend_inline.py\", line 160, in configure_once\n",
      "    activate_matplotlib(backend)\n",
      "  File \"/usr/local/lib/python3.7/site-packages/IPython/core/pylabtools.py\", line 311, in activate_matplotlib\n",
      "    matplotlib.pyplot.switch_backend(backend)\n",
      "  File \"/usr/local/lib/python3.7/site-packages/matplotlib/pyplot.py\", line 231, in switch_backend\n",
      "    matplotlib.use(newbackend, warn=False, force=True)\n",
      "  File \"/usr/local/lib/python3.7/site-packages/matplotlib/__init__.py\", line 1410, in use\n",
      "    reload(sys.modules['matplotlib.backends'])\n",
      "  File \"/usr/local/Cellar/python/3.7.0/Frameworks/Python.framework/Versions/3.7/lib/python3.7/importlib/__init__.py\", line 169, in reload\n",
      "    _bootstrap._exec(spec, module)\n",
      "  File \"/usr/local/lib/python3.7/site-packages/matplotlib/backends/__init__.py\", line 16, in <module>\n",
      "    line for line in traceback.format_stack()\n",
      "\n",
      "\n",
      "  matplotlib.use(\"Agg\") # agg-backend, so we can create figures without x-server (no PDF, just PNG etc.)\n"
     ]
    }
   ],
   "source": [
    "%run experiment_test_sf_0.py\n",
    "fig"
   ]
  },
  {
   "cell_type": "markdown",
   "metadata": {},
   "source": [
    "## some book keeping for the notebook"
   ]
  },
  {
   "cell_type": "code",
   "execution_count": null,
   "metadata": {
    "ExecuteTime": {
     "start_time": "2018-07-13T15:09:42.072Z"
    }
   },
   "outputs": [],
   "source": [
    "%load_ext watermark\n",
    "%watermark"
   ]
  },
  {
   "cell_type": "code",
   "execution_count": null,
   "metadata": {
    "ExecuteTime": {
     "start_time": "2018-07-13T15:09:42.079Z"
    },
    "scrolled": true
   },
   "outputs": [],
   "source": [
    "%load_ext version_information\n",
    "%version_information numpy, scipy, matplotlib, sympy"
   ]
  },
  {
   "cell_type": "code",
   "execution_count": null,
   "metadata": {
    "ExecuteTime": {
     "start_time": "2018-07-13T15:09:42.086Z"
    }
   },
   "outputs": [],
   "source": [
    "%cd -q ../notebooks"
   ]
  }
 ],
 "metadata": {
  "kernelspec": {
   "display_name": "Python 3",
   "language": "python",
   "name": "python3"
  },
  "language_info": {
   "codemirror_mode": {
    "name": "ipython",
    "version": 3
   },
   "file_extension": ".py",
   "mimetype": "text/x-python",
   "name": "python",
   "nbconvert_exporter": "python",
   "pygments_lexer": "ipython3",
   "version": "3.7.0"
  },
  "toc": {
   "base_numbering": 1,
   "nav_menu": {},
   "number_sections": true,
   "sideBar": true,
   "skip_h1_title": false,
   "title_cell": "Table of Contents",
   "title_sidebar": "Contents",
   "toc_cell": false,
   "toc_position": {},
   "toc_section_display": true,
   "toc_window_display": false
  }
 },
 "nbformat": 4,
 "nbformat_minor": 1
}
