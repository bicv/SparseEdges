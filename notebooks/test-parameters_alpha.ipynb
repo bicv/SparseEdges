{
 "cells": [
  {
   "cell_type": "markdown",
   "metadata": {},
   "source": [
    "# SparseEdges tests: testing different parameters\n"
   ]
  },
  {
   "cell_type": "markdown",
   "metadata": {},
   "source": [
    "For a full tutorial on Matching Pursuit, see http://blog.invibe.net/posts/2015-05-22-a-hitchhiker-guide-to-matching-pursuit.html.\n",
    "\n"
   ]
  },
  {
   "cell_type": "code",
   "execution_count": 1,
   "metadata": {
    "ExecuteTime": {
     "end_time": "2018-07-09T15:21:33.081972Z",
     "start_time": "2018-07-09T15:21:32.337772Z"
    }
   },
   "outputs": [],
   "source": [
    "%load_ext autoreload\n",
    "%autoreload 2\n",
    "\n",
    "from __future__ import division, print_function\n",
    "%matplotlib notebook\n",
    "\n",
    "import matplotlib.pyplot as plt\n",
    "\n",
    "import numpy as np\n",
    "np.set_printoptions(precision=4)#, suppress=True)"
   ]
  },
  {
   "cell_type": "code",
   "execution_count": 2,
   "metadata": {
    "ExecuteTime": {
     "end_time": "2018-07-09T15:21:37.735759Z",
     "start_time": "2018-07-09T15:21:33.088812Z"
    }
   },
   "outputs": [
    {
     "ename": "KeyboardInterrupt",
     "evalue": "",
     "output_type": "error",
     "traceback": [
      "\u001b[0;31m---------------------------------------------------------------------------\u001b[0m",
      "\u001b[0;31mKeyboardInterrupt\u001b[0m                         Traceback (most recent call last)",
      "\u001b[0;32m<ipython-input-2-e0bcbd7b062a>\u001b[0m in \u001b[0;36m<module>\u001b[0;34m()\u001b[0m\n\u001b[1;32m      1\u001b[0m \u001b[0;32mimport\u001b[0m \u001b[0mtime\u001b[0m\u001b[0;34m\u001b[0m\u001b[0m\n\u001b[0;32m----> 2\u001b[0;31m \u001b[0mtime\u001b[0m\u001b[0;34m.\u001b[0m\u001b[0msleep\u001b[0m\u001b[0;34m(\u001b[0m\u001b[0;36m18\u001b[0m\u001b[0;34m*\u001b[0m\u001b[0;36m3600\u001b[0m\u001b[0;34m)\u001b[0m\u001b[0;34m\u001b[0m\u001b[0m\n\u001b[0m",
      "\u001b[0;31mKeyboardInterrupt\u001b[0m: "
     ]
    }
   ],
   "source": [
    "import time\n",
    "time.sleep(18*3600)"
   ]
  },
  {
   "cell_type": "code",
   "execution_count": null,
   "metadata": {
    "ExecuteTime": {
     "end_time": "2018-07-09T15:21:37.738587Z",
     "start_time": "2018-07-09T15:21:32.317Z"
    }
   },
   "outputs": [],
   "source": [
    "%cd -q ../probe"
   ]
  },
  {
   "cell_type": "markdown",
   "metadata": {},
   "source": [
    "## Testing the color in LogGabor (alpha)"
   ]
  },
  {
   "cell_type": "code",
   "execution_count": null,
   "metadata": {
    "ExecuteTime": {
     "end_time": "2018-07-09T15:21:37.743809Z",
     "start_time": "2018-07-09T15:21:32.326Z"
    }
   },
   "outputs": [],
   "source": [
    "%%writefile experiment_test_alpha.py\n",
    "#! /usr/bin/env python\n",
    "# -*- coding: utf8 -*-\n",
    "from __future__ import division, print_function\n",
    "\"\"\"\n",
    "\n",
    "Testing some parameters of the SparseEdges framework on its efficiency.\n",
    "\n",
    "rm -fr cache/edges/testing_* cache/testing_* results/edges/testing_* results/testing_*\n",
    "frioul_batch  -n \"14,15,16\"  -M 36 'python experiment_test_parameters.py'\n",
    "frioul_batch -M 200 'python experiment_test_parameters.py'\n",
    "\n",
    "\"\"\"\n",
    "__author__ = \"(c) Laurent Perrinet INT - CNRS\"\n",
    "import numpy as np\n",
    "import matplotlib\n",
    "matplotlib.use(\"Agg\") # agg-backend, so we can create figures without x-server (no PDF, just PNG etc.)\n",
    "\n",
    "from SparseEdges import SparseEdges\n",
    "FORMATS = ['pdf', 'eps']\n",
    "\n",
    "# TODO: here, we are more interested in the processing of the database, not the comparison - use the correct function\n",
    "# TODO : annotate the efficiency of different LogGabor bases (RMSE?)\n",
    "# TODO: make a circular mask to avoid border effects coming with whitening...\n",
    "\n",
    "#! comparing databases\n",
    "#!--------------------\n",
    "mp = SparseEdges('https://raw.githubusercontent.com/bicv/SparseEdges/master/default_param.py')\n",
    "mp.N = 128\n",
    "mp.pe.datapath = '../../SLIP/database/'\n",
    "mp.process('testing_vanilla')\n",
    "# TODO: CRF\n",
    "mp.process('testing_noise', noise=mp.pe.noise)\n",
    "mp.process('testing_vanilla', name_database='serre07_targets')\n",
    "\n",
    "# TODO : make an experiment showing that using scale does not bring much\n",
    "mps, experiments = [], []\n",
    "v_alpha = np.linspace(0.3, 1., 9)\n",
    "for alpha in v_alpha:\n",
    "    mp = SparseEdges('https://raw.githubusercontent.com/bicv/SparseEdges/master/default_param.py')\n",
    "    mp.N = 128\n",
    "    mp.pe.datapath = '../../SLIP/database/'\n",
    "    mp.pe.alpha = alpha\n",
    "    mp.init()\n",
    "    exp = 'testing_alpha_' + str(alpha).replace('.', '_')\n",
    "    mp.process(exp)\n",
    "    experiments.append(exp)\n",
    "    mps.append(mp)\n",
    "    \n",
    "import matplotlib.pyplot as plt\n",
    "fig_width_pt = 900 #318.670*.61 # Get this from LaTeX using \\showthe\\columnwidth\n",
    "inches_per_pt = 1.0/72.27               # Convert pt to inches\n",
    "fig_width = fig_width_pt*inches_per_pt  # width in inches\n",
    "\n",
    "threshold = None\n",
    "threshold = .25\n",
    "databases = ['serre07_distractors'] * len(experiments)\n",
    "labels = ['%0.2f' % MP_alpha for MP_alpha in v_alpha]\n",
    "fig = plt.figure(figsize=(fig_width, fig_width/1.618))\n",
    "fig, a, ax = mp.plot(mps=mps,\n",
    "                  experiments=experiments, databases=databases, labels=labels, \n",
    "                  fig=fig, color=[0., 1., 0.], threshold=threshold, scale=True)    \n",
    "a.set_xlabel(r' $\\alpha$')\n",
    "\n",
    "import os\n",
    "mp.savefig(fig, os.path.join(mp.pe.figpath, 'testing_alpha'), display=True)"
   ]
  },
  {
   "cell_type": "code",
   "execution_count": null,
   "metadata": {
    "ExecuteTime": {
     "end_time": "2018-07-09T15:21:37.747795Z",
     "start_time": "2018-07-09T15:21:32.335Z"
    },
    "scrolled": false
   },
   "outputs": [],
   "source": [
    "%run experiment_test_alpha.py\n",
    "fig"
   ]
  },
  {
   "cell_type": "markdown",
   "metadata": {},
   "source": [
    "## some book keeping for the notebook"
   ]
  },
  {
   "cell_type": "code",
   "execution_count": null,
   "metadata": {
    "ExecuteTime": {
     "end_time": "2018-07-09T15:21:37.751752Z",
     "start_time": "2018-07-09T15:21:32.342Z"
    }
   },
   "outputs": [],
   "source": [
    "%load_ext watermark\n",
    "%watermark"
   ]
  },
  {
   "cell_type": "code",
   "execution_count": null,
   "metadata": {
    "ExecuteTime": {
     "end_time": "2018-07-09T15:21:37.755731Z",
     "start_time": "2018-07-09T15:21:32.349Z"
    },
    "scrolled": true
   },
   "outputs": [],
   "source": [
    "%load_ext version_information\n",
    "%version_information numpy, scipy, matplotlib, sympy"
   ]
  },
  {
   "cell_type": "code",
   "execution_count": null,
   "metadata": {
    "ExecuteTime": {
     "end_time": "2018-07-09T15:21:37.760451Z",
     "start_time": "2018-07-09T15:21:32.357Z"
    }
   },
   "outputs": [],
   "source": [
    "%cd -q ../notebooks"
   ]
  }
 ],
 "metadata": {
  "kernelspec": {
   "display_name": "Python 3",
   "language": "python",
   "name": "python3"
  },
  "language_info": {
   "codemirror_mode": {
    "name": "ipython",
    "version": 3
   },
   "file_extension": ".py",
   "mimetype": "text/x-python",
   "name": "python",
   "nbconvert_exporter": "python",
   "pygments_lexer": "ipython3",
   "version": "3.7.0"
  },
  "toc": {
   "base_numbering": 1,
   "nav_menu": {},
   "number_sections": true,
   "sideBar": true,
   "skip_h1_title": false,
   "title_cell": "Table of Contents",
   "title_sidebar": "Contents",
   "toc_cell": false,
   "toc_position": {},
   "toc_section_display": true,
   "toc_window_display": false
  }
 },
 "nbformat": 4,
 "nbformat_minor": 1
}
