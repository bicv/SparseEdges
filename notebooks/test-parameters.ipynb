{
 "cells": [
  {
   "cell_type": "markdown",
   "metadata": {},
   "source": [
    "# SparseEdges tests: testing different parameters\n"
   ]
  },
  {
   "cell_type": "markdown",
   "metadata": {},
   "source": [
    "For a full tutorial on Matching Pursuit, see http://blog.invibe.net/posts/2015-05-22-a-hitchhiker-guide-to-matching-pursuit.html.\n",
    "\n"
   ]
  },
  {
   "cell_type": "code",
   "execution_count": null,
   "metadata": {
    "collapsed": true
   },
   "outputs": [],
   "source": [
    "%load_ext autoreload\n",
    "%autoreload 2\n",
    "\n",
    "from __future__ import division, print_function\n",
    "%matplotlib notebook\n",
    "\n",
    "import matplotlib.pyplot as plt\n",
    "\n",
    "import numpy as np\n",
    "np.set_printoptions(precision=4)#, suppress=True)"
   ]
  },
  {
   "cell_type": "code",
   "execution_count": null,
   "metadata": {
    "collapsed": true
   },
   "outputs": [],
   "source": [
    "%cd -q ../probe"
   ]
  },
  {
   "cell_type": "markdown",
   "metadata": {},
   "source": [
    "## Testing MP_alpha"
   ]
  },
  {
   "cell_type": "code",
   "execution_count": null,
   "metadata": {},
   "outputs": [],
   "source": [
    "%%writefile experiment_test_MP_alpha.py\n",
    "#! /usr/bin/env python\n",
    "# -*- coding: utf8 -*-\n",
    "from __future__ import division, print_function\n",
    "\"\"\"\n",
    "\n",
    "Testing some parameters of the SparseEdges framework on its efficiency.\n",
    "\n",
    "rm -fr cache/edges/testing_* cache/testing_* results/edges/testing_* results/testing_*\n",
    "frioul_batch  -n \"14,15,16\"  -M 36 'python experiment_test_parameters.py'\n",
    "frioul_batch -M 200 'python experiment_test_parameters.py'\n",
    "\n",
    "\"\"\"\n",
    "__author__ = \"(c) Laurent Perrinet INT - CNRS\"\n",
    "import numpy as np\n",
    "import matplotlib\n",
    "matplotlib.use(\"Agg\") # agg-backend, so we can create figures without x-server (no PDF, just PNG etc.)\n",
    "\n",
    "from SparseEdges import SparseEdges\n",
    "\n",
    "# TODO: here, we are more interested in the processing of the database, not the comparison - use the correct function\n",
    "# TODO : annotate the efficiency of different LogGabor bases (RMSE?)\n",
    "# TODO: make a circular mask to avoid border effects coming with whitening...\n",
    "\n",
    "#! comparing databases\n",
    "#!--------------------\n",
    "mp = SparseEdges('https://raw.githubusercontent.com/bicv/SparseEdges/master/default_param.py')\n",
    "mp.N = 128\n",
    "mp.pe.datapath = '../../SLIP/database/'\n",
    "mp.process('testing_vanilla')\n",
    "# TODO: CRF\n",
    "mp.process('testing_noise', noise=mp.pe.noise)\n",
    "mp.process('testing_vanilla', name_database='serre07_targets')\n",
    "\n",
    "mps, experiments = [], []\n",
    "v_alpha = np.linspace(0.3, 1., 9)\n",
    "for MP_alpha in v_alpha:\n",
    "    mp = SparseEdges('https://raw.githubusercontent.com/bicv/SparseEdges/master/default_param.py')\n",
    "    mp.N = 128\n",
    "    mp.pe.datapath = '../../SLIP/database/'\n",
    "    mp.pe.MP_alpha = MP_alpha\n",
    "    mp.init()\n",
    "    exp = 'testing_MP_alpha_' + str(MP_alpha).replace('.', '_')\n",
    "    mp.process(exp)\n",
    "    experiments.append(exp)\n",
    "    mps.append(mp)\n",
    "    \n",
    "import matplotlib.pyplot as plt\n",
    "fig_width_pt = 900 #318.670*.61 # Get this from LaTeX using \\showthe\\columnwidth\n",
    "inches_per_pt = 1.0/72.27               # Convert pt to inches\n",
    "fig_width = fig_width_pt*inches_per_pt  # width in inches\n",
    "\n",
    "threshold = None\n",
    "threshold = .25\n",
    "databases = ['serre07_distractors'] * len(experiments)\n",
    "labels = ['%0.2f' % MP_alpha for MP_alpha in v_alpha]\n",
    "fig = plt.figure(figsize=(fig_width, fig_width/1.618))\n",
    "fig, a, ax = mp.plot(mps=mps,\n",
    "                  experiments=experiments, databases=databases, labels=labels, \n",
    "                  fig=fig, color=[0., 1., 0.], threshold=threshold, scale=True)    \n",
    "a.set_xlabel(r' $MP_{alpha}$')\n",
    "\n",
    "import os\n",
    "mp.savefig(fig, os.path.join(mp.pe.figpath, 'testing_MP_alpha'), display=True)\n",
    "        \n",
    "## TODO:  would be interesting to see how that changes with number of image patches used, i.e. whether it settles down to that particular pattern or just jumps around.\n"
   ]
  },
  {
   "cell_type": "code",
   "execution_count": null,
   "metadata": {
    "scrolled": false
   },
   "outputs": [],
   "source": [
    "%run experiment_test_MP_alpha.py\n",
    "fig"
   ]
  },
  {
   "cell_type": "markdown",
   "metadata": {},
   "source": [
    "## Testing the color in LogGabor (alpha)"
   ]
  },
  {
   "cell_type": "code",
   "execution_count": null,
   "metadata": {},
   "outputs": [],
   "source": [
    "%%writefile experiment_test_alpha.py\n",
    "#! /usr/bin/env python\n",
    "# -*- coding: utf8 -*-\n",
    "from __future__ import division, print_function\n",
    "\"\"\"\n",
    "\n",
    "Testing some parameters of the SparseEdges framework on its efficiency.\n",
    "\n",
    "rm -fr cache/edges/testing_* cache/testing_* results/edges/testing_* results/testing_*\n",
    "frioul_batch  -n \"14,15,16\"  -M 36 'python experiment_test_parameters.py'\n",
    "frioul_batch -M 200 'python experiment_test_parameters.py'\n",
    "\n",
    "\"\"\"\n",
    "__author__ = \"(c) Laurent Perrinet INT - CNRS\"\n",
    "import numpy as np\n",
    "import matplotlib\n",
    "matplotlib.use(\"Agg\") # agg-backend, so we can create figures without x-server (no PDF, just PNG etc.)\n",
    "\n",
    "from SparseEdges import SparseEdges\n",
    "FORMATS = ['pdf', 'eps']\n",
    "\n",
    "# TODO: here, we are more interested in the processing of the database, not the comparison - use the correct function\n",
    "# TODO : annotate the efficiency of different LogGabor bases (RMSE?)\n",
    "# TODO: make a circular mask to avoid border effects coming with whitening...\n",
    "\n",
    "#! comparing databases\n",
    "#!--------------------\n",
    "mp = SparseEdges('https://raw.githubusercontent.com/bicv/SparseEdges/master/default_param.py')\n",
    "mp.N = 128\n",
    "mp.pe.datapath = '../../SLIP/database/'\n",
    "mp.process('testing_vanilla')\n",
    "# TODO: CRF\n",
    "mp.process('testing_noise', noise=mp.pe.noise)\n",
    "mp.process('testing_vanilla', name_database='serre07_targets')\n",
    "\n",
    "# TODO : make an experiment showing that using scale does not bring much\n",
    "mps, experiments = [], []\n",
    "v_alpha = np.linspace(0.3, 1., 9)\n",
    "for alpha in v_alpha:\n",
    "    mp = SparseEdges('https://raw.githubusercontent.com/bicv/SparseEdges/master/default_param.py')\n",
    "    mp.N = 128\n",
    "    mp.pe.datapath = '../../SLIP/database/'\n",
    "    mp.pe.alpha = alpha\n",
    "    mp.init()\n",
    "    exp = 'testing_alpha_' + str(alpha).replace('.', '_')\n",
    "    mp.process(exp)\n",
    "    experiments.append(exp)\n",
    "    mps.append(mp)\n",
    "    \n",
    "import matplotlib.pyplot as plt\n",
    "fig_width_pt = 900 #318.670*.61 # Get this from LaTeX using \\showthe\\columnwidth\n",
    "inches_per_pt = 1.0/72.27               # Convert pt to inches\n",
    "fig_width = fig_width_pt*inches_per_pt  # width in inches\n",
    "\n",
    "threshold = None\n",
    "threshold = .25\n",
    "databases = ['serre07_distractors'] * len(experiments)\n",
    "labels = ['%0.2f' % MP_alpha for MP_alpha in v_alpha]\n",
    "fig = plt.figure(figsize=(fig_width, fig_width/1.618))\n",
    "fig, a, ax = mp.plot(mps=mps,\n",
    "                  experiments=experiments, databases=databases, labels=labels, \n",
    "                  fig=fig, color=[0., 1., 0.], threshold=threshold, scale=True)    \n",
    "a.set_xlabel(r' $\\alpha$')\n",
    "\n",
    "import os\n",
    "mp.savefig(fig, os.path.join(mp.pe.figpath, 'testing_alpha'), display=True)"
   ]
  },
  {
   "cell_type": "code",
   "execution_count": null,
   "metadata": {
    "collapsed": true,
    "scrolled": false
   },
   "outputs": [],
   "source": [
    "%run experiment_test_alpha.py\n",
    "fig"
   ]
  },
  {
   "cell_type": "markdown",
   "metadata": {},
   "source": [
    "## some book keeping for the notebook"
   ]
  },
  {
   "cell_type": "code",
   "execution_count": null,
   "metadata": {
    "collapsed": true
   },
   "outputs": [],
   "source": [
    "%load_ext watermark\n",
    "%watermark"
   ]
  },
  {
   "cell_type": "code",
   "execution_count": null,
   "metadata": {
    "collapsed": true,
    "scrolled": true
   },
   "outputs": [],
   "source": [
    "%load_ext version_information\n",
    "%version_information numpy, scipy, matplotlib, sympy"
   ]
  },
  {
   "cell_type": "code",
   "execution_count": null,
   "metadata": {
    "collapsed": true
   },
   "outputs": [],
   "source": [
    "%cd -q ../notebooks"
   ]
  }
 ],
 "metadata": {
  "kernelspec": {
   "display_name": "Python 3",
   "language": "python",
   "name": "python3"
  },
  "language_info": {
   "codemirror_mode": {
    "name": "ipython",
    "version": 3
   },
   "file_extension": ".py",
   "mimetype": "text/x-python",
   "name": "python",
   "nbconvert_exporter": "python",
   "pygments_lexer": "ipython3",
   "version": "3.6.3"
  }
 },
 "nbformat": 4,
 "nbformat_minor": 1
}
