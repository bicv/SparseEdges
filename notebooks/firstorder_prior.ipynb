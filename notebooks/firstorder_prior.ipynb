{
 "cells": [
  {
   "cell_type": "markdown",
   "metadata": {},
   "source": [
    "# SparseEdges : including prior information on first-order distribution of orientations"
   ]
  },
  {
   "cell_type": "markdown",
   "metadata": {},
   "source": [
    "Natural images show a prototypical distribution of orientation. The goal of this notebook is to study how we could take advantage of this prior information to make the edge extraction even more efficient.\n",
    "\n",
    "Surprinsingly, we will show that indeed we can make the extraction tuned to that statistics, but that the overall efficiency is not significantly improved.\n"
   ]
  },
  {
   "cell_type": "markdown",
   "metadata": {},
   "source": [
    "## Initialization"
   ]
  },
  {
   "cell_type": "code",
   "execution_count": 1,
   "metadata": {
    "collapsed": false
   },
   "outputs": [],
   "source": [
    "%load_ext autoreload\n",
    "%autoreload 2\n"
   ]
  },
  {
   "cell_type": "code",
   "execution_count": 2,
   "metadata": {
    "collapsed": false
   },
   "outputs": [],
   "source": [
    "from __future__ import division, print_function\n",
    "%matplotlib inline\n",
    "%config InlineBackend.figure_format='retina'\n",
    "#%config InlineBackend.figure_format = 'svg'\n",
    "import matplotlib.pyplot as plt\n",
    "import numpy as np\n",
    "np.set_printoptions(precision=2, suppress=True)\n",
    "FORMATS = ['pdf', 'eps']"
   ]
  },
  {
   "cell_type": "markdown",
   "metadata": {},
   "source": [
    "defining framework\n"
   ]
  },
  {
   "cell_type": "code",
   "execution_count": 3,
   "metadata": {
    "collapsed": false
   },
   "outputs": [
    {
     "name": "stdout",
     "output_type": "stream",
     "text": [
      "Range of spatial frequencies:  [ 0.62  0.38  0.24  0.15  0.09  0.06  0.03  0.02  0.01  0.01  0.01]\n"
     ]
    }
   ],
   "source": [
    "from SparseEdges import SparseEdges\n",
    "mp = SparseEdges('https://raw.githubusercontent.com/meduz/SparseEdges/master/default_param.py')\n",
    "mp.pe.datapath = 'database'\n",
    "mp.pe.noise = 0.5\n",
    "\n",
    "print ('Range of spatial frequencies: ', mp.sf_0)"
   ]
  },
  {
   "cell_type": "code",
   "execution_count": 4,
   "metadata": {
    "collapsed": false
   },
   "outputs": [],
   "source": [
    "name_database_ = 'serre07_distractors_urban'\n",
    "name_database_ = 'serre07_distractors'"
   ]
  },
  {
   "cell_type": "code",
   "execution_count": 5,
   "metadata": {
    "collapsed": false,
    "scrolled": true
   },
   "outputs": [
    {
     "name": "stdout",
     "output_type": "stream",
     "text": [
      "Range of angles:  [-82.5 -75.  -67.5 -60.  -52.5 -45.  -37.5 -30.  -22.5 -15.   -7.5   0.\n",
      "   7.5  15.   22.5  30.   37.5  45.   52.5  60.   67.5  75.   82.5  90. ]\n"
     ]
    }
   ],
   "source": [
    "print ('Range of angles: ', mp.theta*180./np.pi)"
   ]
  },
  {
   "cell_type": "markdown",
   "metadata": {},
   "source": [
    "## Running simulations on using the Prior on first-order distribution of orientations"
   ]
  },
  {
   "cell_type": "code",
   "execution_count": 6,
   "metadata": {
    "collapsed": false
   },
   "outputs": [
    {
     "name": "stdout",
     "output_type": "stream",
     "text": [
      "[Errno 2] No such file or directory: 'test'\n",
      "/Users/laurentperrinet/pool/science/BICV/SparseEdges/notebooks\n"
     ]
    }
   ],
   "source": [
    "%cd test"
   ]
  },
  {
   "cell_type": "code",
   "execution_count": 7,
   "metadata": {
    "collapsed": false
   },
   "outputs": [
    {
     "name": "stdout",
     "output_type": "stream",
     "text": [
      "lean128.png          lena64.png           yelmo256.png\r\n",
      "lena128.png          \u001b[1m\u001b[36mserre07_distractors\u001b[m\u001b[m/ yelmo512.png\r\n",
      "lena256.png          \u001b[1m\u001b[36mserre07_targets\u001b[m\u001b[m/     yelmo512_w.png\r\n",
      "lena512.png          yelmo128.png         yelmo64.png\r\n"
     ]
    }
   ],
   "source": [
    "%ls ../../SLIP/database/"
   ]
  },
  {
   "cell_type": "code",
   "execution_count": 8,
   "metadata": {
    "collapsed": false
   },
   "outputs": [
    {
     "name": "stdout",
     "output_type": "stream",
     "text": [
      "Writing experiment_fig-firstorder.py\n"
     ]
    }
   ],
   "source": [
    "%%writefile experiment_fig-firstorder.py\n",
    "# -*- coding: utf8 -*-\n",
    "from __future__ import division, print_function\n",
    "\"\"\"\n",
    "\n",
    "$ python experiment_fig-firstorder.py\n",
    "\n",
    "rm -fr **/prior_* **/**/prior_*\n",
    "rm -fr **/prior_vanilla* **/**/prior_vanilla*\n",
    "rm -fr **/prior_vanilla_noise_* **/**/prior_vanilla_noise_*\n",
    "rm -fr **/prior_firstorder* **/**/prior_firstorder*\n",
    "\n",
    "\"\"\"\n",
    "import numpy as np\n",
    "from SparseEdges import SparseEdges\n",
    "\n",
    "for name_database in ['serre07_distractors']:#, 'serre07_distractors_urban', 'laboratory']:\n",
    "    mp = SparseEdges('https://raw.githubusercontent.com/meduz/SparseEdges/master/default_param.py')\n",
    "    mp.pe.datapath = '../../SLIP/database/'\n",
    "    mp.pe.seed = 21341353 # this ensures that all image lists are the same for the different experiments\n",
    "    mp.pe.N_image = 20\n",
    "    mp.pe.N = 1024\n",
    "\n",
    "    # control experiment\n",
    "    #mp.theta = np.linspace(-np.pi/2, np.pi/2, mp.n_theta+1)[1:]\n",
    "    imageslist, edgeslist, RMSE = mp.process(exp='prior_vanilla', name_database=name_database)\n",
    "\n",
    "    imageslist_noise, edgeslist_noise, RMSE_noise = mp.process(exp='prior_vanilla_noise_' + str(mp.pe.noise).replace('.', '_'), name_database=name_database, noise=mp.pe.noise)\n",
    "\n",
    "    if True:#try:\n",
    "        six, N, N_image = edgeslist.shape\n",
    "        # first-order prior\n",
    "        v_hist, v_theta_edges = mp.histedges_theta(edgeslist, display=False)\n",
    "        v_theta_middles, v_theta_bin  = (v_theta_edges[1:]+v_theta_edges[:-1])/2, v_theta_edges[1]-v_theta_edges[0]\n",
    "        v_hist, v_theta_edges = mp.histedges_theta(edgeslist, display=False)\n",
    "        v_theta_middles, v_theta_bin  = (v_theta_edges[1:]+v_theta_edges[:-1])/2, v_theta_edges[1]-v_theta_edges[0]\n",
    "\n",
    "        z = np.linspace(0, 1., mp.pe.n_theta+1)\n",
    "        P = np.cumsum(np.hstack((0, v_hist[-1]/2, v_hist[:-1], v_hist[-1]/2)))\n",
    "        \n",
    "        theta_prior = np.interp(z, P, np.hstack((v_theta_edges[0]-v_theta_bin/2, v_theta_edges[:-1], v_theta_edges[-1]-v_theta_bin/2)))\n",
    "\n",
    "        mp = SparseEdges('https://raw.githubusercontent.com/meduz/SparseEdges/master/default_param.py')\n",
    "        mp.pe.datapath = '../../SLIP/database/'\n",
    "        mp.pe.seed = 21341353 # this ensures that all image lists are the same for the different experiments\n",
    "        mp.pe.N_image = 20\n",
    "        mp.pe.N = 1024\n",
    "        \n",
    "        imageslist, edgeslist, RMSE =  mp.process(exp='prior_firstorder', name_database=name_database)\n",
    "        mp.MP_rho = .994304364466\n",
    "        imageslist, edgeslist, RMSE = mp.process(exp='prior_quant_firstorder', name_database=name_database)\n",
    "        mp.MP_rho = None\n",
    "        imageslist_noise, edgeslist_noise, RMSE_noise = mp.process(exp='prior_firstorder_noise_' + str(mp.pe.noise).replace('.', '_'), name_database=name_database, noise=mp.pe.noise)\n",
    "    #except:\n",
    "    #    print('run again once first batches are finished ')\n",
    "\n",
    "    mp.MP_rho = .994304364466\n",
    "    imageslist, edgeslist, RMSE = mp.process(exp='prior_quant', name_database=name_database)\n",
    "    mp.MP_rho = None\n"
   ]
  },
  {
   "cell_type": "code",
   "execution_count": 9,
   "metadata": {
    "collapsed": false
   },
   "outputs": [
    {
     "name": "stderr",
     "output_type": "stream",
     "text": [
      "INFO:SparseEdges: > computing edges for experiment prior_vanilla with database serre07_distractors \n",
      "INFO:SparseEdges:There is no imagelist, creating one: [Errno 2] No such file or directory: 'mat/prior_vanilla_serre07_distractors_images.pickle' \n",
      "INFO:SparseEdges: > setting up image list for serre07_distractors \n",
      "INFO:SparseEdges: >> There is no edgeslist: [Errno 2] No such file or directory: 'mat/edges/prior_vanilla_serre07_distractors_edges.npy' \n",
      "INFO:SparseEdges:Doing edge extraction of mat/edges/prior_vanilla_serre07_distractors/Hda_obj25.jpg[0, 256, 0, 256].npy \n",
      "INFO:SparseEdges:Finished edge extraction of mat/edges/prior_vanilla_serre07_distractors/Hda_obj25.jpg[0, 256, 0, 256].npy \n",
      "INFO:SparseEdges:Doing edge extraction of mat/edges/prior_vanilla_serre07_distractors/Hdn_objn40.jpg[0, 256, 0, 256].npy \n",
      "INFO:SparseEdges:Finished edge extraction of mat/edges/prior_vanilla_serre07_distractors/Hdn_objn40.jpg[0, 256, 0, 256].npy \n",
      "INFO:SparseEdges:Doing edge extraction of mat/edges/prior_vanilla_serre07_distractors/Bda_int770.jpg[0, 256, 0, 256].npy \n",
      "INFO:SparseEdges:Finished edge extraction of mat/edges/prior_vanilla_serre07_distractors/Bda_int770.jpg[0, 256, 0, 256].npy \n",
      "INFO:SparseEdges:Doing edge extraction of mat/edges/prior_vanilla_serre07_distractors/Hda_room425.jpg[0, 256, 0, 256].npy \n",
      "INFO:SparseEdges:Finished edge extraction of mat/edges/prior_vanilla_serre07_distractors/Hda_room425.jpg[0, 256, 0, 256].npy \n",
      "INFO:SparseEdges:Doing edge extraction of mat/edges/prior_vanilla_serre07_distractors/Fda_art336.jpg[0, 256, 0, 256].npy \n",
      "INFO:SparseEdges:Finished edge extraction of mat/edges/prior_vanilla_serre07_distractors/Fda_art336.jpg[0, 256, 0, 256].npy \n",
      "INFO:SparseEdges:Doing edge extraction of mat/edges/prior_vanilla_serre07_distractors/Fda_A463033.jpg[0, 256, 0, 256].npy \n",
      "INFO:SparseEdges:Finished edge extraction of mat/edges/prior_vanilla_serre07_distractors/Fda_A463033.jpg[0, 256, 0, 256].npy \n",
      "INFO:SparseEdges:Doing edge extraction of mat/edges/prior_vanilla_serre07_distractors/Fda_art358.jpg[0, 256, 0, 256].npy \n",
      "INFO:SparseEdges:Finished edge extraction of mat/edges/prior_vanilla_serre07_distractors/Fda_art358.jpg[0, 256, 0, 256].npy \n",
      "INFO:SparseEdges:Doing edge extraction of mat/edges/prior_vanilla_serre07_distractors/Hda_obj205.jpg[0, 256, 0, 256].npy \n",
      "INFO:SparseEdges:Finished edge extraction of mat/edges/prior_vanilla_serre07_distractors/Hda_obj205.jpg[0, 256, 0, 256].npy \n",
      "INFO:SparseEdges:Doing edge extraction of mat/edges/prior_vanilla_serre07_distractors/Mdn_N347015.jpg[0, 256, 0, 256].npy \n",
      "INFO:SparseEdges:Finished edge extraction of mat/edges/prior_vanilla_serre07_distractors/Mdn_N347015.jpg[0, 256, 0, 256].npy \n",
      "INFO:SparseEdges:Doing edge extraction of mat/edges/prior_vanilla_serre07_distractors/Hda_int453.jpg[0, 256, 0, 256].npy \n",
      "INFO:SparseEdges:Finished edge extraction of mat/edges/prior_vanilla_serre07_distractors/Hda_int453.jpg[0, 256, 0, 256].npy \n",
      "INFO:SparseEdges:Doing edge extraction of mat/edges/prior_vanilla_serre07_distractors/Bdn_text119.jpg[0, 256, 0, 256].npy \n",
      "INFO:SparseEdges:Finished edge extraction of mat/edges/prior_vanilla_serre07_distractors/Bdn_text119.jpg[0, 256, 0, 256].npy \n",
      "INFO:SparseEdges:Doing edge extraction of mat/edges/prior_vanilla_serre07_distractors/Mda_art517.jpg[0, 256, 0, 256].npy \n",
      "INFO:SparseEdges:Finished edge extraction of mat/edges/prior_vanilla_serre07_distractors/Mda_art517.jpg[0, 256, 0, 256].npy \n",
      "INFO:SparseEdges:Doing edge extraction of mat/edges/prior_vanilla_serre07_distractors/Bda_int741.jpg[0, 256, 0, 256].npy \n",
      "INFO:SparseEdges:Finished edge extraction of mat/edges/prior_vanilla_serre07_distractors/Bda_int741.jpg[0, 256, 0, 256].npy \n",
      "INFO:SparseEdges:Doing edge extraction of mat/edges/prior_vanilla_serre07_distractors/Fda_art1420.jpg[0, 256, 0, 256].npy \n",
      "INFO:SparseEdges:Finished edge extraction of mat/edges/prior_vanilla_serre07_distractors/Fda_art1420.jpg[0, 256, 0, 256].npy \n",
      "INFO:SparseEdges:Doing edge extraction of mat/edges/prior_vanilla_serre07_distractors/Hdn_natu369.jpg[0, 256, 0, 256].npy \n",
      "INFO:SparseEdges:Finished edge extraction of mat/edges/prior_vanilla_serre07_distractors/Hdn_natu369.jpg[0, 256, 0, 256].npy \n",
      "INFO:SparseEdges:Doing edge extraction of mat/edges/prior_vanilla_serre07_distractors/Bdn_text20.jpg[0, 256, 0, 256].npy \n",
      "INFO:SparseEdges:Finished edge extraction of mat/edges/prior_vanilla_serre07_distractors/Bdn_text20.jpg[0, 256, 0, 256].npy \n",
      "INFO:SparseEdges:Doing edge extraction of mat/edges/prior_vanilla_serre07_distractors/Bdn_natu133.jpg[0, 256, 0, 256].npy \n",
      "INFO:SparseEdges:Finished edge extraction of mat/edges/prior_vanilla_serre07_distractors/Bdn_natu133.jpg[0, 256, 0, 256].npy \n",
      "INFO:SparseEdges:Doing edge extraction of mat/edges/prior_vanilla_serre07_distractors/Bdn_natu676.jpg[0, 256, 0, 256].npy \n",
      "INFO:SparseEdges:Finished edge extraction of mat/edges/prior_vanilla_serre07_distractors/Bdn_natu676.jpg[0, 256, 0, 256].npy \n",
      "INFO:SparseEdges:Doing edge extraction of mat/edges/prior_vanilla_serre07_distractors/Hda_obj298.jpg[0, 256, 0, 256].npy \n",
      "INFO:SparseEdges:Finished edge extraction of mat/edges/prior_vanilla_serre07_distractors/Hda_obj298.jpg[0, 256, 0, 256].npy \n",
      "INFO:SparseEdges:Doing edge extraction of mat/edges/prior_vanilla_serre07_distractors/Hda_obj357.jpg[0, 256, 0, 256].npy \n",
      "INFO:SparseEdges:Finished edge extraction of mat/edges/prior_vanilla_serre07_distractors/Hda_obj357.jpg[0, 256, 0, 256].npy \n",
      "/Users/laurentperrinet/pool/science/BICV/SparseEdges/src/SparseEdges.py:832: FutureWarning: elementwise comparison failed; returning scalar instead, but in the future will perform elementwise comparison\n",
      "  if edgeslist == 'locked':\n",
      "INFO:SparseEdges: >> Doing check_independence on figures/prior_vanilla_dependence_serre07_distractors.txt \n",
      "/Users/laurentperrinet/pool/science/BICV/SparseEdges/src/SparseEdges.py:443: FutureWarning: comparison to `None` will result in an elementwise object comparison in the future.\n",
      "  if not(edgeslist==None):\n",
      "INFO:SparseEdges:> redoing figure figures/edges/prior_vanilla_serre07_distractors/Hdn_natu369.jpg[0, 256, 0, 256].png \n",
      "INFO:SparseEdges:> reconstructing figure figures/edges/prior_vanilla_serre07_distractors/Hdn_natu369.jpg[0, 256, 0, 256]_reconstruct.png \n",
      "INFO:SparseEdges:> redoing figure figures/edges/prior_vanilla_serre07_distractors/Fda_art1420.jpg[0, 256, 0, 256].png \n",
      "INFO:SparseEdges:> reconstructing figure figures/edges/prior_vanilla_serre07_distractors/Fda_art1420.jpg[0, 256, 0, 256]_reconstruct.png \n",
      "INFO:SparseEdges:> redoing figure figures/edges/prior_vanilla_serre07_distractors/Bdn_natu676.jpg[0, 256, 0, 256].png \n",
      "INFO:SparseEdges:> reconstructing figure figures/edges/prior_vanilla_serre07_distractors/Bdn_natu676.jpg[0, 256, 0, 256]_reconstruct.png \n",
      "INFO:SparseEdges:> redoing figure figures/edges/prior_vanilla_serre07_distractors/Hda_int453.jpg[0, 256, 0, 256].png \n",
      "INFO:SparseEdges:> reconstructing figure figures/edges/prior_vanilla_serre07_distractors/Hda_int453.jpg[0, 256, 0, 256]_reconstruct.png \n",
      "INFO:SparseEdges:> redoing figure figures/edges/prior_vanilla_serre07_distractors/Mdn_N347015.jpg[0, 256, 0, 256].png \n",
      "INFO:SparseEdges:> reconstructing figure figures/edges/prior_vanilla_serre07_distractors/Mdn_N347015.jpg[0, 256, 0, 256]_reconstruct.png \n",
      "INFO:SparseEdges:> redoing figure figures/edges/prior_vanilla_serre07_distractors/Bda_int741.jpg[0, 256, 0, 256].png \n",
      "INFO:SparseEdges:> reconstructing figure figures/edges/prior_vanilla_serre07_distractors/Bda_int741.jpg[0, 256, 0, 256]_reconstruct.png \n",
      "INFO:SparseEdges:> redoing figure figures/edges/prior_vanilla_serre07_distractors/Bda_int770.jpg[0, 256, 0, 256].png \n",
      "INFO:SparseEdges:> reconstructing figure figures/edges/prior_vanilla_serre07_distractors/Bda_int770.jpg[0, 256, 0, 256]_reconstruct.png \n",
      "INFO:SparseEdges:> redoing figure figures/edges/prior_vanilla_serre07_distractors/Fda_art358.jpg[0, 256, 0, 256].png \n",
      "INFO:SparseEdges:> reconstructing figure figures/edges/prior_vanilla_serre07_distractors/Fda_art358.jpg[0, 256, 0, 256]_reconstruct.png \n",
      "INFO:SparseEdges:> redoing figure figures/edges/prior_vanilla_serre07_distractors/Bdn_text119.jpg[0, 256, 0, 256].png \n",
      "INFO:SparseEdges:> reconstructing figure figures/edges/prior_vanilla_serre07_distractors/Bdn_text119.jpg[0, 256, 0, 256]_reconstruct.png \n",
      "INFO:SparseEdges:> redoing figure figures/edges/prior_vanilla_serre07_distractors/Hdn_objn40.jpg[0, 256, 0, 256].png \n",
      "INFO:SparseEdges:> reconstructing figure figures/edges/prior_vanilla_serre07_distractors/Hdn_objn40.jpg[0, 256, 0, 256]_reconstruct.png \n",
      "INFO:SparseEdges:> redoing figure figures/edges/prior_vanilla_serre07_distractors/Bdn_text20.jpg[0, 256, 0, 256].png \n",
      "INFO:SparseEdges:> reconstructing figure figures/edges/prior_vanilla_serre07_distractors/Bdn_text20.jpg[0, 256, 0, 256]_reconstruct.png \n",
      "INFO:SparseEdges:> redoing figure figures/edges/prior_vanilla_serre07_distractors/Hda_obj298.jpg[0, 256, 0, 256].png \n",
      "INFO:SparseEdges:> reconstructing figure figures/edges/prior_vanilla_serre07_distractors/Hda_obj298.jpg[0, 256, 0, 256]_reconstruct.png \n",
      "INFO:SparseEdges:> redoing figure figures/edges/prior_vanilla_serre07_distractors/Bdn_natu133.jpg[0, 256, 0, 256].png \n",
      "INFO:SparseEdges:> reconstructing figure figures/edges/prior_vanilla_serre07_distractors/Bdn_natu133.jpg[0, 256, 0, 256]_reconstruct.png \n",
      "INFO:SparseEdges:> redoing figure figures/edges/prior_vanilla_serre07_distractors/Mda_art517.jpg[0, 256, 0, 256].png \n",
      "INFO:SparseEdges:> reconstructing figure figures/edges/prior_vanilla_serre07_distractors/Mda_art517.jpg[0, 256, 0, 256]_reconstruct.png \n",
      "INFO:SparseEdges:> redoing figure figures/edges/prior_vanilla_serre07_distractors/Hda_obj357.jpg[0, 256, 0, 256].png \n",
      "INFO:SparseEdges:> reconstructing figure figures/edges/prior_vanilla_serre07_distractors/Hda_obj357.jpg[0, 256, 0, 256]_reconstruct.png \n",
      "INFO:SparseEdges:> redoing figure figures/edges/prior_vanilla_serre07_distractors/Hda_room425.jpg[0, 256, 0, 256].png \n",
      "INFO:SparseEdges:> reconstructing figure figures/edges/prior_vanilla_serre07_distractors/Hda_room425.jpg[0, 256, 0, 256]_reconstruct.png \n",
      "INFO:SparseEdges:> redoing figure figures/edges/prior_vanilla_serre07_distractors/Hda_obj25.jpg[0, 256, 0, 256].png \n",
      "INFO:SparseEdges:> reconstructing figure figures/edges/prior_vanilla_serre07_distractors/Hda_obj25.jpg[0, 256, 0, 256]_reconstruct.png \n",
      "INFO:SparseEdges:> redoing figure figures/edges/prior_vanilla_serre07_distractors/Fda_A463033.jpg[0, 256, 0, 256].png \n",
      "INFO:SparseEdges:> reconstructing figure figures/edges/prior_vanilla_serre07_distractors/Fda_A463033.jpg[0, 256, 0, 256]_reconstruct.png \n",
      "INFO:SparseEdges:> redoing figure figures/edges/prior_vanilla_serre07_distractors/Hda_obj205.jpg[0, 256, 0, 256].png \n",
      "INFO:SparseEdges:> reconstructing figure figures/edges/prior_vanilla_serre07_distractors/Hda_obj205.jpg[0, 256, 0, 256]_reconstruct.png \n",
      "INFO:SparseEdges:> redoing figure figures/edges/prior_vanilla_serre07_distractors/Fda_art336.jpg[0, 256, 0, 256].png \n",
      "INFO:SparseEdges:> reconstructing figure figures/edges/prior_vanilla_serre07_distractors/Fda_art336.jpg[0, 256, 0, 256]_reconstruct.png \n",
      "INFO:SparseEdges: >> There is no RMSE: [Errno 2] No such file or directory: 'mat/edges/prior_vanilla_serre07_distractors_RMSE.npy' \n",
      "/Users/laurentperrinet/pool/science/BICV/SparseEdges/src/SparseEdges.py:907: FutureWarning: elementwise comparison failed; returning scalar instead, but in the future will perform elementwise comparison\n",
      "  if RMSE == 'locked':\n",
      "INFO:SparseEdges:>>> For the class serre07_distractors, in experiment prior_vanilla RMSE = 0.097906 \n",
      "INFO:SparseEdges: > computing edges for experiment prior_vanilla_noise_0_33 with database serre07_distractors \n",
      "INFO:SparseEdges:There is no imagelist, creating one: [Errno 2] No such file or directory: 'mat/prior_vanilla_noise_0_33_serre07_distractors_images.pickle' \n",
      "INFO:SparseEdges: > setting up image list for serre07_distractors \n",
      "INFO:SparseEdges: >> There is no edgeslist: [Errno 2] No such file or directory: 'mat/edges/prior_vanilla_noise_0_33_serre07_distractors_edges.npy' \n",
      "INFO:SparseEdges:Doing edge extraction of mat/edges/prior_vanilla_noise_0_33_serre07_distractors/Hda_obj25.jpg[0, 256, 0, 256].npy \n",
      "INFO:SparseEdges:Finished edge extraction of mat/edges/prior_vanilla_noise_0_33_serre07_distractors/Hda_obj25.jpg[0, 256, 0, 256].npy \n",
      "INFO:SparseEdges:Doing edge extraction of mat/edges/prior_vanilla_noise_0_33_serre07_distractors/Hdn_objn40.jpg[0, 256, 0, 256].npy \n"
     ]
    },
    {
     "name": "stdout",
     "output_type": "stream",
     "text": [
      "Checking dependence in serre07_distractors_prior_vanilla\n",
      "------------------------------------------------------------\n",
      "Entropy: 1.13021102911\n",
      "------------------------------------------------------------\n",
      "------------------------------------------------------------\n",
      "[['d', 'phi', 'theta', 'scale']] KL= 0.00000 ; 0.000\n",
      "[['phi', 'theta', 'scale'], ['d']] KL= 0.01329 ; 1.176\n",
      "[['theta', 'scale', 'd'], ['phi']] KL= 0.00429 ; 0.380\n",
      "[['scale', 'd', 'phi'], ['theta']] KL= 0.00495 ; 0.438\n",
      "[['d', 'phi', 'theta'], ['scale']] KL= 0.01295 ; 1.146\n",
      "[['phi', 'theta'], ['scale', 'd']] KL= 0.00371 ; 0.328\n",
      "[['theta', 'scale'], ['d', 'phi']] KL= 0.01546 ; 1.368\n",
      "[['scale', 'phi'], ['d', 'theta']] KL= 0.01551 ; 1.373\n",
      "[['phi', 'theta'], ['scale'], ['d']] KL= 0.01445 ; 1.278\n",
      "[['theta', 'scale'], ['d'], ['phi']] KL= 0.01572 ; 1.391\n",
      "[['scale', 'd'], ['phi'], ['theta']] KL= 0.00546 ; 0.483\n",
      "[['d', 'phi'], ['theta'], ['scale']] KL= 0.01594 ; 1.411\n",
      "[['d'], ['phi'], ['theta'], ['scale']] KL= 0.01620 ; 1.433\n",
      "------------------------------------------------------------\n",
      "\n"
     ]
    },
    {
     "ename": "KeyboardInterrupt",
     "evalue": "",
     "output_type": "error",
     "traceback": [
      "\u001b[0;31m---------------------------------------------------------------------------\u001b[0m",
      "\u001b[0;31mFileNotFoundError\u001b[0m                         Traceback (most recent call last)",
      "\u001b[0;32m/Users/laurentperrinet/pool/science/BICV/SparseEdges/src/SparseEdges.py\u001b[0m in \u001b[0;36mprocess\u001b[0;34m(self, exp, name_database, note, noise)\u001b[0m\n\u001b[1;32m    825\u001b[0m             \u001b[0;32mtry\u001b[0m\u001b[0;34m:\u001b[0m\u001b[0;34m\u001b[0m\u001b[0m\n\u001b[0;32m--> 826\u001b[0;31m                 \u001b[0medgeslist\u001b[0m \u001b[0;34m=\u001b[0m \u001b[0mnp\u001b[0m\u001b[0;34m.\u001b[0m\u001b[0mload\u001b[0m\u001b[0;34m(\u001b[0m\u001b[0mmatname\u001b[0m \u001b[0;34m+\u001b[0m \u001b[0;34m'_edges.npy'\u001b[0m\u001b[0;34m)\u001b[0m\u001b[0;34m\u001b[0m\u001b[0m\n\u001b[0m\u001b[1;32m    827\u001b[0m             \u001b[0;32mexcept\u001b[0m \u001b[0mException\u001b[0m \u001b[0;32mas\u001b[0m \u001b[0me\u001b[0m\u001b[0;34m:\u001b[0m\u001b[0;34m\u001b[0m\u001b[0m\n",
      "\u001b[0;32m/usr/local/lib/python3.5/site-packages/numpy/lib/npyio.py\u001b[0m in \u001b[0;36mload\u001b[0;34m(file, mmap_mode, allow_pickle, fix_imports, encoding)\u001b[0m\n\u001b[1;32m    361\u001b[0m     \u001b[0;32mif\u001b[0m \u001b[0misinstance\u001b[0m\u001b[0;34m(\u001b[0m\u001b[0mfile\u001b[0m\u001b[0;34m,\u001b[0m \u001b[0mbasestring\u001b[0m\u001b[0;34m)\u001b[0m\u001b[0;34m:\u001b[0m\u001b[0;34m\u001b[0m\u001b[0m\n\u001b[0;32m--> 362\u001b[0;31m         \u001b[0mfid\u001b[0m \u001b[0;34m=\u001b[0m \u001b[0mopen\u001b[0m\u001b[0;34m(\u001b[0m\u001b[0mfile\u001b[0m\u001b[0;34m,\u001b[0m \u001b[0;34m\"rb\"\u001b[0m\u001b[0;34m)\u001b[0m\u001b[0;34m\u001b[0m\u001b[0m\n\u001b[0m\u001b[1;32m    363\u001b[0m         \u001b[0mown_fid\u001b[0m \u001b[0;34m=\u001b[0m \u001b[0;32mTrue\u001b[0m\u001b[0;34m\u001b[0m\u001b[0m\n",
      "\u001b[0;31mFileNotFoundError\u001b[0m: [Errno 2] No such file or directory: 'mat/edges/prior_vanilla_noise_0_33_serre07_distractors_edges.npy'",
      "\nDuring handling of the above exception, another exception occurred:\n",
      "\u001b[0;31mKeyboardInterrupt\u001b[0m                         Traceback (most recent call last)",
      "\u001b[0;32m/Users/laurentperrinet/pool/science/BICV/SparseEdges/notebooks/experiment_fig-firstorder.py\u001b[0m in \u001b[0;36m<module>\u001b[0;34m()\u001b[0m\n\u001b[1;32m     25\u001b[0m     \u001b[0mimageslist\u001b[0m\u001b[0;34m,\u001b[0m \u001b[0medgeslist\u001b[0m\u001b[0;34m,\u001b[0m \u001b[0mRMSE\u001b[0m \u001b[0;34m=\u001b[0m \u001b[0mmp\u001b[0m\u001b[0;34m.\u001b[0m\u001b[0mprocess\u001b[0m\u001b[0;34m(\u001b[0m\u001b[0mexp\u001b[0m\u001b[0;34m=\u001b[0m\u001b[0;34m'prior_vanilla'\u001b[0m\u001b[0;34m,\u001b[0m \u001b[0mname_database\u001b[0m\u001b[0;34m=\u001b[0m\u001b[0mname_database\u001b[0m\u001b[0;34m)\u001b[0m\u001b[0;34m\u001b[0m\u001b[0m\n\u001b[1;32m     26\u001b[0m \u001b[0;34m\u001b[0m\u001b[0m\n\u001b[0;32m---> 27\u001b[0;31m     \u001b[0mimageslist_noise\u001b[0m\u001b[0;34m,\u001b[0m \u001b[0medgeslist_noise\u001b[0m\u001b[0;34m,\u001b[0m \u001b[0mRMSE_noise\u001b[0m \u001b[0;34m=\u001b[0m \u001b[0mmp\u001b[0m\u001b[0;34m.\u001b[0m\u001b[0mprocess\u001b[0m\u001b[0;34m(\u001b[0m\u001b[0mexp\u001b[0m\u001b[0;34m=\u001b[0m\u001b[0;34m'prior_vanilla_noise_'\u001b[0m \u001b[0;34m+\u001b[0m \u001b[0mstr\u001b[0m\u001b[0;34m(\u001b[0m\u001b[0mmp\u001b[0m\u001b[0;34m.\u001b[0m\u001b[0mpe\u001b[0m\u001b[0;34m.\u001b[0m\u001b[0mnoise\u001b[0m\u001b[0;34m)\u001b[0m\u001b[0;34m.\u001b[0m\u001b[0mreplace\u001b[0m\u001b[0;34m(\u001b[0m\u001b[0;34m'.'\u001b[0m\u001b[0;34m,\u001b[0m \u001b[0;34m'_'\u001b[0m\u001b[0;34m)\u001b[0m\u001b[0;34m,\u001b[0m \u001b[0mname_database\u001b[0m\u001b[0;34m=\u001b[0m\u001b[0mname_database\u001b[0m\u001b[0;34m,\u001b[0m \u001b[0mnoise\u001b[0m\u001b[0;34m=\u001b[0m\u001b[0mmp\u001b[0m\u001b[0;34m.\u001b[0m\u001b[0mpe\u001b[0m\u001b[0;34m.\u001b[0m\u001b[0mnoise\u001b[0m\u001b[0;34m)\u001b[0m\u001b[0;34m\u001b[0m\u001b[0m\n\u001b[0m\u001b[1;32m     28\u001b[0m \u001b[0;34m\u001b[0m\u001b[0m\n\u001b[1;32m     29\u001b[0m     \u001b[0;32mif\u001b[0m \u001b[0;32mTrue\u001b[0m\u001b[0;34m:\u001b[0m\u001b[0;31m#try:\u001b[0m\u001b[0;34m\u001b[0m\u001b[0m\n",
      "\u001b[0;32m/Users/laurentperrinet/pool/science/BICV/SparseEdges/src/SparseEdges.py\u001b[0m in \u001b[0;36mprocess\u001b[0;34m(self, exp, name_database, note, noise)\u001b[0m\n\u001b[1;32m    829\u001b[0m \u001b[0;31m#                 self.log.info('>> Doing the edge extraction')\u001b[0m\u001b[0;34m\u001b[0m\u001b[0;34m\u001b[0m\u001b[0m\n\u001b[1;32m    830\u001b[0m                 \u001b[0mtime\u001b[0m\u001b[0;34m.\u001b[0m\u001b[0msleep\u001b[0m\u001b[0;34m(\u001b[0m\u001b[0;36m1.\u001b[0m\u001b[0;34m*\u001b[0m\u001b[0mnp\u001b[0m\u001b[0;34m.\u001b[0m\u001b[0mrandom\u001b[0m\u001b[0;34m.\u001b[0m\u001b[0mrand\u001b[0m\u001b[0;34m(\u001b[0m\u001b[0;34m)\u001b[0m\u001b[0;34m)\u001b[0m\u001b[0;34m\u001b[0m\u001b[0m\n\u001b[0;32m--> 831\u001b[0;31m                 \u001b[0medgeslist\u001b[0m \u001b[0;34m=\u001b[0m \u001b[0mself\u001b[0m\u001b[0;34m.\u001b[0m\u001b[0mfull_run\u001b[0m\u001b[0;34m(\u001b[0m\u001b[0mexp\u001b[0m\u001b[0;34m,\u001b[0m \u001b[0mname_database\u001b[0m\u001b[0;34m,\u001b[0m \u001b[0mimagelist\u001b[0m\u001b[0;34m,\u001b[0m \u001b[0mnoise\u001b[0m\u001b[0;34m=\u001b[0m\u001b[0mnoise\u001b[0m\u001b[0;34m)\u001b[0m\u001b[0;34m\u001b[0m\u001b[0m\n\u001b[0m\u001b[1;32m    832\u001b[0m                 \u001b[0;32mif\u001b[0m \u001b[0medgeslist\u001b[0m \u001b[0;34m==\u001b[0m \u001b[0;34m'locked'\u001b[0m\u001b[0;34m:\u001b[0m\u001b[0;34m\u001b[0m\u001b[0m\n\u001b[1;32m    833\u001b[0m                     \u001b[0mself\u001b[0m\u001b[0;34m.\u001b[0m\u001b[0mlog\u001b[0m\u001b[0;34m.\u001b[0m\u001b[0minfo\u001b[0m\u001b[0;34m(\u001b[0m\u001b[0;34m'>> Edge extraction %s is locked'\u001b[0m\u001b[0;34m,\u001b[0m \u001b[0mmatname\u001b[0m\u001b[0;34m)\u001b[0m\u001b[0;34m\u001b[0m\u001b[0m\n",
      "\u001b[0;32m/Users/laurentperrinet/pool/science/BICV/SparseEdges/src/SparseEdges.py\u001b[0m in \u001b[0;36mfull_run\u001b[0;34m(self, exp, name_database, imagelist, noise)\u001b[0m\n\u001b[1;32m    281\u001b[0m                         \u001b[0mimage\u001b[0m\u001b[0;34m,\u001b[0m \u001b[0mfilename_\u001b[0m\u001b[0;34m,\u001b[0m \u001b[0mcroparea_\u001b[0m \u001b[0;34m=\u001b[0m \u001b[0mself\u001b[0m\u001b[0;34m.\u001b[0m\u001b[0mpatch\u001b[0m\u001b[0;34m(\u001b[0m\u001b[0mname_database\u001b[0m\u001b[0;34m,\u001b[0m \u001b[0mfilename\u001b[0m\u001b[0;34m=\u001b[0m\u001b[0mfilename\u001b[0m\u001b[0;34m,\u001b[0m \u001b[0mcroparea\u001b[0m\u001b[0;34m=\u001b[0m\u001b[0mcroparea\u001b[0m\u001b[0;34m)\u001b[0m\u001b[0;34m\u001b[0m\u001b[0m\n\u001b[1;32m    282\u001b[0m                         \u001b[0;32mif\u001b[0m \u001b[0mnoise\u001b[0m \u001b[0;34m>\u001b[0m \u001b[0;36m0.\u001b[0m\u001b[0;34m:\u001b[0m \u001b[0mimage\u001b[0m \u001b[0;34m+=\u001b[0m \u001b[0mnoise\u001b[0m\u001b[0;34m*\u001b[0m\u001b[0mimage\u001b[0m\u001b[0;34m[\u001b[0m\u001b[0;34m:\u001b[0m\u001b[0;34m]\u001b[0m\u001b[0;34m.\u001b[0m\u001b[0mstd\u001b[0m\u001b[0;34m(\u001b[0m\u001b[0;34m)\u001b[0m\u001b[0;34m*\u001b[0m\u001b[0mself\u001b[0m\u001b[0;34m.\u001b[0m\u001b[0mtexture\u001b[0m\u001b[0;34m(\u001b[0m\u001b[0mfilename\u001b[0m\u001b[0;34m=\u001b[0m\u001b[0mfilename\u001b[0m\u001b[0;34m,\u001b[0m \u001b[0mcroparea\u001b[0m\u001b[0;34m=\u001b[0m\u001b[0mcroparea\u001b[0m\u001b[0;34m)\u001b[0m\u001b[0;34m\u001b[0m\u001b[0m\n\u001b[0;32m--> 283\u001b[0;31m                         \u001b[0medges\u001b[0m\u001b[0;34m,\u001b[0m \u001b[0mC\u001b[0m \u001b[0;34m=\u001b[0m \u001b[0mself\u001b[0m\u001b[0;34m.\u001b[0m\u001b[0mrun_mp\u001b[0m\u001b[0;34m(\u001b[0m\u001b[0mimage\u001b[0m\u001b[0;34m)\u001b[0m\u001b[0;34m\u001b[0m\u001b[0m\n\u001b[0m\u001b[1;32m    284\u001b[0m                         \u001b[0mnp\u001b[0m\u001b[0;34m.\u001b[0m\u001b[0msave\u001b[0m\u001b[0;34m(\u001b[0m\u001b[0mmatname\u001b[0m\u001b[0;34m,\u001b[0m \u001b[0medges\u001b[0m\u001b[0;34m)\u001b[0m\u001b[0;34m\u001b[0m\u001b[0m\n\u001b[1;32m    285\u001b[0m                         \u001b[0mself\u001b[0m\u001b[0;34m.\u001b[0m\u001b[0mlog\u001b[0m\u001b[0;34m.\u001b[0m\u001b[0minfo\u001b[0m\u001b[0;34m(\u001b[0m\u001b[0;34m'Finished edge extraction of %s '\u001b[0m\u001b[0;34m,\u001b[0m \u001b[0mmatname\u001b[0m\u001b[0;34m)\u001b[0m\u001b[0;34m\u001b[0m\u001b[0m\n",
      "\u001b[0;32m/Users/laurentperrinet/pool/science/BICV/SparseEdges/src/SparseEdges.py\u001b[0m in \u001b[0;36mrun_mp\u001b[0;34m(self, image, verbose)\u001b[0m\n\u001b[1;32m     76\u001b[0m                                          coeff, np.angle(C[ind_edge_star])])\n\u001b[1;32m     77\u001b[0m             \u001b[0;31m# PURSUIT\u001b[0m\u001b[0;34m\u001b[0m\u001b[0;34m\u001b[0m\u001b[0m\n\u001b[0;32m---> 78\u001b[0;31m             \u001b[0mC\u001b[0m \u001b[0;34m=\u001b[0m \u001b[0mself\u001b[0m\u001b[0;34m.\u001b[0m\u001b[0mbackprop\u001b[0m\u001b[0;34m(\u001b[0m\u001b[0mC\u001b[0m\u001b[0;34m,\u001b[0m \u001b[0mind_edge_star\u001b[0m\u001b[0;34m)\u001b[0m\u001b[0;34m\u001b[0m\u001b[0m\n\u001b[0m\u001b[1;32m     79\u001b[0m         \u001b[0;32mreturn\u001b[0m \u001b[0medges\u001b[0m\u001b[0;34m,\u001b[0m \u001b[0mC\u001b[0m\u001b[0;34m\u001b[0m\u001b[0m\n\u001b[1;32m     80\u001b[0m \u001b[0;34m\u001b[0m\u001b[0m\n",
      "\u001b[0;32m/Users/laurentperrinet/pool/science/BICV/SparseEdges/src/SparseEdges.py\u001b[0m in \u001b[0;36mbackprop\u001b[0;34m(self, C, ind_edge_star)\u001b[0m\n\u001b[1;32m    115\u001b[0m         \u001b[0;32mfor\u001b[0m \u001b[0mi_sf_0\u001b[0m\u001b[0;34m,\u001b[0m \u001b[0msf_0\u001b[0m \u001b[0;32min\u001b[0m \u001b[0menumerate\u001b[0m\u001b[0;34m(\u001b[0m\u001b[0mself\u001b[0m\u001b[0;34m.\u001b[0m\u001b[0msf_0\u001b[0m\u001b[0;34m)\u001b[0m\u001b[0;34m:\u001b[0m\u001b[0;34m\u001b[0m\u001b[0m\n\u001b[1;32m    116\u001b[0m             \u001b[0;32mfor\u001b[0m \u001b[0mi_theta\u001b[0m\u001b[0;34m,\u001b[0m \u001b[0mtheta\u001b[0m \u001b[0;32min\u001b[0m \u001b[0menumerate\u001b[0m\u001b[0;34m(\u001b[0m\u001b[0mself\u001b[0m\u001b[0;34m.\u001b[0m\u001b[0mtheta\u001b[0m\u001b[0;34m)\u001b[0m\u001b[0;34m:\u001b[0m\u001b[0;34m\u001b[0m\u001b[0m\n\u001b[0;32m--> 117\u001b[0;31m                 \u001b[0mFT_lg\u001b[0m \u001b[0;34m=\u001b[0m \u001b[0mself\u001b[0m\u001b[0;34m.\u001b[0m\u001b[0mloggabor\u001b[0m\u001b[0;34m(\u001b[0m\u001b[0;36m0\u001b[0m\u001b[0;34m,\u001b[0m \u001b[0;36m0\u001b[0m\u001b[0;34m,\u001b[0m \u001b[0msf_0\u001b[0m\u001b[0;34m=\u001b[0m\u001b[0msf_0\u001b[0m\u001b[0;34m,\u001b[0m \u001b[0mB_sf\u001b[0m\u001b[0;34m=\u001b[0m\u001b[0mself\u001b[0m\u001b[0;34m.\u001b[0m\u001b[0mpe\u001b[0m\u001b[0;34m.\u001b[0m\u001b[0mB_sf\u001b[0m\u001b[0;34m,\u001b[0m \u001b[0mtheta\u001b[0m\u001b[0;34m=\u001b[0m\u001b[0mtheta\u001b[0m\u001b[0;34m,\u001b[0m \u001b[0mB_theta\u001b[0m\u001b[0;34m=\u001b[0m\u001b[0mself\u001b[0m\u001b[0;34m.\u001b[0m\u001b[0mpe\u001b[0m\u001b[0;34m.\u001b[0m\u001b[0mB_theta\u001b[0m\u001b[0;34m)\u001b[0m\u001b[0;34m\u001b[0m\u001b[0m\n\u001b[0m\u001b[1;32m    118\u001b[0m                 \u001b[0mC\u001b[0m\u001b[0;34m[\u001b[0m\u001b[0;34m:\u001b[0m\u001b[0;34m,\u001b[0m \u001b[0;34m:\u001b[0m\u001b[0;34m,\u001b[0m \u001b[0mi_theta\u001b[0m\u001b[0;34m,\u001b[0m \u001b[0mi_sf_0\u001b[0m\u001b[0;34m]\u001b[0m \u001b[0;34m-=\u001b[0m \u001b[0mself\u001b[0m\u001b[0;34m.\u001b[0m\u001b[0mFTfilter\u001b[0m\u001b[0;34m(\u001b[0m\u001b[0mlg_star\u001b[0m\u001b[0;34m,\u001b[0m \u001b[0mFT_lg\u001b[0m\u001b[0;34m,\u001b[0m \u001b[0mfull\u001b[0m\u001b[0;34m=\u001b[0m\u001b[0;32mTrue\u001b[0m\u001b[0;34m)\u001b[0m\u001b[0;34m\u001b[0m\u001b[0m\n\u001b[1;32m    119\u001b[0m         \u001b[0;32mreturn\u001b[0m \u001b[0mC\u001b[0m\u001b[0;34m\u001b[0m\u001b[0m\n",
      "\u001b[0;32m/Users/laurentperrinet/pool/science/BICV/LogGabor/src/LogGabor.py\u001b[0m in \u001b[0;36mloggabor\u001b[0;34m(self, u, v, sf_0, B_sf, theta, B_theta, preprocess)\u001b[0m\n\u001b[1;32m     52\u001b[0m \u001b[0;34m\u001b[0m\u001b[0m\n\u001b[1;32m     53\u001b[0m         \u001b[0menv\u001b[0m \u001b[0;34m=\u001b[0m \u001b[0mself\u001b[0m\u001b[0;34m.\u001b[0m\u001b[0mband\u001b[0m\u001b[0;34m(\u001b[0m\u001b[0msf_0\u001b[0m\u001b[0;34m,\u001b[0m \u001b[0mB_sf\u001b[0m\u001b[0;34m)\u001b[0m \u001b[0;34m*\u001b[0m\u001b[0;31m \u001b[0m\u001b[0;31m\\\u001b[0m\u001b[0;34m\u001b[0m\u001b[0m\n\u001b[0;32m---> 54\u001b[0;31m               \u001b[0mself\u001b[0m\u001b[0;34m.\u001b[0m\u001b[0morientation\u001b[0m\u001b[0;34m(\u001b[0m\u001b[0mtheta\u001b[0m\u001b[0;34m,\u001b[0m \u001b[0mB_theta\u001b[0m\u001b[0;34m)\u001b[0m \u001b[0;34m*\u001b[0m\u001b[0;31m \u001b[0m\u001b[0;31m\\\u001b[0m\u001b[0;34m\u001b[0m\u001b[0m\n\u001b[0m\u001b[1;32m     55\u001b[0m               \u001b[0mself\u001b[0m\u001b[0;34m.\u001b[0m\u001b[0mtrans\u001b[0m\u001b[0;34m(\u001b[0m\u001b[0mu\u001b[0m\u001b[0;34m*\u001b[0m\u001b[0;36m1.\u001b[0m\u001b[0;34m,\u001b[0m \u001b[0mv\u001b[0m\u001b[0;34m*\u001b[0m\u001b[0;36m1.\u001b[0m\u001b[0;34m)\u001b[0m\u001b[0;34m\u001b[0m\u001b[0m\n\u001b[1;32m     56\u001b[0m         \u001b[0;32mif\u001b[0m \u001b[0mpreprocess\u001b[0m \u001b[0;34m:\u001b[0m \u001b[0menv\u001b[0m \u001b[0;34m*=\u001b[0m \u001b[0mself\u001b[0m\u001b[0;34m.\u001b[0m\u001b[0mf_mask\u001b[0m\u001b[0;34m\u001b[0m\u001b[0m\n",
      "\u001b[0;32m/Users/laurentperrinet/pool/science/BICV/LogGabor/src/LogGabor.py\u001b[0m in \u001b[0;36morientation\u001b[0;34m(self, theta, B_theta)\u001b[0m\n\u001b[1;32m     36\u001b[0m         \u001b[0;31m# we use a von-mises distribution on the orientation\u001b[0m\u001b[0;34m\u001b[0m\u001b[0;34m\u001b[0m\u001b[0m\n\u001b[1;32m     37\u001b[0m         \u001b[0;31m# see http://en.wikipedia.org/wiki/Von_Mises_distribution\u001b[0m\u001b[0;34m\u001b[0m\u001b[0;34m\u001b[0m\u001b[0m\n\u001b[0;32m---> 38\u001b[0;31m         \u001b[0mcos_angle\u001b[0m \u001b[0;34m=\u001b[0m \u001b[0mnp\u001b[0m\u001b[0;34m.\u001b[0m\u001b[0mcos\u001b[0m\u001b[0;34m(\u001b[0m\u001b[0mself\u001b[0m\u001b[0;34m.\u001b[0m\u001b[0mf_theta\u001b[0m\u001b[0;34m-\u001b[0m\u001b[0mtheta\u001b[0m\u001b[0;34m)\u001b[0m\u001b[0;34m\u001b[0m\u001b[0m\n\u001b[0m\u001b[1;32m     39\u001b[0m         \u001b[0menveloppe_orientation\u001b[0m \u001b[0;34m=\u001b[0m \u001b[0mnp\u001b[0m\u001b[0;34m.\u001b[0m\u001b[0mexp\u001b[0m\u001b[0;34m(\u001b[0m\u001b[0mcos_angle\u001b[0m\u001b[0;34m/\u001b[0m\u001b[0mB_theta\u001b[0m\u001b[0;34m**\u001b[0m\u001b[0;36m2\u001b[0m\u001b[0;34m)\u001b[0m\u001b[0;34m\u001b[0m\u001b[0m\n\u001b[1;32m     40\u001b[0m \u001b[0;31m#        As shown in:\u001b[0m\u001b[0;34m\u001b[0m\u001b[0;34m\u001b[0m\u001b[0m\n",
      "\u001b[0;31mKeyboardInterrupt\u001b[0m: "
     ]
    }
   ],
   "source": [
    "%run experiment_fig-firstorder.py"
   ]
  },
  {
   "cell_type": "markdown",
   "metadata": {},
   "source": [
    "## Analysing results on using the Prior on first-order distribution of orientations"
   ]
  },
  {
   "cell_type": "markdown",
   "metadata": {},
   "source": [
    "First, we retrieve edges from a prior edge extraction"
   ]
  },
  {
   "cell_type": "code",
   "execution_count": null,
   "metadata": {
    "collapsed": false
   },
   "outputs": [],
   "source": [
    "imageslist, edgeslist, RMSE = mp.process(exp='prior_vanilla_noise_' + str(mp.pe.noise).replace('.', '_'), name_database=name_database_)"
   ]
  },
  {
   "cell_type": "code",
   "execution_count": null,
   "metadata": {
    "collapsed": false
   },
   "outputs": [],
   "source": [
    "imageslist, edgeslist, RMSE = mp.process(exp='prior_vanilla', name_database=name_database_)"
   ]
  },
  {
   "cell_type": "code",
   "execution_count": null,
   "metadata": {
    "collapsed": false
   },
   "outputs": [],
   "source": [
    "#fig, (a1, a2) = plt.subplots(1, 2)\n",
    "#fig, a1 = mp.histedges_theta(edgeslist, fig=fig, a=a1)\n",
    "#fig, a2 = mp.histedges_theta(edgeslist, fig=fig, a=a1)\n",
    "fig_width_pt = 318.670  # Get this from LaTeX using \\showthe\\columnwidth\n",
    "inches_per_pt = 1.0/72.27               # Convert pt to inches\n",
    "fig_width = fig_width_pt*inches_per_pt  # width in inches\n",
    "fig = plt.figure(figsize=(fig_width/1.618, fig_width/1.618))\n",
    "ax = fig.add_subplot(111, axisbg='w', polar=True)\n",
    "fig, ax = mp.histedges_theta(edgeslist, fig=fig, a=ax)\n",
    "v_hist, v_theta_edges = mp.histedges_theta(edgeslist, display=False)\n",
    "ax.plot(v_theta_edges, np.ones_like(v_theta_edges)*np.sqrt(v_hist.mean()), 'r--')\n",
    "ax.plot(v_theta_edges+np.pi, np.ones_like(v_theta_edges)*np.sqrt(v_hist.mean()), 'r--')\n",
    "\n",
    "for ext in FORMATS: fig.savefig(mp.pe.figpath + 'firstorder_A.' + ext)"
   ]
  },
  {
   "cell_type": "code",
   "execution_count": null,
   "metadata": {
    "collapsed": false
   },
   "outputs": [],
   "source": [
    "v_hist, v_theta_edges = mp.histedges_theta(edgeslist, display=False)\n",
    "v_theta_middles, v_theta_bin  = (v_theta_edges[1:]+v_theta_edges[:-1])/2, v_theta_edges[1]-v_theta_edges[0]"
   ]
  },
  {
   "cell_type": "code",
   "execution_count": null,
   "metadata": {
    "collapsed": false
   },
   "outputs": [],
   "source": [
    "print ('angles for the edges of bins (deg) = ', v_theta_edges*180/np.pi)\n",
    "print ('angles for the middle of bins (deg) = ', v_theta_middles*180/np.pi)\n",
    "print ('angles for the center of bins (deg) = ', (v_theta_edges-v_theta_bin/2)*180/np.pi)"
   ]
  },
  {
   "cell_type": "markdown",
   "metadata": {},
   "source": [
    "Now, we may use this statistics:\n"
   ]
  },
  {
   "cell_type": "code",
   "execution_count": null,
   "metadata": {
    "collapsed": false
   },
   "outputs": [],
   "source": [
    "z = np.linspace(0, 1., mp.pe.n_theta+1)\n",
    "P = np.cumsum(np.hstack((0, v_hist[-1]/2, v_hist[:-1], v_hist[-1]/2)))\n",
    "#theta_prior = np.interp(z, P, v_theta_middles)\n",
    "#theta_prior = np.interp(z, P, np.hstack((v_theta_edges[-1]-np.pi, v_theta_edges))) #% np.pi\n",
    "#theta_prior = np.interp(z, P, v_theta_edges-v_theta_bin/2) #% np.pi\n",
    "theta_prior = np.interp(z, P, np.hstack((v_theta_edges[0]-v_theta_bin/2, v_theta_edges[:-1], v_theta_edges[-1]-v_theta_bin/2))) #% np.pi\n",
    "#print z.shape, P.shape, P[0], P[-1], theta_prior.shape"
   ]
  },
  {
   "cell_type": "code",
   "execution_count": null,
   "metadata": {
    "collapsed": false
   },
   "outputs": [],
   "source": [
    "z = z[1:]\n",
    "P = P[1:]\n",
    "print ('z = ', z)\n",
    "print ('P = ', P)\n",
    "#print pe.n_theta, z.shape, P.shape\n",
    "#print np.hstack((0, np.cumsum(v_hist)))\n",
    "print ('angles (deg) = ', mp.theta*180/np.pi)\n",
    "print ('angles (deg) = ', theta_prior*180/np.pi)\n",
    "#print 'angles (deg) = ', np.interp(z, np.hstack((0, np.cumsum(v_hist))), (v_theta_edges-v_theta_bin/2))*180/np.pi\n",
    "#print mp.theta.shape, theta_prior.shape\n",
    "print ('angles (deg) = ', theta_prior[1:]*180/np.pi)"
   ]
  },
  {
   "cell_type": "code",
   "execution_count": null,
   "metadata": {
    "collapsed": false
   },
   "outputs": [],
   "source": [
    "fig, [[B, C], [A, D]] = plt.subplots(2, 2, figsize=(fig_width, fig_width/1.618), subplot_kw={'axisbg':'w'}, sharex=True)\n",
    "for ax in [A, B, C, D]:\n",
    "    ax.spines['right'].set_visible(False)\n",
    "    ax.spines['top'].set_visible(False)\n",
    "#  subplots_adjust(left=None, bottom=None, right=None, top=None,\n",
    "#                  wspace=None, hspace=None)\n",
    "#\n",
    "#The parameter meanings (and suggested defaults) are::\n",
    "#\n",
    "#  left  = 0.125  # the left side of the subplots of the figure\n",
    "#  right = 0.9    # the right side of the subplots of the figure\n",
    "#  bottom = 0.1   # the bottom of the subplots of the figure\n",
    "#  top = 0.9      # the top of the subplots of the figure\n",
    "#  wspace = 0.2   # the amount of width reserved for blank space between subplots\n",
    "#  hspace = 0.2   # the amount of height reserved for white space between subplots\n",
    "fig.subplots_adjust(wspace=0.1, hspace=0.1,\n",
    "                    left=0.125, right=0.9,\n",
    "                    top=0.9,    bottom=0.175)\n",
    "A.bar(v_theta_edges-v_theta_bin, np.hstack((v_hist[-1], v_hist)), alpha=.6, width=v_theta_bin)\n",
    "#A.bar(v_theta_edges[:-1], v_hist, alpha=.6, width=v_theta_bin, align='edge')\n",
    "A.hlines([v_hist.mean()], [v_theta_edges[0]-v_theta_bin/8.], [v_theta_edges[-1]+v_theta_bin/8.], lw=.5, color='r', linestyle='--', alpha=.6)\n",
    "plt.setp(A, yticklabels=[], ylabel=r'$p(\\theta)$',#xlim=[v_theta_edges[0]-v_theta_bin/4, v_theta_edges[-1]+v_theta_bin/4], \n",
    "         #xticks=[-np.pi/2, 0, np.pi/2], xticklabels=[r'$\\frac{-\\pi}{2}$', r'$0$', r'$\\frac{\\pi}{2}$'], \n",
    "         xticks=[0, np.pi/2], xticklabels=[r'$0$', r'$\\frac{\\pi}{2}$'], \n",
    "         xlabel=r'$\\theta$ (rad)')\n",
    "B.step(v_theta_edges, P, where='pre')\n",
    "B.vlines(((mp.theta[:-1] + np.pi/2 + v_theta_bin/4)  % np.pi ) - np.pi/2  + v_theta_bin/4, [0], P[1:], lw=.5, color='k', alpha=.6)\n",
    "plt.setp(B, xticks=[], ylim=[0, 1.02], yticks=[0., 0.5, 1.], yticklabels=['0', r'$\\frac{1}{2}$', '1'], ylabel=r'$P(\\theta)$')#, xlim=[v_theta_edges[0], v_theta_edges[-1]]\n",
    "#B.text(-np.pi/2*1.65, 1.05, '(B)')\n",
    "C.plot(v_theta_edges, P)\n",
    "C.hlines(z[:-1], [v_theta_edges[0]-v_theta_bin/2], theta_prior[1:], lw=.5)\n",
    "C.hlines([1], [v_theta_edges[0]-v_theta_bin/2], theta_prior[-1], lw=.5)\n",
    "C.vlines(theta_prior[1:], [0], z[:-1], lw=.5, color='r', alpha=.6)\n",
    "C.vlines(theta_prior[-1], [0], [1], lw=.5, color='r', alpha=.6)\n",
    "#C.text(-np.pi/2*1.1, 1.05, '(C)')\n",
    "bord = 0.03\n",
    "plt.setp(C, ylim=[0,1.02], xticks=[-np.pi/2, 0, np.pi/2], xticklabels=['', '', ''], yticks=[0., 0.5, 1.], yticklabels=['', '', ''], xlim=[v_theta_edges[0]-v_theta_bin/2-bord, v_theta_edges[-1]-v_theta_bin/2+bord])#\n",
    "#D.axis('tight')\n",
    "#D.vlines((theta_prior + np.pi/2) % np.pi  - np.pi/2, [0], np.ones_like(z), lw=.5, color='r')\n",
    "D.vlines(theta_prior, [0], np.ones_like(z), lw=.5, color='r', alpha=.6)\n",
    "D.vlines([-np.pi/2, np.pi/2], [0], np.ones_like(z), lw=.5, color='r', alpha=.6)\n",
    "#D.vlines(((mp.theta[:-1] + np.pi/2 + v_theta_bin/2)  % np.pi ) - np.pi/2  - v_theta_bin/2, [0], np.ones_like(z), lw=.5, color='k', alpha=.6)\n",
    "#D.plot(theta, np.ones_like(z), ms='^', lw=0, color='r')\n",
    "plt.setp(D, ylim=[0, 1.1], yticks=[], xlim=[v_theta_edges[0]-v_theta_bin/2-bord, v_theta_edges[-1]-v_theta_bin/2+bord], \n",
    "         xticks=[-np.pi/2, 0, np.pi/2], xticklabels=[r'$\\frac{-\\pi}{2}$', r'$0$', r'$\\frac{\\pi}{2}$'], \n",
    "         #xticks=[0, np.pi/2], xticklabels=[r'$0$', r'$\\frac{\\pi}{2}$'], \n",
    "         xlabel=r'$\\theta$ (rad)')\n",
    "#D.text(-np.pi/2*1.1, 1.35, '(D)')\n",
    "for ext in FORMATS: fig.savefig(mp.pe.figpath + 'laughlin.' + ext)"
   ]
  },
  {
   "cell_type": "raw",
   "metadata": {},
   "source": [
    "!pip install lmfit"
   ]
  },
  {
   "cell_type": "code",
   "execution_count": null,
   "metadata": {
    "collapsed": false
   },
   "outputs": [],
   "source": [
    "fig, A = plt.subplots(1, 1, figsize=(13, 13), subplot_kw={'axisbg':'w'})\n",
    "from lmfit.models import ExpressionModel\n",
    "#mod = PowerLawModel()\n",
    "mod = ExpressionModel('rho**x')\n",
    "RMSE /= RMSE[:, 0][:, np.newaxis]\n",
    "N = RMSE.shape[1] #number of edges\n",
    "rho = np.zeros(RMSE.shape[0])\n",
    "for i_image in range(RMSE.shape[0]):\n",
    "    #pars = mod.guess(RMSE[i_image, :], x=np.arange(N))\n",
    "    mod.def_vals = {'rho':.99}\n",
    "    out  = mod.fit(RMSE[i_image, :], x=np.arange(N))\n",
    "    #print(out.fit_report(min_correl=0.25))\n",
    "    rho[i_image] =  out.params.get('rho').value\n",
    "    #print 'rho=', rho[i_image]\n",
    "    #N_theta = np.log(threshold)/np.log(rho)\n",
    "    #print N_theta\n",
    "    A.semilogx( RMSE[i_image, :], alpha=.7)\n",
    "    params = mod.make_params(rho=rho[i_image])\n",
    "    A.semilogx(mod.eval(params, x=np.arange(N)), 'r--', alpha=.7)\n",
    "    A.set_xlabel('l0')\n",
    "    A.axis('tight')\n",
    "    A.axis('tight')\n",
    "    _ = A.set_ylabel('RMSE')            \n",
    "\n",
    "print ('rho=', rho.mean(), ', +/- ', rho.std())"
   ]
  },
  {
   "cell_type": "code",
   "execution_count": null,
   "metadata": {
    "collapsed": false
   },
   "outputs": [],
   "source": [
    "FORMATS = ['pdf', 'eps']\n",
    "experiments = ['prior_vanilla', 'prior_firstorder', 'prior_vanilla_noise_' + str(mp.pe.noise).replace('.', '_'), 'prior_firstorder_noise_' + str(mp.pe.noise).replace('.', '_')]\n",
    "databases = [name_database_] * len(experiments)\n",
    "labels = ['control', 'with prior', 'noise', 'noise (prior)']\n",
    "mps = [mp] * len(experiments)\n",
    "fig_width = 15\n",
    "fig = plt.figure(figsize=(fig_width/1.618, fig_width/1.618))\n",
    "fig, a, ax = mp.plot(mps=mps, experiments=experiments, databases=databases, fig=fig, labels=labels, \n",
    "                  color=[0., 0., 1.], scale=True)#  \n"
   ]
  },
  {
   "cell_type": "code",
   "execution_count": null,
   "metadata": {
    "collapsed": false
   },
   "outputs": [],
   "source": [
    "experiments = ['prior_vanilla', 'prior_firstorder']\n",
    "databases = [name_database_] * len(experiments)\n",
    "labels = ['control', 'with prior']\n",
    "mps = [mp] * len(experiments)\n",
    "fig = plt.figure(figsize=(fig_width/1.618, fig_width/1.618))\n",
    "fig, a, ax = mp.plot(mps=mps, experiments=experiments, databases=databases, fig=fig, labels=labels, \n",
    "                  color=[0., 0., 1.], threshold=0.3, ref=0, scale=True)#  \n"
   ]
  },
  {
   "cell_type": "code",
   "execution_count": null,
   "metadata": {
    "collapsed": false
   },
   "outputs": [],
   "source": [
    "experiments = ['prior_quant', 'prior_quant_firstorder']\n",
    "databases = [name_database_] * len(experiments)\n",
    "labels = ['control', 'with prior']\n",
    "mps = [mp] * len(experiments)\n",
    "fig = plt.figure(figsize=(fig_width/1.618, fig_width/1.618))\n",
    "fig, a, ax = mp.plot(mps=mps, experiments=experiments, databases=databases, fig=fig, labels=labels, \n",
    "                  color=[0., 0., 1.], threshold=0.6, ref=0, scale=True)#  , threshold=0.3, ref=0\n"
   ]
  },
  {
   "cell_type": "code",
   "execution_count": null,
   "metadata": {
    "collapsed": false
   },
   "outputs": [],
   "source": [
    "experiments = ['prior_vanilla', 'prior_firstorder']\n",
    "databases = [name_database_] * len(experiments)\n",
    "labels = ['control', 'with prior']\n",
    "mps = [mp] * len(experiments)\n",
    "fig = plt.figure(figsize=(fig_width/1.618, fig_width/1.618))\n",
    "fig, a, ax = mp.plot(mps=mps, experiments=experiments, databases=databases, fig=fig, labels=labels, \n",
    "                  color=[0., 0., 1.], threshold=0.55, ref=0, scale=True)#  \n"
   ]
  },
  {
   "cell_type": "code",
   "execution_count": null,
   "metadata": {
    "collapsed": false
   },
   "outputs": [],
   "source": [
    "experiments = ['prior_vanilla', 'prior_firstorder']\n",
    "databases = [name_database_] * len(experiments)\n",
    "labels = ['control', 'with prior']\n",
    "mps = [mp] * len(experiments)\n",
    "fig = plt.figure(figsize=(fig_width/1.618, fig_width/1.618))\n",
    "fig, a, ax = mp.plot(mps=mps, experiments=experiments, databases=databases, fig=fig, labels=labels, \n",
    "                  color=[0., 0., 1.], threshold=0.8, ref=0, scale=True)#  \n"
   ]
  },
  {
   "cell_type": "code",
   "execution_count": null,
   "metadata": {
    "collapsed": false
   },
   "outputs": [],
   "source": [
    "experiments = ['prior_vanilla_noise_' + str(mp.pe.noise).replace('.', '_'), 'prior_firstorder_noise_' + str(mp.pe.noise).replace('.', '_')]\n",
    "databases = [name_database_] * len(experiments)\n",
    "labels = ['control', 'with prior']\n",
    "mps = [mp] * len(experiments)\n",
    "fig = plt.figure(figsize=(fig_width/1.618, fig_width/1.618))\n",
    "fig, a, ax = mp.plot(mps=mps, experiments=experiments, databases=databases, fig=fig, labels=labels, \n",
    "                  color=[0., 0., 1.], threshold=0.5, ref=0, scale=True)#  \n"
   ]
  },
  {
   "cell_type": "code",
   "execution_count": null,
   "metadata": {
    "collapsed": false
   },
   "outputs": [],
   "source": [
    "FORMATS = ['pdf', 'eps']\n",
    "#experiments = ['prior_vanilla', 'prior_firstorder', 'prior_vanilla_noise_' + str(pe.noise).replace('.', '_'), 'prior_firstorder_noise_' + str(pe.noise).replace('.', '_')]\n",
    "#experiments = ['prior_vanilla', 'prior_vanilla_noise_' + str(pe.noise).replace('.', '_'), 'prior_firstorder_noise_' + str(pe.noise).replace('.', '_')]\n",
    "#experiments = ['prior_vanilla_noise_' + str(pe.noise).replace('.', '_'), 'prior_firstorder_noise_' + str(pe.noise).replace('.', '_')]\n",
    "#experiments = ['prior_vanilla_noise_' + str(pe.noise).replace('.', '_'), 'prior_firstorder_noise_' + str(pe.noise).replace('.', '_')]\n",
    "experiments = ['prior_vanilla', 'prior_firstorder']\n",
    "databases = [name_database_] * len(experiments)\n",
    "#databases = ['laboratory'] * len(experiments)\n",
    "#labels = ['control', 'with prior', 'noise', 'noise (prior)']\n",
    "#labels = ['control', 'noise', 'noise (prior)']\n",
    "labels = ['control', 'with prior']\n",
    "mps = [mp] * len(experiments)\n",
    "fig = plt.figure(figsize=(fig_width/1.618, fig_width/1.618))\n",
    "fig, a, ax = mp.plot(mps=mps, experiments=experiments, databases=databases, fig=fig, labels=labels, \n",
    "                  color=[0., 0., 1.], threshold=0.3, ref=0, scale=True)#  \n",
    "for ext in FORMATS: fig.savefig(mp.pe.figpath + 'firstorder_C.' + ext)"
   ]
  },
  {
   "cell_type": "code",
   "execution_count": null,
   "metadata": {
    "collapsed": false
   },
   "outputs": [],
   "source": [
    "imageslist, edgeslist, RMSE = mp.process(exp='prior_vanilla', name_database=name_database_)\n",
    "v_hist, v_theta_edges = mp.histedges_theta(edgeslist, display=False)\n",
    "v_theta_middles, v_theta_bin  = (v_theta_edges[1:]+v_theta_edges[:-1])/2, v_theta_edges[1]-v_theta_edges[0]\n",
    "z = np.linspace(0, 1., mp.pe.n_theta+1)\n",
    "P = np.cumsum(np.hstack((0, v_hist[-1]/2, v_hist[:-1], v_hist[-1]/2)))\n",
    "theta_prior = np.interp(z, P, np.hstack((v_theta_edges[0]-v_theta_bin/2, v_theta_edges[:-1], v_theta_edges[-1]-v_theta_bin/2))) #% np.pi\n",
    "print ('angles (deg) = ', theta_prior*180/np.pi)"
   ]
  },
  {
   "cell_type": "code",
   "execution_count": null,
   "metadata": {
    "collapsed": false
   },
   "outputs": [],
   "source": [
    "imageslist, edgeslist, RMSE = mp.process(exp='prior_firstorder', name_database=name_database_)"
   ]
  },
  {
   "cell_type": "code",
   "execution_count": null,
   "metadata": {
    "collapsed": false
   },
   "outputs": [],
   "source": [
    "print ('angles (deg) = ', theta_prior*180/np.pi)\n",
    "\n",
    "#theta_bin = np.linspace(- np.pi/2  + np.pi/mp.pe.N_Dtheta/2, np.pi/2  + np.pi/mp.pe.N_Dtheta/2, 48)\n",
    "#theta_bin = np.hstack((theta_prior, theta_prior[0]+np.pi)) - np.pi/320#mp.pe.N_Dtheta/2\n",
    "theta_bin = .5 * (theta_prior[:-1] + theta_prior[1:])\n",
    "#( np.hstack((theta_prior[-2]-np.pi, theta_prior)) +\n",
    " #                 np.hstack((theta_prior, theta_prior[1]+np.pi)) )\n",
    "theta_bin = np.hstack((theta_bin, theta_bin[0]+np.pi)) \n",
    "print ('angles (deg) = ',  theta_bin*180/np.pi)\n",
    "\n",
    "#theta_firstbin = (theta_bin[1]-theta_bin[0])/2.\n",
    "#print theta_firstbin*180/np.pi\n",
    "theta = (edgeslist[2, ...].ravel())\n",
    "#theta = ((theta + np.pi/2 - np.pi/mp.pe.N_Dtheta/2)  % np.pi ) - np.pi/2  + np.pi/mp.pe.N_Dtheta/2\n",
    "#print theta.min()*180/np.pi, theta.max()*180/np.pi, (theta.max()-theta.min())*180/np.pi\n",
    "#theta = ((theta + (np.pi/2 + theta_firstbin) )  % np.pi ) - (np.pi/2  + theta_firstbin)\n",
    "#print theta.min()*180/np.pi, theta.max()*180/np.pi, (theta.max()-theta.min())*180/np.pi\n",
    "value = edgeslist[4, ...].ravel()\n",
    "\n",
    "if False: #mp.pe.edge_mask:\n",
    "    # remove edges whose center position is not on the central disk\n",
    "    x , y = edgeslist[0, ...].ravel().real, edgeslist[1, ...].ravel().real\n",
    "    mask = ((x/mp.N_X -.5)**2+(y/mp.N_Y -.5)**2) < .5**2\n",
    "    theta = theta[mask]\n",
    "    value = value[mask]\n",
    "\n",
    "weights = np.absolute(value)/(np.absolute(value)).sum()\n",
    "\n",
    "v_hist, v_theta_edges_ = np.histogram(theta, bins=theta_bin, density=False, weights=weights)\n",
    "print ('angles (deg) = ',  v_theta_edges_*180/np.pi)\n",
    "print (v_hist)\n",
    "\n",
    "#plotting\n",
    "fig = plt.figure(figsize=(fig_width/1.618, fig_width/1.618))\n",
    "ax = fig.add_subplot(111, axisbg='w', polar=True)\n",
    "#fig, ax = mp.histedges_theta(edgeslist, fig=fig, a=ax)\n",
    "#v_hist, v_theta_edges = mp.histedges_theta(edgeslist, display=False)\n",
    "v_hist /= v_hist.mean() # convenience normalization to compare with uniform histogram\n",
    "ax.bar(v_theta_edges_[1:], np.sqrt(v_hist), width=v_theta_edges_[:-1] - v_theta_edges_[1:], color='#66c0b7')# edgecolor=\"none\")\n",
    "ax.bar(v_theta_edges_[1:]+np.pi, np.sqrt(v_hist), width=v_theta_edges_[:-1] - v_theta_edges_[1:], color='#32ab9f')\n",
    "ax.plot(v_theta_edges_, np.ones_like(v_theta_edges_), 'r--')\n",
    "ax.plot(v_theta_edges_+np.pi, np.ones_like(v_theta_edges_), 'r--')\n",
    "plt.setp(ax, yticks=[])\n",
    "for ext in FORMATS: fig.savefig(mp.pe.figpath + 'firstorder_B.' + ext)"
   ]
  },
  {
   "cell_type": "code",
   "execution_count": null,
   "metadata": {
    "collapsed": false
   },
   "outputs": [],
   "source": [
    "imageslist, edgeslist, RMSE =  mp.process('prior_firstorder', name_database=name_database_)\n",
    "theta = (edgeslist[2, ...].ravel())\n",
    "vhist, vbins, patches = plt.hist(theta, bins = 360)"
   ]
  },
  {
   "cell_type": "code",
   "execution_count": null,
   "metadata": {
    "collapsed": false
   },
   "outputs": [],
   "source": [
    "vbins[vhist>0.]*180/np.pi"
   ]
  },
  {
   "cell_type": "code",
   "execution_count": null,
   "metadata": {
    "collapsed": false
   },
   "outputs": [],
   "source": [
    "vhist[vhist>0.]"
   ]
  },
  {
   "cell_type": "code",
   "execution_count": null,
   "metadata": {
    "collapsed": false
   },
   "outputs": [],
   "source": [
    "edgeslist.shape"
   ]
  },
  {
   "cell_type": "code",
   "execution_count": null,
   "metadata": {
    "collapsed": false
   },
   "outputs": [],
   "source": [
    "%cd .."
   ]
  },
  {
   "cell_type": "markdown",
   "metadata": {},
   "source": [
    "## some book keeping for the notebook"
   ]
  },
  {
   "cell_type": "code",
   "execution_count": null,
   "metadata": {
    "collapsed": false
   },
   "outputs": [],
   "source": [
    "%install_ext https://raw.githubusercontent.com/rasbt/python_reference/master/ipython_magic/watermark.py\n",
    "%load_ext watermark\n",
    "%watermark"
   ]
  },
  {
   "cell_type": "code",
   "execution_count": null,
   "metadata": {
    "collapsed": false
   },
   "outputs": [],
   "source": [
    "%install_ext http://raw.github.com/jrjohansson/version_information/master/version_information.py\n",
    "%load_ext version_information\n",
    "%version_information numpy, scipy, matplotlib, sympy"
   ]
  }
 ],
 "metadata": {
  "kernelspec": {
   "display_name": "Python 3",
   "language": "python",
   "name": "python3"
  },
  "language_info": {
   "codemirror_mode": {
    "name": "ipython",
    "version": 3
   },
   "file_extension": ".py",
   "mimetype": "text/x-python",
   "name": "python",
   "nbconvert_exporter": "python",
   "pygments_lexer": "ipython3",
   "version": "3.5.1"
  }
 },
 "nbformat": 4,
 "nbformat_minor": 0
}
