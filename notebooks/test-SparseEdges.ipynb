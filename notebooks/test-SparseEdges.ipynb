{
 "cells": [
  {
   "cell_type": "markdown",
   "metadata": {},
   "source": [
    "# SparseEdges tests"
   ]
  },
  {
   "cell_type": "markdown",
   "metadata": {},
   "source": [
    "## A series of tests for the SparseEdges package"
   ]
  },
  {
   "cell_type": "markdown",
   "metadata": {},
   "source": [
    "\n",
    "Table of content\n",
    "\n",
    "* [What is the SparseEdges package?](#What-is-the-SparseEdges-package?) \n",
    "* [Installing](#Installing) \n",
    "* [testing one step](#testing-one-step)\n"
   ]
  },
  {
   "cell_type": "code",
   "execution_count": 1,
   "metadata": {},
   "outputs": [],
   "source": [
    "%load_ext autoreload\n",
    "%autoreload 2\n",
    "\n",
    "from __future__ import division, print_function\n",
    "%matplotlib inline\n",
    "import matplotlib.pyplot as plt\n",
    "\n",
    "import numpy as np\n",
    "np.set_printoptions(precision=4)#, suppress=True)"
   ]
  },
  {
   "cell_type": "code",
   "execution_count": 2,
   "metadata": {},
   "outputs": [],
   "source": [
    "%cd -q ../probe"
   ]
  },
  {
   "cell_type": "code",
   "execution_count": 3,
   "metadata": {},
   "outputs": [],
   "source": [
    "from NeuroTools.parameters import ParameterSet\n",
    "from SLIP import Image\n",
    "from LogGabor import LogGabor\n",
    "from SparseEdges import SparseEdges"
   ]
  },
  {
   "cell_type": "code",
   "execution_count": 4,
   "metadata": {},
   "outputs": [],
   "source": [
    "#! defining framework\n",
    "#!-------------------\n",
    "mp = SparseEdges('https://raw.githubusercontent.com/bicv/SparseEdges/master/default_param.py')\n",
    "mp.pe.N = 4\n",
    "mp.pe.MP_alpha=1.\n",
    "mp.pe.do_whitening = False"
   ]
  },
  {
   "cell_type": "raw",
   "metadata": {},
   "source": [
    "!ls -l  ../probe/data_cache/experiment_test_*"
   ]
  },
  {
   "cell_type": "raw",
   "metadata": {},
   "source": [
    "!rm -f  ../probe/data_cache/experiment_test_*"
   ]
  },
  {
   "cell_type": "raw",
   "metadata": {},
   "source": [
    "!ls -l  data_cache/experiment_test_whitening.npy data_cache/experiment_test_whitening_RMSE.npy"
   ]
  },
  {
   "cell_type": "markdown",
   "metadata": {},
   "source": [
    "## Defining units, axis and conventions"
   ]
  },
  {
   "cell_type": "markdown",
   "metadata": {},
   "source": [
    "cardinal points in X, Y (clockwise):  E (=right=3 o'clock=horizontal), ESE, S, WSW, W, WNW, N, ENE :"
   ]
  },
  {
   "cell_type": "code",
   "execution_count": null,
   "metadata": {},
   "outputs": [
    {
     "name": "stdout",
     "output_type": "stream",
     "text": [
      "['-0.0', '-30.0', '90.0', '30.0', '-0.0', '-30.0', '90.0']\n"
     ]
    }
   ],
   "source": [
    "X = np.array([0, 1./4, 1./2, 1./4, 0, -1./4, -1./2])#, -1./4])\\n\",\n",
    "Y = np.array([1./2, np.sqrt(3)/4, 0, -np.sqrt(3)/4, -1./2, -np.sqrt(3)/4, 0.])#, np.sqrt(3)/\n",
    "Theta = np.arctan2(-X, Y)  # perpendicular to circle\n",
    "Theta = ((Theta + np.pi/2  - np.pi/mp.pe.N_phi/2 ) % (np.pi)) - np.pi/2  + np.pi/mp.pe.N_phi/2\n",
    "print(['%0.1f' % (angle*180/np.pi) for angle in Theta])"
   ]
  },
  {
   "cell_type": "markdown",
   "metadata": {},
   "source": [
    "We set the [0,0] index of the array in the upper left left corner of the axes.\n",
    "\n",
    "The X, Y image axis are defined in the matrix style (origin on the upper left; X going vertically down, Y going right horizontally) - the angle is defined as the angle wrt to the horizontal axis :"
   ]
  },
  {
   "cell_type": "code",
   "execution_count": null,
   "metadata": {},
   "outputs": [],
   "source": [
    "fig, a = mp.show_edges(np.vstack(((X/2. + .5)*mp.pe.N_X, (Y/2. + .5)*mp.pe.N_X, Theta, .1*np.ones(X.shape), np.ones(X.shape), np.zeros(X.shape) )))\n",
    "t = [a.text(Y_, X_, r'(%0.1f,%0.1f), $\\theta=$%0.1f' % (X_, Y_, angle*180/np.pi))  for (X_, Y_, angle)  in zip((X/2. + .5)*mp.pe.N_X, (Y/2. + .5)*mp.pe.N_X, Theta)]\n",
    "a.set_xlabel('Y (columns in the image matrix - from west to east)')\n",
    "_ = a.set_ylabel('X (rows in the image matrix - from north to south)')"
   ]
  },
  {
   "cell_type": "markdown",
   "metadata": {},
   "source": [
    "Overlaying an image :"
   ]
  },
  {
   "cell_type": "code",
   "execution_count": null,
   "metadata": {},
   "outputs": [],
   "source": [
    "mp = SparseEdges('https://raw.githubusercontent.com/bicv/SparseEdges/master/default_param.py')\n",
    "mp.pe.N = 128 # number of edges\n",
    "mp.pe.figsize_edges = 9\n",
    "\n",
    "#! defining a reference test image (see test_Image)\n",
    "image = np.zeros((mp.pe.N_X, mp.pe.N_Y))\n",
    "image[mp.pe.N_X//2:mp.pe.N_X//2+mp.pe.N_X//4, mp.pe.N_X//2:mp.pe.N_X//2+mp.pe.N_X//4] = 1\n",
    "image[mp.pe.N_X//2:mp.pe.N_X//2+mp.pe.N_X//4, mp.pe.N_X//4:mp.pe.N_X//2] = -1\n",
    "\n",
    "edges = np.vstack(((X/2. + .5)*mp.pe.N_X, (Y/2. + .5)*mp.pe.N_X, Theta, .1*np.ones(X.shape), np.ones(X.shape), np.zeros(X.shape) ))\n",
    "\n",
    "fig, a = mp.show_edges(edges, image=image)\n",
    "#fig, a = mp.show_edges(edges, image=im.whitening(image))\n",
    "t = [a.text(Y_, X_, r'(%0.1f,%0.1f), $\\theta=$%0.1f' % (X_, Y_, angle*180/np.pi))  for (X_, Y_, angle)  in zip((X/2. + .5)*mp.pe.N_X, (Y/2. + .5)*mp.pe.N_X, Theta)]\n",
    "a.set_xlabel('Y (columns in the image matrix - from west to east)')\n",
    "_ = a.set_ylabel('X (lines in the image matrix - from north to south)')"
   ]
  },
  {
   "cell_type": "code",
   "execution_count": null,
   "metadata": {},
   "outputs": [],
   "source": [
    "mp = SparseEdges('https://raw.githubusercontent.com/bicv/SparseEdges/master/default_param.py')\n",
    "mp.set_size((32, 64))\n",
    "mp.pe.N = 128 # number of edges\n",
    "mp.pe.figsize_edges = 4.5\n",
    "\n",
    "#! defining a reference test image (see test_Image)\n",
    "image = np.zeros((mp.pe.N_X, mp.pe.N_Y))\n",
    "image[mp.pe.N_X//2:mp.pe.N_X//2+mp.pe.N_X//4, mp.pe.N_X//2:mp.pe.N_X//2+mp.pe.N_X//4] = 1\n",
    "image[mp.pe.N_X//2:mp.pe.N_X//2+mp.pe.N_X//4, mp.pe.N_X//4:mp.pe.N_X//2] = -1\n",
    "\n",
    "edges = np.vstack(((X/2. + .5)*mp.pe.N_X-1, (Y/2. + .5)*mp.pe.N_X-1, Theta, .5*np.ones(X.shape), np.ones(X.shape), np.zeros(X.shape) ))\n",
    "\n",
    "fig, a = mp.show_edges(edges, image=mp.whitening(image))"
   ]
  },
  {
   "cell_type": "code",
   "execution_count": null,
   "metadata": {},
   "outputs": [],
   "source": [
    "mp.set_size((256, 256))\n",
    "image = mp.imread('../../SLIP/database/lena256.png')\n",
    "mp.pe.N = 128 # number of edges\n",
    "mp.pe.figsize_edges = 9\n",
    "\n",
    "edges = np.vstack(((X/2. + .5)*mp.pe.N_X-1, (Y/2. + .5)*mp.pe.N_X-1, Theta, .1*np.ones(X.shape), np.ones(X.shape), np.zeros(X.shape) ))\n",
    "\n",
    "fig, a = mp.show_edges(edges, image=mp.whitening(image))"
   ]
  },
  {
   "cell_type": "markdown",
   "metadata": {},
   "source": [
    "## Matching Pursuit"
   ]
  },
  {
   "cell_type": "markdown",
   "metadata": {},
   "source": [
    "### checking basic edge detection"
   ]
  },
  {
   "cell_type": "code",
   "execution_count": null,
   "metadata": {},
   "outputs": [],
   "source": [
    "mp.set_size((128, 128))\n",
    "#! defining a reference test image (see test_Image)\n",
    "image = np.zeros((mp.pe.N_X, mp.pe.N_Y))\n",
    "image[mp.pe.N_X//2:mp.pe.N_X//2+mp.pe.N_X//4, mp.pe.N_X//2:mp.pe.N_X//2+mp.pe.N_X//4] = 1\n",
    "image[mp.pe.N_X//2:mp.pe.N_X//2+mp.pe.N_X//4, mp.pe.N_X//4:mp.pe.N_X//2] = -1\n",
    "mp.imshow(image);"
   ]
  },
  {
   "cell_type": "code",
   "execution_count": null,
   "metadata": {},
   "outputs": [],
   "source": [
    "%%writefile experiment_test_MP.py\n",
    "import numpy as np\n",
    "from SparseEdges import SparseEdges\n",
    "\n",
    "mp = SparseEdges('https://raw.githubusercontent.com/bicv/SparseEdges/master/default_param.py')\n",
    "mp.pe.N = 128 # number of edges\n",
    "mp.pe.figsize_edges = 9\n",
    "\n",
    "#! defining a reference test image (see test_Image)\n",
    "image = np.zeros((mp.pe.N_X, mp.pe.N_Y))\n",
    "image[mp.pe.N_X//2:mp.pe.N_X//2+mp.pe.N_X//4, mp.pe.N_X//2:mp.pe.N_X//2+mp.pe.N_X//4] = 1\n",
    "image[mp.pe.N_X//2:mp.pe.N_X//2+mp.pe.N_X//4, mp.pe.N_X//4:mp.pe.N_X//2] = -1\n",
    "\n",
    "import os\n",
    "matname = os.path.join(mp.pe.matpath, 'experiment_test_MP.npy')\n",
    "try:\n",
    "    edges = np.load(matname)\n",
    "except Exception:\n",
    "    edges, C_res = mp.run_mp(image, verbose=True)\n",
    "    try:\n",
    "        os.mkdir(mp.pe.matpath)\n",
    "    except Exception:\n",
    "        pass\n",
    "    np.save(matname, edges)   \n"
   ]
  },
  {
   "cell_type": "code",
   "execution_count": null,
   "metadata": {},
   "outputs": [],
   "source": [
    "%run experiment_test_MP.py"
   ]
  },
  {
   "cell_type": "code",
   "execution_count": null,
   "metadata": {},
   "outputs": [],
   "source": [
    "#fig, a = mp.show_edges(edges, image=mp.whitening(image))\n",
    "fig, a = mp.show_edges(edges, image=mp.dewhitening(mp.reconstruct(edges)))"
   ]
  },
  {
   "cell_type": "code",
   "execution_count": null,
   "metadata": {},
   "outputs": [],
   "source": [
    "%%writefile experiment_test_whitening.py\n",
    "import numpy as np\n",
    "from SparseEdges import SparseEdges\n",
    "mp = SparseEdges('https://raw.githubusercontent.com/bicv/SparseEdges/master/default_param.py')\n",
    "mp.pe.N = 256\n",
    "\n",
    "image = mp.imread('https://raw.githubusercontent.com/bicv/SLIP/master/database/serre07_targets/B_N107001.jpg')\n",
    "\n",
    "#print image.mean(), image.std()\n",
    "image = mp.normalize(image, center=True)\n",
    "#print image.mean(), image.std()\n",
    "import os\n",
    "matname = os.path.join(mp.pe.matpath, 'experiment_test_whitening.npy')\n",
    "try:\n",
    "    edges = np.load(matname)\n",
    "except Exception:\n",
    "    edges, C_res = mp.run_mp(image, verbose=True)\n",
    "    np.save(matname, edges)    \n",
    "\n",
    "\n",
    "matname_RMSE = os.path.join(mp.pe.matpath, 'experiment_test_whitening_RMSE.npy')\n",
    "try:\n",
    "    RMSE = np.load(matname_RMSE)\n",
    "except Exception:\n",
    "    RMSE = np.ones(mp.pe.N)\n",
    "    image_ = image.copy()\n",
    "    image_rec = np.zeros_like(image_)\n",
    "    if mp.pe.do_whitening: image_ = mp.whitening(image_)\n",
    "    for i_N in range(mp.pe.N):\n",
    "        image_rec += mp.reconstruct(edges[:, i_N][:, np.newaxis])\n",
    "        RMSE[i_N] =  ((image_*mp.mask-image_rec*mp.mask)**2).sum()\n",
    "\n",
    "    np.save(matname_RMSE, RMSE)     \n"
   ]
  },
  {
   "cell_type": "code",
   "execution_count": null,
   "metadata": {
    "scrolled": true
   },
   "outputs": [],
   "source": [
    "%run experiment_test_whitening.py"
   ]
  },
  {
   "cell_type": "code",
   "execution_count": null,
   "metadata": {},
   "outputs": [],
   "source": [
    "#edges[0, :] = pe.N_X - edges[0,:] # HACK\n",
    "#edges[2, :] = - edges[2,:] # HACK\n",
    "#edges[:, 119] = edges[:, 118] # HACK\n",
    "fig_width_pt = 318.670  # Get this from LaTeX using \\showthe\\columnwidth\n",
    "inches_per_pt = 1.0/72.27               # Convert pt to inches\n",
    "fig_width = fig_width_pt*inches_per_pt  # width in inches\n",
    "mp.pe.figsize_edges = .382 * fig_width\n",
    "fig, a = mp.show_edges(edges, image=image, color='brown', show_phase=False) #, pedestal=.0, gamma=.3\n",
    "import os\n",
    "fig.savefig(os.path.join(mp.pe.figpath, 'SparseLets_A.pdf'))"
   ]
  },
  {
   "cell_type": "code",
   "execution_count": null,
   "metadata": {},
   "outputs": [],
   "source": [
    "#! recontructing the image from the edges\n",
    "image_rec = mp.reconstruct(edges)\n",
    "print('RMSE-W = ', ((mp.whitening(image)-image_rec)**2).sum()/((mp.whitening(image))**2).sum())\n",
    "fig, a = mp.show_edges(edges, image=image_rec*1., color='brown')"
   ]
  },
  {
   "cell_type": "markdown",
   "metadata": {},
   "source": [
    "Recontructing the original image by dewhitening the reconstructed image:"
   ]
  },
  {
   "cell_type": "code",
   "execution_count": null,
   "metadata": {},
   "outputs": [],
   "source": [
    "print('RMSE-W = ', ((mp.whitening(image)-image_rec)**2).sum()/((mp.whitening(image))**2).sum())\n",
    "fig, a = mp.show_edges(edges, image=mp.dewhitening(image_rec)*1., color='brown')"
   ]
  },
  {
   "cell_type": "code",
   "execution_count": null,
   "metadata": {},
   "outputs": [],
   "source": [
    "RMSE = np.load(os.path.join(mp.pe.matpath, 'experiment_test_whitening_RMSE.npy'))\n",
    "print(RMSE.shape, mp.pe.N)"
   ]
  },
  {
   "cell_type": "code",
   "execution_count": null,
   "metadata": {},
   "outputs": [],
   "source": [
    "# checking the quick computation of the RMSE in MP\n",
    "image_W = mp.whitening(image)\n",
    "RMSE_0 = (image_W**2).sum()\n",
    "print(image_W.mean(), image_W.std(), np.sqrt(RMSE_0), np.sqrt(RMSE[0]))\n",
    "    \n",
    "\n",
    "RMSE_MP = np.ones(mp.pe.N)\n",
    "RMSE_MP[1:] = 1. - np.cumsum(edges[4, :-1]**2) * (2 -  mp.pe.MP_alpha)/mp.pe.MP_alpha / RMSE_0\n",
    "\n",
    "plt.figure(figsize=(12,6))\n",
    "plt.subplot(111)\n",
    "plt.plot(RMSE/RMSE[0], 'ro', label='true')\n",
    "plt.plot(RMSE_MP, 'g--', label='MP-vec')\n",
    "plt.legend()"
   ]
  },
  {
   "cell_type": "code",
   "execution_count": null,
   "metadata": {
    "scrolled": true
   },
   "outputs": [],
   "source": [
    "%%writefile experiment_test_nowhitening.py\n",
    "import numpy as np\n",
    "from SparseEdges import SparseEdges\n",
    "mp = SparseEdges('https://raw.githubusercontent.com/bicv/SparseEdges/master/default_param.py')\n",
    "mp.pe.N = 256\n",
    "\n",
    "#image = mp.imread('https://raw.githubusercontent.com/bicv/SLIP/master/database/serre07_targets/B_N107001.jpg')\n",
    "image = mp.imread('../../SLIP/database/serre07_targets/B_N107001.jpg')\n",
    "\n",
    "\n",
    "mp.pe.figsize_edges = 9\n",
    "image = mp.normalize(image, center=True)\n",
    "\n",
    "#! trying now using no whitening of the image\n",
    "mp.pe.do_whitening = False\n",
    "\n",
    "import os\n",
    "matname = os.path.join(mp.pe.matpath, 'experiment_test_nowhitening.npy')\n",
    "matname_RMSE = os.path.join(mp.pe.matpath, 'experiment_test_nowhitening_RMSE.npy')\n",
    "try:\n",
    "    edges = np.load(matname)\n",
    "except Exception:\n",
    "    edges, C_res = mp.run_mp(image, verbose=True)\n",
    "    np.save(matname, edges)    \n",
    "    \n",
    "fig, a = mp.show_edges(edges, image=image, mask=True)"
   ]
  },
  {
   "cell_type": "code",
   "execution_count": null,
   "metadata": {
    "scrolled": false
   },
   "outputs": [],
   "source": [
    "%run experiment_test_nowhitening.py\n"
   ]
  },
  {
   "cell_type": "code",
   "execution_count": null,
   "metadata": {},
   "outputs": [],
   "source": [
    "#! recontructing the image from the edges\n",
    "image_ = mp.reconstruct(edges)\n",
    "print('RMSE = ', ((image-image_)**2).sum()/((image)**2).sum())\n",
    "fig, a = mp.show_edges(edges, image=image_*1., mask=True)"
   ]
  },
  {
   "cell_type": "markdown",
   "metadata": {},
   "source": [
    "### Perspectives: Better fits of the filters\n",
    "\n",
    "Basically, it is possible to infer the best possible log-Gabor function, even if it's parameters do not fall on the grid"
   ]
  },
  {
   "cell_type": "code",
   "execution_count": null,
   "metadata": {},
   "outputs": [],
   "source": [
    "mp = SparseEdges('https://raw.githubusercontent.com/bicv/SparseEdges/master/default_param.py')\n",
    "import scipy.optimize as opt\n",
    "\n",
    "def twoD_Gaussian(xy, x_pos, y_pos, theta, sf_0):\n",
    "    FT_lg = mp.loggabor(x_pos, y_pos, sf_0=np.absolute(sf_0), B_sf=mp.pe.B_sf, theta=theta, B_theta=mp.pe.B_theta)\n",
    "    return mp.invert(FT_lg).ravel()\n",
    "\n",
    "# Create x and y indices\n",
    "x = np.arange(mp.pe.N_X)\n",
    "y = np.arange(mp.pe.N_Y)\n",
    "x, y = xy =  np.meshgrid(x, y)\n",
    "\n",
    "#create data\n",
    "x_pos, y_pos, theta, sf_0  = 23., 42., 142 * np.pi / 180., .01\n",
    "x_pos, y_pos, theta, sf_0  = 23.6, 42.5, 12 * np.pi / 180., .01\n",
    "print( sf_0)\n",
    "data = twoD_Gaussian(xy, x_pos, y_pos, theta=theta, sf_0=sf_0)\n",
    "\n",
    "\n",
    "# plot twoD_Gaussian data generated above\n",
    "plt.figure()\n",
    "plt.imshow(data.reshape(mp.pe.N_X, mp.pe.N_Y))\n",
    "plt.colorbar()\n",
    "\n",
    "# add some noise to the data and try to fit the data generated beforehand\n",
    "data_noisy = data + 0.001*np.random.normal(size=data.shape)\n",
    "# getting best match\n",
    "C = mp.linear_pyramid(data_noisy.reshape(mp.pe.N_X, mp.pe.N_Y))\n",
    "idx = mp.argmax(C)\n",
    "initial_guess = [idx[0], idx[1], mp.theta[idx[2]], mp.sf_0[idx[3]]]\n",
    "print ('initial_guess :', initial_guess, ', idx :', idx)\n",
    "\n",
    "popt, pcov = opt.curve_fit(twoD_Gaussian, xy, data_noisy, p0=initial_guess)\n",
    "\n",
    "data_fitted = twoD_Gaussian(xy, *popt)\n",
    "\n",
    "extent = (0, mp.pe.N_X, 0, mp.pe.N_Y)\n",
    "print ('popt :', popt, ', true : ', x_pos, y_pos, theta, sf_0)\n",
    "fig, ax = plt.subplots(1, 1)\n",
    "ax.hold(True)\n",
    "ax.imshow(data_noisy.reshape(mp.pe.N_X, mp.pe.N_Y), cmap=plt.cm.jet, extent=extent)\n",
    "_ = ax.contour(data_fitted.reshape(mp.pe.N_X, mp.pe.N_Y), 8, colors='w', extent=extent)\n",
    "\n",
    "# TODO use a MLE to do the fit directly without scipy"
   ]
  },
  {
   "cell_type": "markdown",
   "metadata": {},
   "source": [
    "## bonus: generating an unique seed for a given filename"
   ]
  },
  {
   "cell_type": "code",
   "execution_count": null,
   "metadata": {},
   "outputs": [],
   "source": [
    "# imagelist, edgeslist, RMSE = mp.process(exp='testing_vanilla', name_database='serre07_distractors')\n",
    "# take one instance:\n",
    "# filename, croparea  =  imagelist[0]\n",
    "filename = 'https://raw.githubusercontent.com/bicv/SLIP/master/database/serre07_targets/B_N107001.jpg'\n",
    "#print (filename,croparea, filename+str(croparea))\n",
    "import os\n",
    "import hashlib\n",
    "str_ = filename #+ str(croparea)\n",
    "hashlib.sha224(str_.encode('utf-8')).hexdigest()"
   ]
  },
  {
   "cell_type": "code",
   "execution_count": null,
   "metadata": {},
   "outputs": [],
   "source": [
    "int(\"0x\" +  hashlib.sha224((str_).encode('utf-8')).hexdigest(), 0)"
   ]
  },
  {
   "cell_type": "code",
   "execution_count": null,
   "metadata": {},
   "outputs": [],
   "source": [
    "np.random.seed(seed=int(int(\"0x\" +  hashlib.sha224(str_.encode('utf-8')).hexdigest(), 0)*1. % 4294967295))"
   ]
  },
  {
   "cell_type": "markdown",
   "metadata": {},
   "source": [
    "## some book keeping for the notebook"
   ]
  },
  {
   "cell_type": "code",
   "execution_count": null,
   "metadata": {},
   "outputs": [],
   "source": [
    "%load_ext watermark\n",
    "%watermark"
   ]
  },
  {
   "cell_type": "code",
   "execution_count": null,
   "metadata": {
    "scrolled": true
   },
   "outputs": [],
   "source": [
    "%load_ext version_information\n",
    "%version_information numpy, scipy, matplotlib, sympy, pillow, imageio"
   ]
  },
  {
   "cell_type": "code",
   "execution_count": null,
   "metadata": {},
   "outputs": [],
   "source": [
    "%cd -q ../notebooks"
   ]
  }
 ],
 "metadata": {
  "kernelspec": {
   "display_name": "Python 3",
   "language": "python",
   "name": "python3"
  },
  "language_info": {
   "codemirror_mode": {
    "name": "ipython",
    "version": 3
   },
   "file_extension": ".py",
   "mimetype": "text/x-python",
   "name": "python",
   "nbconvert_exporter": "python",
   "pygments_lexer": "ipython3",
   "version": "3.6.3"
  }
 },
 "nbformat": 4,
 "nbformat_minor": 1
}
