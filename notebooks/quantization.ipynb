{
 "cells": [
  {
   "cell_type": "markdown",
   "metadata": {},
   "source": [
    "It seems that coefficients decrease in a sterotyped fashion - understanding how is important to apply that to image compression but also to understand generative models for images."
   ]
  },
  {
   "cell_type": "code",
   "execution_count": 1,
   "metadata": {
    "collapsed": false
   },
   "outputs": [
    {
     "name": "stdout",
     "output_type": "stream",
     "text": [
      "[Errno 2] No such file or directory: 'test'\n",
      "/Users/laurentperrinet/pool/science/BICV/SparseEdges/notebooks\n"
     ]
    }
   ],
   "source": [
    "from __future__ import division, print_function\n",
    "import matplotlib\n",
    "#matplotlib.rcParams.update({'font.size': 18, 'font.family': 'STIXGeneral', 'mathtext.fontset': 'stix'})\n",
    "matplotlib.rcParams.update({'font.size': 18, 'text.usetex': True})\n",
    "%matplotlib inline\n",
    "%config InlineBackend.figure_format='svg'\n",
    "import matplotlib.pyplot as plt\n",
    "\n",
    "import numpy as np\n",
    "np.set_printoptions(precision=2, suppress=True)\n",
    "%cd test"
   ]
  },
  {
   "cell_type": "markdown",
   "metadata": {},
   "source": [
    "# fits decreases in RMSE"
   ]
  },
  {
   "cell_type": "code",
   "execution_count": 2,
   "metadata": {
    "collapsed": false
   },
   "outputs": [
    {
     "name": "stderr",
     "output_type": "stream",
     "text": [
      "INFO:SparseEdges: > computing edges for experiment efficiency_B_sf_0_252382937792 with database serre07_distractors \n",
      "INFO:SparseEdges:There is no imagelist, creating one: [Errno 2] No such file or directory: 'mat/efficiency_B_sf_0_252382937792_serre07_distractors_images.pickle' \n",
      "INFO:SparseEdges: > setting up image list for serre07_distractors \n",
      "INFO:SparseEdges: >> There is no edgeslist: [Errno 2] No such file or directory: 'mat/edges/efficiency_B_sf_0_252382937792_serre07_distractors_edges.npy' \n",
      "INFO:SparseEdges:Doing edge extraction of mat/edges/efficiency_B_sf_0_252382937792_serre07_distractors/Bda_urb286.jpg[0, 256, 0, 256].npy \n",
      "INFO:SparseEdges:Finished edge extraction of mat/edges/efficiency_B_sf_0_252382937792_serre07_distractors/Bda_urb286.jpg[0, 256, 0, 256].npy \n",
      "INFO:SparseEdges:Doing edge extraction of mat/edges/efficiency_B_sf_0_252382937792_serre07_distractors/Hda_obj81.jpg[0, 256, 0, 256].npy \n",
      "INFO:SparseEdges:Finished edge extraction of mat/edges/efficiency_B_sf_0_252382937792_serre07_distractors/Hda_obj81.jpg[0, 256, 0, 256].npy \n",
      "INFO:SparseEdges:Doing edge extraction of mat/edges/efficiency_B_sf_0_252382937792_serre07_distractors/Bdn_text19.jpg[0, 256, 0, 256].npy \n",
      "INFO:SparseEdges:Finished edge extraction of mat/edges/efficiency_B_sf_0_252382937792_serre07_distractors/Bdn_text19.jpg[0, 256, 0, 256].npy \n",
      "INFO:SparseEdges:Doing edge extraction of mat/edges/efficiency_B_sf_0_252382937792_serre07_distractors/Mdn_text119.jpg[0, 256, 0, 256].npy \n",
      "INFO:SparseEdges:Finished edge extraction of mat/edges/efficiency_B_sf_0_252382937792_serre07_distractors/Mdn_text119.jpg[0, 256, 0, 256].npy \n",
      "INFO:SparseEdges:Doing edge extraction of mat/edges/efficiency_B_sf_0_252382937792_serre07_distractors/Mda_art750.jpg[0, 256, 0, 256].npy \n",
      "INFO:SparseEdges:Finished edge extraction of mat/edges/efficiency_B_sf_0_252382937792_serre07_distractors/Mda_art750.jpg[0, 256, 0, 256].npy \n",
      "INFO:SparseEdges:Doing edge extraction of mat/edges/efficiency_B_sf_0_252382937792_serre07_distractors/Hda_obj98.jpg[0, 256, 0, 256].npy \n",
      "INFO:SparseEdges:Finished edge extraction of mat/edges/efficiency_B_sf_0_252382937792_serre07_distractors/Hda_obj98.jpg[0, 256, 0, 256].npy \n",
      "INFO:SparseEdges:Doing edge extraction of mat/edges/efficiency_B_sf_0_252382937792_serre07_distractors/Mdn_nat1247.jpg[0, 256, 0, 256].npy \n",
      "INFO:SparseEdges:Finished edge extraction of mat/edges/efficiency_B_sf_0_252382937792_serre07_distractors/Mdn_nat1247.jpg[0, 256, 0, 256].npy \n",
      "INFO:SparseEdges:Doing edge extraction of mat/edges/efficiency_B_sf_0_252382937792_serre07_distractors/Fda_art1317.jpg[0, 256, 0, 256].npy \n",
      "INFO:SparseEdges:Finished edge extraction of mat/edges/efficiency_B_sf_0_252382937792_serre07_distractors/Fda_art1317.jpg[0, 256, 0, 256].npy \n",
      "INFO:SparseEdges:Doing edge extraction of mat/edges/efficiency_B_sf_0_252382937792_serre07_distractors/Mdn_natu425.jpg[0, 256, 0, 256].npy \n",
      "INFO:SparseEdges:Finished edge extraction of mat/edges/efficiency_B_sf_0_252382937792_serre07_distractors/Mdn_natu425.jpg[0, 256, 0, 256].npy \n",
      "INFO:SparseEdges:Doing edge extraction of mat/edges/efficiency_B_sf_0_252382937792_serre07_distractors/Hdn_objn42.jpg[0, 256, 0, 256].npy \n",
      "INFO:SparseEdges:Finished edge extraction of mat/edges/efficiency_B_sf_0_252382937792_serre07_distractors/Hdn_objn42.jpg[0, 256, 0, 256].npy \n",
      "INFO:SparseEdges:Doing edge extraction of mat/edges/efficiency_B_sf_0_252382937792_serre07_distractors/Mdn_text113.jpg[0, 256, 0, 256].npy \n"
     ]
    },
    {
     "ename": "KeyboardInterrupt",
     "evalue": "",
     "output_type": "error",
     "traceback": [
      "\u001b[0;31m---------------------------------------------------------------------------\u001b[0m",
      "\u001b[0;31mFileNotFoundError\u001b[0m                         Traceback (most recent call last)",
      "\u001b[0;32m/Users/laurentperrinet/pool/science/BICV/SparseEdges/src/SparseEdges.py\u001b[0m in \u001b[0;36mprocess\u001b[0;34m(self, exp, name_database, note, noise)\u001b[0m\n\u001b[1;32m    825\u001b[0m             \u001b[0;32mtry\u001b[0m\u001b[0;34m:\u001b[0m\u001b[0;34m\u001b[0m\u001b[0m\n\u001b[0;32m--> 826\u001b[0;31m                 \u001b[0medgeslist\u001b[0m \u001b[0;34m=\u001b[0m \u001b[0mnp\u001b[0m\u001b[0;34m.\u001b[0m\u001b[0mload\u001b[0m\u001b[0;34m(\u001b[0m\u001b[0mmatname\u001b[0m \u001b[0;34m+\u001b[0m \u001b[0;34m'_edges.npy'\u001b[0m\u001b[0;34m)\u001b[0m\u001b[0;34m\u001b[0m\u001b[0m\n\u001b[0m\u001b[1;32m    827\u001b[0m             \u001b[0;32mexcept\u001b[0m \u001b[0mException\u001b[0m \u001b[0;32mas\u001b[0m \u001b[0me\u001b[0m\u001b[0;34m:\u001b[0m\u001b[0;34m\u001b[0m\u001b[0m\n",
      "\u001b[0;32m/usr/local/lib/python3.5/site-packages/numpy/lib/npyio.py\u001b[0m in \u001b[0;36mload\u001b[0;34m(file, mmap_mode, allow_pickle, fix_imports, encoding)\u001b[0m\n\u001b[1;32m    361\u001b[0m     \u001b[0;32mif\u001b[0m \u001b[0misinstance\u001b[0m\u001b[0;34m(\u001b[0m\u001b[0mfile\u001b[0m\u001b[0;34m,\u001b[0m \u001b[0mbasestring\u001b[0m\u001b[0;34m)\u001b[0m\u001b[0;34m:\u001b[0m\u001b[0;34m\u001b[0m\u001b[0m\n\u001b[0;32m--> 362\u001b[0;31m         \u001b[0mfid\u001b[0m \u001b[0;34m=\u001b[0m \u001b[0mopen\u001b[0m\u001b[0;34m(\u001b[0m\u001b[0mfile\u001b[0m\u001b[0;34m,\u001b[0m \u001b[0;34m\"rb\"\u001b[0m\u001b[0;34m)\u001b[0m\u001b[0;34m\u001b[0m\u001b[0m\n\u001b[0m\u001b[1;32m    363\u001b[0m         \u001b[0mown_fid\u001b[0m \u001b[0;34m=\u001b[0m \u001b[0;32mTrue\u001b[0m\u001b[0;34m\u001b[0m\u001b[0m\n",
      "\u001b[0;31mFileNotFoundError\u001b[0m: [Errno 2] No such file or directory: 'mat/edges/efficiency_B_sf_0_252382937792_serre07_distractors_edges.npy'",
      "\nDuring handling of the above exception, another exception occurred:\n",
      "\u001b[0;31mKeyboardInterrupt\u001b[0m                         Traceback (most recent call last)",
      "\u001b[0;32m<ipython-input-2-4bce776af92d>\u001b[0m in \u001b[0;36m<module>\u001b[0;34m()\u001b[0m\n\u001b[1;32m     27\u001b[0m     \u001b[0mmp\u001b[0m\u001b[0;34m.\u001b[0m\u001b[0mpe\u001b[0m\u001b[0;34m.\u001b[0m\u001b[0mB_sf\u001b[0m \u001b[0;34m=\u001b[0m \u001b[0mB_sf\u001b[0m\u001b[0;34m\u001b[0m\u001b[0m\n\u001b[1;32m     28\u001b[0m     \u001b[0mexp\u001b[0m \u001b[0;34m=\u001b[0m \u001b[0;34m'efficiency_B_sf_'\u001b[0m \u001b[0;34m+\u001b[0m \u001b[0mstr\u001b[0m\u001b[0;34m(\u001b[0m\u001b[0mB_sf\u001b[0m\u001b[0;34m)\u001b[0m\u001b[0;34m.\u001b[0m\u001b[0mreplace\u001b[0m\u001b[0;34m(\u001b[0m\u001b[0;34m'.'\u001b[0m\u001b[0;34m,\u001b[0m \u001b[0;34m'_'\u001b[0m\u001b[0;34m)\u001b[0m\u001b[0;34m\u001b[0m\u001b[0m\n\u001b[0;32m---> 29\u001b[0;31m     \u001b[0mmp\u001b[0m\u001b[0;34m.\u001b[0m\u001b[0mprocess\u001b[0m\u001b[0;34m(\u001b[0m\u001b[0mexp\u001b[0m\u001b[0;34m)\u001b[0m\u001b[0;34m\u001b[0m\u001b[0m\n\u001b[0m\u001b[1;32m     30\u001b[0m     \u001b[0mexperiments\u001b[0m\u001b[0;34m.\u001b[0m\u001b[0mappend\u001b[0m\u001b[0;34m(\u001b[0m\u001b[0mexp\u001b[0m\u001b[0;34m)\u001b[0m\u001b[0;34m\u001b[0m\u001b[0m\n\u001b[1;32m     31\u001b[0m     \u001b[0mmps\u001b[0m\u001b[0;34m.\u001b[0m\u001b[0mappend\u001b[0m\u001b[0;34m(\u001b[0m\u001b[0mmp\u001b[0m\u001b[0;34m)\u001b[0m\u001b[0;34m\u001b[0m\u001b[0m\n",
      "\u001b[0;32m/Users/laurentperrinet/pool/science/BICV/SparseEdges/src/SparseEdges.py\u001b[0m in \u001b[0;36mprocess\u001b[0;34m(self, exp, name_database, note, noise)\u001b[0m\n\u001b[1;32m    829\u001b[0m \u001b[0;31m#                 self.log.info('>> Doing the edge extraction')\u001b[0m\u001b[0;34m\u001b[0m\u001b[0;34m\u001b[0m\u001b[0m\n\u001b[1;32m    830\u001b[0m                 \u001b[0mtime\u001b[0m\u001b[0;34m.\u001b[0m\u001b[0msleep\u001b[0m\u001b[0;34m(\u001b[0m\u001b[0;36m1.\u001b[0m\u001b[0;34m*\u001b[0m\u001b[0mnp\u001b[0m\u001b[0;34m.\u001b[0m\u001b[0mrandom\u001b[0m\u001b[0;34m.\u001b[0m\u001b[0mrand\u001b[0m\u001b[0;34m(\u001b[0m\u001b[0;34m)\u001b[0m\u001b[0;34m)\u001b[0m\u001b[0;34m\u001b[0m\u001b[0m\n\u001b[0;32m--> 831\u001b[0;31m                 \u001b[0medgeslist\u001b[0m \u001b[0;34m=\u001b[0m \u001b[0mself\u001b[0m\u001b[0;34m.\u001b[0m\u001b[0mfull_run\u001b[0m\u001b[0;34m(\u001b[0m\u001b[0mexp\u001b[0m\u001b[0;34m,\u001b[0m \u001b[0mname_database\u001b[0m\u001b[0;34m,\u001b[0m \u001b[0mimagelist\u001b[0m\u001b[0;34m,\u001b[0m \u001b[0mnoise\u001b[0m\u001b[0;34m=\u001b[0m\u001b[0mnoise\u001b[0m\u001b[0;34m)\u001b[0m\u001b[0;34m\u001b[0m\u001b[0m\n\u001b[0m\u001b[1;32m    832\u001b[0m                 \u001b[0;32mif\u001b[0m \u001b[0medgeslist\u001b[0m \u001b[0;34m==\u001b[0m \u001b[0;34m'locked'\u001b[0m\u001b[0;34m:\u001b[0m\u001b[0;34m\u001b[0m\u001b[0m\n\u001b[1;32m    833\u001b[0m                     \u001b[0mself\u001b[0m\u001b[0;34m.\u001b[0m\u001b[0mlog\u001b[0m\u001b[0;34m.\u001b[0m\u001b[0minfo\u001b[0m\u001b[0;34m(\u001b[0m\u001b[0;34m'>> Edge extraction %s is locked'\u001b[0m\u001b[0;34m,\u001b[0m \u001b[0mmatname\u001b[0m\u001b[0;34m)\u001b[0m\u001b[0;34m\u001b[0m\u001b[0m\n",
      "\u001b[0;32m/Users/laurentperrinet/pool/science/BICV/SparseEdges/src/SparseEdges.py\u001b[0m in \u001b[0;36mfull_run\u001b[0;34m(self, exp, name_database, imagelist, noise)\u001b[0m\n\u001b[1;32m    281\u001b[0m                         \u001b[0mimage\u001b[0m\u001b[0;34m,\u001b[0m \u001b[0mfilename_\u001b[0m\u001b[0;34m,\u001b[0m \u001b[0mcroparea_\u001b[0m \u001b[0;34m=\u001b[0m \u001b[0mself\u001b[0m\u001b[0;34m.\u001b[0m\u001b[0mpatch\u001b[0m\u001b[0;34m(\u001b[0m\u001b[0mname_database\u001b[0m\u001b[0;34m,\u001b[0m \u001b[0mfilename\u001b[0m\u001b[0;34m=\u001b[0m\u001b[0mfilename\u001b[0m\u001b[0;34m,\u001b[0m \u001b[0mcroparea\u001b[0m\u001b[0;34m=\u001b[0m\u001b[0mcroparea\u001b[0m\u001b[0;34m)\u001b[0m\u001b[0;34m\u001b[0m\u001b[0m\n\u001b[1;32m    282\u001b[0m                         \u001b[0;32mif\u001b[0m \u001b[0mnoise\u001b[0m \u001b[0;34m>\u001b[0m \u001b[0;36m0.\u001b[0m\u001b[0;34m:\u001b[0m \u001b[0mimage\u001b[0m \u001b[0;34m+=\u001b[0m \u001b[0mnoise\u001b[0m\u001b[0;34m*\u001b[0m\u001b[0mimage\u001b[0m\u001b[0;34m[\u001b[0m\u001b[0;34m:\u001b[0m\u001b[0;34m]\u001b[0m\u001b[0;34m.\u001b[0m\u001b[0mstd\u001b[0m\u001b[0;34m(\u001b[0m\u001b[0;34m)\u001b[0m\u001b[0;34m*\u001b[0m\u001b[0mself\u001b[0m\u001b[0;34m.\u001b[0m\u001b[0mtexture\u001b[0m\u001b[0;34m(\u001b[0m\u001b[0mfilename\u001b[0m\u001b[0;34m=\u001b[0m\u001b[0mfilename\u001b[0m\u001b[0;34m,\u001b[0m \u001b[0mcroparea\u001b[0m\u001b[0;34m=\u001b[0m\u001b[0mcroparea\u001b[0m\u001b[0;34m)\u001b[0m\u001b[0;34m\u001b[0m\u001b[0m\n\u001b[0;32m--> 283\u001b[0;31m                         \u001b[0medges\u001b[0m\u001b[0;34m,\u001b[0m \u001b[0mC\u001b[0m \u001b[0;34m=\u001b[0m \u001b[0mself\u001b[0m\u001b[0;34m.\u001b[0m\u001b[0mrun_mp\u001b[0m\u001b[0;34m(\u001b[0m\u001b[0mimage\u001b[0m\u001b[0;34m)\u001b[0m\u001b[0;34m\u001b[0m\u001b[0m\n\u001b[0m\u001b[1;32m    284\u001b[0m                         \u001b[0mnp\u001b[0m\u001b[0;34m.\u001b[0m\u001b[0msave\u001b[0m\u001b[0;34m(\u001b[0m\u001b[0mmatname\u001b[0m\u001b[0;34m,\u001b[0m \u001b[0medges\u001b[0m\u001b[0;34m)\u001b[0m\u001b[0;34m\u001b[0m\u001b[0m\n\u001b[1;32m    285\u001b[0m                         \u001b[0mself\u001b[0m\u001b[0;34m.\u001b[0m\u001b[0mlog\u001b[0m\u001b[0;34m.\u001b[0m\u001b[0minfo\u001b[0m\u001b[0;34m(\u001b[0m\u001b[0;34m'Finished edge extraction of %s '\u001b[0m\u001b[0;34m,\u001b[0m \u001b[0mmatname\u001b[0m\u001b[0;34m)\u001b[0m\u001b[0;34m\u001b[0m\u001b[0m\n",
      "\u001b[0;32m/Users/laurentperrinet/pool/science/BICV/SparseEdges/src/SparseEdges.py\u001b[0m in \u001b[0;36mrun_mp\u001b[0;34m(self, image, verbose)\u001b[0m\n\u001b[1;32m     76\u001b[0m                                          coeff, np.angle(C[ind_edge_star])])\n\u001b[1;32m     77\u001b[0m             \u001b[0;31m# PURSUIT\u001b[0m\u001b[0;34m\u001b[0m\u001b[0;34m\u001b[0m\u001b[0m\n\u001b[0;32m---> 78\u001b[0;31m             \u001b[0mC\u001b[0m \u001b[0;34m=\u001b[0m \u001b[0mself\u001b[0m\u001b[0;34m.\u001b[0m\u001b[0mbackprop\u001b[0m\u001b[0;34m(\u001b[0m\u001b[0mC\u001b[0m\u001b[0;34m,\u001b[0m \u001b[0mind_edge_star\u001b[0m\u001b[0;34m)\u001b[0m\u001b[0;34m\u001b[0m\u001b[0m\n\u001b[0m\u001b[1;32m     79\u001b[0m         \u001b[0;32mreturn\u001b[0m \u001b[0medges\u001b[0m\u001b[0;34m,\u001b[0m \u001b[0mC\u001b[0m\u001b[0;34m\u001b[0m\u001b[0m\n\u001b[1;32m     80\u001b[0m \u001b[0;34m\u001b[0m\u001b[0m\n",
      "\u001b[0;32m/Users/laurentperrinet/pool/science/BICV/SparseEdges/src/SparseEdges.py\u001b[0m in \u001b[0;36mbackprop\u001b[0;34m(self, C, ind_edge_star)\u001b[0m\n\u001b[1;32m    115\u001b[0m         \u001b[0;32mfor\u001b[0m \u001b[0mi_sf_0\u001b[0m\u001b[0;34m,\u001b[0m \u001b[0msf_0\u001b[0m \u001b[0;32min\u001b[0m \u001b[0menumerate\u001b[0m\u001b[0;34m(\u001b[0m\u001b[0mself\u001b[0m\u001b[0;34m.\u001b[0m\u001b[0msf_0\u001b[0m\u001b[0;34m)\u001b[0m\u001b[0;34m:\u001b[0m\u001b[0;34m\u001b[0m\u001b[0m\n\u001b[1;32m    116\u001b[0m             \u001b[0;32mfor\u001b[0m \u001b[0mi_theta\u001b[0m\u001b[0;34m,\u001b[0m \u001b[0mtheta\u001b[0m \u001b[0;32min\u001b[0m \u001b[0menumerate\u001b[0m\u001b[0;34m(\u001b[0m\u001b[0mself\u001b[0m\u001b[0;34m.\u001b[0m\u001b[0mtheta\u001b[0m\u001b[0;34m)\u001b[0m\u001b[0;34m:\u001b[0m\u001b[0;34m\u001b[0m\u001b[0m\n\u001b[0;32m--> 117\u001b[0;31m                 \u001b[0mFT_lg\u001b[0m \u001b[0;34m=\u001b[0m \u001b[0mself\u001b[0m\u001b[0;34m.\u001b[0m\u001b[0mloggabor\u001b[0m\u001b[0;34m(\u001b[0m\u001b[0;36m0\u001b[0m\u001b[0;34m,\u001b[0m \u001b[0;36m0\u001b[0m\u001b[0;34m,\u001b[0m \u001b[0msf_0\u001b[0m\u001b[0;34m=\u001b[0m\u001b[0msf_0\u001b[0m\u001b[0;34m,\u001b[0m \u001b[0mB_sf\u001b[0m\u001b[0;34m=\u001b[0m\u001b[0mself\u001b[0m\u001b[0;34m.\u001b[0m\u001b[0mpe\u001b[0m\u001b[0;34m.\u001b[0m\u001b[0mB_sf\u001b[0m\u001b[0;34m,\u001b[0m \u001b[0mtheta\u001b[0m\u001b[0;34m=\u001b[0m\u001b[0mtheta\u001b[0m\u001b[0;34m,\u001b[0m \u001b[0mB_theta\u001b[0m\u001b[0;34m=\u001b[0m\u001b[0mself\u001b[0m\u001b[0;34m.\u001b[0m\u001b[0mpe\u001b[0m\u001b[0;34m.\u001b[0m\u001b[0mB_theta\u001b[0m\u001b[0;34m)\u001b[0m\u001b[0;34m\u001b[0m\u001b[0m\n\u001b[0m\u001b[1;32m    118\u001b[0m                 \u001b[0mC\u001b[0m\u001b[0;34m[\u001b[0m\u001b[0;34m:\u001b[0m\u001b[0;34m,\u001b[0m \u001b[0;34m:\u001b[0m\u001b[0;34m,\u001b[0m \u001b[0mi_theta\u001b[0m\u001b[0;34m,\u001b[0m \u001b[0mi_sf_0\u001b[0m\u001b[0;34m]\u001b[0m \u001b[0;34m-=\u001b[0m \u001b[0mself\u001b[0m\u001b[0;34m.\u001b[0m\u001b[0mFTfilter\u001b[0m\u001b[0;34m(\u001b[0m\u001b[0mlg_star\u001b[0m\u001b[0;34m,\u001b[0m \u001b[0mFT_lg\u001b[0m\u001b[0;34m,\u001b[0m \u001b[0mfull\u001b[0m\u001b[0;34m=\u001b[0m\u001b[0;32mTrue\u001b[0m\u001b[0;34m)\u001b[0m\u001b[0;34m\u001b[0m\u001b[0m\n\u001b[1;32m    119\u001b[0m         \u001b[0;32mreturn\u001b[0m \u001b[0mC\u001b[0m\u001b[0;34m\u001b[0m\u001b[0m\n",
      "\u001b[0;32m/Users/laurentperrinet/pool/science/BICV/LogGabor/src/LogGabor.py\u001b[0m in \u001b[0;36mloggabor\u001b[0;34m(self, u, v, sf_0, B_sf, theta, B_theta, preprocess)\u001b[0m\n\u001b[1;32m     53\u001b[0m         \u001b[0menv\u001b[0m \u001b[0;34m=\u001b[0m \u001b[0mself\u001b[0m\u001b[0;34m.\u001b[0m\u001b[0mband\u001b[0m\u001b[0;34m(\u001b[0m\u001b[0msf_0\u001b[0m\u001b[0;34m,\u001b[0m \u001b[0mB_sf\u001b[0m\u001b[0;34m)\u001b[0m \u001b[0;34m*\u001b[0m\u001b[0;31m \u001b[0m\u001b[0;31m\\\u001b[0m\u001b[0;34m\u001b[0m\u001b[0m\n\u001b[1;32m     54\u001b[0m               \u001b[0mself\u001b[0m\u001b[0;34m.\u001b[0m\u001b[0morientation\u001b[0m\u001b[0;34m(\u001b[0m\u001b[0mtheta\u001b[0m\u001b[0;34m,\u001b[0m \u001b[0mB_theta\u001b[0m\u001b[0;34m)\u001b[0m \u001b[0;34m*\u001b[0m\u001b[0;31m \u001b[0m\u001b[0;31m\\\u001b[0m\u001b[0;34m\u001b[0m\u001b[0m\n\u001b[0;32m---> 55\u001b[0;31m               \u001b[0mself\u001b[0m\u001b[0;34m.\u001b[0m\u001b[0mtrans\u001b[0m\u001b[0;34m(\u001b[0m\u001b[0mu\u001b[0m\u001b[0;34m*\u001b[0m\u001b[0;36m1.\u001b[0m\u001b[0;34m,\u001b[0m \u001b[0mv\u001b[0m\u001b[0;34m*\u001b[0m\u001b[0;36m1.\u001b[0m\u001b[0;34m)\u001b[0m\u001b[0;34m\u001b[0m\u001b[0m\n\u001b[0m\u001b[1;32m     56\u001b[0m         \u001b[0;32mif\u001b[0m \u001b[0mpreprocess\u001b[0m \u001b[0;34m:\u001b[0m \u001b[0menv\u001b[0m \u001b[0;34m*=\u001b[0m \u001b[0mself\u001b[0m\u001b[0;34m.\u001b[0m\u001b[0mf_mask\u001b[0m\u001b[0;34m\u001b[0m\u001b[0m\n\u001b[1;32m     57\u001b[0m         \u001b[0;31m# normalizing energy:\u001b[0m\u001b[0;34m\u001b[0m\u001b[0;34m\u001b[0m\u001b[0m\n",
      "\u001b[0;32m/Users/laurentperrinet/pool/science/BICV/SLIP/src/SLIP.py\u001b[0m in \u001b[0;36mtrans\u001b[0;34m(self, u, v)\u001b[0m\n\u001b[1;32m    469\u001b[0m \u001b[0;34m\u001b[0m\u001b[0m\n\u001b[1;32m    470\u001b[0m     \u001b[0;32mdef\u001b[0m \u001b[0mtrans\u001b[0m\u001b[0;34m(\u001b[0m\u001b[0mself\u001b[0m\u001b[0;34m,\u001b[0m \u001b[0mu\u001b[0m\u001b[0;34m,\u001b[0m \u001b[0mv\u001b[0m\u001b[0;34m)\u001b[0m\u001b[0;34m:\u001b[0m\u001b[0;34m\u001b[0m\u001b[0m\n\u001b[0;32m--> 471\u001b[0;31m         \u001b[0;32mreturn\u001b[0m \u001b[0mnp\u001b[0m\u001b[0;34m.\u001b[0m\u001b[0mexp\u001b[0m\u001b[0;34m(\u001b[0m\u001b[0;34m-\u001b[0m\u001b[0;36m1j\u001b[0m\u001b[0;34m*\u001b[0m\u001b[0;36m2\u001b[0m\u001b[0;34m*\u001b[0m\u001b[0mnp\u001b[0m\u001b[0;34m.\u001b[0m\u001b[0mpi\u001b[0m\u001b[0;34m*\u001b[0m\u001b[0;34m(\u001b[0m\u001b[0mu\u001b[0m\u001b[0;34m*\u001b[0m\u001b[0mself\u001b[0m\u001b[0;34m.\u001b[0m\u001b[0mf_x\u001b[0m \u001b[0;34m+\u001b[0m \u001b[0mv\u001b[0m\u001b[0;34m*\u001b[0m\u001b[0mself\u001b[0m\u001b[0;34m.\u001b[0m\u001b[0mf_y\u001b[0m\u001b[0;34m)\u001b[0m\u001b[0;34m)\u001b[0m\u001b[0;34m\u001b[0m\u001b[0m\n\u001b[0m\u001b[1;32m    472\u001b[0m \u001b[0;31m#         return np.exp(-1j*2*np.pi*(u/self.N_X*self.f_x + v/self.N_Y*self.f_y))\u001b[0m\u001b[0;34m\u001b[0m\u001b[0;34m\u001b[0m\u001b[0m\n\u001b[1;32m    473\u001b[0m \u001b[0;34m\u001b[0m\u001b[0m\n",
      "\u001b[0;31mKeyboardInterrupt\u001b[0m: "
     ]
    }
   ],
   "source": [
    "import numpy as np\n",
    "from SparseEdges import SparseEdges\n",
    "import sys\n",
    "mp = SparseEdges('https://raw.githubusercontent.com/meduz/SparseEdges/master/default_param.py')\n",
    "mp.pe.datapath = '../../SLIP/database/'\n",
    "\n",
    "threshold = None # classical plots\n",
    "threshold = .5 # plot sparseness obtained when reaching this threshold\n",
    "\n",
    "mp = SparseEdges('https://raw.githubusercontent.com/meduz/SparseEdges/master/default_param.py')\n",
    "def init_mp():\n",
    "    mp = SparseEdges('https://raw.githubusercontent.com/meduz/SparseEdges/master/default_param.py')\n",
    "    mp.pe.seed = 42\n",
    "    mp.pe.N_image = 60\n",
    "    mp.pe.datapath = '../../SLIP/database/'\n",
    "    return mp\n",
    "\n",
    "import matplotlib.pyplot as plt\n",
    "fig_width_pt = 318.67085 # Get this from LaTeX using \\showthe\\columnwidth\n",
    "inches_per_pt = 1.0/72.27               # Convert pt to inches\n",
    "fig_width = fig_width_pt*inches_per_pt  # width in inches\n",
    "\n",
    "mps, experiments = [], []\n",
    "v_B_sf = np.logspace(-.2, .2, 5, base=10, endpoint=True)*mp.pe.B_sf\n",
    "for B_sf in v_B_sf:\n",
    "    mp = init_mp()\n",
    "    mp.pe.B_sf = B_sf\n",
    "    exp = 'efficiency_B_sf_' + str(B_sf).replace('.', '_')\n",
    "    mp.process(exp)\n",
    "    experiments.append(exp)\n",
    "    mps.append(mp)\n",
    "\n",
    "databases = ['serre07_distractors'] * len(experiments)\n",
    "labels = ['%0.2f' % B_sf for B_sf in v_B_sf]\n",
    "try:\n",
    "    fig, A, inset = mp.plot(mps=mps,\n",
    "                      experiments=experiments, databases=databases, labels=labels, ref=2,\n",
    "                      fig=fig, ax=A, color=[0., 1., 0.], threshold=threshold, scale=False)    \n",
    "    A.set_xlabel(r'frequency bandwith $B_{sf}$')\n",
    "    #A.set_yticks([0., 0.02, 0.04, 0.06])\n",
    "except Exception as e:\n",
    "    print('Failed to plot  with error : %s ' % e )\n",
    "\n"
   ]
  },
  {
   "cell_type": "code",
   "execution_count": null,
   "metadata": {
    "collapsed": false
   },
   "outputs": [],
   "source": [
    "fig, [A, B] = plt.subplots(1, 2, figsize=(13, 5), subplot_kw={'axisbg':'w'})\n",
    "A.set_color_cycle(np.array([[1., 0., 0.]]))\n",
    "for mp, experiment, name_database, label in zip(mps, experiments, databases, labels):\n",
    "    try:\n",
    "        imagelist, edgeslist, RMSE = mp.process(exp=experiment, name_database=name_database)\n",
    "        RMSE /= RMSE[:, 0][:, np.newaxis]\n",
    "        #print RMSE.shape, edgeslist.shape\n",
    "        value = edgeslist[4, ...]\n",
    "        #value /= value[0, :][np.newaxis, :]\n",
    "        value /= RMSE[:, 0][np.newaxis, :]\n",
    "        \n",
    "        B.semilogx( value, alpha=.7)\n",
    "        \n",
    "        A.semilogx( RMSE.T, alpha=.7)\n",
    "        A.set_xlabel('l0')\n",
    "        A.axis('tight')\n",
    "        A.axis('tight')\n",
    "        _ = A.set_ylabel('RMSE')\n",
    "    except Exception, e:\n",
    "        print('Failed to plot experiment %s with error : %s ' % (experiment, e) )\n",
    "\n"
   ]
  },
  {
   "cell_type": "code",
   "execution_count": null,
   "metadata": {
    "collapsed": false
   },
   "outputs": [],
   "source": [
    "fig, A = plt.subplots(1, 1, figsize=(13, 13), subplot_kw={'axisbg':'w'})\n",
    "from lmfit.models import ExpressionModel\n",
    "#mod = PowerLawModel()\n",
    "mod = ExpressionModel('1 - (1- eps_inf) * ( 1 - rho**x)')\n",
    "\n",
    "threshold = .5\n",
    "\n",
    "for mp, experiment, name_database, label in zip(mps, experiments, databases, labels):\n",
    "    imagelist, edgeslist, RMSE = mp.process(exp=experiment, name_database=name_database)\n",
    "    RMSE /= RMSE[:, 0][:, np.newaxis]\n",
    "    N = RMSE.shape[1] #number of edges\n",
    "    for i_image in range(RMSE.shape[0]):\n",
    "        #pars = mod.guess(RMSE[i_image, :], x=np.arange(N))\n",
    "        mod.def_vals = {'eps_inf':.1, 'rho':.99}\n",
    "        out  = mod.fit(RMSE[i_image, :], x=np.arange(N))\n",
    "        #print(out.fit_report(min_correl=0.25))\n",
    "        eps_inf = out.params.get('eps_inf').value\n",
    "        rho =  out.params.get('rho').value\n",
    "        #print rho, eps_inf\n",
    "        N_theta = np.log((threshold-eps_inf)/(1-eps_inf))/np.log(rho)\n",
    "        #print N_theta\n",
    "        A.semilogx( RMSE[i_image, :], alpha=.7)\n",
    "        params = mod.make_params(eps_inf=eps_inf, rho=rho)\n",
    "        A.semilogx(mod.eval(params, x=np.arange(N)), 'r--', alpha=.7)\n",
    "        A.set_xlabel('l0')\n",
    "        A.axis('tight')\n",
    "        A.axis('tight')\n",
    "        _ = A.set_ylabel('RMSE')            \n",
    "\n"
   ]
  },
  {
   "cell_type": "code",
   "execution_count": null,
   "metadata": {
    "collapsed": false
   },
   "outputs": [],
   "source": [
    "fig, A = plt.subplots(1, 1, figsize=(13, 13), subplot_kw={'axisbg':'w'})\n",
    "from lmfit.models import ExpressionModel\n",
    "#mod = PowerLawModel()\n",
    "mod = ExpressionModel('rho**(1./(1.+(x/N50)**2)**.5)')\n",
    "\n",
    "threshold = .5\n",
    "\n",
    "for mp, experiment, name_database, label in zip(mps, experiments, databases, labels):\n",
    "    imagelist, edgeslist, RMSE = mp.process(exp=experiment, name_database=name_database)\n",
    "    RMSE /= RMSE[:, 0][:, np.newaxis]\n",
    "    N = RMSE.shape[1] #number of edges\n",
    "    for i_image in range(RMSE.shape[0]):\n",
    "        #pars = mod.guess(RMSE[i_image, :], x=np.arange(N))\n",
    "        mod.def_vals = {'N50':100., 'rho':.99}\n",
    "        out  = mod.fit(RMSE[i_image, :], x=np.arange(N))\n",
    "        #print(out.fit_report(min_correl=0.25))\n",
    "        rho =  out.params.get('rho').value\n",
    "        N50 =  out.params.get('N50').value\n",
    "        print 'rho=', rho\n",
    "        #N_theta = np.log(threshold)/np.log(rho)\n",
    "        #print N_theta\n",
    "        A.semilogx( RMSE[i_image, :], alpha=.7)\n",
    "        params = mod.make_params(N50=N50, rho=rho)\n",
    "        A.semilogx(mod.eval(params, x=np.arange(N)), 'r--', alpha=.7)\n",
    "        A.set_xlabel('l0')\n",
    "        A.axis('tight')\n",
    "        A.axis('tight')\n",
    "        _ = A.set_ylabel('RMSE')     \n",
    "        \n",
    "\n"
   ]
  },
  {
   "cell_type": "code",
   "execution_count": null,
   "metadata": {
    "collapsed": false
   },
   "outputs": [],
   "source": [
    "fig, A = plt.subplots(1, 1, figsize=(13, 13), subplot_kw={'axisbg':'w'})\n",
    "from lmfit.models import ExpressionModel\n",
    "#mod = PowerLawModel()\n",
    "mod = ExpressionModel('rho**x')\n",
    "\n",
    "threshold = .5\n",
    "\n",
    "for mp, experiment, name_database, label in zip(mps, experiments, databases, labels):\n",
    "    imagelist, edgeslist, RMSE = mp.process(exp=experiment, name_database=name_database)\n",
    "    RMSE /= RMSE[:, 0][:, np.newaxis]\n",
    "    N = RMSE.shape[1] #number of edges\n",
    "    for i_image in range(RMSE.shape[0]):\n",
    "        #pars = mod.guess(RMSE[i_image, :], x=np.arange(N))\n",
    "        mod.def_vals = {'rho':.99}\n",
    "        out  = mod.fit(RMSE[i_image, :], x=np.arange(N))\n",
    "        #print(out.fit_report(min_correl=0.25))\n",
    "        rho =  out.params.get('rho').value\n",
    "        print 'rho=', rho\n",
    "        #N_theta = np.log(threshold)/np.log(rho)\n",
    "        #print N_theta\n",
    "        A.semilogx( RMSE[i_image, :], alpha=.7)\n",
    "        params = mod.make_params(rho=rho)\n",
    "        A.semilogx(mod.eval(params, x=np.arange(N)), 'r--', alpha=.7)\n",
    "        A.set_xlabel('l0')\n",
    "        A.axis('tight')\n",
    "        A.axis('tight')\n",
    "        _ = A.set_ylabel('RMSE')            \n",
    "\n"
   ]
  },
  {
   "cell_type": "code",
   "execution_count": null,
   "metadata": {
    "collapsed": false
   },
   "outputs": [],
   "source": [
    "fig, A = plt.subplots(1, 1, figsize=(13, 13), subplot_kw={'axisbg':'w'})\n",
    "\n",
    "imagelist_ref, edgeslist_ref, RMSE_ref = mps[2].process(exp=experiments[2], name_database=name_database)\n",
    "RMSE_ref /= RMSE_ref[:, 0][:, np.newaxis]\n",
    "\n",
    "colors = [plt.cm.hsv(hsv) for hsv in np.linspace(0., 1., len(mps))]\n",
    "for mp, experiment, name_database, label, color in zip(mps, experiments, databases, labels, colors):\n",
    "    imagelist, edgeslist, RMSE = mp.process(exp=experiment, name_database=name_database)\n",
    "    RMSE /= RMSE[:, 0][:, np.newaxis]\n",
    "    N = RMSE.shape[1] #number of edges\n",
    "    for i_image in range(RMSE.shape[0]):\n",
    "        A.semilogx( RMSE[i_image, :]/RMSE_ref[i_image, :], alpha=.1, color=color)\n",
    "        A.set_xlabel('l0')\n",
    "        A.axis('tight')\n",
    "        A.axis('tight')\n",
    "        _ = A.set_ylabel('RMSE')            \n",
    "    print (RMSE/RMSE_ref).mean(), (RMSE/RMSE_ref).std(axis=0).mean(), (RMSE/RMSE_ref).std(axis=0).shape\n"
   ]
  },
  {
   "cell_type": "code",
   "execution_count": null,
   "metadata": {
    "collapsed": false
   },
   "outputs": [],
   "source": [
    "mod = ExpressionModel('rho**x')\n",
    "\n",
    "threshold = .5\n",
    "\n",
    "def fit_rho(mp, experiment, name_database):\n",
    "    imagelist, edgeslist, RMSE = mp.process(exp=experiment, name_database=name_database)\n",
    "    RMSE /= RMSE[:, 0][:, np.newaxis]\n",
    "    N = RMSE.shape[1] #number of edges\n",
    "    rho = np.zeros(RMSE.shape[0])\n",
    "    for i_image in range(RMSE.shape[0]):\n",
    "        mod.def_vals = {'rho':.99}\n",
    "        out  = mod.fit(RMSE[i_image, :], x=np.arange(N))\n",
    "        rho[i_image] =  out.params.get('rho').value\n",
    "    return rho\n",
    "\n",
    "rho = fit_rho(mps[2], experiment, name_database=name_database)\n",
    "L0_ref = np.log(threshold)/np.log(rho)\n",
    "print L0_ref\n",
    "for mp, experiment, name_database in zip(mps, experiments, databases):\n",
    "    rho = fit_rho(mp, experiment, name_database=name_database)\n",
    "    L0 = np.log(threshold)/np.log(rho)\n",
    "    print L0\n",
    "    print (L0/L0_ref).mean(), (L0/L0_ref).std(), L0.shape\n"
   ]
  },
  {
   "cell_type": "code",
   "execution_count": null,
   "metadata": {
    "collapsed": false
   },
   "outputs": [],
   "source": [
    "\n",
    "threshold = .5\n",
    "\n",
    "def fit_L0(mp, experiment, name_database, threshold=threshold):\n",
    "    imagelist, edgeslist, RMSE = mp.process(exp=experiment, name_database=name_database)\n",
    "    RMSE /= RMSE[:, 0][:, np.newaxis]\n",
    "    N = RMSE.shape[1] #number of edges\n",
    "    L0 =  np.argmax(RMSE<threshold, axis=1)*1.\n",
    "    return L0\n",
    "\n",
    "L0_ref = fit_L0(mps[2], experiment, name_database=name_database)\n",
    "print L0_ref\n",
    "for mp, experiment, name_database in zip(mps, experiments, databases):\n",
    "    L0 = fit_rho(mp, experiment, name_database, threshold)\n",
    "    print L0\n",
    "    print (L0/L0_ref).mean(), (L0/L0_ref).std(), L0.shape\n"
   ]
  },
  {
   "cell_type": "code",
   "execution_count": null,
   "metadata": {
    "collapsed": false
   },
   "outputs": [],
   "source": [
    "rect = plt.bar(np.arange(L0.shape[0]), L0)"
   ]
  },
  {
   "cell_type": "code",
   "execution_count": null,
   "metadata": {
    "collapsed": false
   },
   "outputs": [],
   "source": [
    "r = rect[0]"
   ]
  },
  {
   "cell_type": "code",
   "execution_count": null,
   "metadata": {
    "collapsed": false
   },
   "outputs": [],
   "source": [
    "r.set_color('w')\n",
    "r.set_edgecolor('b')"
   ]
  },
  {
   "cell_type": "code",
   "execution_count": null,
   "metadata": {
    "collapsed": false
   },
   "outputs": [],
   "source": [
    "try:\n",
    "    fig, A, ax = plot(mps=mps,\n",
    "                      experiments=experiments, databases=databases, labels=labels, \n",
    "                      fig=fig, ax=A, color=[0., 1., 0.], threshold=threshold, scale=True)    \n",
    "    A.set_xlabel(r'frequency bandwith $B_{sf}$')\n",
    "    A.set_yticks([0., 0.02, 0.04, 0.06])\n",
    "except Exception, e:\n",
    "    print('Failed to plot  with error : %s ' % e )\n",
    "    "
   ]
  },
  {
   "cell_type": "code",
   "execution_count": null,
   "metadata": {
    "collapsed": false
   },
   "outputs": [],
   "source": [
    "plt.cm.hsv(0.1)\n"
   ]
  },
  {
   "cell_type": "markdown",
   "metadata": {},
   "source": [
    "## quantization"
   ]
  },
  {
   "cell_type": "code",
   "execution_count": null,
   "metadata": {
    "collapsed": false
   },
   "outputs": [],
   "source": [
    "import matplotlib\n",
    "#matplotlib.rcParams.update({'font.size': 18, 'font.family': 'STIXGeneral', 'mathtext.fontset': 'stix'})\n",
    "matplotlib.rcParams.update({'font.size': 18, 'text.usetex': True})\n",
    "%matplotlib inline\n",
    "%config InlineBackend.figure_format='retina'\n",
    "import matplotlib.pyplot as plt\n",
    "\n",
    "import numpy as np\n",
    "np.set_printoptions(precision=2, suppress=True)\n",
    "\n",
    "#import __init__\n",
    "import numpy as np\n",
    "from NeuroTools.parameters import ParameterSet\n",
    "from SLIP import Image\n",
    "from LogGabor import LogGabor\n",
    "from SparseEdges import SparseEdges, plot\n",
    "import sys\n",
    "pe = ParameterSet('default_param.py')\n",
    "pe.seed = 42 # this ensures that all image lists are the same for the different experiments\n",
    "pe.N_image = 9\n",
    "pe.N = 512\n",
    "im = Image(pe)\n",
    "lg = LogGabor(im)\n",
    "mp = SparseEdges(lg)\n",
    "name_database = 'serre07_distractors'\n",
    "imageslist, edgeslist, RMSE = mp.process(exp='prior_vanilla', name_database=name_database)\n",
    "imageslist, edgeslist, RMSE_prior =  mp.process(exp='prior_firstorder', name_database=name_database)"
   ]
  },
  {
   "cell_type": "code",
   "execution_count": null,
   "metadata": {
    "collapsed": false
   },
   "outputs": [],
   "source": [
    "print RMSE.shape\n",
    "plt.hist(RMSE[:, -1]/RMSE_prior[:, -1])"
   ]
  },
  {
   "cell_type": "code",
   "execution_count": null,
   "metadata": {
    "collapsed": false
   },
   "outputs": [],
   "source": [
    "fig, A = plt.subplots(1, 1, figsize=(13, 13), subplot_kw={'axisbg':'w'})\n",
    "from lmfit.models import ExpressionModel\n",
    "#mod = PowerLawModel()\n",
    "mod = ExpressionModel('rho**x')\n",
    "\n",
    "threshold = .5\n",
    "\n",
    "for mp, experiment, name_database, label in zip(mps, experiments, databases, labels):\n",
    "    imagelist, edgeslist, RMSE = mp.process(exp=experiment, name_database=name_database)\n",
    "    RMSE /= RMSE[:, 0][:, np.newaxis]\n",
    "    N = RMSE.shape[1] #number of edges\n",
    "    for i_image in range(RMSE.shape[0]):\n",
    "        #pars = mod.guess(RMSE[i_image, :], x=np.arange(N))\n",
    "        mod.def_vals = {'rho':.99}\n",
    "        out  = mod.fit(RMSE[i_image, :], x=np.arange(N))\n",
    "        #print(out.fit_report(min_correl=0.25))\n",
    "        rho =  out.params.get('rho').value\n",
    "        #print rho, eps_inf\n",
    "        #N_theta = np.log(threshold)/np.log(rho)\n",
    "        #print N_theta\n",
    "        A.semilogx( RMSE[i_image, :], alpha=.7)\n",
    "        params = mod.make_params(rho=rho)\n",
    "        A.semilogx(mod.eval(params, x=np.arange(N)), 'r--', alpha=.7)\n",
    "        A.set_xlabel('l0')\n",
    "        A.axis('tight')\n",
    "        A.axis('tight')\n",
    "        _ = A.set_ylabel('RMSE')            \n",
    "\n"
   ]
  }
 ],
 "metadata": {
  "kernelspec": {
   "display_name": "Python 3",
   "language": "python",
   "name": "python3"
  },
  "language_info": {
   "codemirror_mode": {
    "name": "ipython",
    "version": 3
   },
   "file_extension": ".py",
   "mimetype": "text/x-python",
   "name": "python",
   "nbconvert_exporter": "python",
   "pygments_lexer": "ipython3",
   "version": "3.5.1"
  }
 },
 "nbformat": 4,
 "nbformat_minor": 0
}
