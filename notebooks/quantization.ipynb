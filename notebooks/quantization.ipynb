{
 "cells": [
  {
   "cell_type": "markdown",
   "metadata": {},
   "source": [
    "It seems that coefficients decrease in a sterotyped fashion - understanding how is important to apply that to image compression but also to understand generative models for images."
   ]
  },
  {
   "cell_type": "code",
   "execution_count": 8,
   "metadata": {
    "collapsed": false
   },
   "outputs": [
    {
     "name": "stdout",
     "output_type": "stream",
     "text": [
      "/Users/lolo/pool/science/BICV-book/SI_BICV_sparse/SparseEdges/test\n"
     ]
    }
   ],
   "source": [
    "from __future__ import division, print_function\n",
    "import matplotlib\n",
    "#matplotlib.rcParams.update({'font.size': 18, 'font.family': 'STIXGeneral', 'mathtext.fontset': 'stix'})\n",
    "matplotlib.rcParams.update({'font.size': 18, 'text.usetex': True})\n",
    "%matplotlib inline\n",
    "%config InlineBackend.figure_format='svg'\n",
    "import matplotlib.pyplot as plt\n",
    "\n",
    "import numpy as np\n",
    "np.set_printoptions(precision=2, suppress=True)\n",
    "%cd test"
   ]
  },
  {
   "cell_type": "markdown",
   "metadata": {},
   "source": [
    "# fits decreases in RMSE"
   ]
  },
  {
   "cell_type": "code",
   "execution_count": null,
   "metadata": {
    "collapsed": false
   },
   "outputs": [],
   "source": [
    "import numpy as np\n",
    "from SparseEdges import SparseEdges\n",
    "import sys\n",
    "mp = SparseEdges('https://raw.githubusercontent.com/meduz/SparseEdges/master/default_param.py')\n",
    "mp.pe.datapath = '../../SLIP/database/'\n",
    "\n",
    "threshold = None # classical plots\n",
    "threshold = .5 # plot sparseness obtained when reaching this threshold\n",
    "\n",
    "mp = SparseEdges('https://raw.githubusercontent.com/meduz/SparseEdges/master/default_param.py')\n",
    "def init_mp():\n",
    "    mp = SparseEdges('https://raw.githubusercontent.com/meduz/SparseEdges/master/default_param.py')\n",
    "    mp.pe.seed = 42\n",
    "    mp.pe.N_image = 60\n",
    "    mp.pe.datapath = '../../SLIP/database/'\n",
    "    return mp\n",
    "\n",
    "import matplotlib.pyplot as plt\n",
    "fig_width_pt = 318.67085 # Get this from LaTeX using \\showthe\\columnwidth\n",
    "inches_per_pt = 1.0/72.27               # Convert pt to inches\n",
    "fig_width = fig_width_pt*inches_per_pt  # width in inches\n",
    "\n",
    "mps, experiments = [], []\n",
    "v_B_sf = np.logspace(-.2, .2, 5, base=10, endpoint=True)*mp.pe.B_sf\n",
    "for B_sf in v_B_sf:\n",
    "    mp = init_mp()\n",
    "    mp.pe.B_sf = B_sf\n",
    "    exp = 'efficiency_B_sf_' + str(B_sf).replace('.', '_')\n",
    "    mp.process(exp)\n",
    "    experiments.append(exp)\n",
    "    mps.append(mp)\n",
    "\n",
    "databases = ['serre07_distractors'] * len(experiments)\n",
    "labels = ['%0.2f' % B_sf for B_sf in v_B_sf]\n",
    "try:\n",
    "    fig, A, inset = mp.plot(mps=mps,\n",
    "                      experiments=experiments, databases=databases, labels=labels, ref=2,\n",
    "                      fig=fig, ax=A, color=[0., 1., 0.], threshold=threshold, scale=False)    \n",
    "    A.set_xlabel(r'frequency bandwith $B_{sf}$')\n",
    "    #A.set_yticks([0., 0.02, 0.04, 0.06])\n",
    "except Exception as e:\n",
    "    print('Failed to plot  with error : %s ' % e )\n",
    "\n"
   ]
  },
  {
   "cell_type": "code",
   "execution_count": null,
   "metadata": {
    "collapsed": false
   },
   "outputs": [],
   "source": [
    "fig, [A, B] = plt.subplots(1, 2, figsize=(13, 5), subplot_kw={'axisbg':'w'})\n",
    "A.set_color_cycle(np.array([[1., 0., 0.]]))\n",
    "for mp, experiment, name_database, label in zip(mps, experiments, databases, labels):\n",
    "    try:\n",
    "        imagelist, edgeslist, RMSE = mp.process(exp=experiment, name_database=name_database)\n",
    "        RMSE /= RMSE[:, 0][:, np.newaxis]\n",
    "        #print RMSE.shape, edgeslist.shape\n",
    "        value = edgeslist[4, ...]\n",
    "        #value /= value[0, :][np.newaxis, :]\n",
    "        value /= RMSE[:, 0][np.newaxis, :]\n",
    "        \n",
    "        B.semilogx( value, alpha=.7)\n",
    "        \n",
    "        A.semilogx( RMSE.T, alpha=.7)\n",
    "        A.set_xlabel('l0')\n",
    "        A.axis('tight')\n",
    "        A.axis('tight')\n",
    "        _ = A.set_ylabel('RMSE')\n",
    "    except Exception, e:\n",
    "        print('Failed to plot experiment %s with error : %s ' % (experiment, e) )\n",
    "\n"
   ]
  },
  {
   "cell_type": "code",
   "execution_count": null,
   "metadata": {
    "collapsed": false
   },
   "outputs": [],
   "source": [
    "fig, A = plt.subplots(1, 1, figsize=(13, 13), subplot_kw={'axisbg':'w'})\n",
    "from lmfit.models import ExpressionModel\n",
    "#mod = PowerLawModel()\n",
    "mod = ExpressionModel('1 - (1- eps_inf) * ( 1 - rho**x)')\n",
    "\n",
    "threshold = .5\n",
    "\n",
    "for mp, experiment, name_database, label in zip(mps, experiments, databases, labels):\n",
    "    imagelist, edgeslist, RMSE = mp.process(exp=experiment, name_database=name_database)\n",
    "    RMSE /= RMSE[:, 0][:, np.newaxis]\n",
    "    N = RMSE.shape[1] #number of edges\n",
    "    for i_image in range(RMSE.shape[0]):\n",
    "        #pars = mod.guess(RMSE[i_image, :], x=np.arange(N))\n",
    "        mod.def_vals = {'eps_inf':.1, 'rho':.99}\n",
    "        out  = mod.fit(RMSE[i_image, :], x=np.arange(N))\n",
    "        #print(out.fit_report(min_correl=0.25))\n",
    "        eps_inf = out.params.get('eps_inf').value\n",
    "        rho =  out.params.get('rho').value\n",
    "        #print rho, eps_inf\n",
    "        N_theta = np.log((threshold-eps_inf)/(1-eps_inf))/np.log(rho)\n",
    "        #print N_theta\n",
    "        A.semilogx( RMSE[i_image, :], alpha=.7)\n",
    "        params = mod.make_params(eps_inf=eps_inf, rho=rho)\n",
    "        A.semilogx(mod.eval(params, x=np.arange(N)), 'r--', alpha=.7)\n",
    "        A.set_xlabel('l0')\n",
    "        A.axis('tight')\n",
    "        A.axis('tight')\n",
    "        _ = A.set_ylabel('RMSE')            \n",
    "\n"
   ]
  },
  {
   "cell_type": "code",
   "execution_count": null,
   "metadata": {
    "collapsed": false
   },
   "outputs": [],
   "source": [
    "fig, A = plt.subplots(1, 1, figsize=(13, 13), subplot_kw={'axisbg':'w'})\n",
    "from lmfit.models import ExpressionModel\n",
    "#mod = PowerLawModel()\n",
    "mod = ExpressionModel('rho**(1./(1.+(x/N50)**2)**.5)')\n",
    "\n",
    "threshold = .5\n",
    "\n",
    "for mp, experiment, name_database, label in zip(mps, experiments, databases, labels):\n",
    "    imagelist, edgeslist, RMSE = mp.process(exp=experiment, name_database=name_database)\n",
    "    RMSE /= RMSE[:, 0][:, np.newaxis]\n",
    "    N = RMSE.shape[1] #number of edges\n",
    "    for i_image in range(RMSE.shape[0]):\n",
    "        #pars = mod.guess(RMSE[i_image, :], x=np.arange(N))\n",
    "        mod.def_vals = {'N50':100., 'rho':.99}\n",
    "        out  = mod.fit(RMSE[i_image, :], x=np.arange(N))\n",
    "        #print(out.fit_report(min_correl=0.25))\n",
    "        rho =  out.params.get('rho').value\n",
    "        N50 =  out.params.get('N50').value\n",
    "        print 'rho=', rho\n",
    "        #N_theta = np.log(threshold)/np.log(rho)\n",
    "        #print N_theta\n",
    "        A.semilogx( RMSE[i_image, :], alpha=.7)\n",
    "        params = mod.make_params(N50=N50, rho=rho)\n",
    "        A.semilogx(mod.eval(params, x=np.arange(N)), 'r--', alpha=.7)\n",
    "        A.set_xlabel('l0')\n",
    "        A.axis('tight')\n",
    "        A.axis('tight')\n",
    "        _ = A.set_ylabel('RMSE')     \n",
    "        \n",
    "\n"
   ]
  },
  {
   "cell_type": "code",
   "execution_count": null,
   "metadata": {
    "collapsed": false
   },
   "outputs": [],
   "source": [
    "fig, A = plt.subplots(1, 1, figsize=(13, 13), subplot_kw={'axisbg':'w'})\n",
    "from lmfit.models import ExpressionModel\n",
    "#mod = PowerLawModel()\n",
    "mod = ExpressionModel('rho**x')\n",
    "\n",
    "threshold = .5\n",
    "\n",
    "for mp, experiment, name_database, label in zip(mps, experiments, databases, labels):\n",
    "    imagelist, edgeslist, RMSE = mp.process(exp=experiment, name_database=name_database)\n",
    "    RMSE /= RMSE[:, 0][:, np.newaxis]\n",
    "    N = RMSE.shape[1] #number of edges\n",
    "    for i_image in range(RMSE.shape[0]):\n",
    "        #pars = mod.guess(RMSE[i_image, :], x=np.arange(N))\n",
    "        mod.def_vals = {'rho':.99}\n",
    "        out  = mod.fit(RMSE[i_image, :], x=np.arange(N))\n",
    "        #print(out.fit_report(min_correl=0.25))\n",
    "        rho =  out.params.get('rho').value\n",
    "        print 'rho=', rho\n",
    "        #N_theta = np.log(threshold)/np.log(rho)\n",
    "        #print N_theta\n",
    "        A.semilogx( RMSE[i_image, :], alpha=.7)\n",
    "        params = mod.make_params(rho=rho)\n",
    "        A.semilogx(mod.eval(params, x=np.arange(N)), 'r--', alpha=.7)\n",
    "        A.set_xlabel('l0')\n",
    "        A.axis('tight')\n",
    "        A.axis('tight')\n",
    "        _ = A.set_ylabel('RMSE')            \n",
    "\n"
   ]
  },
  {
   "cell_type": "code",
   "execution_count": null,
   "metadata": {
    "collapsed": false
   },
   "outputs": [],
   "source": [
    "fig, A = plt.subplots(1, 1, figsize=(13, 13), subplot_kw={'axisbg':'w'})\n",
    "\n",
    "imagelist_ref, edgeslist_ref, RMSE_ref = mps[2].process(exp=experiments[2], name_database=name_database)\n",
    "RMSE_ref /= RMSE_ref[:, 0][:, np.newaxis]\n",
    "\n",
    "colors = [plt.cm.hsv(hsv) for hsv in np.linspace(0., 1., len(mps))]\n",
    "for mp, experiment, name_database, label, color in zip(mps, experiments, databases, labels, colors):\n",
    "    imagelist, edgeslist, RMSE = mp.process(exp=experiment, name_database=name_database)\n",
    "    RMSE /= RMSE[:, 0][:, np.newaxis]\n",
    "    N = RMSE.shape[1] #number of edges\n",
    "    for i_image in range(RMSE.shape[0]):\n",
    "        A.semilogx( RMSE[i_image, :]/RMSE_ref[i_image, :], alpha=.1, color=color)\n",
    "        A.set_xlabel('l0')\n",
    "        A.axis('tight')\n",
    "        A.axis('tight')\n",
    "        _ = A.set_ylabel('RMSE')            \n",
    "    print (RMSE/RMSE_ref).mean(), (RMSE/RMSE_ref).std(axis=0).mean(), (RMSE/RMSE_ref).std(axis=0).shape\n"
   ]
  },
  {
   "cell_type": "code",
   "execution_count": null,
   "metadata": {
    "collapsed": false
   },
   "outputs": [],
   "source": [
    "mod = ExpressionModel('rho**x')\n",
    "\n",
    "threshold = .5\n",
    "\n",
    "def fit_rho(mp, experiment, name_database):\n",
    "    imagelist, edgeslist, RMSE = mp.process(exp=experiment, name_database=name_database)\n",
    "    RMSE /= RMSE[:, 0][:, np.newaxis]\n",
    "    N = RMSE.shape[1] #number of edges\n",
    "    rho = np.zeros(RMSE.shape[0])\n",
    "    for i_image in range(RMSE.shape[0]):\n",
    "        mod.def_vals = {'rho':.99}\n",
    "        out  = mod.fit(RMSE[i_image, :], x=np.arange(N))\n",
    "        rho[i_image] =  out.params.get('rho').value\n",
    "    return rho\n",
    "\n",
    "rho = fit_rho(mps[2], experiment, name_database=name_database)\n",
    "L0_ref = np.log(threshold)/np.log(rho)\n",
    "print L0_ref\n",
    "for mp, experiment, name_database in zip(mps, experiments, databases):\n",
    "    rho = fit_rho(mp, experiment, name_database=name_database)\n",
    "    L0 = np.log(threshold)/np.log(rho)\n",
    "    print L0\n",
    "    print (L0/L0_ref).mean(), (L0/L0_ref).std(), L0.shape\n"
   ]
  },
  {
   "cell_type": "code",
   "execution_count": null,
   "metadata": {
    "collapsed": false
   },
   "outputs": [],
   "source": [
    "\n",
    "threshold = .5\n",
    "\n",
    "def fit_L0(mp, experiment, name_database, threshold=threshold):\n",
    "    imagelist, edgeslist, RMSE = mp.process(exp=experiment, name_database=name_database)\n",
    "    RMSE /= RMSE[:, 0][:, np.newaxis]\n",
    "    N = RMSE.shape[1] #number of edges\n",
    "    L0 =  np.argmax(RMSE<threshold, axis=1)*1.\n",
    "    return L0\n",
    "\n",
    "L0_ref = fit_L0(mps[2], experiment, name_database=name_database)\n",
    "print L0_ref\n",
    "for mp, experiment, name_database in zip(mps, experiments, databases):\n",
    "    L0 = fit_rho(mp, experiment, name_database, threshold)\n",
    "    print L0\n",
    "    print (L0/L0_ref).mean(), (L0/L0_ref).std(), L0.shape\n"
   ]
  },
  {
   "cell_type": "code",
   "execution_count": null,
   "metadata": {
    "collapsed": false
   },
   "outputs": [],
   "source": [
    "rect = plt.bar(np.arange(L0.shape[0]), L0)"
   ]
  },
  {
   "cell_type": "code",
   "execution_count": null,
   "metadata": {
    "collapsed": false
   },
   "outputs": [],
   "source": [
    "r = rect[0]"
   ]
  },
  {
   "cell_type": "code",
   "execution_count": null,
   "metadata": {
    "collapsed": false
   },
   "outputs": [],
   "source": [
    "r.set_color('w')\n",
    "r.set_edgecolor('b')"
   ]
  },
  {
   "cell_type": "code",
   "execution_count": null,
   "metadata": {
    "collapsed": false
   },
   "outputs": [],
   "source": [
    "try:\n",
    "    fig, A, ax = plot(mps=mps,\n",
    "                      experiments=experiments, databases=databases, labels=labels, \n",
    "                      fig=fig, ax=A, color=[0., 1., 0.], threshold=threshold, scale=True)    \n",
    "    A.set_xlabel(r'frequency bandwith $B_{sf}$')\n",
    "    A.set_yticks([0., 0.02, 0.04, 0.06])\n",
    "except Exception, e:\n",
    "    print('Failed to plot  with error : %s ' % e )\n",
    "    "
   ]
  },
  {
   "cell_type": "code",
   "execution_count": null,
   "metadata": {
    "collapsed": false
   },
   "outputs": [],
   "source": [
    "plt.cm.hsv(0.1)\n"
   ]
  },
  {
   "cell_type": "markdown",
   "metadata": {},
   "source": [
    "## quantization"
   ]
  },
  {
   "cell_type": "code",
   "execution_count": null,
   "metadata": {
    "collapsed": false
   },
   "outputs": [],
   "source": [
    "import matplotlib\n",
    "#matplotlib.rcParams.update({'font.size': 18, 'font.family': 'STIXGeneral', 'mathtext.fontset': 'stix'})\n",
    "matplotlib.rcParams.update({'font.size': 18, 'text.usetex': True})\n",
    "%matplotlib inline\n",
    "%config InlineBackend.figure_format='retina'\n",
    "import matplotlib.pyplot as plt\n",
    "\n",
    "import numpy as np\n",
    "np.set_printoptions(precision=2, suppress=True)\n",
    "\n",
    "#import __init__\n",
    "import numpy as np\n",
    "from NeuroTools.parameters import ParameterSet\n",
    "from SLIP import Image\n",
    "from LogGabor import LogGabor\n",
    "from SparseEdges import SparseEdges, plot\n",
    "import sys\n",
    "pe = ParameterSet('default_param.py')\n",
    "pe.seed = 42 # this ensures that all image lists are the same for the different experiments\n",
    "pe.N_image = 9\n",
    "pe.N = 512\n",
    "im = Image(pe)\n",
    "lg = LogGabor(im)\n",
    "mp = SparseEdges(lg)\n",
    "name_database = 'serre07_distractors'\n",
    "imageslist, edgeslist, RMSE = mp.process(exp='prior_vanilla', name_database=name_database)\n",
    "imageslist, edgeslist, RMSE_prior =  mp.process(exp='prior_firstorder', name_database=name_database)"
   ]
  },
  {
   "cell_type": "code",
   "execution_count": null,
   "metadata": {
    "collapsed": false
   },
   "outputs": [],
   "source": [
    "print RMSE.shape\n",
    "plt.hist(RMSE[:, -1]/RMSE_prior[:, -1])"
   ]
  },
  {
   "cell_type": "code",
   "execution_count": null,
   "metadata": {
    "collapsed": false
   },
   "outputs": [],
   "source": [
    "fig, A = plt.subplots(1, 1, figsize=(13, 13), subplot_kw={'axisbg':'w'})\n",
    "from lmfit.models import ExpressionModel\n",
    "#mod = PowerLawModel()\n",
    "mod = ExpressionModel('rho**x')\n",
    "\n",
    "threshold = .5\n",
    "\n",
    "for mp, experiment, name_database, label in zip(mps, experiments, databases, labels):\n",
    "    imagelist, edgeslist, RMSE = mp.process(exp=experiment, name_database=name_database)\n",
    "    RMSE /= RMSE[:, 0][:, np.newaxis]\n",
    "    N = RMSE.shape[1] #number of edges\n",
    "    for i_image in range(RMSE.shape[0]):\n",
    "        #pars = mod.guess(RMSE[i_image, :], x=np.arange(N))\n",
    "        mod.def_vals = {'rho':.99}\n",
    "        out  = mod.fit(RMSE[i_image, :], x=np.arange(N))\n",
    "        #print(out.fit_report(min_correl=0.25))\n",
    "        rho =  out.params.get('rho').value\n",
    "        #print rho, eps_inf\n",
    "        #N_theta = np.log(threshold)/np.log(rho)\n",
    "        #print N_theta\n",
    "        A.semilogx( RMSE[i_image, :], alpha=.7)\n",
    "        params = mod.make_params(rho=rho)\n",
    "        A.semilogx(mod.eval(params, x=np.arange(N)), 'r--', alpha=.7)\n",
    "        A.set_xlabel('l0')\n",
    "        A.axis('tight')\n",
    "        A.axis('tight')\n",
    "        _ = A.set_ylabel('RMSE')            \n",
    "\n"
   ]
  }
 ],
 "metadata": {
  "kernelspec": {
   "display_name": "Python 2",
   "language": "python",
   "name": "python2"
  },
  "language_info": {
   "codemirror_mode": {
    "name": "ipython",
    "version": 2
   },
   "file_extension": ".py",
   "mimetype": "text/x-python",
   "name": "python",
   "nbconvert_exporter": "python",
   "pygments_lexer": "ipython2",
   "version": "2.7.9"
  }
 },
 "nbformat": 4,
 "nbformat_minor": 0
}
